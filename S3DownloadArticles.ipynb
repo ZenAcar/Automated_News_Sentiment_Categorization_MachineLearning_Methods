{
 "cells": [
  {
   "cell_type": "markdown",
   "metadata": {},
   "source": [
    "### Sample code to load data from s3"
   ]
  },
  {
   "cell_type": "code",
   "execution_count": 1,
   "metadata": {
    "ExecuteTime": {
     "end_time": "2020-07-12T00:50:02.004382Z",
     "start_time": "2020-07-12T00:50:01.312374Z"
    }
   },
   "outputs": [],
   "source": [
    "import os.path\n",
    "from os import path\n",
    "import pandas as pd\n",
    "import json\n",
    "import boto3 \n",
    "import os\n",
    "from io import StringIO\n"
   ]
  },
  {
   "cell_type": "code",
   "execution_count": 2,
   "metadata": {
    "ExecuteTime": {
     "end_time": "2020-07-12T00:50:02.675700Z",
     "start_time": "2020-07-12T00:50:02.668698Z"
    }
   },
   "outputs": [],
   "source": [
    "# API Key for News API\n",
    "secret = 'd05c3ae08abd461f90b3dc555af1bb59'"
   ]
  },
  {
   "cell_type": "code",
   "execution_count": 4,
   "metadata": {
    "ExecuteTime": {
     "end_time": "2020-07-12T00:50:11.448723Z",
     "start_time": "2020-07-12T00:50:11.430706Z"
    }
   },
   "outputs": [],
   "source": [
    "# s3 secret\n",
    "ACCESS_KEY = \"<KEY>\" \n",
    "SECRET_KEY = \"<SECRET>\" \n",
    "BUCKET_NAME ='<bucket>'\n"
   ]
  },
  {
   "cell_type": "code",
   "execution_count": 5,
   "metadata": {
    "ExecuteTime": {
     "end_time": "2020-07-12T00:50:12.180898Z",
     "start_time": "2020-07-12T00:50:12.004587Z"
    }
   },
   "outputs": [],
   "source": [
    "s3 = boto3.resource(\n",
    "    's3',\n",
    "    region_name='us-east-1',\n",
    "    aws_access_key_id=ACCESS_KEY,\n",
    "    aws_secret_access_key=SECRET_KEY\n",
    ").Bucket(BUCKET_NAME)\n",
    "\n",
    "json.load_s3 = lambda f: json.load(s3.Object(key=f).get()[\"Body\"])\n",
    "json.dump_s3 = lambda obj, f: s3.Object(key=f).put(Body=json.dumps(obj))"
   ]
  },
  {
   "cell_type": "code",
   "execution_count": 6,
   "metadata": {
    "ExecuteTime": {
     "end_time": "2020-07-12T00:50:13.911957Z",
     "start_time": "2020-07-12T00:50:13.908956Z"
    }
   },
   "outputs": [],
   "source": [
    "categories = ['business','entertainment','general','health','science','sports','technology']"
   ]
  },
  {
   "cell_type": "markdown",
   "metadata": {},
   "source": [
    "## Json files stored\n",
    "* resources/business_top_headline_data_new.json\n",
    "* resources/entertainment_top_headline_data_new.json\n",
    "* resources/general_top_headline_data_new.json\n",
    "* resources/health_top_headline_data_new.json\n",
    "* resources/science_top_headline_data_new.json\n",
    "* resources/sports_top_headline_data_new.json\n",
    "* resources/technology_top_headline_data_new.json"
   ]
  },
  {
   "cell_type": "code",
   "execution_count": null,
   "metadata": {},
   "outputs": [],
   "source": []
  },
  {
   "cell_type": "code",
   "execution_count": 9,
   "metadata": {
    "ExecuteTime": {
     "end_time": "2020-07-12T00:51:20.540551Z",
     "start_time": "2020-07-12T00:51:18.229539Z"
    }
   },
   "outputs": [
    {
     "name": "stdout",
     "output_type": "stream",
     "text": [
      "business\n",
      "resources/business_top_headline_data_new.json\n",
      "entertainment\n",
      "resources/entertainment_top_headline_data_new.json\n",
      "general\n",
      "resources/general_top_headline_data_new.json\n",
      "health\n",
      "resources/health_top_headline_data_new.json\n",
      "science\n",
      "resources/science_top_headline_data_new.json\n",
      "sports\n",
      "resources/sports_top_headline_data_new.json\n",
      "technology\n",
      "resources/technology_top_headline_data_new.json\n"
     ]
    }
   ],
   "source": [
    "count =0\n",
    "for category in categories:\n",
    "    name = category\n",
    "    print(name)\n",
    "    fileName= f'resources/{category}_top_headline_data_new.json'\n",
    "    print(fileName)\n",
    "    json_buffer=json.load_s3('Project3/'+fileName)\n",
    "    category_dataframe = pd.read_json(json_buffer).T\n",
    "    #print(category_dataframe.columns)\n",
    "    #print(category_dataframe.shape)"
   ]
  },
  {
   "cell_type": "code",
   "execution_count": null,
   "metadata": {},
   "outputs": [],
   "source": []
  }
 ],
 "metadata": {
  "kernelspec": {
   "display_name": "Python 3",
   "language": "python",
   "name": "python3"
  },
  "language_info": {
   "codemirror_mode": {
    "name": "ipython",
    "version": 3
   },
   "file_extension": ".py",
   "mimetype": "text/x-python",
   "name": "python",
   "nbconvert_exporter": "python",
   "pygments_lexer": "ipython3",
   "version": "3.8.3"
  }
 },
 "nbformat": 4,
 "nbformat_minor": 2
}
