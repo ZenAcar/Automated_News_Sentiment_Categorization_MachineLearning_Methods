{
 "cells": [
  {
   "cell_type": "code",
   "execution_count": 1,
   "metadata": {
    "ExecuteTime": {
     "end_time": "2020-07-20T02:02:03.730279Z",
     "start_time": "2020-07-20T02:02:03.000283Z"
    }
   },
   "outputs": [
    {
     "name": "stderr",
     "output_type": "stream",
     "text": [
      "<ipython-input-1-eb34c5ba2477>:7: FutureWarning: Passing a negative integer is deprecated in version 1.0 and will not be supported in future version. Instead, use None to not limit the column width.\n",
      "  pd.set_option('display.max_colwidth', -1)\n"
     ]
    }
   ],
   "source": [
    "import numpy as np # \n",
    "import pandas as pd # \n",
    "\n",
    "pd.set_option('display.max_rows', None)\n",
    "pd.set_option('display.max_columns', None)\n",
    "pd.set_option('display.width', None)\n",
    "pd.set_option('display.max_colwidth', -1)"
   ]
  },
  {
   "cell_type": "code",
   "execution_count": 2,
   "metadata": {
    "ExecuteTime": {
     "end_time": "2020-07-20T02:02:07.699289Z",
     "start_time": "2020-07-20T02:02:03.733281Z"
    },
    "scrolled": false
   },
   "outputs": [
    {
     "data": {
      "text/html": [
       "<div>\n",
       "<style scoped>\n",
       "    .dataframe tbody tr th:only-of-type {\n",
       "        vertical-align: middle;\n",
       "    }\n",
       "\n",
       "    .dataframe tbody tr th {\n",
       "        vertical-align: top;\n",
       "    }\n",
       "\n",
       "    .dataframe thead th {\n",
       "        text-align: right;\n",
       "    }\n",
       "</style>\n",
       "<table border=\"1\" class=\"dataframe\">\n",
       "  <thead>\n",
       "    <tr style=\"text-align: right;\">\n",
       "      <th></th>\n",
       "      <th>category</th>\n",
       "      <th>headline</th>\n",
       "      <th>authors</th>\n",
       "      <th>link</th>\n",
       "      <th>short_description</th>\n",
       "      <th>date</th>\n",
       "    </tr>\n",
       "  </thead>\n",
       "  <tbody>\n",
       "    <tr>\n",
       "      <th>0</th>\n",
       "      <td>CRIME</td>\n",
       "      <td>There Were 2 Mass Shootings In Texas Last Week, But Only 1 On TV</td>\n",
       "      <td>Melissa Jeltsen</td>\n",
       "      <td>https://www.huffingtonpost.com/entry/texas-amanda-painter-mass-shooting_us_5b081ab4e4b0802d69caad89</td>\n",
       "      <td>She left her husband. He killed their children. Just another day in America.</td>\n",
       "      <td>2018-05-26</td>\n",
       "    </tr>\n",
       "    <tr>\n",
       "      <th>1</th>\n",
       "      <td>ENTERTAINMENT</td>\n",
       "      <td>Will Smith Joins Diplo And Nicky Jam For The 2018 World Cup's Official Song</td>\n",
       "      <td>Andy McDonald</td>\n",
       "      <td>https://www.huffingtonpost.com/entry/will-smith-joins-diplo-and-nicky-jam-for-the-official-2018-world-cup-song_us_5b09726fe4b0fdb2aa541201</td>\n",
       "      <td>Of course it has a song.</td>\n",
       "      <td>2018-05-26</td>\n",
       "    </tr>\n",
       "    <tr>\n",
       "      <th>2</th>\n",
       "      <td>ENTERTAINMENT</td>\n",
       "      <td>Hugh Grant Marries For The First Time At Age 57</td>\n",
       "      <td>Ron Dicker</td>\n",
       "      <td>https://www.huffingtonpost.com/entry/hugh-grant-marries_us_5b09212ce4b0568a880b9a8c</td>\n",
       "      <td>The actor and his longtime girlfriend Anna Eberstein tied the knot in a civil ceremony.</td>\n",
       "      <td>2018-05-26</td>\n",
       "    </tr>\n",
       "    <tr>\n",
       "      <th>3</th>\n",
       "      <td>ENTERTAINMENT</td>\n",
       "      <td>Jim Carrey Blasts 'Castrato' Adam Schiff And Democrats In New Artwork</td>\n",
       "      <td>Ron Dicker</td>\n",
       "      <td>https://www.huffingtonpost.com/entry/jim-carrey-adam-schiff-democrats_us_5b0950e8e4b0fdb2aa53e675</td>\n",
       "      <td>The actor gives Dems an ass-kicking for not fighting hard enough against Donald Trump.</td>\n",
       "      <td>2018-05-26</td>\n",
       "    </tr>\n",
       "    <tr>\n",
       "      <th>4</th>\n",
       "      <td>ENTERTAINMENT</td>\n",
       "      <td>Julianna Margulies Uses Donald Trump Poop Bags To Pick Up After Her Dog</td>\n",
       "      <td>Ron Dicker</td>\n",
       "      <td>https://www.huffingtonpost.com/entry/julianna-margulies-trump-poop-bag_us_5b093ec2e4b0fdb2aa53df70</td>\n",
       "      <td>The \"Dietland\" actress said using the bags is a \"really cathartic, therapeutic moment.\"</td>\n",
       "      <td>2018-05-26</td>\n",
       "    </tr>\n",
       "  </tbody>\n",
       "</table>\n",
       "</div>"
      ],
      "text/plain": [
       "        category  \\\n",
       "0  CRIME           \n",
       "1  ENTERTAINMENT   \n",
       "2  ENTERTAINMENT   \n",
       "3  ENTERTAINMENT   \n",
       "4  ENTERTAINMENT   \n",
       "\n",
       "                                                                      headline  \\\n",
       "0  There Were 2 Mass Shootings In Texas Last Week, But Only 1 On TV              \n",
       "1  Will Smith Joins Diplo And Nicky Jam For The 2018 World Cup's Official Song   \n",
       "2  Hugh Grant Marries For The First Time At Age 57                               \n",
       "3  Jim Carrey Blasts 'Castrato' Adam Schiff And Democrats In New Artwork         \n",
       "4  Julianna Margulies Uses Donald Trump Poop Bags To Pick Up After Her Dog       \n",
       "\n",
       "           authors  \\\n",
       "0  Melissa Jeltsen   \n",
       "1  Andy McDonald     \n",
       "2  Ron Dicker        \n",
       "3  Ron Dicker        \n",
       "4  Ron Dicker        \n",
       "\n",
       "                                                                                                                                         link  \\\n",
       "0  https://www.huffingtonpost.com/entry/texas-amanda-painter-mass-shooting_us_5b081ab4e4b0802d69caad89                                          \n",
       "1  https://www.huffingtonpost.com/entry/will-smith-joins-diplo-and-nicky-jam-for-the-official-2018-world-cup-song_us_5b09726fe4b0fdb2aa541201   \n",
       "2  https://www.huffingtonpost.com/entry/hugh-grant-marries_us_5b09212ce4b0568a880b9a8c                                                          \n",
       "3  https://www.huffingtonpost.com/entry/jim-carrey-adam-schiff-democrats_us_5b0950e8e4b0fdb2aa53e675                                            \n",
       "4  https://www.huffingtonpost.com/entry/julianna-margulies-trump-poop-bag_us_5b093ec2e4b0fdb2aa53df70                                           \n",
       "\n",
       "                                                                         short_description  \\\n",
       "0  She left her husband. He killed their children. Just another day in America.              \n",
       "1  Of course it has a song.                                                                  \n",
       "2  The actor and his longtime girlfriend Anna Eberstein tied the knot in a civil ceremony.   \n",
       "3  The actor gives Dems an ass-kicking for not fighting hard enough against Donald Trump.    \n",
       "4  The \"Dietland\" actress said using the bags is a \"really cathartic, therapeutic moment.\"   \n",
       "\n",
       "        date  \n",
       "0 2018-05-26  \n",
       "1 2018-05-26  \n",
       "2 2018-05-26  \n",
       "3 2018-05-26  \n",
       "4 2018-05-26  "
      ]
     },
     "execution_count": 2,
     "metadata": {},
     "output_type": "execute_result"
    }
   ],
   "source": [
    "# load data\n",
    "df = pd.read_json('resources/News_Category_Dataset_v2.json', lines=True)\n",
    "df = df.dropna(axis='columns', how='all')\n",
    "# Drop the null rows\n",
    "df = df.dropna()\n",
    "df.head()"
   ]
  },
  {
   "cell_type": "code",
   "execution_count": 3,
   "metadata": {
    "ExecuteTime": {
     "end_time": "2020-07-20T02:02:07.916287Z",
     "start_time": "2020-07-20T02:02:07.703289Z"
    }
   },
   "outputs": [],
   "source": [
    "#drop duplicates\n",
    "df = df.drop_duplicates(subset='short_description', keep='last')"
   ]
  },
  {
   "cell_type": "code",
   "execution_count": 4,
   "metadata": {
    "ExecuteTime": {
     "end_time": "2020-07-20T02:02:07.963287Z",
     "start_time": "2020-07-20T02:02:07.919291Z"
    }
   },
   "outputs": [],
   "source": [
    "df=df.reset_index()"
   ]
  },
  {
   "cell_type": "code",
   "execution_count": 5,
   "metadata": {
    "ExecuteTime": {
     "end_time": "2020-07-20T02:02:19.203344Z",
     "start_time": "2020-07-20T02:02:07.965290Z"
    }
   },
   "outputs": [],
   "source": [
    "# clean the text\n",
    "import re\n",
    "import string\n",
    "\n",
    "def clean_text_round(text):\n",
    "    \n",
    "    text = text.lower()\n",
    "    text = re.sub('\\[.*?\\]', '',text)\n",
    "    text = re.sub('[%s]' % re.escape(string.punctuation), '', text)\n",
    "    text = re.sub('\\w*\\d\\w*', '', text)\n",
    "    text = re.sub('[''\"\"...]','',text)\n",
    "    text = re.sub('\\n','',text)\n",
    "    text = re.sub('\\d+', '', text)\n",
    "    text = re.sub('[^\\w\\s]','', text)  # remove punctuation \n",
    "    \n",
    "    return text\n",
    "\n",
    "get_cleaning = lambda x: clean_text_round(x)\n",
    "df.short_description = pd.DataFrame(df.short_description.apply(get_cleaning))\n",
    "df.short_description = df.short_description.str.replace('\\d+', '') # remove numbers"
   ]
  },
  {
   "cell_type": "markdown",
   "metadata": {},
   "source": [
    "# Gensim"
   ]
  },
  {
   "cell_type": "markdown",
   "metadata": {},
   "source": [
    "pip install --upgrade gensim"
   ]
  },
  {
   "cell_type": "code",
   "execution_count": 6,
   "metadata": {
    "ExecuteTime": {
     "end_time": "2020-07-20T02:02:20.787345Z",
     "start_time": "2020-07-20T02:02:19.205349Z"
    },
    "scrolled": true
   },
   "outputs": [],
   "source": [
    "import gensim\n",
    "from gensim.parsing.preprocessing import remove_stopwords\n",
    "from gensim.models import Word2Vec\n",
    "from sklearn.manifold import TSNE\n",
    "import matplotlib.pyplot as plt"
   ]
  },
  {
   "cell_type": "code",
   "execution_count": 7,
   "metadata": {
    "ExecuteTime": {
     "end_time": "2020-07-20T02:02:22.309344Z",
     "start_time": "2020-07-20T02:02:20.790348Z"
    }
   },
   "outputs": [],
   "source": [
    "# use gensim to remove stop words\n",
    "df['short_description'] = df['short_description'].apply(lambda x: gensim.parsing.preprocessing.remove_stopwords(x))\n"
   ]
  },
  {
   "cell_type": "code",
   "execution_count": 8,
   "metadata": {
    "ExecuteTime": {
     "end_time": "2020-07-20T02:02:22.340345Z",
     "start_time": "2020-07-20T02:02:22.315348Z"
    }
   },
   "outputs": [
    {
     "data": {
      "text/plain": [
       "'actor longtime girlfriend anna eberstein tied knot civil ceremony'"
      ]
     },
     "execution_count": 8,
     "metadata": {},
     "output_type": "execute_result"
    }
   ],
   "source": [
    "df.short_description[2]"
   ]
  },
  {
   "cell_type": "code",
   "execution_count": 9,
   "metadata": {
    "ExecuteTime": {
     "end_time": "2020-07-20T02:02:22.355343Z",
     "start_time": "2020-07-20T02:02:22.343346Z"
    }
   },
   "outputs": [],
   "source": [
    "remove_words = ['i', 'your', 'you', 'on', 'with', 'and', 'have', 'the', 'to', 'in', 'for', 'that', 'had', 'be', 'a', 'year'\n",
    "               'it', 'may', 'one', 'as', 'if', 'is', 'via', 'this', 'will', 'david', 'jenni', 'im', 'susan', 'it', 'up',\n",
    "               'angelica', 'hi', 'hello', 'we', 'our', 'all', 'kelli', 'yes', 'gavin', 'our', 'were', 'of', 'can', 'at',\n",
    "               'any', 'by', 'also', 'joe', 'ronnie', 'morning', 'evening', 'good', 'what', 'okay', 'ok', 'are', 'us', 'my',\n",
    "               'th', 'st', 'nd', 'rd', 'was', 'there', 'then', 'lee', 'out', 'or', 'so','alan', 'from','unfortunately',\n",
    "               'alason', 'but', 'youre', 'does', 'heres', 'little', 'more', 'set', 'br', 'dr', 'ave', 'here', 'about', 'an',\n",
    "               'let', 'know', 'than', 'then', 'no', 'why', 'way', 'every', 'thats', 'taken', 'today', 'way', 'id', 'isnt', \n",
    "               'only', 'bay', 'me', 'when', 'want', 'end', 'month', 'do', 'til', 'get', 'back', 'thanks', 'bonnie', 'woodal',\n",
    "               'off', 'drive', 'michell','and', 'he','she', 'her','just']"
   ]
  },
  {
   "cell_type": "code",
   "execution_count": 10,
   "metadata": {
    "ExecuteTime": {
     "end_time": "2020-07-20T02:02:22.371345Z",
     "start_time": "2020-07-20T02:02:22.357345Z"
    }
   },
   "outputs": [],
   "source": [
    "def apply_remove_words_to_texts():\n",
    "    pat = r'\\b(?:{})\\b'.format('|'.join(remove_words))\n",
    "    df[\"short_description_new\"] = df['short_description'].str.replace(pat, '')\n",
    "    df[\"short_description_new\"] = df['short_description_new'].str.strip()\n",
    "    return df"
   ]
  },
  {
   "cell_type": "code",
   "execution_count": 11,
   "metadata": {
    "ExecuteTime": {
     "end_time": "2020-07-20T02:02:25.877345Z",
     "start_time": "2020-07-20T02:02:22.373345Z"
    }
   },
   "outputs": [],
   "source": [
    "df = apply_remove_words_to_texts()"
   ]
  },
  {
   "cell_type": "code",
   "execution_count": 12,
   "metadata": {
    "ExecuteTime": {
     "end_time": "2020-07-20T02:02:25.907346Z",
     "start_time": "2020-07-20T02:02:25.880346Z"
    },
    "scrolled": false
   },
   "outputs": [
    {
     "data": {
      "text/html": [
       "<div>\n",
       "<style scoped>\n",
       "    .dataframe tbody tr th:only-of-type {\n",
       "        vertical-align: middle;\n",
       "    }\n",
       "\n",
       "    .dataframe tbody tr th {\n",
       "        vertical-align: top;\n",
       "    }\n",
       "\n",
       "    .dataframe thead th {\n",
       "        text-align: right;\n",
       "    }\n",
       "</style>\n",
       "<table border=\"1\" class=\"dataframe\">\n",
       "  <thead>\n",
       "    <tr style=\"text-align: right;\">\n",
       "      <th></th>\n",
       "      <th>index</th>\n",
       "      <th>category</th>\n",
       "      <th>headline</th>\n",
       "      <th>authors</th>\n",
       "      <th>link</th>\n",
       "      <th>short_description</th>\n",
       "      <th>date</th>\n",
       "      <th>short_description_new</th>\n",
       "    </tr>\n",
       "  </thead>\n",
       "  <tbody>\n",
       "    <tr>\n",
       "      <th>0</th>\n",
       "      <td>0</td>\n",
       "      <td>CRIME</td>\n",
       "      <td>There Were 2 Mass Shootings In Texas Last Week, But Only 1 On TV</td>\n",
       "      <td>Melissa Jeltsen</td>\n",
       "      <td>https://www.huffingtonpost.com/entry/texas-amanda-painter-mass-shooting_us_5b081ab4e4b0802d69caad89</td>\n",
       "      <td>left husband killed children day america</td>\n",
       "      <td>2018-05-26</td>\n",
       "      <td>left husband killed children day america</td>\n",
       "    </tr>\n",
       "    <tr>\n",
       "      <th>1</th>\n",
       "      <td>1</td>\n",
       "      <td>ENTERTAINMENT</td>\n",
       "      <td>Will Smith Joins Diplo And Nicky Jam For The 2018 World Cup's Official Song</td>\n",
       "      <td>Andy McDonald</td>\n",
       "      <td>https://www.huffingtonpost.com/entry/will-smith-joins-diplo-and-nicky-jam-for-the-official-2018-world-cup-song_us_5b09726fe4b0fdb2aa541201</td>\n",
       "      <td>course song</td>\n",
       "      <td>2018-05-26</td>\n",
       "      <td>course song</td>\n",
       "    </tr>\n",
       "    <tr>\n",
       "      <th>2</th>\n",
       "      <td>2</td>\n",
       "      <td>ENTERTAINMENT</td>\n",
       "      <td>Hugh Grant Marries For The First Time At Age 57</td>\n",
       "      <td>Ron Dicker</td>\n",
       "      <td>https://www.huffingtonpost.com/entry/hugh-grant-marries_us_5b09212ce4b0568a880b9a8c</td>\n",
       "      <td>actor longtime girlfriend anna eberstein tied knot civil ceremony</td>\n",
       "      <td>2018-05-26</td>\n",
       "      <td>actor longtime girlfriend anna eberstein tied knot civil ceremony</td>\n",
       "    </tr>\n",
       "    <tr>\n",
       "      <th>3</th>\n",
       "      <td>3</td>\n",
       "      <td>ENTERTAINMENT</td>\n",
       "      <td>Jim Carrey Blasts 'Castrato' Adam Schiff And Democrats In New Artwork</td>\n",
       "      <td>Ron Dicker</td>\n",
       "      <td>https://www.huffingtonpost.com/entry/jim-carrey-adam-schiff-democrats_us_5b0950e8e4b0fdb2aa53e675</td>\n",
       "      <td>actor gives dems asskicking fighting hard donald trump</td>\n",
       "      <td>2018-05-26</td>\n",
       "      <td>actor gives dems asskicking fighting hard donald trump</td>\n",
       "    </tr>\n",
       "    <tr>\n",
       "      <th>4</th>\n",
       "      <td>4</td>\n",
       "      <td>ENTERTAINMENT</td>\n",
       "      <td>Julianna Margulies Uses Donald Trump Poop Bags To Pick Up After Her Dog</td>\n",
       "      <td>Ron Dicker</td>\n",
       "      <td>https://www.huffingtonpost.com/entry/julianna-margulies-trump-poop-bag_us_5b093ec2e4b0fdb2aa53df70</td>\n",
       "      <td>dietland actress said bags cathartic therapeutic moment</td>\n",
       "      <td>2018-05-26</td>\n",
       "      <td>dietland actress said bags cathartic therapeutic moment</td>\n",
       "    </tr>\n",
       "  </tbody>\n",
       "</table>\n",
       "</div>"
      ],
      "text/plain": [
       "   index       category  \\\n",
       "0  0      CRIME           \n",
       "1  1      ENTERTAINMENT   \n",
       "2  2      ENTERTAINMENT   \n",
       "3  3      ENTERTAINMENT   \n",
       "4  4      ENTERTAINMENT   \n",
       "\n",
       "                                                                      headline  \\\n",
       "0  There Were 2 Mass Shootings In Texas Last Week, But Only 1 On TV              \n",
       "1  Will Smith Joins Diplo And Nicky Jam For The 2018 World Cup's Official Song   \n",
       "2  Hugh Grant Marries For The First Time At Age 57                               \n",
       "3  Jim Carrey Blasts 'Castrato' Adam Schiff And Democrats In New Artwork         \n",
       "4  Julianna Margulies Uses Donald Trump Poop Bags To Pick Up After Her Dog       \n",
       "\n",
       "           authors  \\\n",
       "0  Melissa Jeltsen   \n",
       "1  Andy McDonald     \n",
       "2  Ron Dicker        \n",
       "3  Ron Dicker        \n",
       "4  Ron Dicker        \n",
       "\n",
       "                                                                                                                                         link  \\\n",
       "0  https://www.huffingtonpost.com/entry/texas-amanda-painter-mass-shooting_us_5b081ab4e4b0802d69caad89                                          \n",
       "1  https://www.huffingtonpost.com/entry/will-smith-joins-diplo-and-nicky-jam-for-the-official-2018-world-cup-song_us_5b09726fe4b0fdb2aa541201   \n",
       "2  https://www.huffingtonpost.com/entry/hugh-grant-marries_us_5b09212ce4b0568a880b9a8c                                                          \n",
       "3  https://www.huffingtonpost.com/entry/jim-carrey-adam-schiff-democrats_us_5b0950e8e4b0fdb2aa53e675                                            \n",
       "4  https://www.huffingtonpost.com/entry/julianna-margulies-trump-poop-bag_us_5b093ec2e4b0fdb2aa53df70                                           \n",
       "\n",
       "                                                   short_description  \\\n",
       "0  left husband killed children day america                            \n",
       "1  course song                                                         \n",
       "2  actor longtime girlfriend anna eberstein tied knot civil ceremony   \n",
       "3  actor gives dems asskicking fighting hard donald trump              \n",
       "4  dietland actress said bags cathartic therapeutic moment             \n",
       "\n",
       "        date  \\\n",
       "0 2018-05-26   \n",
       "1 2018-05-26   \n",
       "2 2018-05-26   \n",
       "3 2018-05-26   \n",
       "4 2018-05-26   \n",
       "\n",
       "                                               short_description_new  \n",
       "0  left husband killed children day america                           \n",
       "1  course song                                                        \n",
       "2  actor longtime girlfriend anna eberstein tied knot civil ceremony  \n",
       "3  actor gives dems asskicking fighting hard donald trump             \n",
       "4  dietland actress said bags cathartic therapeutic moment            "
      ]
     },
     "execution_count": 12,
     "metadata": {},
     "output_type": "execute_result"
    }
   ],
   "source": [
    "df.head()"
   ]
  },
  {
   "cell_type": "markdown",
   "metadata": {},
   "source": [
    "# Vader"
   ]
  },
  {
   "cell_type": "markdown",
   "metadata": {},
   "source": [
    "pip install vaderSentiment\n",
    "\n",
    "https://www.geeksforgeeks.org/python-sentiment-analysis-using-vader/\n",
    "\n",
    "https://medium.com/analytics-vidhya/simplifying-social-media-sentiment-analysis-using-vader-in-python-f9e6ec6fc52f"
   ]
  },
  {
   "cell_type": "code",
   "execution_count": 13,
   "metadata": {
    "ExecuteTime": {
     "end_time": "2020-07-20T02:02:25.939346Z",
     "start_time": "2020-07-20T02:02:25.910346Z"
    }
   },
   "outputs": [],
   "source": [
    "from vaderSentiment.vaderSentiment import SentimentIntensityAnalyzer"
   ]
  },
  {
   "cell_type": "code",
   "execution_count": 14,
   "metadata": {
    "ExecuteTime": {
     "end_time": "2020-07-20T02:02:51.381677Z",
     "start_time": "2020-07-20T02:02:25.941344Z"
    }
   },
   "outputs": [],
   "source": [
    "analyzer = SentimentIntensityAnalyzer()\n",
    "overall_sentiment = []\n",
    "\n",
    "for art in df['short_description_new']:\n",
    "    sentiment_dict=analyzer.polarity_scores(art)\n",
    "    #print(\"Overall sentiment dictionary is : \", sentiment_dict) \n",
    "    #print(\"sentence was rated as \", sentiment_dict['neg']*100, \"% Negative\") \n",
    "    #print(\"sentence was rated as \", sentiment_dict['neu']*100, \"% Neutral\") \n",
    "    #print(\"sentence was rated as \", sentiment_dict['pos']*100, \"% Positive\") \n",
    "    #print(\"Sentence Overall Rated As\", end = \" \")  \n",
    "    if sentiment_dict['compound'] >= 0.05 : \n",
    "        overall_sentiment.append(\"Positive\")\n",
    "    elif sentiment_dict['compound'] <= - 0.05 : \n",
    "        overall_sentiment.append(\"Negative\")\n",
    "    else : \n",
    "        overall_sentiment.append(\"Neutral\")\n",
    "        \n",
    "df['label'] = overall_sentiment"
   ]
  },
  {
   "cell_type": "code",
   "execution_count": 15,
   "metadata": {
    "ExecuteTime": {
     "end_time": "2020-07-20T02:02:51.412662Z",
     "start_time": "2020-07-20T02:02:51.384667Z"
    }
   },
   "outputs": [
    {
     "data": {
      "text/html": [
       "<div>\n",
       "<style scoped>\n",
       "    .dataframe tbody tr th:only-of-type {\n",
       "        vertical-align: middle;\n",
       "    }\n",
       "\n",
       "    .dataframe tbody tr th {\n",
       "        vertical-align: top;\n",
       "    }\n",
       "\n",
       "    .dataframe thead th {\n",
       "        text-align: right;\n",
       "    }\n",
       "</style>\n",
       "<table border=\"1\" class=\"dataframe\">\n",
       "  <thead>\n",
       "    <tr style=\"text-align: right;\">\n",
       "      <th></th>\n",
       "      <th>index</th>\n",
       "      <th>category</th>\n",
       "      <th>headline</th>\n",
       "      <th>authors</th>\n",
       "      <th>link</th>\n",
       "      <th>short_description</th>\n",
       "      <th>date</th>\n",
       "      <th>short_description_new</th>\n",
       "      <th>label</th>\n",
       "    </tr>\n",
       "  </thead>\n",
       "  <tbody>\n",
       "    <tr>\n",
       "      <th>0</th>\n",
       "      <td>0</td>\n",
       "      <td>CRIME</td>\n",
       "      <td>There Were 2 Mass Shootings In Texas Last Week, But Only 1 On TV</td>\n",
       "      <td>Melissa Jeltsen</td>\n",
       "      <td>https://www.huffingtonpost.com/entry/texas-amanda-painter-mass-shooting_us_5b081ab4e4b0802d69caad89</td>\n",
       "      <td>left husband killed children day america</td>\n",
       "      <td>2018-05-26</td>\n",
       "      <td>left husband killed children day america</td>\n",
       "      <td>Negative</td>\n",
       "    </tr>\n",
       "    <tr>\n",
       "      <th>1</th>\n",
       "      <td>1</td>\n",
       "      <td>ENTERTAINMENT</td>\n",
       "      <td>Will Smith Joins Diplo And Nicky Jam For The 2018 World Cup's Official Song</td>\n",
       "      <td>Andy McDonald</td>\n",
       "      <td>https://www.huffingtonpost.com/entry/will-smith-joins-diplo-and-nicky-jam-for-the-official-2018-world-cup-song_us_5b09726fe4b0fdb2aa541201</td>\n",
       "      <td>course song</td>\n",
       "      <td>2018-05-26</td>\n",
       "      <td>course song</td>\n",
       "      <td>Neutral</td>\n",
       "    </tr>\n",
       "    <tr>\n",
       "      <th>2</th>\n",
       "      <td>2</td>\n",
       "      <td>ENTERTAINMENT</td>\n",
       "      <td>Hugh Grant Marries For The First Time At Age 57</td>\n",
       "      <td>Ron Dicker</td>\n",
       "      <td>https://www.huffingtonpost.com/entry/hugh-grant-marries_us_5b09212ce4b0568a880b9a8c</td>\n",
       "      <td>actor longtime girlfriend anna eberstein tied knot civil ceremony</td>\n",
       "      <td>2018-05-26</td>\n",
       "      <td>actor longtime girlfriend anna eberstein tied knot civil ceremony</td>\n",
       "      <td>Neutral</td>\n",
       "    </tr>\n",
       "    <tr>\n",
       "      <th>3</th>\n",
       "      <td>3</td>\n",
       "      <td>ENTERTAINMENT</td>\n",
       "      <td>Jim Carrey Blasts 'Castrato' Adam Schiff And Democrats In New Artwork</td>\n",
       "      <td>Ron Dicker</td>\n",
       "      <td>https://www.huffingtonpost.com/entry/jim-carrey-adam-schiff-democrats_us_5b0950e8e4b0fdb2aa53e675</td>\n",
       "      <td>actor gives dems asskicking fighting hard donald trump</td>\n",
       "      <td>2018-05-26</td>\n",
       "      <td>actor gives dems asskicking fighting hard donald trump</td>\n",
       "      <td>Negative</td>\n",
       "    </tr>\n",
       "    <tr>\n",
       "      <th>4</th>\n",
       "      <td>4</td>\n",
       "      <td>ENTERTAINMENT</td>\n",
       "      <td>Julianna Margulies Uses Donald Trump Poop Bags To Pick Up After Her Dog</td>\n",
       "      <td>Ron Dicker</td>\n",
       "      <td>https://www.huffingtonpost.com/entry/julianna-margulies-trump-poop-bag_us_5b093ec2e4b0fdb2aa53df70</td>\n",
       "      <td>dietland actress said bags cathartic therapeutic moment</td>\n",
       "      <td>2018-05-26</td>\n",
       "      <td>dietland actress said bags cathartic therapeutic moment</td>\n",
       "      <td>Neutral</td>\n",
       "    </tr>\n",
       "  </tbody>\n",
       "</table>\n",
       "</div>"
      ],
      "text/plain": [
       "   index       category  \\\n",
       "0  0      CRIME           \n",
       "1  1      ENTERTAINMENT   \n",
       "2  2      ENTERTAINMENT   \n",
       "3  3      ENTERTAINMENT   \n",
       "4  4      ENTERTAINMENT   \n",
       "\n",
       "                                                                      headline  \\\n",
       "0  There Were 2 Mass Shootings In Texas Last Week, But Only 1 On TV              \n",
       "1  Will Smith Joins Diplo And Nicky Jam For The 2018 World Cup's Official Song   \n",
       "2  Hugh Grant Marries For The First Time At Age 57                               \n",
       "3  Jim Carrey Blasts 'Castrato' Adam Schiff And Democrats In New Artwork         \n",
       "4  Julianna Margulies Uses Donald Trump Poop Bags To Pick Up After Her Dog       \n",
       "\n",
       "           authors  \\\n",
       "0  Melissa Jeltsen   \n",
       "1  Andy McDonald     \n",
       "2  Ron Dicker        \n",
       "3  Ron Dicker        \n",
       "4  Ron Dicker        \n",
       "\n",
       "                                                                                                                                         link  \\\n",
       "0  https://www.huffingtonpost.com/entry/texas-amanda-painter-mass-shooting_us_5b081ab4e4b0802d69caad89                                          \n",
       "1  https://www.huffingtonpost.com/entry/will-smith-joins-diplo-and-nicky-jam-for-the-official-2018-world-cup-song_us_5b09726fe4b0fdb2aa541201   \n",
       "2  https://www.huffingtonpost.com/entry/hugh-grant-marries_us_5b09212ce4b0568a880b9a8c                                                          \n",
       "3  https://www.huffingtonpost.com/entry/jim-carrey-adam-schiff-democrats_us_5b0950e8e4b0fdb2aa53e675                                            \n",
       "4  https://www.huffingtonpost.com/entry/julianna-margulies-trump-poop-bag_us_5b093ec2e4b0fdb2aa53df70                                           \n",
       "\n",
       "                                                   short_description  \\\n",
       "0  left husband killed children day america                            \n",
       "1  course song                                                         \n",
       "2  actor longtime girlfriend anna eberstein tied knot civil ceremony   \n",
       "3  actor gives dems asskicking fighting hard donald trump              \n",
       "4  dietland actress said bags cathartic therapeutic moment             \n",
       "\n",
       "        date  \\\n",
       "0 2018-05-26   \n",
       "1 2018-05-26   \n",
       "2 2018-05-26   \n",
       "3 2018-05-26   \n",
       "4 2018-05-26   \n",
       "\n",
       "                                               short_description_new     label  \n",
       "0  left husband killed children day america                           Negative  \n",
       "1  course song                                                        Neutral   \n",
       "2  actor longtime girlfriend anna eberstein tied knot civil ceremony  Neutral   \n",
       "3  actor gives dems asskicking fighting hard donald trump             Negative  \n",
       "4  dietland actress said bags cathartic therapeutic moment            Neutral   "
      ]
     },
     "execution_count": 15,
     "metadata": {},
     "output_type": "execute_result"
    }
   ],
   "source": [
    "df.head()"
   ]
  },
  {
   "cell_type": "code",
   "execution_count": 16,
   "metadata": {
    "ExecuteTime": {
     "end_time": "2020-07-20T02:02:51.474662Z",
     "start_time": "2020-07-20T02:02:51.419661Z"
    }
   },
   "outputs": [
    {
     "data": {
      "text/plain": [
       "POLITICS          29106\n",
       "WELLNESS          17549\n",
       "ENTERTAINMENT     13251\n",
       "TRAVEL            9375 \n",
       "STYLE & BEAUTY    9152 \n",
       "PARENTING         8624 \n",
       "FOOD & DRINK      6206 \n",
       "QUEER VOICES      5405 \n",
       "HEALTHY LIVING    5197 \n",
       "BUSINESS          5060 \n",
       "COMEDY            4361 \n",
       "SPORTS            4186 \n",
       "BLACK VOICES      4064 \n",
       "HOME & LIVING     4023 \n",
       "THE WORLDPOST     3657 \n",
       "WEDDINGS          3645 \n",
       "PARENTS           3433 \n",
       "DIVORCE           3401 \n",
       "IMPACT            3050 \n",
       "WOMEN             3023 \n",
       "CRIME             2671 \n",
       "MEDIA             2259 \n",
       "WORLD NEWS        2169 \n",
       "WEIRD NEWS        2152 \n",
       "GREEN             2034 \n",
       "TECH              1990 \n",
       "TASTE             1904 \n",
       "RELIGION          1779 \n",
       "SCIENCE           1763 \n",
       "MONEY             1706 \n",
       "STYLE             1500 \n",
       "ARTS & CULTURE    1321 \n",
       "ENVIRONMENT       1317 \n",
       "WORLDPOST         1242 \n",
       "FIFTY             1042 \n",
       "GOOD NEWS         1027 \n",
       "LATINO VOICES     1018 \n",
       "CULTURE & ARTS    1016 \n",
       "COLLEGE           921  \n",
       "EDUCATION         891  \n",
       "ARTS              863  \n",
       "Name: category, dtype: int64"
      ]
     },
     "execution_count": 16,
     "metadata": {},
     "output_type": "execute_result"
    }
   ],
   "source": [
    "df['category'].value_counts()"
   ]
  },
  {
   "cell_type": "markdown",
   "metadata": {},
   "source": [
    "News API categories\n",
    "* business\n",
    "* entertainment\n",
    "* general\n",
    "* health\n",
    "* science\n",
    "* sports\n",
    "* technology"
   ]
  },
  {
   "cell_type": "code",
   "execution_count": 17,
   "metadata": {
    "ExecuteTime": {
     "end_time": "2020-07-20T02:02:51.490661Z",
     "start_time": "2020-07-20T02:02:51.476662Z"
    }
   },
   "outputs": [],
   "source": [
    "# categories\n",
    "business =['BUSINESS','MONEY']\n",
    "entertainment=['ENTERTAINMENT','ARTS','COMEDY','ARTS & CULTURE','CULTURE & ARTS','MEDIA']\n",
    "health=['HEALTH','WELLNESS','HEALTHY LIVING']\n",
    "science=['SCIENCE']\n",
    "sports=['SPORTS']\n",
    "technology = ['TECH']"
   ]
  },
  {
   "cell_type": "code",
   "execution_count": 18,
   "metadata": {
    "ExecuteTime": {
     "end_time": "2020-07-20T02:02:51.614662Z",
     "start_time": "2020-07-20T02:02:51.493663Z"
    }
   },
   "outputs": [
    {
     "data": {
      "text/plain": [
       "(1990, 9)"
      ]
     },
     "execution_count": 18,
     "metadata": {},
     "output_type": "execute_result"
    }
   ],
   "source": [
    "condition = df['category'].isin(technology)\n",
    "technologyDF = df[condition]\n",
    "technologyDF.shape"
   ]
  },
  {
   "cell_type": "code",
   "execution_count": 19,
   "metadata": {
    "ExecuteTime": {
     "end_time": "2020-07-20T02:02:51.755660Z",
     "start_time": "2020-07-20T02:02:51.616662Z"
    }
   },
   "outputs": [],
   "source": [
    "#save tech data\n",
    "technologyDF.to_csv(\"Resources/TechnologyTestData_2.csv\")"
   ]
  },
  {
   "cell_type": "code",
   "execution_count": 20,
   "metadata": {
    "ExecuteTime": {
     "end_time": "2020-07-20T02:02:51.770663Z",
     "start_time": "2020-07-20T02:02:51.758663Z"
    }
   },
   "outputs": [
    {
     "data": {
      "text/plain": [
       "(178353, 9)"
      ]
     },
     "execution_count": 20,
     "metadata": {},
     "output_type": "execute_result"
    }
   ],
   "source": [
    "df.shape"
   ]
  },
  {
   "cell_type": "code",
   "execution_count": 21,
   "metadata": {
    "ExecuteTime": {
     "end_time": "2020-07-20T02:02:51.817661Z",
     "start_time": "2020-07-20T02:02:51.809662Z"
    }
   },
   "outputs": [],
   "source": [
    "X =df # the features we want to analyze\n",
    "y =df[\"label\"] # the labels, or answers, we want to test against"
   ]
  },
  {
   "cell_type": "code",
   "execution_count": 22,
   "metadata": {
    "ExecuteTime": {
     "end_time": "2020-07-20T02:02:52.022659Z",
     "start_time": "2020-07-20T02:02:51.820661Z"
    }
   },
   "outputs": [],
   "source": [
    "from sklearn.model_selection import train_test_split\n",
    "X_train, X_test, y_train, y_test = train_test_split(X, y, test_size=0.3)\n",
    "#train entire data\n",
    "X_train_2=X_train[\"short_description_new\"]\n",
    "y_train_2=y_train\n",
    "\n",
    "condition = X_test['category'].isin(technology)\n",
    "technologyDF = X_test[condition]\n",
    "#test tech data\n",
    "X_test_2=technologyDF[\"short_description_new\"]\n",
    "y_test_2=technologyDF[\"label\"]"
   ]
  },
  {
   "cell_type": "markdown",
   "metadata": {},
   "source": [
    "# Vectorizing the Data"
   ]
  },
  {
   "cell_type": "code",
   "execution_count": 23,
   "metadata": {
    "ExecuteTime": {
     "end_time": "2020-07-20T02:02:54.885726Z",
     "start_time": "2020-07-20T02:02:52.029664Z"
    }
   },
   "outputs": [],
   "source": [
    "from sklearn.feature_extraction.text import CountVectorizer,TfidfVectorizer\n",
    "# Create feature vectors\n",
    "vectorizer = TfidfVectorizer(min_df = 5,\n",
    "                             max_df = 0.8,\n",
    "                             sublinear_tf = True,\n",
    "                             use_idf = True)\n",
    "train_vectors = vectorizer.fit_transform(X_train_2)\n",
    "test_vectors = vectorizer.transform(X_test_2)"
   ]
  },
  {
   "cell_type": "code",
   "execution_count": 24,
   "metadata": {
    "ExecuteTime": {
     "end_time": "2020-07-20T02:02:54.901707Z",
     "start_time": "2020-07-20T02:02:54.890706Z"
    }
   },
   "outputs": [
    {
     "data": {
      "text/plain": [
       "<124847x21452 sparse matrix of type '<class 'numpy.float64'>'\n",
       "\twith 1171179 stored elements in Compressed Sparse Row format>"
      ]
     },
     "execution_count": 24,
     "metadata": {},
     "output_type": "execute_result"
    }
   ],
   "source": [
    "train_vectors"
   ]
  },
  {
   "cell_type": "code",
   "execution_count": 25,
   "metadata": {
    "ExecuteTime": {
     "end_time": "2020-07-20T02:02:54.916708Z",
     "start_time": "2020-07-20T02:02:54.904708Z"
    }
   },
   "outputs": [
    {
     "data": {
      "text/plain": [
       "<124847x21452 sparse matrix of type '<class 'numpy.float64'>'\n",
       "\twith 1171179 stored elements in Compressed Sparse Row format>"
      ]
     },
     "execution_count": 25,
     "metadata": {},
     "output_type": "execute_result"
    }
   ],
   "source": [
    "train_vectors"
   ]
  },
  {
   "cell_type": "markdown",
   "metadata": {},
   "source": [
    "# Creating a Linear SVM Model"
   ]
  },
  {
   "cell_type": "code",
   "execution_count": 26,
   "metadata": {
    "ExecuteTime": {
     "end_time": "2020-07-20T02:02:54.932705Z",
     "start_time": "2020-07-20T02:02:54.919708Z"
    }
   },
   "outputs": [],
   "source": [
    "import time\n",
    "# from sklearn import svm\n",
    "from sklearn.svm import SVC \n",
    "from sklearn.metrics import classification_report\n",
    "from sklearn.pipeline import Pipeline\n",
    "from sklearn.pipeline import make_pipeline\n",
    "from sklearn import set_config"
   ]
  },
  {
   "cell_type": "code",
   "execution_count": 27,
   "metadata": {
    "ExecuteTime": {
     "end_time": "2020-07-20T02:02:54.978704Z",
     "start_time": "2020-07-20T02:02:54.934706Z"
    }
   },
   "outputs": [
    {
     "data": {
      "text/html": [
       "<style>div.sk-top-container {color: black;background-color: white;}div.sk-toggleable {background-color: white;}label.sk-toggleable__label {cursor: pointer;display: block;width: 100%;margin-bottom: 0;padding: 0.2em 0.3em;box-sizing: border-box;text-align: center;}div.sk-toggleable__content {max-height: 0;max-width: 0;overflow: hidden;text-align: left;background-color: #f0f8ff;}div.sk-toggleable__content pre {margin: 0.2em;color: black;border-radius: 0.25em;background-color: #f0f8ff;}input.sk-toggleable__control:checked~div.sk-toggleable__content {max-height: 200px;max-width: 100%;overflow: auto;}div.sk-estimator input.sk-toggleable__control:checked~label.sk-toggleable__label {background-color: #d4ebff;}div.sk-label input.sk-toggleable__control:checked~label.sk-toggleable__label {background-color: #d4ebff;}input.sk-hidden--visually {border: 0;clip: rect(1px 1px 1px 1px);clip: rect(1px, 1px, 1px, 1px);height: 1px;margin: -1px;overflow: hidden;padding: 0;position: absolute;width: 1px;}div.sk-estimator {font-family: monospace;background-color: #f0f8ff;margin: 0.25em 0.25em;border: 1px dotted black;border-radius: 0.25em;box-sizing: border-box;}div.sk-estimator:hover {background-color: #d4ebff;}div.sk-parallel-item::after {content: \"\";width: 100%;border-bottom: 1px solid gray;flex-grow: 1;}div.sk-label:hover label.sk-toggleable__label {background-color: #d4ebff;}div.sk-serial::before {content: \"\";position: absolute;border-left: 1px solid gray;box-sizing: border-box;top: 2em;bottom: 0;left: 50%;}div.sk-serial {display: flex;flex-direction: column;align-items: center;background-color: white;}div.sk-item {z-index: 1;}div.sk-parallel {display: flex;align-items: stretch;justify-content: center;background-color: white;}div.sk-parallel-item {display: flex;flex-direction: column;position: relative;background-color: white;}div.sk-parallel-item:first-child::after {align-self: flex-end;width: 50%;}div.sk-parallel-item:last-child::after {align-self: flex-start;width: 50%;}div.sk-parallel-item:only-child::after {width: 0;}div.sk-dashed-wrapped {border: 1px dashed gray;margin: 0.2em;box-sizing: border-box;padding-bottom: 0.1em;background-color: white;position: relative;}div.sk-label label {font-family: monospace;font-weight: bold;background-color: white;display: inline-block;line-height: 1.2em;}div.sk-label-container {position: relative;z-index: 2;text-align: center;}div.sk-container {display: inline-block;position: relative;}</style><div class=\"sk-top-container\"><div class=\"sk-container\"><div class=\"sk-item sk-dashed-wrapped\"><div class=\"sk-label-container\"><div class=\"sk-label sk-toggleable\"><input class=\"sk-toggleable__control sk-hidden--visually\" id=\"464cf4a8-087d-4c48-a0c2-894d8aeb2073\" type=\"checkbox\" ><label class=\"sk-toggleable__label\" for=\"464cf4a8-087d-4c48-a0c2-894d8aeb2073\">Pipeline</label><div class=\"sk-toggleable__content\"><pre>Pipeline(steps=[('svc', SVC(kernel='linear'))])</pre></div></div></div><div class=\"sk-serial\"><div class=\"sk-item\"><div class=\"sk-estimator sk-toggleable\"><input class=\"sk-toggleable__control sk-hidden--visually\" id=\"4483b960-b0c0-482b-8ae8-37b0c78392fa\" type=\"checkbox\" ><label class=\"sk-toggleable__label\" for=\"4483b960-b0c0-482b-8ae8-37b0c78392fa\">SVC</label><div class=\"sk-toggleable__content\"><pre>SVC(kernel='linear')</pre></div></div></div></div></div></div></div>"
      ],
      "text/plain": [
       "Pipeline(steps=[('svc', SVC(kernel='linear'))])"
      ]
     },
     "execution_count": 27,
     "metadata": {},
     "output_type": "execute_result"
    }
   ],
   "source": [
    "# Perform classification with SVM, kernel=linear\n",
    "classifier = SVC(kernel='linear')\n",
    "t0 = time.time()\n",
    "t1 = time.time()\n",
    "t2 = time.time()\n",
    "time_linear_train = t1-t0\n",
    "time_linear_predict = t2-t1\n",
    "set_config(display=\"diagram\")\n",
    "#create pipeline\n",
    "pipe = make_pipeline( classifier)\n",
    "pipe"
   ]
  },
  {
   "cell_type": "code",
   "execution_count": 28,
   "metadata": {
    "ExecuteTime": {
     "end_time": "2020-07-20T03:46:51.043782Z",
     "start_time": "2020-07-20T02:02:54.980708Z"
    }
   },
   "outputs": [
    {
     "data": {
      "text/html": [
       "<style>div.sk-top-container {color: black;background-color: white;}div.sk-toggleable {background-color: white;}label.sk-toggleable__label {cursor: pointer;display: block;width: 100%;margin-bottom: 0;padding: 0.2em 0.3em;box-sizing: border-box;text-align: center;}div.sk-toggleable__content {max-height: 0;max-width: 0;overflow: hidden;text-align: left;background-color: #f0f8ff;}div.sk-toggleable__content pre {margin: 0.2em;color: black;border-radius: 0.25em;background-color: #f0f8ff;}input.sk-toggleable__control:checked~div.sk-toggleable__content {max-height: 200px;max-width: 100%;overflow: auto;}div.sk-estimator input.sk-toggleable__control:checked~label.sk-toggleable__label {background-color: #d4ebff;}div.sk-label input.sk-toggleable__control:checked~label.sk-toggleable__label {background-color: #d4ebff;}input.sk-hidden--visually {border: 0;clip: rect(1px 1px 1px 1px);clip: rect(1px, 1px, 1px, 1px);height: 1px;margin: -1px;overflow: hidden;padding: 0;position: absolute;width: 1px;}div.sk-estimator {font-family: monospace;background-color: #f0f8ff;margin: 0.25em 0.25em;border: 1px dotted black;border-radius: 0.25em;box-sizing: border-box;}div.sk-estimator:hover {background-color: #d4ebff;}div.sk-parallel-item::after {content: \"\";width: 100%;border-bottom: 1px solid gray;flex-grow: 1;}div.sk-label:hover label.sk-toggleable__label {background-color: #d4ebff;}div.sk-serial::before {content: \"\";position: absolute;border-left: 1px solid gray;box-sizing: border-box;top: 2em;bottom: 0;left: 50%;}div.sk-serial {display: flex;flex-direction: column;align-items: center;background-color: white;}div.sk-item {z-index: 1;}div.sk-parallel {display: flex;align-items: stretch;justify-content: center;background-color: white;}div.sk-parallel-item {display: flex;flex-direction: column;position: relative;background-color: white;}div.sk-parallel-item:first-child::after {align-self: flex-end;width: 50%;}div.sk-parallel-item:last-child::after {align-self: flex-start;width: 50%;}div.sk-parallel-item:only-child::after {width: 0;}div.sk-dashed-wrapped {border: 1px dashed gray;margin: 0.2em;box-sizing: border-box;padding-bottom: 0.1em;background-color: white;position: relative;}div.sk-label label {font-family: monospace;font-weight: bold;background-color: white;display: inline-block;line-height: 1.2em;}div.sk-label-container {position: relative;z-index: 2;text-align: center;}div.sk-container {display: inline-block;position: relative;}</style><div class=\"sk-top-container\"><div class=\"sk-container\"><div class=\"sk-item sk-dashed-wrapped\"><div class=\"sk-label-container\"><div class=\"sk-label sk-toggleable\"><input class=\"sk-toggleable__control sk-hidden--visually\" id=\"104ac6af-ea50-44d8-a357-244f9d469d5e\" type=\"checkbox\" ><label class=\"sk-toggleable__label\" for=\"104ac6af-ea50-44d8-a357-244f9d469d5e\">Pipeline</label><div class=\"sk-toggleable__content\"><pre>Pipeline(steps=[('svc', SVC(kernel='linear'))])</pre></div></div></div><div class=\"sk-serial\"><div class=\"sk-item\"><div class=\"sk-estimator sk-toggleable\"><input class=\"sk-toggleable__control sk-hidden--visually\" id=\"e1408bee-c60f-48ad-b019-4f114c4c9ea8\" type=\"checkbox\" ><label class=\"sk-toggleable__label\" for=\"e1408bee-c60f-48ad-b019-4f114c4c9ea8\">SVC</label><div class=\"sk-toggleable__content\"><pre>SVC(kernel='linear')</pre></div></div></div></div></div></div></div>"
      ],
      "text/plain": [
       "Pipeline(steps=[('svc', SVC(kernel='linear'))])"
      ]
     },
     "execution_count": 28,
     "metadata": {},
     "output_type": "execute_result"
    }
   ],
   "source": [
    "# model generation\n",
    "# classifier.fit(train_vectors, trainData['label'])\n",
    "pipe.fit(train_vectors, y_train_2)"
   ]
  },
  {
   "cell_type": "code",
   "execution_count": 29,
   "metadata": {
    "ExecuteTime": {
     "end_time": "2020-07-20T03:46:56.104784Z",
     "start_time": "2020-07-20T03:46:51.052783Z"
    }
   },
   "outputs": [],
   "source": [
    "predicted=pipe.predict(test_vectors)"
   ]
  },
  {
   "cell_type": "code",
   "execution_count": 30,
   "metadata": {
    "ExecuteTime": {
     "end_time": "2020-07-20T04:05:53.727161Z",
     "start_time": "2020-07-20T03:46:56.108782Z"
    }
   },
   "outputs": [],
   "source": [
    "svm_acc_train=pipe.score(train_vectors, y_train_2)\n",
    "svm_acc_test=pipe.score(test_vectors, y_test_2)"
   ]
  },
  {
   "cell_type": "code",
   "execution_count": 31,
   "metadata": {
    "ExecuteTime": {
     "end_time": "2020-07-20T04:05:53.836162Z",
     "start_time": "2020-07-20T04:05:53.731160Z"
    }
   },
   "outputs": [
    {
     "name": "stdout",
     "output_type": "stream",
     "text": [
      "Training time: 0.000000s; Prediction time: 0.000000s\n",
      "Train Accuracy = 0.9406793915752881\n",
      "Test Accuracy = 0.9211822660098522\n",
      "positive:  {'precision': 0.9330543933054394, 'recall': 0.9214876033057852, 'f1-score': 0.9272349272349273, 'support': 242}\n",
      "negative:  {'precision': 0.9032258064516129, 'recall': 0.835820895522388, 'f1-score': 0.8682170542635659, 'support': 134}\n"
     ]
    }
   ],
   "source": [
    "# results\n",
    "print(\"Training time: %fs; Prediction time: %fs\" % (time_linear_train, time_linear_predict))\n",
    "report = classification_report(y_test_2, predicted, output_dict=True)\n",
    "print(f\"Train Accuracy = {svm_acc_train}\")\n",
    "print(f\"Test Accuracy = {svm_acc_test}\")\n",
    "print('positive: ', report['Positive'])\n",
    "print('negative: ', report['Negative'])"
   ]
  },
  {
   "cell_type": "code",
   "execution_count": 32,
   "metadata": {
    "ExecuteTime": {
     "end_time": "2020-07-20T04:05:59.334058Z",
     "start_time": "2020-07-20T04:05:53.841162Z"
    }
   },
   "outputs": [
    {
     "name": "stdout",
     "output_type": "stream",
     "text": [
      "              precision    recall  f1-score   support\n",
      "\n",
      "    Negative       0.84      0.90      0.87       124\n",
      "     Neutral       0.97      0.92      0.94       246\n",
      "    Positive       0.92      0.93      0.93       239\n",
      "\n",
      "    accuracy                           0.92       609\n",
      "   macro avg       0.91      0.92      0.91       609\n",
      "weighted avg       0.92      0.92      0.92       609\n",
      "\n"
     ]
    }
   ],
   "source": [
    "#prediction report\n",
    "from sklearn.metrics import classification_report\n",
    "print(classification_report(pipe.predict(test_vectors),y_test_2))"
   ]
  },
  {
   "cell_type": "markdown",
   "metadata": {},
   "source": [
    "# Hyperparameter Tuning\n",
    "Use GridSearchCV to tune the model's parameters"
   ]
  },
  {
   "cell_type": "code",
   "execution_count": 33,
   "metadata": {
    "ExecuteTime": {
     "end_time": "2020-07-20T04:05:59.350063Z",
     "start_time": "2020-07-20T04:05:59.337059Z"
    }
   },
   "outputs": [],
   "source": [
    "# from sklearn.model_selection import GridSearchCV\n",
    "# param_grid = {\n",
    "#                 \"C\": [0.1,1,10,100],\n",
    "#                 \"gamma\" : [0.0001, 0.001, 0.01, 0.1]\n",
    "#             }\n",
    "# svm_grid_model = GridSearchCV(classifier, param_grid)"
   ]
  },
  {
   "cell_type": "code",
   "execution_count": 34,
   "metadata": {
    "ExecuteTime": {
     "end_time": "2020-07-20T04:05:59.366063Z",
     "start_time": "2020-07-20T04:05:59.359062Z"
    }
   },
   "outputs": [],
   "source": [
    "# # Train the model with GridSearch\n",
    "# svm_grid_model.fit(train_vectors, y_train_2)"
   ]
  },
  {
   "cell_type": "code",
   "execution_count": 35,
   "metadata": {
    "ExecuteTime": {
     "end_time": "2020-07-20T04:05:59.381059Z",
     "start_time": "2020-07-20T04:05:59.371060Z"
    }
   },
   "outputs": [],
   "source": [
    "# print(svm_grid_model.best_params_)\n",
    "# print(svm_grid_model.best_score_)"
   ]
  },
  {
   "cell_type": "code",
   "execution_count": 36,
   "metadata": {
    "ExecuteTime": {
     "end_time": "2020-07-20T04:05:59.396060Z",
     "start_time": "2020-07-20T04:05:59.385060Z"
    }
   },
   "outputs": [],
   "source": [
    "# svm_grid_acc=svm_grid_model.score(test_vectors, y_test_2)"
   ]
  },
  {
   "cell_type": "code",
   "execution_count": 37,
   "metadata": {
    "ExecuteTime": {
     "end_time": "2020-07-20T04:05:59.411058Z",
     "start_time": "2020-07-20T04:05:59.400061Z"
    }
   },
   "outputs": [],
   "source": [
    "# from sklearn.metrics import classification_report\n",
    "# print(classification_report(svm_grid_model.predict(test_vectors),y_test_2))"
   ]
  },
  {
   "cell_type": "markdown",
   "metadata": {},
   "source": [
    "# Save the Model"
   ]
  },
  {
   "cell_type": "code",
   "execution_count": null,
   "metadata": {},
   "outputs": [],
   "source": []
  },
  {
   "cell_type": "code",
   "execution_count": 38,
   "metadata": {
    "ExecuteTime": {
     "end_time": "2020-07-20T04:05:59.533057Z",
     "start_time": "2020-07-20T04:05:59.414059Z"
    }
   },
   "outputs": [],
   "source": [
    "import pickle\n",
    "# pickling the vectorizer\n",
    "pickle.dump(vectorizer, open('../final_model/vectorizer.sav', 'wb'))\n",
    "# pickling the model\n",
    "filename = '../final_model/gensim_svm_model.sav'\n",
    "pickle.dump(pipe, open(filename, 'wb'))"
   ]
  },
  {
   "cell_type": "code",
   "execution_count": 39,
   "metadata": {
    "ExecuteTime": {
     "end_time": "2020-07-20T04:05:59.549058Z",
     "start_time": "2020-07-20T04:05:59.536059Z"
    }
   },
   "outputs": [],
   "source": [
    "# import joblib\n",
    "# joblib.dump(pipe, '../final_model/gensim_svm_model.pkl')"
   ]
  },
  {
   "cell_type": "markdown",
   "metadata": {},
   "source": [
    "# Test the SVM classifier"
   ]
  },
  {
   "cell_type": "code",
   "execution_count": 40,
   "metadata": {
    "ExecuteTime": {
     "end_time": "2020-07-20T04:05:59.577058Z",
     "start_time": "2020-07-20T04:05:59.552063Z"
    }
   },
   "outputs": [],
   "source": [
    "# review = \"\"\"SUPERB, I AM IN LOVE IN THIS PHONE\"\"\"\n",
    "# review_vector = pipe.transform([review]) # vectorizing\n",
    "# print(classifier_linear.predict(review_vector))"
   ]
  },
  {
   "cell_type": "code",
   "execution_count": 41,
   "metadata": {
    "ExecuteTime": {
     "end_time": "2020-07-20T04:29:53.536593Z",
     "start_time": "2020-07-20T04:29:53.492591Z"
    }
   },
   "outputs": [],
   "source": [
    "from sklearn.metrics import confusion_matrix\n",
    "%matplotlib inline\n",
    "import matplotlib.pyplot as plt\n",
    "\n",
    "def plot_confusion_matrix(y_true, y_pred, classes,\n",
    "                          normalize=False,\n",
    "                          title=None,\n",
    "                          cmap=plt.cm.Blues):\n",
    "    \"\"\"\n",
    "    This function prints and plots the confusion matrix.\n",
    "    Normalization can be applied by setting `normalize=True`.\n",
    "    \"\"\"\n",
    "    if not title:\n",
    "        if normalize:\n",
    "            title = 'Normalized confusion matrix'\n",
    "        else:\n",
    "            title = 'Confusion matrix, without normalization'\n",
    "\n",
    "    # Compute confusion matrix\n",
    "    cm = confusion_matrix(y_true, y_pred)\n",
    "\n",
    "    if normalize:\n",
    "        cm = cm.astype('float') / cm.sum(axis=1)[:, np.newaxis]\n",
    "        print(\"Normalized confusion matrix\")\n",
    "    else:\n",
    "        print('Confusion matrix, without normalization')\n",
    "\n",
    "    fig, ax = plt.subplots(figsize=(8,8))\n",
    "    im = ax.imshow(cm, interpolation='nearest', cmap=cmap)\n",
    "    ax.figure.colorbar(im, ax=ax)\n",
    "    # We want to show all ticks...\n",
    "    ax.set(xticks=np.arange(cm.shape[1]),\n",
    "           yticks=np.arange(cm.shape[0]),\n",
    "           # ... and label them with the respective list entries\n",
    "           xticklabels=classes, yticklabels=classes,\n",
    "           title=title,\n",
    "           ylabel='True label',\n",
    "           xlabel='Predicted label')\n",
    "    \n",
    "    # Rotate the tick labels and set their alignment.\n",
    "    plt.setp(ax.get_xticklabels(), rotation=45, ha=\"right\",\n",
    "             rotation_mode=\"anchor\")\n",
    "\n",
    "    # Loop over data dimensions and create text annotations.\n",
    "    fmt = '.2f' if normalize else 'd'\n",
    "    thresh = cm.max() / 2.\n",
    "    for i in range(cm.shape[0]):\n",
    "        for j in range(cm.shape[1]):\n",
    "            ax.text(j, i, format(cm[i, j], fmt),\n",
    "                    ha=\"center\", va=\"center\",\n",
    "                    color=\"white\" if cm[i, j] > thresh else \"black\")\n",
    "    fig.tight_layout()\n",
    "    return ax"
   ]
  },
  {
   "cell_type": "code",
   "execution_count": 46,
   "metadata": {
    "ExecuteTime": {
     "end_time": "2020-07-20T04:50:05.203831Z",
     "start_time": "2020-07-20T04:49:59.896832Z"
    },
    "scrolled": true
   },
   "outputs": [
    {
     "name": "stdout",
     "output_type": "stream",
     "text": [
      "Confusion matrix, without normalization\n"
     ]
    },
    {
     "data": {
      "text/plain": [
       "<matplotlib.axes._subplots.AxesSubplot at 0x243e0bbb310>"
      ]
     },
     "execution_count": 46,
     "metadata": {},
     "output_type": "execute_result"
    },
    {
     "data": {
      "image/png": "[encoded data removed]",
      "text/plain": [
       "<Figure size 576x576 with 2 Axes>"
      ]
     },
     "metadata": {
      "needs_background": "light"
     },
     "output_type": "display_data"
    }
   ],
   "source": [
    "\n",
    "predictions= pipe.predict(test_vectors)\n",
    "classes = ['Negative','Neutral','Positive']\n",
    "ax = plot_confusion_matrix(y_test_2, predictions, classes,False,\"Support Vector Machine Classifier\")\n",
    "plt.savefig(\"SVM.png\")\n",
    "ax"
   ]
  },
  {
   "cell_type": "code",
   "execution_count": 47,
   "metadata": {
    "ExecuteTime": {
     "end_time": "2020-07-20T04:55:32.904640Z",
     "start_time": "2020-07-20T04:55:32.863642Z"
    }
   },
   "outputs": [
    {
     "ename": "AttributeError",
     "evalue": "'Pipeline' object has no attribute 'classes'",
     "output_type": "error",
     "traceback": [
      "\u001b[1;31m---------------------------------------------------------------------------\u001b[0m",
      "\u001b[1;31mAttributeError\u001b[0m                            Traceback (most recent call last)",
      "\u001b[1;32m<ipython-input-47-52808c607ab3>\u001b[0m in \u001b[0;36m<module>\u001b[1;34m\u001b[0m\n\u001b[1;32m----> 1\u001b[1;33m \u001b[0mpipe\u001b[0m\u001b[1;33m.\u001b[0m\u001b[0mclasses\u001b[0m\u001b[1;33m\u001b[0m\u001b[1;33m\u001b[0m\u001b[0m\n\u001b[0m",
      "\u001b[1;31mAttributeError\u001b[0m: 'Pipeline' object has no attribute 'classes'"
     ]
    }
   ],
   "source": [
    "pipe.classes"
   ]
  },
  {
   "cell_type": "code",
   "execution_count": null,
   "metadata": {},
   "outputs": [],
   "source": []
  }
 ],
 "metadata": {
  "kernelspec": {
   "display_name": "Python 3",
   "language": "python",
   "name": "python3"
  },
  "language_info": {
   "codemirror_mode": {
    "name": "ipython",
    "version": 3
   },
   "file_extension": ".py",
   "mimetype": "text/x-python",
   "name": "python",
   "nbconvert_exporter": "python",
   "pygments_lexer": "ipython3",
   "version": "3.7.7"
  }
 },
 "nbformat": 4,
 "nbformat_minor": 4
}
