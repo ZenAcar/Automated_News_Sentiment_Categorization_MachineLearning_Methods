{
 "cells": [
  {
   "cell_type": "code",
   "execution_count": 91,
   "metadata": {
    "ExecuteTime": {
     "end_time": "2020-07-11T03:35:59.325215Z",
     "start_time": "2020-07-11T03:35:58.838216Z"
    }
   },
   "outputs": [
    {
     "name": "stderr",
     "output_type": "stream",
     "text": [
      "/Users/zennureozbekacar/opt/anaconda3/lib/python3.7/site-packages/ipykernel_launcher.py:7: FutureWarning: Passing a negative integer is deprecated in version 1.0 and will not be supported in future version. Instead, use None to not limit the column width.\n",
      "  import sys\n"
     ]
    }
   ],
   "source": [
    "import numpy as np # \n",
    "import pandas as pd # \n",
    "\n",
    "pd.set_option('display.max_rows', None)\n",
    "pd.set_option('display.max_columns', None)\n",
    "pd.set_option('display.width', None)\n",
    "pd.set_option('display.max_colwidth', -1)"
   ]
  },
  {
   "cell_type": "code",
   "execution_count": 92,
   "metadata": {
    "ExecuteTime": {
     "end_time": "2020-07-11T03:36:01.443217Z",
     "start_time": "2020-07-11T03:35:59.327216Z"
    },
    "scrolled": false
   },
   "outputs": [
    {
     "data": {
      "text/html": [
       "<div>\n",
       "<style scoped>\n",
       "    .dataframe tbody tr th:only-of-type {\n",
       "        vertical-align: middle;\n",
       "    }\n",
       "\n",
       "    .dataframe tbody tr th {\n",
       "        vertical-align: top;\n",
       "    }\n",
       "\n",
       "    .dataframe thead th {\n",
       "        text-align: right;\n",
       "    }\n",
       "</style>\n",
       "<table border=\"1\" class=\"dataframe\">\n",
       "  <thead>\n",
       "    <tr style=\"text-align: right;\">\n",
       "      <th></th>\n",
       "      <th>category</th>\n",
       "      <th>headline</th>\n",
       "      <th>authors</th>\n",
       "      <th>link</th>\n",
       "      <th>short_description</th>\n",
       "      <th>date</th>\n",
       "    </tr>\n",
       "  </thead>\n",
       "  <tbody>\n",
       "    <tr>\n",
       "      <th>0</th>\n",
       "      <td>CRIME</td>\n",
       "      <td>There Were 2 Mass Shootings In Texas Last Week, But Only 1 On TV</td>\n",
       "      <td>Melissa Jeltsen</td>\n",
       "      <td>https://www.huffingtonpost.com/entry/texas-amanda-painter-mass-shooting_us_5b081ab4e4b0802d69caad89</td>\n",
       "      <td>She left her husband. He killed their children. Just another day in America.</td>\n",
       "      <td>2018-05-26</td>\n",
       "    </tr>\n",
       "    <tr>\n",
       "      <th>1</th>\n",
       "      <td>ENTERTAINMENT</td>\n",
       "      <td>Will Smith Joins Diplo And Nicky Jam For The 2018 World Cup's Official Song</td>\n",
       "      <td>Andy McDonald</td>\n",
       "      <td>https://www.huffingtonpost.com/entry/will-smith-joins-diplo-and-nicky-jam-for-the-official-2018-world-cup-song_us_5b09726fe4b0fdb2aa541201</td>\n",
       "      <td>Of course it has a song.</td>\n",
       "      <td>2018-05-26</td>\n",
       "    </tr>\n",
       "    <tr>\n",
       "      <th>2</th>\n",
       "      <td>ENTERTAINMENT</td>\n",
       "      <td>Hugh Grant Marries For The First Time At Age 57</td>\n",
       "      <td>Ron Dicker</td>\n",
       "      <td>https://www.huffingtonpost.com/entry/hugh-grant-marries_us_5b09212ce4b0568a880b9a8c</td>\n",
       "      <td>The actor and his longtime girlfriend Anna Eberstein tied the knot in a civil ceremony.</td>\n",
       "      <td>2018-05-26</td>\n",
       "    </tr>\n",
       "    <tr>\n",
       "      <th>3</th>\n",
       "      <td>ENTERTAINMENT</td>\n",
       "      <td>Jim Carrey Blasts 'Castrato' Adam Schiff And Democrats In New Artwork</td>\n",
       "      <td>Ron Dicker</td>\n",
       "      <td>https://www.huffingtonpost.com/entry/jim-carrey-adam-schiff-democrats_us_5b0950e8e4b0fdb2aa53e675</td>\n",
       "      <td>The actor gives Dems an ass-kicking for not fighting hard enough against Donald Trump.</td>\n",
       "      <td>2018-05-26</td>\n",
       "    </tr>\n",
       "    <tr>\n",
       "      <th>4</th>\n",
       "      <td>ENTERTAINMENT</td>\n",
       "      <td>Julianna Margulies Uses Donald Trump Poop Bags To Pick Up After Her Dog</td>\n",
       "      <td>Ron Dicker</td>\n",
       "      <td>https://www.huffingtonpost.com/entry/julianna-margulies-trump-poop-bag_us_5b093ec2e4b0fdb2aa53df70</td>\n",
       "      <td>The \"Dietland\" actress said using the bags is a \"really cathartic, therapeutic moment.\"</td>\n",
       "      <td>2018-05-26</td>\n",
       "    </tr>\n",
       "  </tbody>\n",
       "</table>\n",
       "</div>"
      ],
      "text/plain": [
       "        category  \\\n",
       "0  CRIME           \n",
       "1  ENTERTAINMENT   \n",
       "2  ENTERTAINMENT   \n",
       "3  ENTERTAINMENT   \n",
       "4  ENTERTAINMENT   \n",
       "\n",
       "                                                                      headline  \\\n",
       "0  There Were 2 Mass Shootings In Texas Last Week, But Only 1 On TV              \n",
       "1  Will Smith Joins Diplo And Nicky Jam For The 2018 World Cup's Official Song   \n",
       "2  Hugh Grant Marries For The First Time At Age 57                               \n",
       "3  Jim Carrey Blasts 'Castrato' Adam Schiff And Democrats In New Artwork         \n",
       "4  Julianna Margulies Uses Donald Trump Poop Bags To Pick Up After Her Dog       \n",
       "\n",
       "           authors  \\\n",
       "0  Melissa Jeltsen   \n",
       "1  Andy McDonald     \n",
       "2  Ron Dicker        \n",
       "3  Ron Dicker        \n",
       "4  Ron Dicker        \n",
       "\n",
       "                                                                                                                                         link  \\\n",
       "0  https://www.huffingtonpost.com/entry/texas-amanda-painter-mass-shooting_us_5b081ab4e4b0802d69caad89                                          \n",
       "1  https://www.huffingtonpost.com/entry/will-smith-joins-diplo-and-nicky-jam-for-the-official-2018-world-cup-song_us_5b09726fe4b0fdb2aa541201   \n",
       "2  https://www.huffingtonpost.com/entry/hugh-grant-marries_us_5b09212ce4b0568a880b9a8c                                                          \n",
       "3  https://www.huffingtonpost.com/entry/jim-carrey-adam-schiff-democrats_us_5b0950e8e4b0fdb2aa53e675                                            \n",
       "4  https://www.huffingtonpost.com/entry/julianna-margulies-trump-poop-bag_us_5b093ec2e4b0fdb2aa53df70                                           \n",
       "\n",
       "                                                                         short_description  \\\n",
       "0  She left her husband. He killed their children. Just another day in America.              \n",
       "1  Of course it has a song.                                                                  \n",
       "2  The actor and his longtime girlfriend Anna Eberstein tied the knot in a civil ceremony.   \n",
       "3  The actor gives Dems an ass-kicking for not fighting hard enough against Donald Trump.    \n",
       "4  The \"Dietland\" actress said using the bags is a \"really cathartic, therapeutic moment.\"   \n",
       "\n",
       "        date  \n",
       "0 2018-05-26  \n",
       "1 2018-05-26  \n",
       "2 2018-05-26  \n",
       "3 2018-05-26  \n",
       "4 2018-05-26  "
      ]
     },
     "execution_count": 92,
     "metadata": {},
     "output_type": "execute_result"
    }
   ],
   "source": [
    "# load data\n",
    "df = pd.read_json('resources/News_Category_Dataset_v2.json', lines=True)\n",
    "df.head()"
   ]
  },
  {
   "cell_type": "code",
   "execution_count": 93,
   "metadata": {},
   "outputs": [],
   "source": [
    "df = df.drop_duplicates(subset='short_description', keep='last')"
   ]
  },
  {
   "cell_type": "code",
   "execution_count": 94,
   "metadata": {},
   "outputs": [],
   "source": [
    "df=df.reset_index()"
   ]
  },
  {
   "cell_type": "code",
   "execution_count": 95,
   "metadata": {},
   "outputs": [],
   "source": [
    "import re\n",
    "import string\n",
    "\n",
    "def clean_text_round(text):\n",
    "    \n",
    "    text = text.lower()\n",
    "    text = re.sub('\\[.*?\\]', '',text)\n",
    "    text = re.sub('[%s]' % re.escape(string.punctuation), '', text)\n",
    "    text = re.sub('\\w*\\d\\w*', '', text)\n",
    "    text = re.sub('[''\"\"...]','',text)\n",
    "    text = re.sub('\\n','',text)\n",
    "    text = re.sub('\\d+', '', text)\n",
    "    text = re.sub('[^\\w\\s]','', text)  # remove punctuation \n",
    "    \n",
    "    return text\n",
    "\n",
    "get_cleaning = lambda x: clean_text_round(x)\n",
    "df.short_description = pd.DataFrame(df.short_description.apply(get_cleaning))\n",
    "df.short_description = df.short_description.str.replace('\\d+', '') # remove numbers"
   ]
  },
  {
   "cell_type": "code",
   "execution_count": 96,
   "metadata": {
    "scrolled": true
   },
   "outputs": [],
   "source": [
    "import gensim\n",
    "from gensim.parsing.preprocessing import remove_stopwords\n",
    "from gensim.models import Word2Vec\n",
    "from sklearn.manifold import TSNE\n",
    "import matplotlib.pyplot as plt"
   ]
  },
  {
   "cell_type": "code",
   "execution_count": 97,
   "metadata": {},
   "outputs": [],
   "source": [
    "df['short_description'] = df['short_description'].apply(lambda x: gensim.parsing.preprocessing.remove_stopwords(x))\n"
   ]
  },
  {
   "cell_type": "code",
   "execution_count": 139,
   "metadata": {},
   "outputs": [
    {
     "data": {
      "text/plain": [
       "'actor longtime girlfriend anna eberstein tied knot civil ceremony'"
      ]
     },
     "execution_count": 139,
     "metadata": {},
     "output_type": "execute_result"
    }
   ],
   "source": [
    "df.short_description[2]"
   ]
  },
  {
   "cell_type": "code",
   "execution_count": 140,
   "metadata": {},
   "outputs": [],
   "source": [
    "remove_words = ['i', 'your', 'you', 'on', 'with', 'and', 'have', 'the', 'to', 'in', 'for', 'that', 'had', 'be', 'a', 'year'\n",
    "               'it', 'may', 'one', 'as', 'if', 'is', 'via', 'this', 'will', 'david', 'jenni', 'im', 'susan', 'it', 'up',\n",
    "               'angelica', 'hi', 'hello', 'we', 'our', 'all', 'kelli', 'yes', 'gavin', 'our', 'were', 'of', 'can', 'at',\n",
    "               'any', 'by', 'also', 'joe', 'ronnie', 'morning', 'evening', 'good', 'what', 'okay', 'ok', 'are', 'us', 'my',\n",
    "               'th', 'st', 'nd', 'rd', 'was', 'there', 'then', 'lee', 'out', 'or', 'so','alan', 'from','unfortunately',\n",
    "               'alason', 'but', 'youre', 'does', 'heres', 'little', 'more', 'set', 'br', 'dr', 'ave', 'here', 'about', 'an',\n",
    "               'let', 'know', 'than', 'then', 'no', 'why', 'way', 'every', 'thats', 'taken', 'today', 'way', 'id', 'isnt', \n",
    "               'only', 'bay', 'me', 'when', 'want', 'end', 'month', 'do', 'til', 'get', 'back', 'thanks', 'bonnie', 'woodal',\n",
    "               'off', 'drive', 'michell','and', 'he','she', 'her','just']"
   ]
  },
  {
   "cell_type": "code",
   "execution_count": 141,
   "metadata": {},
   "outputs": [],
   "source": [
    "def apply_remove_words_to_texts():\n",
    "    pat = r'\\b(?:{})\\b'.format('|'.join(remove_words))\n",
    "    df[\"short_description_new\"] = df['short_description'].str.replace(pat, '')\n",
    "    df[\"short_description_new\"] = df['short_description_new'].str.strip()\n",
    "    return df"
   ]
  },
  {
   "cell_type": "code",
   "execution_count": 142,
   "metadata": {},
   "outputs": [],
   "source": [
    "df = apply_remove_words_to_texts()"
   ]
  },
  {
   "cell_type": "code",
   "execution_count": 143,
   "metadata": {
    "scrolled": true
   },
   "outputs": [
    {
     "data": {
      "text/html": [
       "<div>\n",
       "<style scoped>\n",
       "    .dataframe tbody tr th:only-of-type {\n",
       "        vertical-align: middle;\n",
       "    }\n",
       "\n",
       "    .dataframe tbody tr th {\n",
       "        vertical-align: top;\n",
       "    }\n",
       "\n",
       "    .dataframe thead th {\n",
       "        text-align: right;\n",
       "    }\n",
       "</style>\n",
       "<table border=\"1\" class=\"dataframe\">\n",
       "  <thead>\n",
       "    <tr style=\"text-align: right;\">\n",
       "      <th></th>\n",
       "      <th>index</th>\n",
       "      <th>category</th>\n",
       "      <th>headline</th>\n",
       "      <th>authors</th>\n",
       "      <th>link</th>\n",
       "      <th>short_description</th>\n",
       "      <th>date</th>\n",
       "      <th>label</th>\n",
       "      <th>short_description_new</th>\n",
       "    </tr>\n",
       "  </thead>\n",
       "  <tbody>\n",
       "    <tr>\n",
       "      <th>0</th>\n",
       "      <td>0</td>\n",
       "      <td>CRIME</td>\n",
       "      <td>There Were 2 Mass Shootings In Texas Last Week, But Only 1 On TV</td>\n",
       "      <td>Melissa Jeltsen</td>\n",
       "      <td>https://www.huffingtonpost.com/entry/texas-amanda-painter-mass-shooting_us_5b081ab4e4b0802d69caad89</td>\n",
       "      <td>left husband killed children day america</td>\n",
       "      <td>2018-05-26</td>\n",
       "      <td>Negative</td>\n",
       "      <td>left husband killed children day america</td>\n",
       "    </tr>\n",
       "    <tr>\n",
       "      <th>1</th>\n",
       "      <td>1</td>\n",
       "      <td>ENTERTAINMENT</td>\n",
       "      <td>Will Smith Joins Diplo And Nicky Jam For The 2018 World Cup's Official Song</td>\n",
       "      <td>Andy McDonald</td>\n",
       "      <td>https://www.huffingtonpost.com/entry/will-smith-joins-diplo-and-nicky-jam-for-the-official-2018-world-cup-song_us_5b09726fe4b0fdb2aa541201</td>\n",
       "      <td>course song</td>\n",
       "      <td>2018-05-26</td>\n",
       "      <td>Neutral</td>\n",
       "      <td>course song</td>\n",
       "    </tr>\n",
       "    <tr>\n",
       "      <th>2</th>\n",
       "      <td>2</td>\n",
       "      <td>ENTERTAINMENT</td>\n",
       "      <td>Hugh Grant Marries For The First Time At Age 57</td>\n",
       "      <td>Ron Dicker</td>\n",
       "      <td>https://www.huffingtonpost.com/entry/hugh-grant-marries_us_5b09212ce4b0568a880b9a8c</td>\n",
       "      <td>actor longtime girlfriend anna eberstein tied knot civil ceremony</td>\n",
       "      <td>2018-05-26</td>\n",
       "      <td>Neutral</td>\n",
       "      <td>actor longtime girlfriend anna eberstein tied knot civil ceremony</td>\n",
       "    </tr>\n",
       "    <tr>\n",
       "      <th>3</th>\n",
       "      <td>3</td>\n",
       "      <td>ENTERTAINMENT</td>\n",
       "      <td>Jim Carrey Blasts 'Castrato' Adam Schiff And Democrats In New Artwork</td>\n",
       "      <td>Ron Dicker</td>\n",
       "      <td>https://www.huffingtonpost.com/entry/jim-carrey-adam-schiff-democrats_us_5b0950e8e4b0fdb2aa53e675</td>\n",
       "      <td>actor gives dems asskicking fighting hard donald trump</td>\n",
       "      <td>2018-05-26</td>\n",
       "      <td>Negative</td>\n",
       "      <td>actor gives dems asskicking fighting hard donald trump</td>\n",
       "    </tr>\n",
       "    <tr>\n",
       "      <th>4</th>\n",
       "      <td>4</td>\n",
       "      <td>ENTERTAINMENT</td>\n",
       "      <td>Julianna Margulies Uses Donald Trump Poop Bags To Pick Up After Her Dog</td>\n",
       "      <td>Ron Dicker</td>\n",
       "      <td>https://www.huffingtonpost.com/entry/julianna-margulies-trump-poop-bag_us_5b093ec2e4b0fdb2aa53df70</td>\n",
       "      <td>dietland actress said bags cathartic therapeutic moment</td>\n",
       "      <td>2018-05-26</td>\n",
       "      <td>Neutral</td>\n",
       "      <td>dietland actress said bags cathartic therapeutic moment</td>\n",
       "    </tr>\n",
       "  </tbody>\n",
       "</table>\n",
       "</div>"
      ],
      "text/plain": [
       "   index       category  \\\n",
       "0  0      CRIME           \n",
       "1  1      ENTERTAINMENT   \n",
       "2  2      ENTERTAINMENT   \n",
       "3  3      ENTERTAINMENT   \n",
       "4  4      ENTERTAINMENT   \n",
       "\n",
       "                                                                      headline  \\\n",
       "0  There Were 2 Mass Shootings In Texas Last Week, But Only 1 On TV              \n",
       "1  Will Smith Joins Diplo And Nicky Jam For The 2018 World Cup's Official Song   \n",
       "2  Hugh Grant Marries For The First Time At Age 57                               \n",
       "3  Jim Carrey Blasts 'Castrato' Adam Schiff And Democrats In New Artwork         \n",
       "4  Julianna Margulies Uses Donald Trump Poop Bags To Pick Up After Her Dog       \n",
       "\n",
       "           authors  \\\n",
       "0  Melissa Jeltsen   \n",
       "1  Andy McDonald     \n",
       "2  Ron Dicker        \n",
       "3  Ron Dicker        \n",
       "4  Ron Dicker        \n",
       "\n",
       "                                                                                                                                         link  \\\n",
       "0  https://www.huffingtonpost.com/entry/texas-amanda-painter-mass-shooting_us_5b081ab4e4b0802d69caad89                                          \n",
       "1  https://www.huffingtonpost.com/entry/will-smith-joins-diplo-and-nicky-jam-for-the-official-2018-world-cup-song_us_5b09726fe4b0fdb2aa541201   \n",
       "2  https://www.huffingtonpost.com/entry/hugh-grant-marries_us_5b09212ce4b0568a880b9a8c                                                          \n",
       "3  https://www.huffingtonpost.com/entry/jim-carrey-adam-schiff-democrats_us_5b0950e8e4b0fdb2aa53e675                                            \n",
       "4  https://www.huffingtonpost.com/entry/julianna-margulies-trump-poop-bag_us_5b093ec2e4b0fdb2aa53df70                                           \n",
       "\n",
       "                                                   short_description  \\\n",
       "0  left husband killed children day america                            \n",
       "1  course song                                                         \n",
       "2  actor longtime girlfriend anna eberstein tied knot civil ceremony   \n",
       "3  actor gives dems asskicking fighting hard donald trump              \n",
       "4  dietland actress said bags cathartic therapeutic moment             \n",
       "\n",
       "        date     label  \\\n",
       "0 2018-05-26  Negative   \n",
       "1 2018-05-26  Neutral    \n",
       "2 2018-05-26  Neutral    \n",
       "3 2018-05-26  Negative   \n",
       "4 2018-05-26  Neutral    \n",
       "\n",
       "                                               short_description_new  \n",
       "0  left husband killed children day america                           \n",
       "1  course song                                                        \n",
       "2  actor longtime girlfriend anna eberstein tied knot civil ceremony  \n",
       "3  actor gives dems asskicking fighting hard donald trump             \n",
       "4  dietland actress said bags cathartic therapeutic moment            "
      ]
     },
     "execution_count": 143,
     "metadata": {},
     "output_type": "execute_result"
    }
   ],
   "source": [
    "df.head()"
   ]
  },
  {
   "cell_type": "code",
   "execution_count": 144,
   "metadata": {},
   "outputs": [],
   "source": [
    "from vaderSentiment.vaderSentiment import SentimentIntensityAnalyzer"
   ]
  },
  {
   "cell_type": "code",
   "execution_count": 155,
   "metadata": {},
   "outputs": [],
   "source": [
    "analyzer = SentimentIntensityAnalyzer()\n",
    "overall_sentiment = []\n",
    "\n",
    "for art in df['short_description_new']:\n",
    "    sentiment_dict=analyzer.polarity_scores(art)\n",
    "    #print(\"Overall sentiment dictionary is : \", sentiment_dict) \n",
    "    #print(\"sentence was rated as \", sentiment_dict['neg']*100, \"% Negative\") \n",
    "    #print(\"sentence was rated as \", sentiment_dict['neu']*100, \"% Neutral\") \n",
    "    #print(\"sentence was rated as \", sentiment_dict['pos']*100, \"% Positive\") \n",
    "    #print(\"Sentence Overall Rated As\", end = \" \")  \n",
    "    if sentiment_dict['compound'] >= 0.05 : \n",
    "        overall_sentiment.append(\"Positive\")\n",
    "    elif sentiment_dict['compound'] <= - 0.05 : \n",
    "        overall_sentiment.append(\"Negative\")\n",
    "    else : \n",
    "        overall_sentiment.append(\"Neutral\")\n",
    "        \n",
    "df['label'] = overall_sentiment"
   ]
  },
  {
   "cell_type": "code",
   "execution_count": 156,
   "metadata": {},
   "outputs": [
    {
     "data": {
      "text/html": [
       "<div>\n",
       "<style scoped>\n",
       "    .dataframe tbody tr th:only-of-type {\n",
       "        vertical-align: middle;\n",
       "    }\n",
       "\n",
       "    .dataframe tbody tr th {\n",
       "        vertical-align: top;\n",
       "    }\n",
       "\n",
       "    .dataframe thead th {\n",
       "        text-align: right;\n",
       "    }\n",
       "</style>\n",
       "<table border=\"1\" class=\"dataframe\">\n",
       "  <thead>\n",
       "    <tr style=\"text-align: right;\">\n",
       "      <th></th>\n",
       "      <th>index</th>\n",
       "      <th>category</th>\n",
       "      <th>headline</th>\n",
       "      <th>authors</th>\n",
       "      <th>link</th>\n",
       "      <th>short_description</th>\n",
       "      <th>date</th>\n",
       "      <th>label</th>\n",
       "      <th>short_description_new</th>\n",
       "    </tr>\n",
       "  </thead>\n",
       "  <tbody>\n",
       "    <tr>\n",
       "      <th>0</th>\n",
       "      <td>0</td>\n",
       "      <td>CRIME</td>\n",
       "      <td>There Were 2 Mass Shootings In Texas Last Week, But Only 1 On TV</td>\n",
       "      <td>Melissa Jeltsen</td>\n",
       "      <td>https://www.huffingtonpost.com/entry/texas-amanda-painter-mass-shooting_us_5b081ab4e4b0802d69caad89</td>\n",
       "      <td>left husband killed children day america</td>\n",
       "      <td>2018-05-26</td>\n",
       "      <td>Negative</td>\n",
       "      <td>left husband killed children day america</td>\n",
       "    </tr>\n",
       "    <tr>\n",
       "      <th>1</th>\n",
       "      <td>1</td>\n",
       "      <td>ENTERTAINMENT</td>\n",
       "      <td>Will Smith Joins Diplo And Nicky Jam For The 2018 World Cup's Official Song</td>\n",
       "      <td>Andy McDonald</td>\n",
       "      <td>https://www.huffingtonpost.com/entry/will-smith-joins-diplo-and-nicky-jam-for-the-official-2018-world-cup-song_us_5b09726fe4b0fdb2aa541201</td>\n",
       "      <td>course song</td>\n",
       "      <td>2018-05-26</td>\n",
       "      <td>Neutral</td>\n",
       "      <td>course song</td>\n",
       "    </tr>\n",
       "    <tr>\n",
       "      <th>2</th>\n",
       "      <td>2</td>\n",
       "      <td>ENTERTAINMENT</td>\n",
       "      <td>Hugh Grant Marries For The First Time At Age 57</td>\n",
       "      <td>Ron Dicker</td>\n",
       "      <td>https://www.huffingtonpost.com/entry/hugh-grant-marries_us_5b09212ce4b0568a880b9a8c</td>\n",
       "      <td>actor longtime girlfriend anna eberstein tied knot civil ceremony</td>\n",
       "      <td>2018-05-26</td>\n",
       "      <td>Neutral</td>\n",
       "      <td>actor longtime girlfriend anna eberstein tied knot civil ceremony</td>\n",
       "    </tr>\n",
       "    <tr>\n",
       "      <th>3</th>\n",
       "      <td>3</td>\n",
       "      <td>ENTERTAINMENT</td>\n",
       "      <td>Jim Carrey Blasts 'Castrato' Adam Schiff And Democrats In New Artwork</td>\n",
       "      <td>Ron Dicker</td>\n",
       "      <td>https://www.huffingtonpost.com/entry/jim-carrey-adam-schiff-democrats_us_5b0950e8e4b0fdb2aa53e675</td>\n",
       "      <td>actor gives dems asskicking fighting hard donald trump</td>\n",
       "      <td>2018-05-26</td>\n",
       "      <td>Negative</td>\n",
       "      <td>actor gives dems asskicking fighting hard donald trump</td>\n",
       "    </tr>\n",
       "    <tr>\n",
       "      <th>4</th>\n",
       "      <td>4</td>\n",
       "      <td>ENTERTAINMENT</td>\n",
       "      <td>Julianna Margulies Uses Donald Trump Poop Bags To Pick Up After Her Dog</td>\n",
       "      <td>Ron Dicker</td>\n",
       "      <td>https://www.huffingtonpost.com/entry/julianna-margulies-trump-poop-bag_us_5b093ec2e4b0fdb2aa53df70</td>\n",
       "      <td>dietland actress said bags cathartic therapeutic moment</td>\n",
       "      <td>2018-05-26</td>\n",
       "      <td>Neutral</td>\n",
       "      <td>dietland actress said bags cathartic therapeutic moment</td>\n",
       "    </tr>\n",
       "  </tbody>\n",
       "</table>\n",
       "</div>"
      ],
      "text/plain": [
       "   index       category  \\\n",
       "0  0      CRIME           \n",
       "1  1      ENTERTAINMENT   \n",
       "2  2      ENTERTAINMENT   \n",
       "3  3      ENTERTAINMENT   \n",
       "4  4      ENTERTAINMENT   \n",
       "\n",
       "                                                                      headline  \\\n",
       "0  There Were 2 Mass Shootings In Texas Last Week, But Only 1 On TV              \n",
       "1  Will Smith Joins Diplo And Nicky Jam For The 2018 World Cup's Official Song   \n",
       "2  Hugh Grant Marries For The First Time At Age 57                               \n",
       "3  Jim Carrey Blasts 'Castrato' Adam Schiff And Democrats In New Artwork         \n",
       "4  Julianna Margulies Uses Donald Trump Poop Bags To Pick Up After Her Dog       \n",
       "\n",
       "           authors  \\\n",
       "0  Melissa Jeltsen   \n",
       "1  Andy McDonald     \n",
       "2  Ron Dicker        \n",
       "3  Ron Dicker        \n",
       "4  Ron Dicker        \n",
       "\n",
       "                                                                                                                                         link  \\\n",
       "0  https://www.huffingtonpost.com/entry/texas-amanda-painter-mass-shooting_us_5b081ab4e4b0802d69caad89                                          \n",
       "1  https://www.huffingtonpost.com/entry/will-smith-joins-diplo-and-nicky-jam-for-the-official-2018-world-cup-song_us_5b09726fe4b0fdb2aa541201   \n",
       "2  https://www.huffingtonpost.com/entry/hugh-grant-marries_us_5b09212ce4b0568a880b9a8c                                                          \n",
       "3  https://www.huffingtonpost.com/entry/jim-carrey-adam-schiff-democrats_us_5b0950e8e4b0fdb2aa53e675                                            \n",
       "4  https://www.huffingtonpost.com/entry/julianna-margulies-trump-poop-bag_us_5b093ec2e4b0fdb2aa53df70                                           \n",
       "\n",
       "                                                   short_description  \\\n",
       "0  left husband killed children day america                            \n",
       "1  course song                                                         \n",
       "2  actor longtime girlfriend anna eberstein tied knot civil ceremony   \n",
       "3  actor gives dems asskicking fighting hard donald trump              \n",
       "4  dietland actress said bags cathartic therapeutic moment             \n",
       "\n",
       "        date     label  \\\n",
       "0 2018-05-26  Negative   \n",
       "1 2018-05-26  Neutral    \n",
       "2 2018-05-26  Neutral    \n",
       "3 2018-05-26  Negative   \n",
       "4 2018-05-26  Neutral    \n",
       "\n",
       "                                               short_description_new  \n",
       "0  left husband killed children day america                           \n",
       "1  course song                                                        \n",
       "2  actor longtime girlfriend anna eberstein tied knot civil ceremony  \n",
       "3  actor gives dems asskicking fighting hard donald trump             \n",
       "4  dietland actress said bags cathartic therapeutic moment            "
      ]
     },
     "execution_count": 156,
     "metadata": {},
     "output_type": "execute_result"
    }
   ],
   "source": [
    "df.head()"
   ]
  },
  {
   "cell_type": "code",
   "execution_count": 157,
   "metadata": {
    "ExecuteTime": {
     "end_time": "2020-07-11T03:36:01.522222Z",
     "start_time": "2020-07-11T03:36:01.446218Z"
    }
   },
   "outputs": [
    {
     "data": {
      "text/plain": [
       "POLITICS          29106\n",
       "WELLNESS          17549\n",
       "ENTERTAINMENT     13251\n",
       "TRAVEL            9375 \n",
       "STYLE & BEAUTY    9152 \n",
       "PARENTING         8624 \n",
       "FOOD & DRINK      6206 \n",
       "QUEER VOICES      5405 \n",
       "HEALTHY LIVING    5197 \n",
       "BUSINESS          5060 \n",
       "COMEDY            4361 \n",
       "SPORTS            4186 \n",
       "BLACK VOICES      4064 \n",
       "HOME & LIVING     4023 \n",
       "THE WORLDPOST     3657 \n",
       "WEDDINGS          3645 \n",
       "PARENTS           3433 \n",
       "DIVORCE           3401 \n",
       "IMPACT            3050 \n",
       "WOMEN             3023 \n",
       "CRIME             2671 \n",
       "MEDIA             2259 \n",
       "WORLD NEWS        2169 \n",
       "WEIRD NEWS        2152 \n",
       "GREEN             2034 \n",
       "TECH              1990 \n",
       "TASTE             1904 \n",
       "RELIGION          1779 \n",
       "SCIENCE           1763 \n",
       "MONEY             1706 \n",
       "STYLE             1500 \n",
       "ARTS & CULTURE    1321 \n",
       "ENVIRONMENT       1317 \n",
       "WORLDPOST         1242 \n",
       "FIFTY             1042 \n",
       "GOOD NEWS         1027 \n",
       "LATINO VOICES     1018 \n",
       "CULTURE & ARTS    1016 \n",
       "COLLEGE           921  \n",
       "EDUCATION         891  \n",
       "ARTS              863  \n",
       "Name: category, dtype: int64"
      ]
     },
     "execution_count": 157,
     "metadata": {},
     "output_type": "execute_result"
    }
   ],
   "source": [
    "df['category'].value_counts()"
   ]
  },
  {
   "cell_type": "markdown",
   "metadata": {},
   "source": [
    "News API categories\n",
    "* business\n",
    "* entertainment\n",
    "* general\n",
    "* health\n",
    "* science\n",
    "* sports\n",
    "* technology"
   ]
  },
  {
   "cell_type": "code",
   "execution_count": 158,
   "metadata": {
    "ExecuteTime": {
     "end_time": "2020-07-11T03:36:01.538217Z",
     "start_time": "2020-07-11T03:36:01.525219Z"
    }
   },
   "outputs": [],
   "source": [
    "business =['BUSINESS','MONEY']\n",
    "entertainment=['ENTERTAINMENT','ARTS','COMEDY','ARTS & CULTURE','CULTURE & ARTS','MEDIA']\n",
    "health=['HEALTH','WELLNESS','HEALTHY LIVING']\n",
    "science=['SCIENCE']\n",
    "sports=['SPORTS']\n",
    "technology = ['tech']"
   ]
  },
  {
   "cell_type": "code",
   "execution_count": 159,
   "metadata": {
    "ExecuteTime": {
     "end_time": "2020-07-11T03:36:01.599727Z",
     "start_time": "2020-07-11T03:36:01.540219Z"
    }
   },
   "outputs": [
    {
     "data": {
      "text/plain": [
       "(6766, 9)"
      ]
     },
     "execution_count": 159,
     "metadata": {},
     "output_type": "execute_result"
    }
   ],
   "source": [
    "condition = df['category'].isin(business)\n",
    "businessDF = df[condition]\n",
    "businessDF.shape"
   ]
  },
  {
   "cell_type": "code",
   "execution_count": 160,
   "metadata": {},
   "outputs": [],
   "source": [
    "from sklearn.model_selection import train_test_split\n",
    "\n",
    "trainData, testData = train_test_split(businessDF, test_size=0.3)"
   ]
  },
  {
   "cell_type": "code",
   "execution_count": 161,
   "metadata": {},
   "outputs": [
    {
     "data": {
      "text/plain": [
       "6766"
      ]
     },
     "execution_count": 161,
     "metadata": {},
     "output_type": "execute_result"
    }
   ],
   "source": [
    "len(businessDF)"
   ]
  },
  {
   "cell_type": "code",
   "execution_count": 162,
   "metadata": {},
   "outputs": [
    {
     "data": {
      "text/plain": [
       "4736"
      ]
     },
     "execution_count": 162,
     "metadata": {},
     "output_type": "execute_result"
    }
   ],
   "source": [
    "len(trainData)"
   ]
  },
  {
   "cell_type": "code",
   "execution_count": 163,
   "metadata": {},
   "outputs": [
    {
     "data": {
      "text/plain": [
       "2030"
      ]
     },
     "execution_count": 163,
     "metadata": {},
     "output_type": "execute_result"
    }
   ],
   "source": [
    "len(testData)"
   ]
  },
  {
   "cell_type": "code",
   "execution_count": 164,
   "metadata": {},
   "outputs": [
    {
     "data": {
      "text/html": [
       "<div>\n",
       "<style scoped>\n",
       "    .dataframe tbody tr th:only-of-type {\n",
       "        vertical-align: middle;\n",
       "    }\n",
       "\n",
       "    .dataframe tbody tr th {\n",
       "        vertical-align: top;\n",
       "    }\n",
       "\n",
       "    .dataframe thead th {\n",
       "        text-align: right;\n",
       "    }\n",
       "</style>\n",
       "<table border=\"1\" class=\"dataframe\">\n",
       "  <thead>\n",
       "    <tr style=\"text-align: right;\">\n",
       "      <th></th>\n",
       "      <th>index</th>\n",
       "      <th>category</th>\n",
       "      <th>headline</th>\n",
       "      <th>authors</th>\n",
       "      <th>link</th>\n",
       "      <th>short_description</th>\n",
       "      <th>date</th>\n",
       "      <th>label</th>\n",
       "      <th>short_description_new</th>\n",
       "    </tr>\n",
       "  </thead>\n",
       "  <tbody>\n",
       "    <tr>\n",
       "      <th>91473</th>\n",
       "      <td>99910</td>\n",
       "      <td>BUSINESS</td>\n",
       "      <td>Women in Business Q&amp;A: Jan Jones Blackhurst, EVP of Communications, Gov Relations and Corporate Responsibility, Caesars Entertainment</td>\n",
       "      <td>Laura Dunn, ContributorSocial Media and Communications Professional, Founder and Edit...</td>\n",
       "      <td>https://www.huffingtonpost.com/entry/women-in-business-qa-jan_b_6588414.html</td>\n",
       "      <td>jan jones blackhurst executive vice president communications government relations corporate responsibility caesars entertainment capacity oversees worldwide government affairs corporate communications community relations corporatesocial responsibility programs entire company</td>\n",
       "      <td>2015-02-01</td>\n",
       "      <td>Positive</td>\n",
       "      <td>jan jones blackhurst executive vice president communications government relations corporate responsibility caesars entertainment capacity oversees worldwide government affairs corporate communications community relations corporatesocial responsibility programs entire company</td>\n",
       "    </tr>\n",
       "    <tr>\n",
       "      <th>173161</th>\n",
       "      <td>195580</td>\n",
       "      <td>BUSINESS</td>\n",
       "      <td>Rich Won't Move Even If State Raises Income Taxes: Report</td>\n",
       "      <td>Bonnie Kavoussi</td>\n",
       "      <td>https://www.huffingtonpost.com/entry/taxing-the-rich_us_5bb2baeee4b0480ca65ac0d6</td>\n",
       "      <td>maybe states need rush fast everfamous race state tax increases little</td>\n",
       "      <td>2012-03-25</td>\n",
       "      <td>Neutral</td>\n",
       "      <td>maybe states need rush fast everfamous race state tax increases</td>\n",
       "    </tr>\n",
       "    <tr>\n",
       "      <th>77581</th>\n",
       "      <td>80175</td>\n",
       "      <td>BUSINESS</td>\n",
       "      <td>Men Educated At Ivy League Schools Vastly Outearn Female Classmates</td>\n",
       "      <td>Emily Peck</td>\n",
       "      <td>https://www.huffingtonpost.com/entry/ivy-league-income-gap-by-gender_us_55f860c0e4b00e2cd5e82ae2</td>\n",
       "      <td>lot choice major oh sexism</td>\n",
       "      <td>2015-09-15</td>\n",
       "      <td>Neutral</td>\n",
       "      <td>lot choice major oh sexism</td>\n",
       "    </tr>\n",
       "    <tr>\n",
       "      <th>94556</th>\n",
       "      <td>105765</td>\n",
       "      <td>BUSINESS</td>\n",
       "      <td>Economic History and Thanksgiving</td>\n",
       "      <td>Kevin Price, ContributorPublisher and Editor in Chief, US Daily Review</td>\n",
       "      <td>https://www.huffingtonpost.com/entry/economic-history-and-than_b_6209386.html</td>\n",
       "      <td>thanksgiving certainly favorite holidays adult children christmas lost charm things enjoyable getting fat watching holiday specials especially important football games</td>\n",
       "      <td>2014-11-25</td>\n",
       "      <td>Positive</td>\n",
       "      <td>thanksgiving certainly favorite holidays adult children christmas lost charm things enjoyable getting fat watching holiday specials especially important football games</td>\n",
       "    </tr>\n",
       "    <tr>\n",
       "      <th>8552</th>\n",
       "      <td>8657</td>\n",
       "      <td>BUSINESS</td>\n",
       "      <td>Apple Apologizes For Slowed iPhones, Drops Price Of Battery Replacements</td>\n",
       "      <td>Carla Herreria</td>\n",
       "      <td>https://www.huffingtonpost.com/entry/apple-apologizes-for-slowing-iphones_us_5a457c1de4b06d1621b7dea9</td>\n",
       "      <td>company dropped battery prices customers arent satisfied</td>\n",
       "      <td>2017-12-29</td>\n",
       "      <td>Negative</td>\n",
       "      <td>company dropped battery prices customers arent satisfied</td>\n",
       "    </tr>\n",
       "  </tbody>\n",
       "</table>\n",
       "</div>"
      ],
      "text/plain": [
       "         index  category  \\\n",
       "91473   99910   BUSINESS   \n",
       "173161  195580  BUSINESS   \n",
       "77581   80175   BUSINESS   \n",
       "94556   105765  BUSINESS   \n",
       "8552    8657    BUSINESS   \n",
       "\n",
       "                                                                                                                                     headline  \\\n",
       "91473   Women in Business Q&A: Jan Jones Blackhurst, EVP of Communications, Gov Relations and Corporate Responsibility, Caesars Entertainment   \n",
       "173161  Rich Won't Move Even If State Raises Income Taxes: Report                                                                               \n",
       "77581   Men Educated At Ivy League Schools Vastly Outearn Female Classmates                                                                     \n",
       "94556   Economic History and Thanksgiving                                                                                                       \n",
       "8552    Apple Apologizes For Slowed iPhones, Drops Price Of Battery Replacements                                                                \n",
       "\n",
       "                                                                                         authors  \\\n",
       "91473   Laura Dunn, ContributorSocial Media and Communications Professional, Founder and Edit...   \n",
       "173161  Bonnie Kavoussi                                                                            \n",
       "77581   Emily Peck                                                                                 \n",
       "94556   Kevin Price, ContributorPublisher and Editor in Chief, US Daily Review                     \n",
       "8552    Carla Herreria                                                                             \n",
       "\n",
       "                                                                                                         link  \\\n",
       "91473   https://www.huffingtonpost.com/entry/women-in-business-qa-jan_b_6588414.html                            \n",
       "173161  https://www.huffingtonpost.com/entry/taxing-the-rich_us_5bb2baeee4b0480ca65ac0d6                        \n",
       "77581   https://www.huffingtonpost.com/entry/ivy-league-income-gap-by-gender_us_55f860c0e4b00e2cd5e82ae2        \n",
       "94556   https://www.huffingtonpost.com/entry/economic-history-and-than_b_6209386.html                           \n",
       "8552    https://www.huffingtonpost.com/entry/apple-apologizes-for-slowing-iphones_us_5a457c1de4b06d1621b7dea9   \n",
       "\n",
       "                                                                                                                                                                                                                                                                          short_description  \\\n",
       "91473   jan jones blackhurst executive vice president communications government relations corporate responsibility caesars entertainment capacity oversees worldwide government affairs corporate communications community relations corporatesocial responsibility programs entire company   \n",
       "173161  maybe states need rush fast everfamous race state tax increases little                                                                                                                                                                                                                \n",
       "77581   lot choice major oh sexism                                                                                                                                                                                                                                                            \n",
       "94556   thanksgiving certainly favorite holidays adult children christmas lost charm things enjoyable getting fat watching holiday specials especially important football games                                                                                                               \n",
       "8552    company dropped battery prices customers arent satisfied                                                                                                                                                                                                                              \n",
       "\n",
       "             date     label  \\\n",
       "91473  2015-02-01  Positive   \n",
       "173161 2012-03-25  Neutral    \n",
       "77581  2015-09-15  Neutral    \n",
       "94556  2014-11-25  Positive   \n",
       "8552   2017-12-29  Negative   \n",
       "\n",
       "                                                                                                                                                                                                                                                                      short_description_new  \n",
       "91473   jan jones blackhurst executive vice president communications government relations corporate responsibility caesars entertainment capacity oversees worldwide government affairs corporate communications community relations corporatesocial responsibility programs entire company  \n",
       "173161  maybe states need rush fast everfamous race state tax increases                                                                                                                                                                                                                      \n",
       "77581   lot choice major oh sexism                                                                                                                                                                                                                                                           \n",
       "94556   thanksgiving certainly favorite holidays adult children christmas lost charm things enjoyable getting fat watching holiday specials especially important football games                                                                                                              \n",
       "8552    company dropped battery prices customers arent satisfied                                                                                                                                                                                                                             "
      ]
     },
     "execution_count": 164,
     "metadata": {},
     "output_type": "execute_result"
    }
   ],
   "source": [
    "trainData.head()"
   ]
  },
  {
   "cell_type": "code",
   "execution_count": 165,
   "metadata": {},
   "outputs": [],
   "source": [
    "trainData.to_csv(\"Resources/BusinessTrainData_1.csv\")\n",
    "testData.to_csv(\"Resources/BusinessTestData_1.csv\")"
   ]
  },
  {
   "cell_type": "code",
   "execution_count": 166,
   "metadata": {
    "scrolled": true
   },
   "outputs": [
    {
     "data": {
      "text/html": [
       "<div>\n",
       "<style scoped>\n",
       "    .dataframe tbody tr th:only-of-type {\n",
       "        vertical-align: middle;\n",
       "    }\n",
       "\n",
       "    .dataframe tbody tr th {\n",
       "        vertical-align: top;\n",
       "    }\n",
       "\n",
       "    .dataframe thead th {\n",
       "        text-align: right;\n",
       "    }\n",
       "</style>\n",
       "<table border=\"1\" class=\"dataframe\">\n",
       "  <thead>\n",
       "    <tr style=\"text-align: right;\">\n",
       "      <th></th>\n",
       "      <th>index</th>\n",
       "      <th>category</th>\n",
       "      <th>headline</th>\n",
       "      <th>authors</th>\n",
       "      <th>link</th>\n",
       "      <th>short_description</th>\n",
       "      <th>date</th>\n",
       "      <th>label</th>\n",
       "      <th>short_description_new</th>\n",
       "    </tr>\n",
       "  </thead>\n",
       "  <tbody>\n",
       "    <tr>\n",
       "      <th>87907</th>\n",
       "      <td>93509</td>\n",
       "      <td>BUSINESS</td>\n",
       "      <td>Congress Is Facing Its Last Call to Stand Up for Fair Trade</td>\n",
       "      <td>James P. Hoffa, ContributorGeneral President, International Brotherhood of Teamsters</td>\n",
       "      <td>https://www.huffingtonpost.com/entry/congress-is-facing-its-la_b_7042722.html</td>\n",
       "      <td>complicated trade agreements thousands workers unemployment line hamper nations economy shouldnt elected officials chance review changes lawmakers certainly spent significant time considering frivolous matters recent years</td>\n",
       "      <td>2015-04-16</td>\n",
       "      <td>Positive</td>\n",
       "      <td>complicated trade agreements thousands workers unemployment line hamper nations economy shouldnt elected officials chance review changes lawmakers certainly spent significant time considering frivolous matters recent years</td>\n",
       "    </tr>\n",
       "    <tr>\n",
       "      <th>86593</th>\n",
       "      <td>91286</td>\n",
       "      <td>BUSINESS</td>\n",
       "      <td>5 Ways to be a More Positive Leader</td>\n",
       "      <td>Michelle McQuaid, Contributorbest-selling author, workplace wellbeing teacher and playful c...</td>\n",
       "      <td>https://www.huffingtonpost.com/entry/5-ways-to-be-a-more-posit_b_7254402.html</td>\n",
       "      <td>ceo recently asked wheres roadmap positive leader great question present researchers exploring exactly road map look like</td>\n",
       "      <td>2015-05-11</td>\n",
       "      <td>Positive</td>\n",
       "      <td>ceo recently asked wheres roadmap positive leader great question present researchers exploring exactly road map look like</td>\n",
       "    </tr>\n",
       "    <tr>\n",
       "      <th>151642</th>\n",
       "      <td>173671</td>\n",
       "      <td>MONEY</td>\n",
       "      <td>Best Cash-Back Credit Cards for Holiday Shopping</td>\n",
       "      <td>Jeff Hindenach, Contributor\\nDirector of Content, NextAdvisor.com</td>\n",
       "      <td>https://www.huffingtonpost.com/entry/best-cashback-credit-card_us_5b9c8798e4b03a1dcc7f7e51</td>\n",
       "      <td>cashback credit cards effective holiday season putting bigticket items cashback cards reap nice rewards choose cards carefully cashback credit cards created equally</td>\n",
       "      <td>2012-11-16</td>\n",
       "      <td>Positive</td>\n",
       "      <td>cashback credit cards effective holiday season putting bigticket items cashback cards reap nice rewards choose cards carefully cashback credit cards created equally</td>\n",
       "    </tr>\n",
       "    <tr>\n",
       "      <th>87693</th>\n",
       "      <td>93135</td>\n",
       "      <td>BUSINESS</td>\n",
       "      <td>Does Meerkating Count as Networking?</td>\n",
       "      <td>Vivy Chao, ContributorEducator &amp; Entrepreneur</td>\n",
       "      <td>https://www.huffingtonpost.com/entry/does-meerkating-count-as-_b_7082896.html</td>\n",
       "      <td>thought act networking actually unnatural think person needs attend event knowing attendees act like normal walk complete strangers shake hands begin conversing</td>\n",
       "      <td>2015-04-20</td>\n",
       "      <td>Positive</td>\n",
       "      <td>thought act networking actually unnatural think person needs attend event knowing attendees act like normal walk complete strangers shake hands begin conversing</td>\n",
       "    </tr>\n",
       "    <tr>\n",
       "      <th>82496</th>\n",
       "      <td>85169</td>\n",
       "      <td>BUSINESS</td>\n",
       "      <td>At Zappos, Pushing Shoes and a Vision</td>\n",
       "      <td></td>\n",
       "      <td>https://www.huffingtonpost.comhttp://www.nytimes.com/2015/07/19/business/at-zappos-selling-shoes-and-a-vision.html</td>\n",
       "      <td>sizzling june morning las vegas zapposcom employees sat airconditioned conference room decorated</td>\n",
       "      <td>2015-07-20</td>\n",
       "      <td>Neutral</td>\n",
       "      <td>sizzling june  las vegas zapposcom employees sat airconditioned conference room decorated</td>\n",
       "    </tr>\n",
       "  </tbody>\n",
       "</table>\n",
       "</div>"
      ],
      "text/plain": [
       "         index  category  \\\n",
       "87907   93509   BUSINESS   \n",
       "86593   91286   BUSINESS   \n",
       "151642  173671  MONEY      \n",
       "87693   93135   BUSINESS   \n",
       "82496   85169   BUSINESS   \n",
       "\n",
       "                                                           headline  \\\n",
       "87907   Congress Is Facing Its Last Call to Stand Up for Fair Trade   \n",
       "86593   5 Ways to be a More Positive Leader                           \n",
       "151642  Best Cash-Back Credit Cards for Holiday Shopping              \n",
       "87693   Does Meerkating Count as Networking?                          \n",
       "82496   At Zappos, Pushing Shoes and a Vision                         \n",
       "\n",
       "                                                                                               authors  \\\n",
       "87907   James P. Hoffa, ContributorGeneral President, International Brotherhood of Teamsters             \n",
       "86593   Michelle McQuaid, Contributorbest-selling author, workplace wellbeing teacher and playful c...   \n",
       "151642  Jeff Hindenach, Contributor\\nDirector of Content, NextAdvisor.com                                \n",
       "87693   Vivy Chao, ContributorEducator & Entrepreneur                                                    \n",
       "82496                                                                                                    \n",
       "\n",
       "                                                                                                                      link  \\\n",
       "87907   https://www.huffingtonpost.com/entry/congress-is-facing-its-la_b_7042722.html                                        \n",
       "86593   https://www.huffingtonpost.com/entry/5-ways-to-be-a-more-posit_b_7254402.html                                        \n",
       "151642  https://www.huffingtonpost.com/entry/best-cashback-credit-card_us_5b9c8798e4b03a1dcc7f7e51                           \n",
       "87693   https://www.huffingtonpost.com/entry/does-meerkating-count-as-_b_7082896.html                                        \n",
       "82496   https://www.huffingtonpost.comhttp://www.nytimes.com/2015/07/19/business/at-zappos-selling-shoes-and-a-vision.html   \n",
       "\n",
       "                                                                                                                                                                                                                     short_description  \\\n",
       "87907   complicated trade agreements thousands workers unemployment line hamper nations economy shouldnt elected officials chance review changes lawmakers certainly spent significant time considering frivolous matters recent years   \n",
       "86593   ceo recently asked wheres roadmap positive leader great question present researchers exploring exactly road map look like                                                                                                        \n",
       "151642  cashback credit cards effective holiday season putting bigticket items cashback cards reap nice rewards choose cards carefully cashback credit cards created equally                                                             \n",
       "87693   thought act networking actually unnatural think person needs attend event knowing attendees act like normal walk complete strangers shake hands begin conversing                                                                 \n",
       "82496   sizzling june morning las vegas zapposcom employees sat airconditioned conference room decorated                                                                                                                                 \n",
       "\n",
       "             date     label  \\\n",
       "87907  2015-04-16  Positive   \n",
       "86593  2015-05-11  Positive   \n",
       "151642 2012-11-16  Positive   \n",
       "87693  2015-04-20  Positive   \n",
       "82496  2015-07-20  Neutral    \n",
       "\n",
       "                                                                                                                                                                                                                 short_description_new  \n",
       "87907   complicated trade agreements thousands workers unemployment line hamper nations economy shouldnt elected officials chance review changes lawmakers certainly spent significant time considering frivolous matters recent years  \n",
       "86593   ceo recently asked wheres roadmap positive leader great question present researchers exploring exactly road map look like                                                                                                       \n",
       "151642  cashback credit cards effective holiday season putting bigticket items cashback cards reap nice rewards choose cards carefully cashback credit cards created equally                                                            \n",
       "87693   thought act networking actually unnatural think person needs attend event knowing attendees act like normal walk complete strangers shake hands begin conversing                                                                \n",
       "82496   sizzling june  las vegas zapposcom employees sat airconditioned conference room decorated                                                                                                                                       "
      ]
     },
     "execution_count": 166,
     "metadata": {},
     "output_type": "execute_result"
    }
   ],
   "source": [
    "trainData.sample(frac=1).head(5) # shuffle the df and pick first 5"
   ]
  },
  {
   "cell_type": "markdown",
   "metadata": {},
   "source": [
    "# Vectorizing the Data"
   ]
  },
  {
   "cell_type": "code",
   "execution_count": 167,
   "metadata": {},
   "outputs": [],
   "source": [
    "from sklearn.feature_extraction.text import CountVectorizer,TfidfVectorizer\n",
    "# Create feature vectors\n",
    "vectorizer = TfidfVectorizer(min_df = 5,\n",
    "                             max_df = 0.8,\n",
    "                             sublinear_tf = True,\n",
    "                             use_idf = True)\n",
    "train_vectors = vectorizer.fit_transform(trainData['short_description_new'])\n",
    "test_vectors = vectorizer.transform(testData['short_description_new'])"
   ]
  },
  {
   "cell_type": "code",
   "execution_count": 168,
   "metadata": {},
   "outputs": [
    {
     "data": {
      "text/plain": [
       "<4736x2519 sparse matrix of type '<class 'numpy.float64'>'\n",
       "\twith 41255 stored elements in Compressed Sparse Row format>"
      ]
     },
     "execution_count": 168,
     "metadata": {},
     "output_type": "execute_result"
    }
   ],
   "source": [
    "train_vectors"
   ]
  },
  {
   "cell_type": "code",
   "execution_count": 169,
   "metadata": {},
   "outputs": [
    {
     "data": {
      "text/plain": [
       "<2030x2519 sparse matrix of type '<class 'numpy.float64'>'\n",
       "\twith 16896 stored elements in Compressed Sparse Row format>"
      ]
     },
     "execution_count": 169,
     "metadata": {},
     "output_type": "execute_result"
    }
   ],
   "source": [
    "test_vectors"
   ]
  },
  {
   "cell_type": "markdown",
   "metadata": {},
   "source": [
    "# Creating a Linear SVM Mode"
   ]
  },
  {
   "cell_type": "code",
   "execution_count": 170,
   "metadata": {},
   "outputs": [],
   "source": [
    "import time\n",
    "# from sklearn import svm\n",
    "from sklearn.svm import SVC \n",
    "from sklearn.metrics import classification_report\n",
    "from sklearn.pipeline import Pipeline\n",
    "from sklearn.pipeline import make_pipeline\n",
    "from sklearn import set_config"
   ]
  },
  {
   "cell_type": "code",
   "execution_count": 171,
   "metadata": {},
   "outputs": [
    {
     "data": {
      "text/html": [
       "<style>div.sk-top-container {color: black;background-color: white;}div.sk-toggleable {background-color: white;}label.sk-toggleable__label {cursor: pointer;display: block;width: 100%;margin-bottom: 0;padding: 0.2em 0.3em;box-sizing: border-box;text-align: center;}div.sk-toggleable__content {max-height: 0;max-width: 0;overflow: hidden;text-align: left;background-color: #f0f8ff;}div.sk-toggleable__content pre {margin: 0.2em;color: black;border-radius: 0.25em;background-color: #f0f8ff;}input.sk-toggleable__control:checked~div.sk-toggleable__content {max-height: 200px;max-width: 100%;overflow: auto;}div.sk-estimator input.sk-toggleable__control:checked~label.sk-toggleable__label {background-color: #d4ebff;}div.sk-label input.sk-toggleable__control:checked~label.sk-toggleable__label {background-color: #d4ebff;}input.sk-hidden--visually {border: 0;clip: rect(1px 1px 1px 1px);clip: rect(1px, 1px, 1px, 1px);height: 1px;margin: -1px;overflow: hidden;padding: 0;position: absolute;width: 1px;}div.sk-estimator {font-family: monospace;background-color: #f0f8ff;margin: 0.25em 0.25em;border: 1px dotted black;border-radius: 0.25em;box-sizing: border-box;}div.sk-estimator:hover {background-color: #d4ebff;}div.sk-parallel-item::after {content: \"\";width: 100%;border-bottom: 1px solid gray;flex-grow: 1;}div.sk-label:hover label.sk-toggleable__label {background-color: #d4ebff;}div.sk-serial::before {content: \"\";position: absolute;border-left: 1px solid gray;box-sizing: border-box;top: 2em;bottom: 0;left: 50%;}div.sk-serial {display: flex;flex-direction: column;align-items: center;background-color: white;}div.sk-item {z-index: 1;}div.sk-parallel {display: flex;align-items: stretch;justify-content: center;background-color: white;}div.sk-parallel-item {display: flex;flex-direction: column;position: relative;background-color: white;}div.sk-parallel-item:first-child::after {align-self: flex-end;width: 50%;}div.sk-parallel-item:last-child::after {align-self: flex-start;width: 50%;}div.sk-parallel-item:only-child::after {width: 0;}div.sk-dashed-wrapped {border: 1px dashed gray;margin: 0.2em;box-sizing: border-box;padding-bottom: 0.1em;background-color: white;position: relative;}div.sk-label label {font-family: monospace;font-weight: bold;background-color: white;display: inline-block;line-height: 1.2em;}div.sk-label-container {position: relative;z-index: 2;text-align: center;}div.sk-container {display: inline-block;position: relative;}</style><div class=\"sk-top-container\"><div class=\"sk-container\"><div class=\"sk-item sk-dashed-wrapped\"><div class=\"sk-label-container\"><div class=\"sk-label sk-toggleable\"><input class=\"sk-toggleable__control sk-hidden--visually\" id=\"26ca29d6-ca83-4c80-b14d-19ff72196d69\" type=\"checkbox\" ><label class=\"sk-toggleable__label\" for=\"26ca29d6-ca83-4c80-b14d-19ff72196d69\">Pipeline</label><div class=\"sk-toggleable__content\"><pre>Pipeline(steps=[('classifier', SVC(kernel='linear'))])</pre></div></div></div><div class=\"sk-serial\"><div class=\"sk-item\"><div class=\"sk-estimator sk-toggleable\"><input class=\"sk-toggleable__control sk-hidden--visually\" id=\"57277d81-4694-4673-a16a-425c22ef6846\" type=\"checkbox\" ><label class=\"sk-toggleable__label\" for=\"57277d81-4694-4673-a16a-425c22ef6846\">SVC</label><div class=\"sk-toggleable__content\"><pre>SVC(kernel='linear')</pre></div></div></div></div></div></div></div>"
      ],
      "text/plain": [
       "Pipeline(steps=[('classifier', SVC(kernel='linear'))])"
      ]
     },
     "execution_count": 171,
     "metadata": {},
     "output_type": "execute_result"
    }
   ],
   "source": [
    "# Perform classification with SVM, kernel=linear\n",
    "classifier = SVC(kernel='linear')\n",
    "t0 = time.time()\n",
    "t1 = time.time()\n",
    "t2 = time.time()\n",
    "time_linear_train = t1-t0\n",
    "time_linear_predict = t2-t1\n",
    "set_config(display=\"diagram\")\n",
    "pipe = Pipeline([('classifier', classifier)])\n",
    "pipe"
   ]
  },
  {
   "cell_type": "code",
   "execution_count": 172,
   "metadata": {},
   "outputs": [
    {
     "data": {
      "text/html": [
       "<style>div.sk-top-container {color: black;background-color: white;}div.sk-toggleable {background-color: white;}label.sk-toggleable__label {cursor: pointer;display: block;width: 100%;margin-bottom: 0;padding: 0.2em 0.3em;box-sizing: border-box;text-align: center;}div.sk-toggleable__content {max-height: 0;max-width: 0;overflow: hidden;text-align: left;background-color: #f0f8ff;}div.sk-toggleable__content pre {margin: 0.2em;color: black;border-radius: 0.25em;background-color: #f0f8ff;}input.sk-toggleable__control:checked~div.sk-toggleable__content {max-height: 200px;max-width: 100%;overflow: auto;}div.sk-estimator input.sk-toggleable__control:checked~label.sk-toggleable__label {background-color: #d4ebff;}div.sk-label input.sk-toggleable__control:checked~label.sk-toggleable__label {background-color: #d4ebff;}input.sk-hidden--visually {border: 0;clip: rect(1px 1px 1px 1px);clip: rect(1px, 1px, 1px, 1px);height: 1px;margin: -1px;overflow: hidden;padding: 0;position: absolute;width: 1px;}div.sk-estimator {font-family: monospace;background-color: #f0f8ff;margin: 0.25em 0.25em;border: 1px dotted black;border-radius: 0.25em;box-sizing: border-box;}div.sk-estimator:hover {background-color: #d4ebff;}div.sk-parallel-item::after {content: \"\";width: 100%;border-bottom: 1px solid gray;flex-grow: 1;}div.sk-label:hover label.sk-toggleable__label {background-color: #d4ebff;}div.sk-serial::before {content: \"\";position: absolute;border-left: 1px solid gray;box-sizing: border-box;top: 2em;bottom: 0;left: 50%;}div.sk-serial {display: flex;flex-direction: column;align-items: center;background-color: white;}div.sk-item {z-index: 1;}div.sk-parallel {display: flex;align-items: stretch;justify-content: center;background-color: white;}div.sk-parallel-item {display: flex;flex-direction: column;position: relative;background-color: white;}div.sk-parallel-item:first-child::after {align-self: flex-end;width: 50%;}div.sk-parallel-item:last-child::after {align-self: flex-start;width: 50%;}div.sk-parallel-item:only-child::after {width: 0;}div.sk-dashed-wrapped {border: 1px dashed gray;margin: 0.2em;box-sizing: border-box;padding-bottom: 0.1em;background-color: white;position: relative;}div.sk-label label {font-family: monospace;font-weight: bold;background-color: white;display: inline-block;line-height: 1.2em;}div.sk-label-container {position: relative;z-index: 2;text-align: center;}div.sk-container {display: inline-block;position: relative;}</style><div class=\"sk-top-container\"><div class=\"sk-container\"><div class=\"sk-item sk-dashed-wrapped\"><div class=\"sk-label-container\"><div class=\"sk-label sk-toggleable\"><input class=\"sk-toggleable__control sk-hidden--visually\" id=\"f9ef6d52-5c0d-4d94-ba51-0f3a75fb3cec\" type=\"checkbox\" ><label class=\"sk-toggleable__label\" for=\"f9ef6d52-5c0d-4d94-ba51-0f3a75fb3cec\">Pipeline</label><div class=\"sk-toggleable__content\"><pre>Pipeline(steps=[('classifier', SVC(kernel='linear'))])</pre></div></div></div><div class=\"sk-serial\"><div class=\"sk-item\"><div class=\"sk-estimator sk-toggleable\"><input class=\"sk-toggleable__control sk-hidden--visually\" id=\"a33eeea2-7c40-4f93-97a2-4da98baea7c0\" type=\"checkbox\" ><label class=\"sk-toggleable__label\" for=\"a33eeea2-7c40-4f93-97a2-4da98baea7c0\">SVC</label><div class=\"sk-toggleable__content\"><pre>SVC(kernel='linear')</pre></div></div></div></div></div></div></div>"
      ],
      "text/plain": [
       "Pipeline(steps=[('classifier', SVC(kernel='linear'))])"
      ]
     },
     "execution_count": 172,
     "metadata": {},
     "output_type": "execute_result"
    }
   ],
   "source": [
    "# classifier.fit(train_vectors, trainData['label'])\n",
    "pipe.fit(train_vectors, trainData['label'])"
   ]
  },
  {
   "cell_type": "code",
   "execution_count": 173,
   "metadata": {},
   "outputs": [],
   "source": [
    "predicted=pipe.predict(test_vectors)"
   ]
  },
  {
   "cell_type": "code",
   "execution_count": 174,
   "metadata": {},
   "outputs": [],
   "source": [
    "svm_acc_train=pipe.score(train_vectors, trainData['label'])\n",
    "svm_acc_test=pipe.score(test_vectors, testData['label'])"
   ]
  },
  {
   "cell_type": "code",
   "execution_count": 175,
   "metadata": {},
   "outputs": [
    {
     "name": "stdout",
     "output_type": "stream",
     "text": [
      "Training time: 0.000040s; Prediction time: 0.000048s\n",
      "Train Accuracy = 0.8811233108108109\n",
      "Test Accuracy = 0.6458128078817734\n",
      "positive:  {'precision': 0.7136237256719185, 'recall': 0.7762096774193549, 'f1-score': 0.7436021245774987, 'support': 992}\n",
      "negative:  {'precision': 0.6108870967741935, 'recall': 0.5519125683060109, 'f1-score': 0.5799043062200956, 'support': 549}\n"
     ]
    }
   ],
   "source": [
    "# results\n",
    "print(\"Training time: %fs; Prediction time: %fs\" % (time_linear_train, time_linear_predict))\n",
    "report = classification_report(testData['label'], predicted, output_dict=True)\n",
    "print(f\"Train Accuracy = {svm_acc_train}\")\n",
    "print(f\"Test Accuracy = {svm_acc_test}\")\n",
    "print('positive: ', report['Positive'])\n",
    "print('negative: ', report['Negative'])"
   ]
  },
  {
   "cell_type": "code",
   "execution_count": 176,
   "metadata": {},
   "outputs": [
    {
     "name": "stdout",
     "output_type": "stream",
     "text": [
      "              precision    recall  f1-score   support\n",
      "\n",
      "    Negative       0.55      0.61      0.58       496\n",
      "     Neutral       0.49      0.52      0.50       455\n",
      "    Positive       0.78      0.71      0.74      1079\n",
      "\n",
      "    accuracy                           0.65      2030\n",
      "   macro avg       0.60      0.62      0.61      2030\n",
      "weighted avg       0.66      0.65      0.65      2030\n",
      "\n"
     ]
    }
   ],
   "source": [
    "from sklearn.metrics import classification_report\n",
    "print(classification_report(pipe.predict(test_vectors),testData['label']))"
   ]
  },
  {
   "cell_type": "markdown",
   "metadata": {},
   "source": [
    "# Save the Model"
   ]
  },
  {
   "cell_type": "code",
   "execution_count": null,
   "metadata": {},
   "outputs": [],
   "source": [
    "# import pickle\n",
    "# # pickling the vectorizer\n",
    "# pickle.dump(vectorizer, open('vectorizer.sav', 'wb'))\n",
    "# # pickling the model\n",
    "# pickle.dump(classifier_linear, open('classifier.sav', 'wb'))"
   ]
  },
  {
   "cell_type": "markdown",
   "metadata": {},
   "source": [
    "# Test the SVM classifier"
   ]
  },
  {
   "cell_type": "code",
   "execution_count": null,
   "metadata": {},
   "outputs": [],
   "source": [
    "# review = \"\"\"SUPERB, I AM IN LOVE IN THIS PHONE\"\"\"\n",
    "# review_vector = vectorizer.transform([review]) # vectorizing\n",
    "# print(classifier_linear.predict(review_vector))"
   ]
  },
  {
   "cell_type": "code",
   "execution_count": null,
   "metadata": {},
   "outputs": [],
   "source": []
  },
  {
   "cell_type": "code",
   "execution_count": 78,
   "metadata": {},
   "outputs": [],
   "source": [
    "# f = open('Resources/BusinessTrainData_1.csv', 'r', encoding='utf8')\n",
    "# text = f.read()\n",
    "# t_list = text.split('\\n')\n",
    "\n",
    "# corpus = []\n",
    "\n",
    "# for sentence in t_list:\n",
    "#     corpus.append(sentence.split())\n"
   ]
  },
  {
   "cell_type": "code",
   "execution_count": 79,
   "metadata": {
    "scrolled": false
   },
   "outputs": [],
   "source": [
    "# print(corpus[:10])"
   ]
  },
  {
   "cell_type": "code",
   "execution_count": 80,
   "metadata": {},
   "outputs": [],
   "source": [
    "# vector = Word2Vec(corpus, size=100, min_count=1,sg=1)"
   ]
  },
  {
   "cell_type": "code",
   "execution_count": 81,
   "metadata": {},
   "outputs": [],
   "source": [
    "# vector.wv['app', 'council']"
   ]
  },
  {
   "cell_type": "code",
   "execution_count": 82,
   "metadata": {},
   "outputs": [],
   "source": [
    "# vector.wv.most_similar('council')"
   ]
  },
  {
   "cell_type": "code",
   "execution_count": 83,
   "metadata": {},
   "outputs": [],
   "source": [
    "# vector.wv.most_similar('app')"
   ]
  },
  {
   "cell_type": "code",
   "execution_count": 84,
   "metadata": {},
   "outputs": [],
   "source": [
    "# vector.save('word2vec.vector')"
   ]
  },
  {
   "cell_type": "code",
   "execution_count": 85,
   "metadata": {},
   "outputs": [],
   "source": [
    "# vector = Word2Vec.load('word2vec.vector')"
   ]
  },
  {
   "cell_type": "code",
   "execution_count": 86,
   "metadata": {},
   "outputs": [],
   "source": [
    "# def closestwords_tsneplot(model, word):\n",
    "#     word_vectors = np.empty((0,100))\n",
    "#     word_labels = [word]\n",
    "    \n",
    "#     close_words = model.wv.most_similar(word)\n",
    "    \n",
    "#     word_vectors = np.append(word_vectors, np.array([model.wv[word]]), axis=0)\n",
    "    \n",
    "#     for w, _ in close_words:\n",
    "#         word_labels.append(w)\n",
    "#         word_vectors = np.append(word_vectors, np.array([model.wv[w]]), axis=0)\n",
    "        \n",
    "#     tsne = TSNE(random_state=0)\n",
    "#     Y = tsne.fit_transform(word_vectors)\n",
    "    \n",
    "#     x_coords = Y[:, 0]\n",
    "#     y_coords = Y[:, 1]\n",
    "    \n",
    "#     plt.scatter(x_coords, y_coords)\n",
    "    \n",
    "#     for label, x, y in zip(word_labels, x_coords, y_coords):\n",
    "#         plt.annotate(label, xy=(x, y), xytext=(5, -2), textcoords='offset points')\n",
    "        \n",
    "#     plt.show()"
   ]
  },
  {
   "cell_type": "code",
   "execution_count": 87,
   "metadata": {},
   "outputs": [],
   "source": [
    "# closestwords_tsneplot(model, 'council')"
   ]
  },
  {
   "cell_type": "code",
   "execution_count": 88,
   "metadata": {},
   "outputs": [],
   "source": [
    "# closestwords_tsneplot(model, 'firearms')"
   ]
  },
  {
   "cell_type": "code",
   "execution_count": 89,
   "metadata": {},
   "outputs": [],
   "source": [
    "# closestwords_tsneplot(model, 'Bezos')"
   ]
  },
  {
   "cell_type": "code",
   "execution_count": 90,
   "metadata": {},
   "outputs": [],
   "source": [
    "# closestwords_tsneplot(model, 'scandal')"
   ]
  },
  {
   "cell_type": "code",
   "execution_count": null,
   "metadata": {},
   "outputs": [],
   "source": []
  }
 ],
 "metadata": {
  "kernelspec": {
   "display_name": "Python 3",
   "language": "python",
   "name": "python3"
  },
  "language_info": {
   "codemirror_mode": {
    "name": "ipython",
    "version": 3
   },
   "file_extension": ".py",
   "mimetype": "text/x-python",
   "name": "python",
   "nbconvert_exporter": "python",
   "pygments_lexer": "ipython3",
   "version": "3.7.7"
  }
 },
 "nbformat": 4,
 "nbformat_minor": 4
}
