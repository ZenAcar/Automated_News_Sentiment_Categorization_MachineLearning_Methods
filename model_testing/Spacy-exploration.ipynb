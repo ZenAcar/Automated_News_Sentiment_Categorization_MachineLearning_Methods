{
 "cells": [
  {
   "cell_type": "code",
   "execution_count": 1,
   "metadata": {
    "ExecuteTime": {
     "end_time": "2020-07-11T03:35:59.325215Z",
     "start_time": "2020-07-11T03:35:58.838216Z"
    }
   },
   "outputs": [],
   "source": [
    "import numpy as np # \n",
    "import pandas as pd # \n",
    "\n",
    "pd.set_option('display.max_rows', None)\n",
    "pd.set_option('display.max_columns', None)\n",
    "pd.set_option('display.width', None)\n",
    "pd.set_option('display.max_colwidth', -1)"
   ]
  },
  {
   "cell_type": "code",
   "execution_count": 2,
   "metadata": {
    "ExecuteTime": {
     "end_time": "2020-07-11T03:36:01.443217Z",
     "start_time": "2020-07-11T03:35:59.327216Z"
    }
   },
   "outputs": [
    {
     "data": {
      "text/html": [
       "<div>\n",
       "<style scoped>\n",
       "    .dataframe tbody tr th:only-of-type {\n",
       "        vertical-align: middle;\n",
       "    }\n",
       "\n",
       "    .dataframe tbody tr th {\n",
       "        vertical-align: top;\n",
       "    }\n",
       "\n",
       "    .dataframe thead th {\n",
       "        text-align: right;\n",
       "    }\n",
       "</style>\n",
       "<table border=\"1\" class=\"dataframe\">\n",
       "  <thead>\n",
       "    <tr style=\"text-align: right;\">\n",
       "      <th></th>\n",
       "      <th>category</th>\n",
       "      <th>headline</th>\n",
       "      <th>authors</th>\n",
       "      <th>link</th>\n",
       "      <th>short_description</th>\n",
       "      <th>date</th>\n",
       "    </tr>\n",
       "  </thead>\n",
       "  <tbody>\n",
       "    <tr>\n",
       "      <td>0</td>\n",
       "      <td>CRIME</td>\n",
       "      <td>There Were 2 Mass Shootings In Texas Last Week, But Only 1 On TV</td>\n",
       "      <td>Melissa Jeltsen</td>\n",
       "      <td>https://www.huffingtonpost.com/entry/texas-amanda-painter-mass-shooting_us_5b081ab4e4b0802d69caad89</td>\n",
       "      <td>She left her husband. He killed their children. Just another day in America.</td>\n",
       "      <td>2018-05-26</td>\n",
       "    </tr>\n",
       "    <tr>\n",
       "      <td>1</td>\n",
       "      <td>ENTERTAINMENT</td>\n",
       "      <td>Will Smith Joins Diplo And Nicky Jam For The 2018 World Cup's Official Song</td>\n",
       "      <td>Andy McDonald</td>\n",
       "      <td>https://www.huffingtonpost.com/entry/will-smith-joins-diplo-and-nicky-jam-for-the-official-2018-world-cup-song_us_5b09726fe4b0fdb2aa541201</td>\n",
       "      <td>Of course it has a song.</td>\n",
       "      <td>2018-05-26</td>\n",
       "    </tr>\n",
       "    <tr>\n",
       "      <td>2</td>\n",
       "      <td>ENTERTAINMENT</td>\n",
       "      <td>Hugh Grant Marries For The First Time At Age 57</td>\n",
       "      <td>Ron Dicker</td>\n",
       "      <td>https://www.huffingtonpost.com/entry/hugh-grant-marries_us_5b09212ce4b0568a880b9a8c</td>\n",
       "      <td>The actor and his longtime girlfriend Anna Eberstein tied the knot in a civil ceremony.</td>\n",
       "      <td>2018-05-26</td>\n",
       "    </tr>\n",
       "    <tr>\n",
       "      <td>3</td>\n",
       "      <td>ENTERTAINMENT</td>\n",
       "      <td>Jim Carrey Blasts 'Castrato' Adam Schiff And Democrats In New Artwork</td>\n",
       "      <td>Ron Dicker</td>\n",
       "      <td>https://www.huffingtonpost.com/entry/jim-carrey-adam-schiff-democrats_us_5b0950e8e4b0fdb2aa53e675</td>\n",
       "      <td>The actor gives Dems an ass-kicking for not fighting hard enough against Donald Trump.</td>\n",
       "      <td>2018-05-26</td>\n",
       "    </tr>\n",
       "    <tr>\n",
       "      <td>4</td>\n",
       "      <td>ENTERTAINMENT</td>\n",
       "      <td>Julianna Margulies Uses Donald Trump Poop Bags To Pick Up After Her Dog</td>\n",
       "      <td>Ron Dicker</td>\n",
       "      <td>https://www.huffingtonpost.com/entry/julianna-margulies-trump-poop-bag_us_5b093ec2e4b0fdb2aa53df70</td>\n",
       "      <td>The \"Dietland\" actress said using the bags is a \"really cathartic, therapeutic moment.\"</td>\n",
       "      <td>2018-05-26</td>\n",
       "    </tr>\n",
       "  </tbody>\n",
       "</table>\n",
       "</div>"
      ],
      "text/plain": [
       "        category  \\\n",
       "0  CRIME           \n",
       "1  ENTERTAINMENT   \n",
       "2  ENTERTAINMENT   \n",
       "3  ENTERTAINMENT   \n",
       "4  ENTERTAINMENT   \n",
       "\n",
       "                                                                      headline  \\\n",
       "0  There Were 2 Mass Shootings In Texas Last Week, But Only 1 On TV              \n",
       "1  Will Smith Joins Diplo And Nicky Jam For The 2018 World Cup's Official Song   \n",
       "2  Hugh Grant Marries For The First Time At Age 57                               \n",
       "3  Jim Carrey Blasts 'Castrato' Adam Schiff And Democrats In New Artwork         \n",
       "4  Julianna Margulies Uses Donald Trump Poop Bags To Pick Up After Her Dog       \n",
       "\n",
       "           authors  \\\n",
       "0  Melissa Jeltsen   \n",
       "1  Andy McDonald     \n",
       "2  Ron Dicker        \n",
       "3  Ron Dicker        \n",
       "4  Ron Dicker        \n",
       "\n",
       "                                                                                                                                         link  \\\n",
       "0  https://www.huffingtonpost.com/entry/texas-amanda-painter-mass-shooting_us_5b081ab4e4b0802d69caad89                                          \n",
       "1  https://www.huffingtonpost.com/entry/will-smith-joins-diplo-and-nicky-jam-for-the-official-2018-world-cup-song_us_5b09726fe4b0fdb2aa541201   \n",
       "2  https://www.huffingtonpost.com/entry/hugh-grant-marries_us_5b09212ce4b0568a880b9a8c                                                          \n",
       "3  https://www.huffingtonpost.com/entry/jim-carrey-adam-schiff-democrats_us_5b0950e8e4b0fdb2aa53e675                                            \n",
       "4  https://www.huffingtonpost.com/entry/julianna-margulies-trump-poop-bag_us_5b093ec2e4b0fdb2aa53df70                                           \n",
       "\n",
       "                                                                         short_description  \\\n",
       "0  She left her husband. He killed their children. Just another day in America.              \n",
       "1  Of course it has a song.                                                                  \n",
       "2  The actor and his longtime girlfriend Anna Eberstein tied the knot in a civil ceremony.   \n",
       "3  The actor gives Dems an ass-kicking for not fighting hard enough against Donald Trump.    \n",
       "4  The \"Dietland\" actress said using the bags is a \"really cathartic, therapeutic moment.\"   \n",
       "\n",
       "        date  \n",
       "0 2018-05-26  \n",
       "1 2018-05-26  \n",
       "2 2018-05-26  \n",
       "3 2018-05-26  \n",
       "4 2018-05-26  "
      ]
     },
     "execution_count": 2,
     "metadata": {},
     "output_type": "execute_result"
    }
   ],
   "source": [
    "# load data\n",
    "\n",
    "df = pd.read_json('resources/News_Category_Dataset_v2.json', lines=True)\n",
    "df.head()"
   ]
  },
  {
   "cell_type": "code",
   "execution_count": 3,
   "metadata": {
    "ExecuteTime": {
     "end_time": "2020-07-11T03:36:01.522222Z",
     "start_time": "2020-07-11T03:36:01.446218Z"
    }
   },
   "outputs": [
    {
     "data": {
      "text/plain": [
       "POLITICS          32739\n",
       "WELLNESS          17827\n",
       "ENTERTAINMENT     16058\n",
       "TRAVEL            9887 \n",
       "STYLE & BEAUTY    9649 \n",
       "PARENTING         8677 \n",
       "HEALTHY LIVING    6694 \n",
       "QUEER VOICES      6314 \n",
       "FOOD & DRINK      6226 \n",
       "BUSINESS          5937 \n",
       "COMEDY            5175 \n",
       "SPORTS            4884 \n",
       "BLACK VOICES      4528 \n",
       "HOME & LIVING     4195 \n",
       "PARENTS           3955 \n",
       "THE WORLDPOST     3664 \n",
       "WEDDINGS          3651 \n",
       "WOMEN             3490 \n",
       "IMPACT            3459 \n",
       "DIVORCE           3426 \n",
       "CRIME             3405 \n",
       "MEDIA             2815 \n",
       "WEIRD NEWS        2670 \n",
       "GREEN             2622 \n",
       "WORLDPOST         2579 \n",
       "RELIGION          2556 \n",
       "STYLE             2254 \n",
       "SCIENCE           2178 \n",
       "WORLD NEWS        2177 \n",
       "TASTE             2096 \n",
       "TECH              2082 \n",
       "MONEY             1707 \n",
       "ARTS              1509 \n",
       "FIFTY             1401 \n",
       "GOOD NEWS         1398 \n",
       "ARTS & CULTURE    1339 \n",
       "ENVIRONMENT       1323 \n",
       "COLLEGE           1144 \n",
       "LATINO VOICES     1129 \n",
       "CULTURE & ARTS    1030 \n",
       "EDUCATION         1004 \n",
       "Name: category, dtype: int64"
      ]
     },
     "execution_count": 3,
     "metadata": {},
     "output_type": "execute_result"
    }
   ],
   "source": [
    "df['category'].value_counts()"
   ]
  },
  {
   "cell_type": "markdown",
   "metadata": {},
   "source": [
    "News API categories\n",
    "* business\n",
    "* entertainment\n",
    "* general\n",
    "* health\n",
    "* science\n",
    "* sports\n",
    "* technology"
   ]
  },
  {
   "cell_type": "code",
   "execution_count": 4,
   "metadata": {
    "ExecuteTime": {
     "end_time": "2020-07-11T03:36:01.538217Z",
     "start_time": "2020-07-11T03:36:01.525219Z"
    }
   },
   "outputs": [],
   "source": [
    "business =['BUSINESS','MONEY']\n",
    "entertainment=['ENTERTAINMENT','ARTS','COMEDY','ARTS & CULTURE','CULTURE & ARTS','MEDIA']\n",
    "health=['HEALTH','WELLNESS','HEALTHY LIVING']\n",
    "science=['SCIENCE']\n",
    "sports=['SPORTS']\n",
    "technology = ['tech']"
   ]
  },
  {
   "cell_type": "code",
   "execution_count": 5,
   "metadata": {
    "ExecuteTime": {
     "end_time": "2020-07-11T03:36:01.599727Z",
     "start_time": "2020-07-11T03:36:01.540219Z"
    }
   },
   "outputs": [
    {
     "data": {
      "text/plain": [
       "(7644, 6)"
      ]
     },
     "execution_count": 5,
     "metadata": {},
     "output_type": "execute_result"
    }
   ],
   "source": [
    "condition = df['category'].isin(business)\n",
    "businessDF = df[condition]\n",
    "businessDF.shape"
   ]
  },
  {
   "cell_type": "code",
   "execution_count": 6,
   "metadata": {
    "ExecuteTime": {
     "end_time": "2020-07-11T03:36:02.411517Z",
     "start_time": "2020-07-11T03:36:02.363524Z"
    }
   },
   "outputs": [
    {
     "data": {
      "text/plain": [
       "(27926, 6)"
      ]
     },
     "execution_count": 6,
     "metadata": {},
     "output_type": "execute_result"
    }
   ],
   "source": [
    "condition = df['category'].isin(entertainment)\n",
    "entertainmentDF= df[condition]\n",
    "entertainmentDF.shape"
   ]
  },
  {
   "cell_type": "code",
   "execution_count": 7,
   "metadata": {},
   "outputs": [
    {
     "name": "stdout",
     "output_type": "stream",
     "text": [
      "        category  \\\n",
      "0  CRIME           \n",
      "1  ENTERTAINMENT   \n",
      "2  ENTERTAINMENT   \n",
      "3  ENTERTAINMENT   \n",
      "4  ENTERTAINMENT   \n",
      "5  ENTERTAINMENT   \n",
      "6  ENTERTAINMENT   \n",
      "7  ENTERTAINMENT   \n",
      "8  ENTERTAINMENT   \n",
      "9  ENTERTAINMENT   \n",
      "\n",
      "                                                                           headline  \\\n",
      "0  There Were 2 Mass Shootings In Texas Last Week, But Only 1 On TV                   \n",
      "1  Will Smith Joins Diplo And Nicky Jam For The 2018 World Cup's Official Song        \n",
      "2  Hugh Grant Marries For The First Time At Age 57                                    \n",
      "3  Jim Carrey Blasts 'Castrato' Adam Schiff And Democrats In New Artwork              \n",
      "4  Julianna Margulies Uses Donald Trump Poop Bags To Pick Up After Her Dog            \n",
      "5  Morgan Freeman 'Devastated' That Sexual Harassment Claims Could Undermine Legacy   \n",
      "6  Donald Trump Is Lovin' New McDonald's Jingle In 'Tonight Show' Bit                 \n",
      "7  What To Watch On Amazon Prime That’s New This Week                                 \n",
      "8  Mike Myers Reveals He'd 'Like To' Do A Fourth Austin Powers Film                   \n",
      "9  What To Watch On Hulu That’s New This Week                                         \n",
      "\n",
      "           authors  \\\n",
      "0  Melissa Jeltsen   \n",
      "1  Andy McDonald     \n",
      "2  Ron Dicker        \n",
      "3  Ron Dicker        \n",
      "4  Ron Dicker        \n",
      "5  Ron Dicker        \n",
      "6  Ron Dicker        \n",
      "7  Todd Van Luling   \n",
      "8  Andy McDonald     \n",
      "9  Todd Van Luling   \n",
      "\n",
      "                                                                                                                                         link  \\\n",
      "0  https://www.huffingtonpost.com/entry/texas-amanda-painter-mass-shooting_us_5b081ab4e4b0802d69caad89                                          \n",
      "1  https://www.huffingtonpost.com/entry/will-smith-joins-diplo-and-nicky-jam-for-the-official-2018-world-cup-song_us_5b09726fe4b0fdb2aa541201   \n",
      "2  https://www.huffingtonpost.com/entry/hugh-grant-marries_us_5b09212ce4b0568a880b9a8c                                                          \n",
      "3  https://www.huffingtonpost.com/entry/jim-carrey-adam-schiff-democrats_us_5b0950e8e4b0fdb2aa53e675                                            \n",
      "4  https://www.huffingtonpost.com/entry/julianna-margulies-trump-poop-bag_us_5b093ec2e4b0fdb2aa53df70                                           \n",
      "5  https://www.huffingtonpost.com/entry/morgan-freeman-devastated-sexual-misconduct_us_5b096319e4b0802d69cba298                                 \n",
      "6  https://www.huffingtonpost.com/entry/donald-trump-mcondalds-tonight-show_us_5b093561e4b0fdb2aa53daba                                         \n",
      "7  https://www.huffingtonpost.com/entry/amazon-prime-what-to-watch_us_5b044625e4b0c0b8b23ec14f                                                  \n",
      "8  https://www.huffingtonpost.com/entry/mike-myers-reveals-he-wants-to-do-a-fourth-austin-powers-film_us_5b096198e4b0802d69cb9f15               \n",
      "9  https://www.huffingtonpost.com/entry/hulu-what-to-watch_us_5b0445bae4b0c0b8b23ec046                                                          \n",
      "\n",
      "                                                                                                               short_description  \\\n",
      "0  She left her husband. He killed their children. Just another day in America.                                                    \n",
      "1  Of course it has a song.                                                                                                        \n",
      "2  The actor and his longtime girlfriend Anna Eberstein tied the knot in a civil ceremony.                                         \n",
      "3  The actor gives Dems an ass-kicking for not fighting hard enough against Donald Trump.                                          \n",
      "4  The \"Dietland\" actress said using the bags is a \"really cathartic, therapeutic moment.\"                                         \n",
      "5  \"It is not right to equate horrific incidents of sexual assault with misplaced compliments or humor,\" he said in a statement.   \n",
      "6  It's catchy, all right.                                                                                                         \n",
      "7  There's a great mini-series joining this week.                                                                                  \n",
      "8  Myer's kids may be pushing for a new \"Powers\" film more than anyone.                                                            \n",
      "9  You're getting a recent Academy Award-winning movie.                                                                            \n",
      "\n",
      "        date  \n",
      "0 2018-05-26  \n",
      "1 2018-05-26  \n",
      "2 2018-05-26  \n",
      "3 2018-05-26  \n",
      "4 2018-05-26  \n",
      "5 2018-05-26  \n",
      "6 2018-05-26  \n",
      "7 2018-05-26  \n",
      "8 2018-05-26  \n",
      "9 2018-05-26  \n"
     ]
    }
   ],
   "source": [
    "print(df.head(10))"
   ]
  },
  {
   "cell_type": "markdown",
   "metadata": {},
   "source": [
    "# install Vader\n",
    "\n",
    " pip install vaderSentiment\n",
    " \n",
    " https://www.geeksforgeeks.org/python-sentiment-analysis-using-vader/\n",
    " \n",
    " https://medium.com/analytics-vidhya/simplifying-social-media-sentiment-analysis-using-vader-in-python-f9e6ec6fc52f\n",
    " \n",
    " \n"
   ]
  },
  {
   "cell_type": "code",
   "execution_count": 8,
   "metadata": {
    "ExecuteTime": {
     "end_time": "2020-07-11T03:48:09.904560Z",
     "start_time": "2020-07-11T03:48:09.893559Z"
    }
   },
   "outputs": [],
   "source": [
    "#TenArticlesDF = businessDF[:10]\n"
   ]
  },
  {
   "cell_type": "code",
   "execution_count": 9,
   "metadata": {
    "ExecuteTime": {
     "end_time": "2020-07-11T03:50:33.992333Z",
     "start_time": "2020-07-11T03:50:33.980313Z"
    }
   },
   "outputs": [
    {
     "name": "stderr",
     "output_type": "stream",
     "text": [
      "IOPub data rate exceeded.\n",
      "The notebook server will temporarily stop sending output\n",
      "to the client in order to avoid crashing it.\n",
      "To change this limit, set the config variable\n",
      "`--NotebookApp.iopub_data_rate_limit`.\n",
      "\n",
      "Current values:\n",
      "NotebookApp.iopub_data_rate_limit=1000000.0 (bytes/sec)\n",
      "NotebookApp.rate_limit_window=3.0 (secs)\n",
      "\n"
     ]
    }
   ],
   "source": [
    "#tenarticles = TenArticlesDF['short_description'].tolist()\n",
    "description_list = df['short_description'].tolist()\n",
    "print(description_list)"
   ]
  },
  {
   "cell_type": "code",
   "execution_count": 10,
   "metadata": {
    "ExecuteTime": {
     "end_time": "2020-07-11T20:14:53.777186Z",
     "start_time": "2020-07-11T20:14:53.740187Z"
    }
   },
   "outputs": [],
   "source": [
    "from vaderSentiment.vaderSentiment import SentimentIntensityAnalyzer\n"
   ]
  },
  {
   "cell_type": "code",
   "execution_count": 11,
   "metadata": {
    "ExecuteTime": {
     "end_time": "2020-07-11T20:18:42.496873Z",
     "start_time": "2020-07-11T20:18:42.451871Z"
    }
   },
   "outputs": [],
   "source": [
    "analyzer = SentimentIntensityAnalyzer()\n",
    "overall_sentiment = []\n",
    "\n",
    "for art in df['short_description']:\n",
    "    sentiment_dict=analyzer.polarity_scores(art)\n",
    "    #print(\"Overall sentiment dictionary is : \", sentiment_dict) \n",
    "    #print(\"sentence was rated as \", sentiment_dict['neg']*100, \"% Negative\") \n",
    "    #print(\"sentence was rated as \", sentiment_dict['neu']*100, \"% Neutral\") \n",
    "    #print(\"sentence was rated as \", sentiment_dict['pos']*100, \"% Positive\") \n",
    "    #print(\"Sentence Overall Rated As\", end = \" \")  \n",
    "    if sentiment_dict['compound'] >= 0.05 : \n",
    "        overall_sentiment.append(\"Positive\")\n",
    "    elif sentiment_dict['compound'] <= - 0.05 : \n",
    "        overall_sentiment.append(\"Negative\")\n",
    "    else : \n",
    "        overall_sentiment.append(\"Neutral\")\n",
    "        \n",
    "df['sentiment'] = overall_sentiment"
   ]
  },
  {
   "cell_type": "code",
   "execution_count": 12,
   "metadata": {},
   "outputs": [
    {
     "name": "stdout",
     "output_type": "stream",
     "text": [
      "(200853, 7)\n"
     ]
    }
   ],
   "source": [
    "print(df.shape)"
   ]
  },
  {
   "cell_type": "code",
   "execution_count": 13,
   "metadata": {},
   "outputs": [
    {
     "name": "stdout",
     "output_type": "stream",
     "text": [
      "         category  \\\n",
      "0   CRIME           \n",
      "1   ENTERTAINMENT   \n",
      "2   ENTERTAINMENT   \n",
      "3   ENTERTAINMENT   \n",
      "4   ENTERTAINMENT   \n",
      "5   ENTERTAINMENT   \n",
      "6   ENTERTAINMENT   \n",
      "7   ENTERTAINMENT   \n",
      "8   ENTERTAINMENT   \n",
      "9   ENTERTAINMENT   \n",
      "10  ENTERTAINMENT   \n",
      "11  WORLD NEWS      \n",
      "12  IMPACT          \n",
      "13  POLITICS        \n",
      "14  POLITICS        \n",
      "15  POLITICS        \n",
      "16  POLITICS        \n",
      "17  POLITICS        \n",
      "18  POLITICS        \n",
      "19  POLITICS        \n",
      "20  WEIRD NEWS      \n",
      "21  ENTERTAINMENT   \n",
      "22  WEIRD NEWS      \n",
      "23  WORLD NEWS      \n",
      "24  WORLD NEWS      \n",
      "\n",
      "                                                                                         headline  \\\n",
      "0   There Were 2 Mass Shootings In Texas Last Week, But Only 1 On TV                                \n",
      "1   Will Smith Joins Diplo And Nicky Jam For The 2018 World Cup's Official Song                     \n",
      "2   Hugh Grant Marries For The First Time At Age 57                                                 \n",
      "3   Jim Carrey Blasts 'Castrato' Adam Schiff And Democrats In New Artwork                           \n",
      "4   Julianna Margulies Uses Donald Trump Poop Bags To Pick Up After Her Dog                         \n",
      "5   Morgan Freeman 'Devastated' That Sexual Harassment Claims Could Undermine Legacy                \n",
      "6   Donald Trump Is Lovin' New McDonald's Jingle In 'Tonight Show' Bit                              \n",
      "7   What To Watch On Amazon Prime That’s New This Week                                              \n",
      "8   Mike Myers Reveals He'd 'Like To' Do A Fourth Austin Powers Film                                \n",
      "9   What To Watch On Hulu That’s New This Week                                                      \n",
      "10  Justin Timberlake Visits Texas School Shooting Victims                                          \n",
      "11  South Korean President Meets North Korea's Kim Jong Un To Talk Trump Summit                     \n",
      "12  With Its Way Of Life At Risk, This Remote Oyster-Growing Region Called In Robots                \n",
      "13  Trump's Crackdown On Immigrant Parents Puts More Kids In An Already Strained System             \n",
      "14  'Trump's Son Should Be Concerned': FBI Obtained Wiretaps Of Putin Ally Who Met With Trump Jr.   \n",
      "15  Edward Snowden: There's No One Trump Loves More Than Vladimir Putin                             \n",
      "16  Booyah: Obama Photographer Hilariously Trolls Trump's 'Spy' Claim                               \n",
      "17  Ireland Votes To Repeal Abortion Amendment In Landslide Referendum                              \n",
      "18  Ryan Zinke Looks To Reel Back Some Critics With 'Grand Pivot' To Conservation                   \n",
      "19  Trump's Scottish Golf Resort Pays Women Significantly Less Than Men: Report                     \n",
      "20  Weird Father's Day Gifts Your Dad Doesn't Know He Wants (But He Does)                           \n",
      "21  Twitter #PutStarWarsInOtherFilms And It Was Universally Entertaining                            \n",
      "22  Mystery 'Wolf-Like' Animal Reportedly Shot In Montana, Baffles Wildlife Officials               \n",
      "23  North Korea Still Open To Talks After Trump Cancels Summit                                      \n",
      "24  2 Men Detonate Bomb Inside Indian Restaurant Near Toronto, Authorities Say                      \n",
      "\n",
      "                                  authors  \\\n",
      "0   Melissa Jeltsen                         \n",
      "1   Andy McDonald                           \n",
      "2   Ron Dicker                              \n",
      "3   Ron Dicker                              \n",
      "4   Ron Dicker                              \n",
      "5   Ron Dicker                              \n",
      "6   Ron Dicker                              \n",
      "7   Todd Van Luling                         \n",
      "8   Andy McDonald                           \n",
      "9   Todd Van Luling                         \n",
      "10  Sebastian Murdock                       \n",
      "11                                          \n",
      "12  Karen Pinchin                           \n",
      "13  Elise Foley and Roque Planas            \n",
      "14  Michael Isikoff, Yahoo News             \n",
      "15  Mary Papenfuss                          \n",
      "16  Mary Papenfuss                          \n",
      "17  Laura Bassett                           \n",
      "18  Chris D'Angelo                          \n",
      "19  Mary Papenfuss                          \n",
      "20  David Moye                              \n",
      "21  Andy McDonald                           \n",
      "22  Hilary Hanson                           \n",
      "23  Josh Smith and Christine Kim, Reuters   \n",
      "24                                          \n",
      "\n",
      "                                                                                                                                          link  \\\n",
      "0   https://www.huffingtonpost.com/entry/texas-amanda-painter-mass-shooting_us_5b081ab4e4b0802d69caad89                                          \n",
      "1   https://www.huffingtonpost.com/entry/will-smith-joins-diplo-and-nicky-jam-for-the-official-2018-world-cup-song_us_5b09726fe4b0fdb2aa541201   \n",
      "2   https://www.huffingtonpost.com/entry/hugh-grant-marries_us_5b09212ce4b0568a880b9a8c                                                          \n",
      "3   https://www.huffingtonpost.com/entry/jim-carrey-adam-schiff-democrats_us_5b0950e8e4b0fdb2aa53e675                                            \n",
      "4   https://www.huffingtonpost.com/entry/julianna-margulies-trump-poop-bag_us_5b093ec2e4b0fdb2aa53df70                                           \n",
      "5   https://www.huffingtonpost.com/entry/morgan-freeman-devastated-sexual-misconduct_us_5b096319e4b0802d69cba298                                 \n",
      "6   https://www.huffingtonpost.com/entry/donald-trump-mcondalds-tonight-show_us_5b093561e4b0fdb2aa53daba                                         \n",
      "7   https://www.huffingtonpost.com/entry/amazon-prime-what-to-watch_us_5b044625e4b0c0b8b23ec14f                                                  \n",
      "8   https://www.huffingtonpost.com/entry/mike-myers-reveals-he-wants-to-do-a-fourth-austin-powers-film_us_5b096198e4b0802d69cb9f15               \n",
      "9   https://www.huffingtonpost.com/entry/hulu-what-to-watch_us_5b0445bae4b0c0b8b23ec046                                                          \n",
      "10  https://www.huffingtonpost.com/entry/justin-timberlake-visits-texas-school-shooting-victims_us_5b098161e4b0fdb2aa54167e                      \n",
      "11  https://www.huffingtonpost.com/entry/south-korean-president-meets-north-koreas-kim-jong-un_us_5b094ebae4b0fdb2aa53e504                       \n",
      "12  https://www.huffingtonpost.com/entry/remote-oyster-growing-region-called-in-robots_us_5b083658e4b0fdb2aa53415d                               \n",
      "13  https://www.huffingtonpost.com/entry/immigrant-children-separated-from-parents_us_5b087b90e4b0802d69cb4070                                   \n",
      "14  https://www.huffingtonpost.com/entry/fbi-wiretaps-putin-ally-trump-jr_us_5b08bf56e4b0568a880b7859                                            \n",
      "15  https://www.huffingtonpost.com/entry/edward-snowden-trump-loves-putin_us_5b08ae41e4b0568a880b7451                                            \n",
      "16  https://www.huffingtonpost.com/entry/obama-photog-pete-souza-trolls-trump-spy-claim_us_5b08f77ee4b0568a880b8752                              \n",
      "17  https://www.huffingtonpost.com/entry/results-for-irelands-historic-abortion-referendum-show-yes-vote-leads_us_5b086497e4b0802d69cb2cff       \n",
      "18  https://www.huffingtonpost.com/entry/ryan-zinke-reel-back-critics-grand-pivot-conservation_us_5b086c78e4b0fdb2aa538b3f                       \n",
      "19  https://www.huffingtonpost.com/entry/trump-scottish-golf-resort-pays-women-less-than-men_us_5b08ca29e4b0802d69cb4d37                         \n",
      "20  https://www.huffingtonpost.com/entry/weird-fathers-day-gifts-2018_us_5b05bf18e4b05f0fc84438f6                                                \n",
      "21  https://www.huffingtonpost.com/entry/twitter-put-star-wars-in-other-films_us_5b098875e4b0568a880be92c                                        \n",
      "22  https://www.huffingtonpost.com/entry/montana-wolf-like-animal-mystery_us_5b04533de4b003dc7e4708af                                            \n",
      "23  https://www.huffingtonpost.com/entry/north-korea-reax-canceled-summit_us_5b07a93de4b0568a8809ccf2                                            \n",
      "24  https://www.huffingtonpost.com/entry/mississauga-canada-restaurant-bombing_us_5b079d47e4b0fdb2aa51f4dd                                       \n",
      "\n",
      "                                                                                                                                             short_description  \\\n",
      "0   She left her husband. He killed their children. Just another day in America.                                                                                 \n",
      "1   Of course it has a song.                                                                                                                                     \n",
      "2   The actor and his longtime girlfriend Anna Eberstein tied the knot in a civil ceremony.                                                                      \n",
      "3   The actor gives Dems an ass-kicking for not fighting hard enough against Donald Trump.                                                                       \n",
      "4   The \"Dietland\" actress said using the bags is a \"really cathartic, therapeutic moment.\"                                                                      \n",
      "5   \"It is not right to equate horrific incidents of sexual assault with misplaced compliments or humor,\" he said in a statement.                                \n",
      "6   It's catchy, all right.                                                                                                                                      \n",
      "7   There's a great mini-series joining this week.                                                                                                               \n",
      "8   Myer's kids may be pushing for a new \"Powers\" film more than anyone.                                                                                         \n",
      "9   You're getting a recent Academy Award-winning movie.                                                                                                         \n",
      "10  The pop star also wore a \"Santa Fe Strong\" shirt at his show in Houston.                                                                                     \n",
      "11  The two met to pave the way for a summit between North Korean and the U.S.                                                                                   \n",
      "12  The revolution is coming to rural New Brunswick.                                                                                                             \n",
      "13  Last month a Health and Human Services official revealed the government was unable to locate nearly 1,500 children who had been released from its custody.   \n",
      "14  The wiretaps feature conversations between Alexander Torshin and Alexander Romanov, a convicted Russian money launderer.                                     \n",
      "15  But don't count on Robert Mueller to nail him, the NSA whistleblower warns.                                                                                  \n",
      "16  Just a peeping minute.                                                                                                                                       \n",
      "17  Irish women will no longer have to travel to the United Kingdom to end their pregnancies.                                                                    \n",
      "18  The interior secretary attempts damage control with hunting and fishing groups that didn’t like his fossil fuel focus.                                       \n",
      "19  And there are four times as many male as female executives.                                                                                                  \n",
      "20  Why buy a boring tie when you can give him testicle plush toys?                                                                                              \n",
      "21  There's no such thing as too much \"Star Wars.\"                                                                                                               \n",
      "22  “We have no idea what this was until we get a DNA report back.\"                                                                                              \n",
      "23  Trump’s announcement came after repeated threats by North Korea to pull out of the summit over what it saw as confrontational remarks by U.S. officials.     \n",
      "24  Fifteen people were taken to the hospital, three of them with critical injuries.                                                                             \n",
      "\n",
      "         date sentiment  \n",
      "0  2018-05-26  Negative  \n",
      "1  2018-05-26  Neutral   \n",
      "2  2018-05-26  Neutral   \n",
      "3  2018-05-26  Positive  \n",
      "4  2018-05-26  Neutral   \n",
      "5  2018-05-26  Negative  \n",
      "6  2018-05-26  Neutral   \n",
      "7  2018-05-26  Positive  \n",
      "8  2018-05-26  Neutral   \n",
      "9  2018-05-26  Neutral   \n",
      "10 2018-05-26  Positive  \n",
      "11 2018-05-26  Neutral   \n",
      "12 2018-05-26  Neutral   \n",
      "13 2018-05-26  Neutral   \n",
      "14 2018-05-26  Neutral   \n",
      "15 2018-05-26  Negative  \n",
      "16 2018-05-26  Neutral   \n",
      "17 2018-05-26  Positive  \n",
      "18 2018-05-26  Negative  \n",
      "19 2018-05-26  Neutral   \n",
      "20 2018-05-26  Negative  \n",
      "21 2018-05-26  Negative  \n",
      "22 2018-05-26  Negative  \n",
      "23 2018-05-25  Negative  \n",
      "24 2018-05-25  Negative  \n"
     ]
    }
   ],
   "source": [
    "print(df.head(25))"
   ]
  },
  {
   "cell_type": "code",
   "execution_count": 14,
   "metadata": {},
   "outputs": [
    {
     "name": "stdout",
     "output_type": "stream",
     "text": [
      "<class 'pandas.core.frame.DataFrame'>\n",
      "RangeIndex: 200853 entries, 0 to 200852\n",
      "Data columns (total 7 columns):\n",
      "category             200853 non-null object\n",
      "headline             200853 non-null object\n",
      "authors              200853 non-null object\n",
      "link                 200853 non-null object\n",
      "short_description    200853 non-null object\n",
      "date                 200853 non-null datetime64[ns]\n",
      "sentiment            200853 non-null object\n",
      "dtypes: datetime64[ns](1), object(6)\n",
      "memory usage: 10.7+ MB\n"
     ]
    }
   ],
   "source": [
    "# View data information\n",
    "df.info()"
   ]
  },
  {
   "cell_type": "code",
   "execution_count": 15,
   "metadata": {},
   "outputs": [
    {
     "data": {
      "text/plain": [
       "Positive    84522\n",
       "Neutral     68689\n",
       "Negative    47642\n",
       "Name: sentiment, dtype: int64"
      ]
     },
     "execution_count": 15,
     "metadata": {},
     "output_type": "execute_result"
    }
   ],
   "source": [
    "df.sentiment.value_counts()"
   ]
  },
  {
   "cell_type": "markdown",
   "metadata": {},
   "source": [
    "# install spacy\n",
    "\n",
    "!pip install spacy\n",
    "!python -m spacy download en"
   ]
  },
  {
   "cell_type": "code",
   "execution_count": 16,
   "metadata": {},
   "outputs": [],
   "source": [
    "import pandas as pd\n",
    "from sklearn.feature_extraction.text import CountVectorizer,TfidfVectorizer\n",
    "from sklearn.base import TransformerMixin\n",
    "from sklearn.pipeline import Pipeline"
   ]
  },
  {
   "cell_type": "code",
   "execution_count": 18,
   "metadata": {},
   "outputs": [],
   "source": [
    "import string\n",
    "import spacy\n",
    "from spacy.lang.en.stop_words import STOP_WORDS\n",
    "from spacy.lang.en import English\n",
    "\n",
    "# Create our list of punctuation marks\n",
    "punctuations = string.punctuation\n",
    "\n",
    "# Create our list of stopwords\n",
    "nlp = spacy.load('en')\n",
    "stop_words = spacy.lang.en.stop_words.STOP_WORDS\n",
    "\n",
    "# Load English tokenizer, tagger, parser, NER and word vectors\n",
    "parser = English()\n",
    "\n",
    "# Creating our tokenizer function\n",
    "def spacy_tokenizer(sentence):\n",
    "    # Creating our token object, which is used to create documents with linguistic annotations.\n",
    "    mytokens = parser(sentence)\n",
    "\n",
    "    # Lemmatizing each token and converting each token into lowercase\n",
    "    mytokens = [ word.lemma_.lower().strip() if word.lemma_ != \"-PRON-\" else word.lower_ for word in mytokens ]\n",
    "\n",
    "    # Removing stop words\n",
    "    mytokens = [ word for word in mytokens if word not in stop_words and word not in punctuations ]\n",
    "\n",
    "    # return preprocessed list of tokens\n",
    "    return mytokens"
   ]
  },
  {
   "cell_type": "code",
   "execution_count": 19,
   "metadata": {},
   "outputs": [],
   "source": [
    "# Custom transformer using spaCy\n",
    "class predictors(TransformerMixin):\n",
    "    def transform(self, X, **transform_params):\n",
    "        # Cleaning Text\n",
    "        return [clean_text(text) for text in X]\n",
    "\n",
    "    def fit(self, X, y=None, **fit_params):\n",
    "        return self\n",
    "\n",
    "    def get_params(self, deep=True):\n",
    "        return {}\n",
    "\n",
    "# Basic function to clean the text\n",
    "def clean_text(text):\n",
    "    # Removing spaces and converting text into lowercase\n",
    "    return text.strip().lower()"
   ]
  },
  {
   "cell_type": "code",
   "execution_count": 20,
   "metadata": {},
   "outputs": [],
   "source": [
    "bow_vector = CountVectorizer(tokenizer = spacy_tokenizer, ngram_range=(1,1))"
   ]
  },
  {
   "cell_type": "code",
   "execution_count": 21,
   "metadata": {},
   "outputs": [],
   "source": [
    "tfidf_vector = TfidfVectorizer(tokenizer = spacy_tokenizer)"
   ]
  },
  {
   "cell_type": "code",
   "execution_count": 22,
   "metadata": {},
   "outputs": [],
   "source": [
    "from sklearn.model_selection import train_test_split\n",
    "\n",
    "X = df['short_description'] # the features we want to analyze\n",
    "ylabels = df['sentiment'] # the labels, or answers, we want to test against\n",
    "\n",
    "X_train, X_test, y_train, y_test = train_test_split(X, ylabels, test_size=0.3)"
   ]
  },
  {
   "cell_type": "code",
   "execution_count": 23,
   "metadata": {},
   "outputs": [
    {
     "name": "stderr",
     "output_type": "stream",
     "text": [
      "/Users/harinirao/opt/anaconda3/lib/python3.7/site-packages/sklearn/linear_model/logistic.py:432: FutureWarning: Default solver will be changed to 'lbfgs' in 0.22. Specify a solver to silence this warning.\n",
      "  FutureWarning)\n",
      "/Users/harinirao/opt/anaconda3/lib/python3.7/site-packages/sklearn/linear_model/logistic.py:469: FutureWarning: Default multi_class will be changed to 'auto' in 0.22. Specify the multi_class option to silence this warning.\n",
      "  \"this warning.\", FutureWarning)\n"
     ]
    },
    {
     "data": {
      "text/plain": [
       "Pipeline(memory=None,\n",
       "         steps=[('cleaner', <__main__.predictors object at 0x7f893927bf90>),\n",
       "                ('vectorizer',\n",
       "                 CountVectorizer(analyzer='word', binary=False,\n",
       "                                 decode_error='strict',\n",
       "                                 dtype=<class 'numpy.int64'>, encoding='utf-8',\n",
       "                                 input='content', lowercase=True, max_df=1.0,\n",
       "                                 max_features=None, min_df=1,\n",
       "                                 ngram_range=(1, 1), preprocessor=None,\n",
       "                                 stop_words=None, strip_accents=None,\n",
       "                                 t...\\\\b\\\\w\\\\w+\\\\b',\n",
       "                                 tokenizer=<function spacy_tokenizer at 0x7f893d8fc200>,\n",
       "                                 vocabulary=None)),\n",
       "                ('classifier',\n",
       "                 LogisticRegression(C=1.0, class_weight=None, dual=False,\n",
       "                                    fit_intercept=True, intercept_scaling=1,\n",
       "                                    l1_ratio=None, max_iter=100,\n",
       "                                    multi_class='warn', n_jobs=None,\n",
       "                                    penalty='l2', random_state=None,\n",
       "                                    solver='warn', tol=0.0001, verbose=0,\n",
       "                                    warm_start=False))],\n",
       "         verbose=False)"
      ]
     },
     "execution_count": 23,
     "metadata": {},
     "output_type": "execute_result"
    }
   ],
   "source": [
    "# Logistic Regression Classifier\n",
    "from sklearn.linear_model import LogisticRegression\n",
    "classifier = LogisticRegression()\n",
    "\n",
    "# Create pipeline using Bag of Words\n",
    "pipe = Pipeline([(\"cleaner\", predictors()),\n",
    "                 ('vectorizer', bow_vector),\n",
    "                 ('classifier', classifier)])\n",
    "\n",
    "# model generation\n",
    "pipe.fit(X_train,y_train)"
   ]
  },
  {
   "cell_type": "code",
   "execution_count": 27,
   "metadata": {},
   "outputs": [
    {
     "name": "stdout",
     "output_type": "stream",
     "text": [
      "Logistic Regression Accuracy: 0.8550019915029209\n",
      "Logistic Regression Precision: [0.83335955 0.84067721 0.87878063]\n",
      "Logistic Regression Recall: [0.7386728  0.91229512 0.87418242]\n"
     ]
    }
   ],
   "source": [
    "from sklearn import metrics\n",
    "# Predicting with a test dataset\n",
    "predicted = pipe.predict(X_test)\n",
    "\n",
    "# Model Accuracy\n",
    "print(\"Logistic Regression Accuracy:\",metrics.accuracy_score(y_test, predicted))\n",
    "print(\"Logistic Regression Precision:\",metrics.precision_score(y_test, predicted,average=None))\n",
    "print(\"Logistic Regression Recall:\",metrics.recall_score(y_test, predicted,average=None))"
   ]
  },
  {
   "cell_type": "code",
   "execution_count": null,
   "metadata": {},
   "outputs": [],
   "source": []
  }
 ],
 "metadata": {
  "kernelspec": {
   "display_name": "Python 3",
   "language": "python",
   "name": "python3"
  },
  "language_info": {
   "codemirror_mode": {
    "name": "ipython",
    "version": 3
   },
   "file_extension": ".py",
   "mimetype": "text/x-python",
   "name": "python",
   "nbconvert_exporter": "python",
   "pygments_lexer": "ipython3",
   "version": "3.7.4"
  }
 },
 "nbformat": 4,
 "nbformat_minor": 4
}
