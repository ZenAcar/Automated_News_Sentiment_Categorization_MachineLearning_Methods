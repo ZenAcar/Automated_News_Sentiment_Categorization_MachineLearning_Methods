{
 "cells": [
  {
   "cell_type": "code",
   "execution_count": 1,
   "metadata": {
    "ExecuteTime": {
     "end_time": "2020-07-11T03:35:59.325215Z",
     "start_time": "2020-07-11T03:35:58.838216Z"
    }
   },
   "outputs": [],
   "source": [
    "import numpy as np # \n",
    "import pandas as pd # \n",
    "\n",
    "pd.set_option('display.max_rows', None)\n",
    "pd.set_option('display.max_columns', None)\n",
    "pd.set_option('display.width', None)\n",
    "pd.set_option('display.max_colwidth', -1)"
   ]
  },
  {
   "cell_type": "code",
   "execution_count": 2,
   "metadata": {
    "ExecuteTime": {
     "end_time": "2020-07-11T03:36:01.443217Z",
     "start_time": "2020-07-11T03:35:59.327216Z"
    }
   },
   "outputs": [
    {
     "data": {
      "text/html": [
       "<div>\n",
       "<style scoped>\n",
       "    .dataframe tbody tr th:only-of-type {\n",
       "        vertical-align: middle;\n",
       "    }\n",
       "\n",
       "    .dataframe tbody tr th {\n",
       "        vertical-align: top;\n",
       "    }\n",
       "\n",
       "    .dataframe thead th {\n",
       "        text-align: right;\n",
       "    }\n",
       "</style>\n",
       "<table border=\"1\" class=\"dataframe\">\n",
       "  <thead>\n",
       "    <tr style=\"text-align: right;\">\n",
       "      <th></th>\n",
       "      <th>label</th>\n",
       "      <th>short_description</th>\n",
       "    </tr>\n",
       "  </thead>\n",
       "  <tbody>\n",
       "    <tr>\n",
       "      <td>10206</td>\n",
       "      <td>Positive</td>\n",
       "      <td>In 2016 LinkNYC began deploying free public Wi-Fi kiosks throughout the city. The kiosks made news when people began using</td>\n",
       "    </tr>\n",
       "    <tr>\n",
       "      <td>1028</td>\n",
       "      <td>Negative</td>\n",
       "      <td>The first-of-its-kind accident killed a pedestrian in Arizona earlier this year.</td>\n",
       "    </tr>\n",
       "    <tr>\n",
       "      <td>10426</td>\n",
       "      <td>Positive</td>\n",
       "      <td>If you’re still looking for gift inspiration, these 12 days have got you covered</td>\n",
       "    </tr>\n",
       "    <tr>\n",
       "      <td>10616</td>\n",
       "      <td>Positive</td>\n",
       "      <td>The former employee who had shut down The Donald for 11 minutes says he loves Twitter and America.</td>\n",
       "    </tr>\n",
       "    <tr>\n",
       "      <td>10711</td>\n",
       "      <td>Negative</td>\n",
       "      <td>And it's working with other companies to scrub the internet of recruitment propaganda.</td>\n",
       "    </tr>\n",
       "  </tbody>\n",
       "</table>\n",
       "</div>"
      ],
      "text/plain": [
       "          label  \\\n",
       "10206  Positive   \n",
       "1028   Negative   \n",
       "10426  Positive   \n",
       "10616  Positive   \n",
       "10711  Negative   \n",
       "\n",
       "                                                                                                                short_description  \n",
       "10206  In 2016 LinkNYC began deploying free public Wi-Fi kiosks throughout the city. The kiosks made news when people began using  \n",
       "1028   The first-of-its-kind accident killed a pedestrian in Arizona earlier this year.                                            \n",
       "10426  If you’re still looking for gift inspiration, these 12 days have got you covered                                            \n",
       "10616  The former employee who had shut down The Donald for 11 minutes says he loves Twitter and America.                          \n",
       "10711  And it's working with other companies to scrub the internet of recruitment propaganda.                                      "
      ]
     },
     "execution_count": 2,
     "metadata": {},
     "output_type": "execute_result"
    }
   ],
   "source": [
    "# load data\n",
    "tech_df = pd.read_json('resources/technology_labeled_data.json', orient='index')\n",
    "tech_df.head()"
   ]
  },
  {
   "cell_type": "code",
   "execution_count": 3,
   "metadata": {
    "ExecuteTime": {
     "end_time": "2020-07-11T03:36:01.522222Z",
     "start_time": "2020-07-11T03:36:01.446218Z"
    }
   },
   "outputs": [
    {
     "data": {
      "text/plain": [
       "Positive    900\n",
       "Neutral     698\n",
       "Negative    484\n",
       "Name: label, dtype: int64"
      ]
     },
     "execution_count": 3,
     "metadata": {},
     "output_type": "execute_result"
    }
   ],
   "source": [
    "tech_df['label'].value_counts()"
   ]
  },
  {
   "cell_type": "code",
   "execution_count": 4,
   "metadata": {
    "ExecuteTime": {
     "end_time": "2020-07-11T03:36:02.411517Z",
     "start_time": "2020-07-11T03:36:02.363524Z"
    }
   },
   "outputs": [
    {
     "data": {
      "text/plain": [
       "(2082, 2)"
      ]
     },
     "execution_count": 4,
     "metadata": {},
     "output_type": "execute_result"
    }
   ],
   "source": [
    "tech_df.shape"
   ]
  },
  {
   "cell_type": "code",
   "execution_count": 5,
   "metadata": {},
   "outputs": [
    {
     "name": "stdout",
     "output_type": "stream",
     "text": [
      "<class 'pandas.core.frame.DataFrame'>\n",
      "Int64Index: 2082 entries, 10206 to 9823\n",
      "Data columns (total 2 columns):\n",
      "label                2082 non-null object\n",
      "short_description    2082 non-null object\n",
      "dtypes: object(2)\n",
      "memory usage: 48.8+ KB\n"
     ]
    }
   ],
   "source": [
    "# View data information\n",
    "tech_df.info()"
   ]
  },
  {
   "cell_type": "code",
   "execution_count": 6,
   "metadata": {},
   "outputs": [
    {
     "data": {
      "text/html": [
       "<div>\n",
       "<style scoped>\n",
       "    .dataframe tbody tr th:only-of-type {\n",
       "        vertical-align: middle;\n",
       "    }\n",
       "\n",
       "    .dataframe tbody tr th {\n",
       "        vertical-align: top;\n",
       "    }\n",
       "\n",
       "    .dataframe thead th {\n",
       "        text-align: right;\n",
       "    }\n",
       "</style>\n",
       "<table border=\"1\" class=\"dataframe\">\n",
       "  <thead>\n",
       "    <tr style=\"text-align: right;\">\n",
       "      <th></th>\n",
       "      <th>label</th>\n",
       "      <th>short_description</th>\n",
       "    </tr>\n",
       "  </thead>\n",
       "  <tbody>\n",
       "    <tr>\n",
       "      <td>85805</td>\n",
       "      <td>Positive</td>\n",
       "      <td>For instance, driving for Lyft or Uber can provide significant supplemental wages or be a temporary gig with a great deal</td>\n",
       "    </tr>\n",
       "    <tr>\n",
       "      <td>85811</td>\n",
       "      <td>Positive</td>\n",
       "      <td>Connecting billions of devices, machines, sensors and appliances to the Internet could generate tremendous economic value</td>\n",
       "    </tr>\n",
       "    <tr>\n",
       "      <td>85995</td>\n",
       "      <td>Positive</td>\n",
       "      <td>It doesn't take a cyber-security expect to know that you shouldn't share your email password or Social Security number on</td>\n",
       "    </tr>\n",
       "    <tr>\n",
       "      <td>86038</td>\n",
       "      <td>Negative</td>\n",
       "      <td>Protecting the privacy of citizens from those who would do them harm or steal from them is now intrinsically bound to encrypting devices, communications and data.\\n\\nThat's true whether for cellphones, email, health records, tax transcripts or the personnel files of  tens of millions of public servants.</td>\n",
       "    </tr>\n",
       "    <tr>\n",
       "      <td>86055</td>\n",
       "      <td>Neutral</td>\n",
       "      <td>The story behind a hashtag that helped transform the nation's opinion at hyper-speed.</td>\n",
       "    </tr>\n",
       "    <tr>\n",
       "      <td>86093</td>\n",
       "      <td>Negative</td>\n",
       "      <td>On Thursday, Facebook announced a change to its News Feed: Instead of passively following the glut of content selected by</td>\n",
       "    </tr>\n",
       "    <tr>\n",
       "      <td>86165</td>\n",
       "      <td>Positive</td>\n",
       "      <td>On Tuesday, the Department of Homeland Security showed how to deploy government technology poorly. Now, the Federal Election</td>\n",
       "    </tr>\n",
       "    <tr>\n",
       "      <td>86177</td>\n",
       "      <td>Neutral</td>\n",
       "      <td>Based upon your experiences to date, what advice would you give to other people in the tech industry considering public service</td>\n",
       "    </tr>\n",
       "    <tr>\n",
       "      <td>8623</td>\n",
       "      <td>Neutral</td>\n",
       "      <td>Remembering Equifax, Uber and all the other data breaches of the last year.</td>\n",
       "    </tr>\n",
       "    <tr>\n",
       "      <td>86273</td>\n",
       "      <td>Neutral</td>\n",
       "      <td>I've asked DHS all of these questions. If I receive a response to them or to the FOIA request that may or may not have been</td>\n",
       "    </tr>\n",
       "    <tr>\n",
       "      <td>86353</td>\n",
       "      <td>Neutral</td>\n",
       "      <td>When I started writing a column about parenting and screen time this spring, I talked to a lot of people about technology</td>\n",
       "    </tr>\n",
       "    <tr>\n",
       "      <td>8707</td>\n",
       "      <td>Neutral</td>\n",
       "      <td>The sale starts Dec. 29.</td>\n",
       "    </tr>\n",
       "    <tr>\n",
       "      <td>8859</td>\n",
       "      <td>Positive</td>\n",
       "      <td>We should hardly be surprised that Bitcoin is on a wild speculative ride—that’s the essence of privatized credit creation.</td>\n",
       "    </tr>\n",
       "    <tr>\n",
       "      <td>8997</td>\n",
       "      <td>Positive</td>\n",
       "      <td>But only in certain circumstances.</td>\n",
       "    </tr>\n",
       "    <tr>\n",
       "      <td>9130</td>\n",
       "      <td>Positive</td>\n",
       "      <td>The tech giant has proven time and again that it doesn’t deserve our trust.</td>\n",
       "    </tr>\n",
       "    <tr>\n",
       "      <td>9242</td>\n",
       "      <td>Positive</td>\n",
       "      <td>A heartwarming video perfectly captures the spirit of the season.</td>\n",
       "    </tr>\n",
       "    <tr>\n",
       "      <td>9393</td>\n",
       "      <td>Negative</td>\n",
       "      <td>That's why everyone has to start posting, the company argues in a blog post.</td>\n",
       "    </tr>\n",
       "    <tr>\n",
       "      <td>9456</td>\n",
       "      <td>Neutral</td>\n",
       "      <td>The divide just got a LOT bigger.</td>\n",
       "    </tr>\n",
       "    <tr>\n",
       "      <td>9495</td>\n",
       "      <td>Neutral</td>\n",
       "      <td>It could also be cheeky passcode training, an Apple spokesman says.</td>\n",
       "    </tr>\n",
       "    <tr>\n",
       "      <td>9823</td>\n",
       "      <td>Negative</td>\n",
       "      <td>Apple says the rumors aren't true.</td>\n",
       "    </tr>\n",
       "  </tbody>\n",
       "</table>\n",
       "</div>"
      ],
      "text/plain": [
       "          label  \\\n",
       "85805  Positive   \n",
       "85811  Positive   \n",
       "85995  Positive   \n",
       "86038  Negative   \n",
       "86055  Neutral    \n",
       "86093  Negative   \n",
       "86165  Positive   \n",
       "86177  Neutral    \n",
       "8623   Neutral    \n",
       "86273  Neutral    \n",
       "86353  Neutral    \n",
       "8707   Neutral    \n",
       "8859   Positive   \n",
       "8997   Positive   \n",
       "9130   Positive   \n",
       "9242   Positive   \n",
       "9393   Negative   \n",
       "9456   Neutral    \n",
       "9495   Neutral    \n",
       "9823   Negative   \n",
       "\n",
       "                                                                                                                                                                                                                                                                                                      short_description  \n",
       "85805  For instance, driving for Lyft or Uber can provide significant supplemental wages or be a temporary gig with a great deal                                                                                                                                                                                         \n",
       "85811  Connecting billions of devices, machines, sensors and appliances to the Internet could generate tremendous economic value                                                                                                                                                                                         \n",
       "85995  It doesn't take a cyber-security expect to know that you shouldn't share your email password or Social Security number on                                                                                                                                                                                         \n",
       "86038  Protecting the privacy of citizens from those who would do them harm or steal from them is now intrinsically bound to encrypting devices, communications and data.\\n\\nThat's true whether for cellphones, email, health records, tax transcripts or the personnel files of  tens of millions of public servants.  \n",
       "86055  The story behind a hashtag that helped transform the nation's opinion at hyper-speed.                                                                                                                                                                                                                             \n",
       "86093  On Thursday, Facebook announced a change to its News Feed: Instead of passively following the glut of content selected by                                                                                                                                                                                         \n",
       "86165  On Tuesday, the Department of Homeland Security showed how to deploy government technology poorly. Now, the Federal Election                                                                                                                                                                                      \n",
       "86177  Based upon your experiences to date, what advice would you give to other people in the tech industry considering public service                                                                                                                                                                                   \n",
       "8623   Remembering Equifax, Uber and all the other data breaches of the last year.                                                                                                                                                                                                                                       \n",
       "86273  I've asked DHS all of these questions. If I receive a response to them or to the FOIA request that may or may not have been                                                                                                                                                                                       \n",
       "86353  When I started writing a column about parenting and screen time this spring, I talked to a lot of people about technology                                                                                                                                                                                         \n",
       "8707   The sale starts Dec. 29.                                                                                                                                                                                                                                                                                          \n",
       "8859   We should hardly be surprised that Bitcoin is on a wild speculative ride—that’s the essence of privatized credit creation.                                                                                                                                                                                        \n",
       "8997   But only in certain circumstances.                                                                                                                                                                                                                                                                                \n",
       "9130   The tech giant has proven time and again that it doesn’t deserve our trust.                                                                                                                                                                                                                                       \n",
       "9242   A heartwarming video perfectly captures the spirit of the season.                                                                                                                                                                                                                                                 \n",
       "9393   That's why everyone has to start posting, the company argues in a blog post.                                                                                                                                                                                                                                      \n",
       "9456   The divide just got a LOT bigger.                                                                                                                                                                                                                                                                                 \n",
       "9495   It could also be cheeky passcode training, an Apple spokesman says.                                                                                                                                                                                                                                               \n",
       "9823   Apple says the rumors aren't true.                                                                                                                                                                                                                                                                                "
      ]
     },
     "execution_count": 6,
     "metadata": {},
     "output_type": "execute_result"
    }
   ],
   "source": [
    "tech_df.tail(20)"
   ]
  },
  {
   "cell_type": "markdown",
   "metadata": {},
   "source": [
    "# install spacy\n",
    "\n",
    "!pip install spacy\n",
    "!python -m spacy download en"
   ]
  },
  {
   "cell_type": "code",
   "execution_count": 7,
   "metadata": {},
   "outputs": [],
   "source": [
    "import pandas as pd\n",
    "from sklearn.feature_extraction.text import CountVectorizer,TfidfVectorizer\n",
    "from sklearn.base import TransformerMixin\n",
    "from sklearn.pipeline import Pipeline"
   ]
  },
  {
   "cell_type": "code",
   "execution_count": 8,
   "metadata": {},
   "outputs": [],
   "source": [
    "import string\n",
    "import spacy\n",
    "from spacy.lang.en.stop_words import STOP_WORDS\n",
    "from spacy.lang.en import English\n",
    "\n",
    "# Create our list of punctuation marks\n",
    "punctuations = string.punctuation\n",
    "\n",
    "# Create our list of stopwords\n",
    "nlp = spacy.load('en')\n",
    "stop_words = spacy.lang.en.stop_words.STOP_WORDS\n",
    "\n",
    "# Load English tokenizer, tagger, parser, NER and word vectors\n",
    "parser = English()\n",
    "\n",
    "# Creating our tokenizer function\n",
    "def spacy_tokenizer(sentence):\n",
    "    # Creating our token object, which is used to create documents with linguistic annotations.\n",
    "    tokens = parser(sentence)\n",
    "\n",
    "    # Lemmatizing each token and converting each token into lowercase\n",
    "    tokens = [ word.lemma_.lower().strip() if word.lemma_ != \"-PRON-\" else word.lower_ for word in tokens ]\n",
    "\n",
    "    # Removing stop words\n",
    "    tokens = [ word for word in tokens if word not in stop_words and word not in punctuations ]\n",
    "\n",
    "    # return preprocessed list of tokens\n",
    "    return tokens"
   ]
  },
  {
   "cell_type": "code",
   "execution_count": 9,
   "metadata": {},
   "outputs": [],
   "source": [
    "# Custom transformer using spaCy\n",
    "class predictors(TransformerMixin):\n",
    "    def transform(self, X, **transform_params):\n",
    "        # Cleaning Text\n",
    "        return [clean_text(text) for text in X]\n",
    "\n",
    "    def fit(self, X, y=None, **fit_params):\n",
    "        return self\n",
    "\n",
    "    def get_params(self, deep=True):\n",
    "        return {}\n",
    "\n",
    "# Basic function to clean the text\n",
    "def clean_text(text):\n",
    "    # Removing spaces and converting text into lowercase\n",
    "    return text.strip().lower()"
   ]
  },
  {
   "cell_type": "code",
   "execution_count": 10,
   "metadata": {},
   "outputs": [],
   "source": [
    "bow_vector = CountVectorizer(tokenizer = spacy_tokenizer, ngram_range=(1,1))"
   ]
  },
  {
   "cell_type": "code",
   "execution_count": 11,
   "metadata": {},
   "outputs": [],
   "source": [
    "tfidf_vector = TfidfVectorizer(tokenizer = spacy_tokenizer)"
   ]
  },
  {
   "cell_type": "code",
   "execution_count": 12,
   "metadata": {},
   "outputs": [],
   "source": [
    "from sklearn.model_selection import train_test_split\n",
    "\n",
    "X = tech_df['short_description'] # the features we want to analyze\n",
    "ylabels = tech_df['label'] # the labels, or answers, we want to test against\n",
    "\n",
    "X_train, X_test, y_train, y_test = train_test_split(X, ylabels, test_size=0.3)"
   ]
  },
  {
   "cell_type": "code",
   "execution_count": 13,
   "metadata": {},
   "outputs": [
    {
     "name": "stderr",
     "output_type": "stream",
     "text": [
      "/Users/harinirao/opt/anaconda3/lib/python3.7/site-packages/sklearn/linear_model/logistic.py:432: FutureWarning: Default solver will be changed to 'lbfgs' in 0.22. Specify a solver to silence this warning.\n",
      "  FutureWarning)\n",
      "/Users/harinirao/opt/anaconda3/lib/python3.7/site-packages/sklearn/linear_model/logistic.py:469: FutureWarning: Default multi_class will be changed to 'auto' in 0.22. Specify the multi_class option to silence this warning.\n",
      "  \"this warning.\", FutureWarning)\n"
     ]
    },
    {
     "data": {
      "text/plain": [
       "Pipeline(memory=None,\n",
       "         steps=[('cleaner', <__main__.predictors object at 0x7fb5712dde50>),\n",
       "                ('vectorizer',\n",
       "                 CountVectorizer(analyzer='word', binary=False,\n",
       "                                 decode_error='strict',\n",
       "                                 dtype=<class 'numpy.int64'>, encoding='utf-8',\n",
       "                                 input='content', lowercase=True, max_df=1.0,\n",
       "                                 max_features=None, min_df=1,\n",
       "                                 ngram_range=(1, 1), preprocessor=None,\n",
       "                                 stop_words=None, strip_accents=None,\n",
       "                                 t...\\\\b\\\\w\\\\w+\\\\b',\n",
       "                                 tokenizer=<function spacy_tokenizer at 0x7fb56f43eb90>,\n",
       "                                 vocabulary=None)),\n",
       "                ('classifier',\n",
       "                 LogisticRegression(C=1.0, class_weight=None, dual=False,\n",
       "                                    fit_intercept=True, intercept_scaling=1,\n",
       "                                    l1_ratio=None, max_iter=100,\n",
       "                                    multi_class='warn', n_jobs=None,\n",
       "                                    penalty='l2', random_state=None,\n",
       "                                    solver='warn', tol=0.0001, verbose=0,\n",
       "                                    warm_start=False))],\n",
       "         verbose=False)"
      ]
     },
     "execution_count": 13,
     "metadata": {},
     "output_type": "execute_result"
    }
   ],
   "source": [
    "# Logistic Regression Classifier\n",
    "from sklearn.linear_model import LogisticRegression\n",
    "classifier = LogisticRegression()\n",
    "\n",
    "# Create pipeline using Bag of Words\n",
    "pipe = Pipeline([(\"cleaner\", predictors()),\n",
    "                 ('vectorizer', bow_vector),\n",
    "                 ('classifier', classifier)])\n",
    "\n",
    "# model generation\n",
    "pipe.fit(X_train,y_train)"
   ]
  },
  {
   "cell_type": "code",
   "execution_count": 14,
   "metadata": {},
   "outputs": [
    {
     "name": "stdout",
     "output_type": "stream",
     "text": [
      "Logistic Regression Accuracy: 0.608\n",
      "Logistic Regression Precision: [0.62162162 0.54814815 0.66192171]\n",
      "Logistic Regression Recall: [0.30872483 0.73267327 0.67883212]\n",
      "              precision    recall  f1-score   support\n",
      "\n",
      "    Negative       0.62      0.31      0.41       149\n",
      "     Neutral       0.55      0.73      0.63       202\n",
      "    Positive       0.66      0.68      0.67       274\n",
      "\n",
      "    accuracy                           0.61       625\n",
      "   macro avg       0.61      0.57      0.57       625\n",
      "weighted avg       0.62      0.61      0.59       625\n",
      "\n"
     ]
    }
   ],
   "source": [
    "from sklearn import metrics\n",
    "from sklearn.metrics import classification_report\n",
    "# Predicting with a test dataset\n",
    "predicted = pipe.predict(X_test)\n",
    "\n",
    "# Model Accuracy\n",
    "print(\"Logistic Regression Accuracy:\",metrics.accuracy_score(y_test, predicted))\n",
    "print(\"Logistic Regression Precision:\",metrics.precision_score(y_test, predicted,average=None))\n",
    "print(\"Logistic Regression Recall:\",metrics.recall_score(y_test, predicted,average=None))\n",
    "print(classification_report(y_test, predicted))"
   ]
  },
  {
   "cell_type": "code",
   "execution_count": 15,
   "metadata": {},
   "outputs": [
    {
     "name": "stdout",
     "output_type": "stream",
     "text": [
      "Fitting 3 folds for each of 5 candidates, totalling 15 fits\n",
      "[CV] classifier__C=100, classifier__penalty=l2, classifier__solver=liblinear \n"
     ]
    },
    {
     "name": "stderr",
     "output_type": "stream",
     "text": [
      "[Parallel(n_jobs=1)]: Using backend SequentialBackend with 1 concurrent workers.\n",
      "/Users/harinirao/opt/anaconda3/lib/python3.7/site-packages/sklearn/linear_model/logistic.py:469: FutureWarning: Default multi_class will be changed to 'auto' in 0.22. Specify the multi_class option to silence this warning.\n",
      "  \"this warning.\", FutureWarning)\n",
      "[Parallel(n_jobs=1)]: Done   1 out of   1 | elapsed:    0.5s remaining:    0.0s\n"
     ]
    },
    {
     "name": "stdout",
     "output_type": "stream",
     "text": [
      "[CV]  classifier__C=100, classifier__penalty=l2, classifier__solver=liblinear, score=0.583, total=   0.5s\n",
      "[CV] classifier__C=100, classifier__penalty=l2, classifier__solver=liblinear \n"
     ]
    },
    {
     "name": "stderr",
     "output_type": "stream",
     "text": [
      "/Users/harinirao/opt/anaconda3/lib/python3.7/site-packages/sklearn/linear_model/logistic.py:469: FutureWarning: Default multi_class will be changed to 'auto' in 0.22. Specify the multi_class option to silence this warning.\n",
      "  \"this warning.\", FutureWarning)\n"
     ]
    },
    {
     "name": "stdout",
     "output_type": "stream",
     "text": [
      "[CV]  classifier__C=100, classifier__penalty=l2, classifier__solver=liblinear, score=0.582, total=   0.6s\n",
      "[CV] classifier__C=100, classifier__penalty=l2, classifier__solver=liblinear \n"
     ]
    },
    {
     "name": "stderr",
     "output_type": "stream",
     "text": [
      "[Parallel(n_jobs=1)]: Done   2 out of   2 | elapsed:    1.1s remaining:    0.0s\n",
      "/Users/harinirao/opt/anaconda3/lib/python3.7/site-packages/sklearn/linear_model/logistic.py:469: FutureWarning: Default multi_class will be changed to 'auto' in 0.22. Specify the multi_class option to silence this warning.\n",
      "  \"this warning.\", FutureWarning)\n"
     ]
    },
    {
     "name": "stdout",
     "output_type": "stream",
     "text": [
      "[CV]  classifier__C=100, classifier__penalty=l2, classifier__solver=liblinear, score=0.531, total=   0.6s\n",
      "[CV] classifier__C=10, classifier__penalty=l2, classifier__solver=liblinear \n"
     ]
    },
    {
     "name": "stderr",
     "output_type": "stream",
     "text": [
      "/Users/harinirao/opt/anaconda3/lib/python3.7/site-packages/sklearn/linear_model/logistic.py:469: FutureWarning: Default multi_class will be changed to 'auto' in 0.22. Specify the multi_class option to silence this warning.\n",
      "  \"this warning.\", FutureWarning)\n"
     ]
    },
    {
     "name": "stdout",
     "output_type": "stream",
     "text": [
      "[CV]  classifier__C=10, classifier__penalty=l2, classifier__solver=liblinear, score=0.583, total=   0.4s\n",
      "[CV] classifier__C=10, classifier__penalty=l2, classifier__solver=liblinear \n"
     ]
    },
    {
     "name": "stderr",
     "output_type": "stream",
     "text": [
      "/Users/harinirao/opt/anaconda3/lib/python3.7/site-packages/sklearn/linear_model/logistic.py:469: FutureWarning: Default multi_class will be changed to 'auto' in 0.22. Specify the multi_class option to silence this warning.\n",
      "  \"this warning.\", FutureWarning)\n"
     ]
    },
    {
     "name": "stdout",
     "output_type": "stream",
     "text": [
      "[CV]  classifier__C=10, classifier__penalty=l2, classifier__solver=liblinear, score=0.584, total=   0.5s\n",
      "[CV] classifier__C=10, classifier__penalty=l2, classifier__solver=liblinear \n"
     ]
    },
    {
     "name": "stderr",
     "output_type": "stream",
     "text": [
      "/Users/harinirao/opt/anaconda3/lib/python3.7/site-packages/sklearn/linear_model/logistic.py:469: FutureWarning: Default multi_class will be changed to 'auto' in 0.22. Specify the multi_class option to silence this warning.\n",
      "  \"this warning.\", FutureWarning)\n"
     ]
    },
    {
     "name": "stdout",
     "output_type": "stream",
     "text": [
      "[CV]  classifier__C=10, classifier__penalty=l2, classifier__solver=liblinear, score=0.554, total=   0.4s\n",
      "[CV] classifier__C=1.0, classifier__penalty=l2, classifier__solver=liblinear \n"
     ]
    },
    {
     "name": "stderr",
     "output_type": "stream",
     "text": [
      "/Users/harinirao/opt/anaconda3/lib/python3.7/site-packages/sklearn/linear_model/logistic.py:469: FutureWarning: Default multi_class will be changed to 'auto' in 0.22. Specify the multi_class option to silence this warning.\n",
      "  \"this warning.\", FutureWarning)\n"
     ]
    },
    {
     "name": "stdout",
     "output_type": "stream",
     "text": [
      "[CV]  classifier__C=1.0, classifier__penalty=l2, classifier__solver=liblinear, score=0.600, total=   0.4s\n",
      "[CV] classifier__C=1.0, classifier__penalty=l2, classifier__solver=liblinear \n"
     ]
    },
    {
     "name": "stderr",
     "output_type": "stream",
     "text": [
      "/Users/harinirao/opt/anaconda3/lib/python3.7/site-packages/sklearn/linear_model/logistic.py:469: FutureWarning: Default multi_class will be changed to 'auto' in 0.22. Specify the multi_class option to silence this warning.\n",
      "  \"this warning.\", FutureWarning)\n"
     ]
    },
    {
     "name": "stdout",
     "output_type": "stream",
     "text": [
      "[CV]  classifier__C=1.0, classifier__penalty=l2, classifier__solver=liblinear, score=0.599, total=   0.4s\n",
      "[CV] classifier__C=1.0, classifier__penalty=l2, classifier__solver=liblinear \n"
     ]
    },
    {
     "name": "stderr",
     "output_type": "stream",
     "text": [
      "/Users/harinirao/opt/anaconda3/lib/python3.7/site-packages/sklearn/linear_model/logistic.py:469: FutureWarning: Default multi_class will be changed to 'auto' in 0.22. Specify the multi_class option to silence this warning.\n",
      "  \"this warning.\", FutureWarning)\n"
     ]
    },
    {
     "name": "stdout",
     "output_type": "stream",
     "text": [
      "[CV]  classifier__C=1.0, classifier__penalty=l2, classifier__solver=liblinear, score=0.550, total=   0.5s\n",
      "[CV] classifier__C=0.1, classifier__penalty=l2, classifier__solver=liblinear \n"
     ]
    },
    {
     "name": "stderr",
     "output_type": "stream",
     "text": [
      "/Users/harinirao/opt/anaconda3/lib/python3.7/site-packages/sklearn/linear_model/logistic.py:469: FutureWarning: Default multi_class will be changed to 'auto' in 0.22. Specify the multi_class option to silence this warning.\n",
      "  \"this warning.\", FutureWarning)\n"
     ]
    },
    {
     "name": "stdout",
     "output_type": "stream",
     "text": [
      "[CV]  classifier__C=0.1, classifier__penalty=l2, classifier__solver=liblinear, score=0.575, total=   0.4s\n",
      "[CV] classifier__C=0.1, classifier__penalty=l2, classifier__solver=liblinear \n"
     ]
    },
    {
     "name": "stderr",
     "output_type": "stream",
     "text": [
      "/Users/harinirao/opt/anaconda3/lib/python3.7/site-packages/sklearn/linear_model/logistic.py:469: FutureWarning: Default multi_class will be changed to 'auto' in 0.22. Specify the multi_class option to silence this warning.\n",
      "  \"this warning.\", FutureWarning)\n"
     ]
    },
    {
     "name": "stdout",
     "output_type": "stream",
     "text": [
      "[CV]  classifier__C=0.1, classifier__penalty=l2, classifier__solver=liblinear, score=0.560, total=   0.4s\n",
      "[CV] classifier__C=0.1, classifier__penalty=l2, classifier__solver=liblinear \n"
     ]
    },
    {
     "name": "stderr",
     "output_type": "stream",
     "text": [
      "/Users/harinirao/opt/anaconda3/lib/python3.7/site-packages/sklearn/linear_model/logistic.py:469: FutureWarning: Default multi_class will be changed to 'auto' in 0.22. Specify the multi_class option to silence this warning.\n",
      "  \"this warning.\", FutureWarning)\n"
     ]
    },
    {
     "name": "stdout",
     "output_type": "stream",
     "text": [
      "[CV]  classifier__C=0.1, classifier__penalty=l2, classifier__solver=liblinear, score=0.548, total=   0.4s\n",
      "[CV] classifier__C=0.01, classifier__penalty=l2, classifier__solver=liblinear \n"
     ]
    },
    {
     "name": "stderr",
     "output_type": "stream",
     "text": [
      "/Users/harinirao/opt/anaconda3/lib/python3.7/site-packages/sklearn/linear_model/logistic.py:469: FutureWarning: Default multi_class will be changed to 'auto' in 0.22. Specify the multi_class option to silence this warning.\n",
      "  \"this warning.\", FutureWarning)\n"
     ]
    },
    {
     "name": "stdout",
     "output_type": "stream",
     "text": [
      "[CV]  classifier__C=0.01, classifier__penalty=l2, classifier__solver=liblinear, score=0.427, total=   0.4s\n",
      "[CV] classifier__C=0.01, classifier__penalty=l2, classifier__solver=liblinear \n"
     ]
    },
    {
     "name": "stderr",
     "output_type": "stream",
     "text": [
      "/Users/harinirao/opt/anaconda3/lib/python3.7/site-packages/sklearn/linear_model/logistic.py:469: FutureWarning: Default multi_class will be changed to 'auto' in 0.22. Specify the multi_class option to silence this warning.\n",
      "  \"this warning.\", FutureWarning)\n"
     ]
    },
    {
     "name": "stdout",
     "output_type": "stream",
     "text": [
      "[CV]  classifier__C=0.01, classifier__penalty=l2, classifier__solver=liblinear, score=0.430, total=   0.5s\n",
      "[CV] classifier__C=0.01, classifier__penalty=l2, classifier__solver=liblinear \n"
     ]
    },
    {
     "name": "stderr",
     "output_type": "stream",
     "text": [
      "/Users/harinirao/opt/anaconda3/lib/python3.7/site-packages/sklearn/linear_model/logistic.py:469: FutureWarning: Default multi_class will be changed to 'auto' in 0.22. Specify the multi_class option to silence this warning.\n",
      "  \"this warning.\", FutureWarning)\n",
      "[Parallel(n_jobs=1)]: Done  15 out of  15 | elapsed:    6.9s finished\n"
     ]
    },
    {
     "name": "stdout",
     "output_type": "stream",
     "text": [
      "[CV]  classifier__C=0.01, classifier__penalty=l2, classifier__solver=liblinear, score=0.432, total=   0.5s\n"
     ]
    },
    {
     "name": "stderr",
     "output_type": "stream",
     "text": [
      "/Users/harinirao/opt/anaconda3/lib/python3.7/site-packages/sklearn/linear_model/logistic.py:469: FutureWarning: Default multi_class will be changed to 'auto' in 0.22. Specify the multi_class option to silence this warning.\n",
      "  \"this warning.\", FutureWarning)\n"
     ]
    }
   ],
   "source": [
    "# Hyper Tuning the parameters\n",
    "# Create the GridSearchCV model\n",
    "\n",
    "from sklearn.model_selection import GridSearchCV\n",
    "\n",
    "# define models and parameters\n",
    "solvers = ['liblinear']\n",
    "penalty = ['l2']\n",
    "c_values = [100, 10, 1.0, 0.1, 0.01]\n",
    "\n",
    "# define grid search\n",
    "grid = dict(solver=solvers,penalty=penalty,C=c_values)\n",
    "new_grid = {'classifier__' + key: grid[key] for key in grid }\n",
    "grid_search = GridSearchCV(pipe, param_grid=new_grid, n_jobs = 1, cv=3, verbose=3,refit=True)\n",
    "\n",
    "# model generation\n",
    "grid_result = grid_search.fit(X_train, y_train)"
   ]
  },
  {
   "cell_type": "code",
   "execution_count": 16,
   "metadata": {},
   "outputs": [
    {
     "name": "stderr",
     "output_type": "stream",
     "text": [
      "[Parallel(n_jobs=1)]: Using backend SequentialBackend with 1 concurrent workers.\n"
     ]
    },
    {
     "name": "stdout",
     "output_type": "stream",
     "text": [
      "Fitting 3 folds for each of 5 candidates, totalling 15 fits\n",
      "[CV] classifier__C=100, classifier__penalty=l2, classifier__solver=liblinear \n"
     ]
    },
    {
     "name": "stderr",
     "output_type": "stream",
     "text": [
      "/Users/harinirao/opt/anaconda3/lib/python3.7/site-packages/sklearn/linear_model/logistic.py:469: FutureWarning: Default multi_class will be changed to 'auto' in 0.22. Specify the multi_class option to silence this warning.\n",
      "  \"this warning.\", FutureWarning)\n",
      "[Parallel(n_jobs=1)]: Done   1 out of   1 | elapsed:    0.5s remaining:    0.0s\n"
     ]
    },
    {
     "name": "stdout",
     "output_type": "stream",
     "text": [
      "[CV]  classifier__C=100, classifier__penalty=l2, classifier__solver=liblinear, score=0.583, total=   0.5s\n",
      "[CV] classifier__C=100, classifier__penalty=l2, classifier__solver=liblinear \n"
     ]
    },
    {
     "name": "stderr",
     "output_type": "stream",
     "text": [
      "/Users/harinirao/opt/anaconda3/lib/python3.7/site-packages/sklearn/linear_model/logistic.py:469: FutureWarning: Default multi_class will be changed to 'auto' in 0.22. Specify the multi_class option to silence this warning.\n",
      "  \"this warning.\", FutureWarning)\n",
      "[Parallel(n_jobs=1)]: Done   2 out of   2 | elapsed:    0.9s remaining:    0.0s\n"
     ]
    },
    {
     "name": "stdout",
     "output_type": "stream",
     "text": [
      "[CV]  classifier__C=100, classifier__penalty=l2, classifier__solver=liblinear, score=0.582, total=   0.5s\n",
      "[CV] classifier__C=100, classifier__penalty=l2, classifier__solver=liblinear \n"
     ]
    },
    {
     "name": "stderr",
     "output_type": "stream",
     "text": [
      "/Users/harinirao/opt/anaconda3/lib/python3.7/site-packages/sklearn/linear_model/logistic.py:469: FutureWarning: Default multi_class will be changed to 'auto' in 0.22. Specify the multi_class option to silence this warning.\n",
      "  \"this warning.\", FutureWarning)\n"
     ]
    },
    {
     "name": "stdout",
     "output_type": "stream",
     "text": [
      "[CV]  classifier__C=100, classifier__penalty=l2, classifier__solver=liblinear, score=0.531, total=   0.4s\n",
      "[CV] classifier__C=10, classifier__penalty=l2, classifier__solver=liblinear \n"
     ]
    },
    {
     "name": "stderr",
     "output_type": "stream",
     "text": [
      "/Users/harinirao/opt/anaconda3/lib/python3.7/site-packages/sklearn/linear_model/logistic.py:469: FutureWarning: Default multi_class will be changed to 'auto' in 0.22. Specify the multi_class option to silence this warning.\n",
      "  \"this warning.\", FutureWarning)\n"
     ]
    },
    {
     "name": "stdout",
     "output_type": "stream",
     "text": [
      "[CV]  classifier__C=10, classifier__penalty=l2, classifier__solver=liblinear, score=0.583, total=   0.4s\n",
      "[CV] classifier__C=10, classifier__penalty=l2, classifier__solver=liblinear \n"
     ]
    },
    {
     "name": "stderr",
     "output_type": "stream",
     "text": [
      "/Users/harinirao/opt/anaconda3/lib/python3.7/site-packages/sklearn/linear_model/logistic.py:469: FutureWarning: Default multi_class will be changed to 'auto' in 0.22. Specify the multi_class option to silence this warning.\n",
      "  \"this warning.\", FutureWarning)\n"
     ]
    },
    {
     "name": "stdout",
     "output_type": "stream",
     "text": [
      "[CV]  classifier__C=10, classifier__penalty=l2, classifier__solver=liblinear, score=0.584, total=   0.4s\n",
      "[CV] classifier__C=10, classifier__penalty=l2, classifier__solver=liblinear \n"
     ]
    },
    {
     "name": "stderr",
     "output_type": "stream",
     "text": [
      "/Users/harinirao/opt/anaconda3/lib/python3.7/site-packages/sklearn/linear_model/logistic.py:469: FutureWarning: Default multi_class will be changed to 'auto' in 0.22. Specify the multi_class option to silence this warning.\n",
      "  \"this warning.\", FutureWarning)\n"
     ]
    },
    {
     "name": "stdout",
     "output_type": "stream",
     "text": [
      "[CV]  classifier__C=10, classifier__penalty=l2, classifier__solver=liblinear, score=0.554, total=   0.4s\n",
      "[CV] classifier__C=1.0, classifier__penalty=l2, classifier__solver=liblinear \n"
     ]
    },
    {
     "name": "stderr",
     "output_type": "stream",
     "text": [
      "/Users/harinirao/opt/anaconda3/lib/python3.7/site-packages/sklearn/linear_model/logistic.py:469: FutureWarning: Default multi_class will be changed to 'auto' in 0.22. Specify the multi_class option to silence this warning.\n",
      "  \"this warning.\", FutureWarning)\n"
     ]
    },
    {
     "name": "stdout",
     "output_type": "stream",
     "text": [
      "[CV]  classifier__C=1.0, classifier__penalty=l2, classifier__solver=liblinear, score=0.600, total=   0.5s\n",
      "[CV] classifier__C=1.0, classifier__penalty=l2, classifier__solver=liblinear \n"
     ]
    },
    {
     "name": "stderr",
     "output_type": "stream",
     "text": [
      "/Users/harinirao/opt/anaconda3/lib/python3.7/site-packages/sklearn/linear_model/logistic.py:469: FutureWarning: Default multi_class will be changed to 'auto' in 0.22. Specify the multi_class option to silence this warning.\n",
      "  \"this warning.\", FutureWarning)\n"
     ]
    },
    {
     "name": "stdout",
     "output_type": "stream",
     "text": [
      "[CV]  classifier__C=1.0, classifier__penalty=l2, classifier__solver=liblinear, score=0.599, total=   0.5s\n",
      "[CV] classifier__C=1.0, classifier__penalty=l2, classifier__solver=liblinear \n"
     ]
    },
    {
     "name": "stderr",
     "output_type": "stream",
     "text": [
      "/Users/harinirao/opt/anaconda3/lib/python3.7/site-packages/sklearn/linear_model/logistic.py:469: FutureWarning: Default multi_class will be changed to 'auto' in 0.22. Specify the multi_class option to silence this warning.\n",
      "  \"this warning.\", FutureWarning)\n"
     ]
    },
    {
     "name": "stdout",
     "output_type": "stream",
     "text": [
      "[CV]  classifier__C=1.0, classifier__penalty=l2, classifier__solver=liblinear, score=0.550, total=   0.4s\n",
      "[CV] classifier__C=0.1, classifier__penalty=l2, classifier__solver=liblinear \n"
     ]
    },
    {
     "name": "stderr",
     "output_type": "stream",
     "text": [
      "/Users/harinirao/opt/anaconda3/lib/python3.7/site-packages/sklearn/linear_model/logistic.py:469: FutureWarning: Default multi_class will be changed to 'auto' in 0.22. Specify the multi_class option to silence this warning.\n",
      "  \"this warning.\", FutureWarning)\n"
     ]
    },
    {
     "name": "stdout",
     "output_type": "stream",
     "text": [
      "[CV]  classifier__C=0.1, classifier__penalty=l2, classifier__solver=liblinear, score=0.575, total=   0.4s\n",
      "[CV] classifier__C=0.1, classifier__penalty=l2, classifier__solver=liblinear \n"
     ]
    },
    {
     "name": "stderr",
     "output_type": "stream",
     "text": [
      "/Users/harinirao/opt/anaconda3/lib/python3.7/site-packages/sklearn/linear_model/logistic.py:469: FutureWarning: Default multi_class will be changed to 'auto' in 0.22. Specify the multi_class option to silence this warning.\n",
      "  \"this warning.\", FutureWarning)\n"
     ]
    },
    {
     "name": "stdout",
     "output_type": "stream",
     "text": [
      "[CV]  classifier__C=0.1, classifier__penalty=l2, classifier__solver=liblinear, score=0.560, total=   0.5s\n",
      "[CV] classifier__C=0.1, classifier__penalty=l2, classifier__solver=liblinear \n"
     ]
    },
    {
     "name": "stderr",
     "output_type": "stream",
     "text": [
      "/Users/harinirao/opt/anaconda3/lib/python3.7/site-packages/sklearn/linear_model/logistic.py:469: FutureWarning: Default multi_class will be changed to 'auto' in 0.22. Specify the multi_class option to silence this warning.\n",
      "  \"this warning.\", FutureWarning)\n"
     ]
    },
    {
     "name": "stdout",
     "output_type": "stream",
     "text": [
      "[CV]  classifier__C=0.1, classifier__penalty=l2, classifier__solver=liblinear, score=0.548, total=   0.5s\n",
      "[CV] classifier__C=0.01, classifier__penalty=l2, classifier__solver=liblinear \n"
     ]
    },
    {
     "name": "stderr",
     "output_type": "stream",
     "text": [
      "/Users/harinirao/opt/anaconda3/lib/python3.7/site-packages/sklearn/linear_model/logistic.py:469: FutureWarning: Default multi_class will be changed to 'auto' in 0.22. Specify the multi_class option to silence this warning.\n",
      "  \"this warning.\", FutureWarning)\n"
     ]
    },
    {
     "name": "stdout",
     "output_type": "stream",
     "text": [
      "[CV]  classifier__C=0.01, classifier__penalty=l2, classifier__solver=liblinear, score=0.427, total=   0.5s\n",
      "[CV] classifier__C=0.01, classifier__penalty=l2, classifier__solver=liblinear \n"
     ]
    },
    {
     "name": "stderr",
     "output_type": "stream",
     "text": [
      "/Users/harinirao/opt/anaconda3/lib/python3.7/site-packages/sklearn/linear_model/logistic.py:469: FutureWarning: Default multi_class will be changed to 'auto' in 0.22. Specify the multi_class option to silence this warning.\n",
      "  \"this warning.\", FutureWarning)\n"
     ]
    },
    {
     "name": "stdout",
     "output_type": "stream",
     "text": [
      "[CV]  classifier__C=0.01, classifier__penalty=l2, classifier__solver=liblinear, score=0.430, total=   0.4s\n",
      "[CV] classifier__C=0.01, classifier__penalty=l2, classifier__solver=liblinear \n"
     ]
    },
    {
     "name": "stderr",
     "output_type": "stream",
     "text": [
      "/Users/harinirao/opt/anaconda3/lib/python3.7/site-packages/sklearn/linear_model/logistic.py:469: FutureWarning: Default multi_class will be changed to 'auto' in 0.22. Specify the multi_class option to silence this warning.\n",
      "  \"this warning.\", FutureWarning)\n",
      "[Parallel(n_jobs=1)]: Done  15 out of  15 | elapsed:    6.8s finished\n"
     ]
    },
    {
     "name": "stdout",
     "output_type": "stream",
     "text": [
      "[CV]  classifier__C=0.01, classifier__penalty=l2, classifier__solver=liblinear, score=0.432, total=   0.5s\n"
     ]
    },
    {
     "name": "stderr",
     "output_type": "stream",
     "text": [
      "/Users/harinirao/opt/anaconda3/lib/python3.7/site-packages/sklearn/linear_model/logistic.py:469: FutureWarning: Default multi_class will be changed to 'auto' in 0.22. Specify the multi_class option to silence this warning.\n",
      "  \"this warning.\", FutureWarning)\n"
     ]
    },
    {
     "data": {
      "text/plain": [
       "GridSearchCV(cv=3, error_score='raise-deprecating',\n",
       "             estimator=Pipeline(memory=None,\n",
       "                                steps=[('cleaner',\n",
       "                                        <__main__.predictors object at 0x7fb5712dde50>),\n",
       "                                       ('vectorizer',\n",
       "                                        CountVectorizer(analyzer='word',\n",
       "                                                        binary=False,\n",
       "                                                        decode_error='strict',\n",
       "                                                        dtype=<class 'numpy.int64'>,\n",
       "                                                        encoding='utf-8',\n",
       "                                                        input='content',\n",
       "                                                        lowercase=True,\n",
       "                                                        max_df=1.0,\n",
       "                                                        max_features=None,\n",
       "                                                        min_df=1,\n",
       "                                                        ngram_range=...\n",
       "                                                           multi_class='warn',\n",
       "                                                           n_jobs=None,\n",
       "                                                           penalty='l2',\n",
       "                                                           random_state=None,\n",
       "                                                           solver='warn',\n",
       "                                                           tol=0.0001,\n",
       "                                                           verbose=0,\n",
       "                                                           warm_start=False))],\n",
       "                                verbose=False),\n",
       "             iid='warn', n_jobs=1,\n",
       "             param_grid={'classifier__C': [100, 10, 1.0, 0.1, 0.01],\n",
       "                         'classifier__penalty': ['l2'],\n",
       "                         'classifier__solver': ['liblinear']},\n",
       "             pre_dispatch='2*n_jobs', refit=True, return_train_score=False,\n",
       "             scoring=None, verbose=3)"
      ]
     },
     "execution_count": 16,
     "metadata": {},
     "output_type": "execute_result"
    }
   ],
   "source": [
    "grid_search.fit(X_train,y_train)"
   ]
  },
  {
   "cell_type": "code",
   "execution_count": 17,
   "metadata": {},
   "outputs": [
    {
     "name": "stdout",
     "output_type": "stream",
     "text": [
      "Best: 0.582704 using {'classifier__C': 1.0, 'classifier__penalty': 'l2', 'classifier__solver': 'liblinear'}\n"
     ]
    }
   ],
   "source": [
    "# summarize results\n",
    "print(\"Best: %f using %s\" % (grid_search.best_score_, grid_search.best_params_))"
   ]
  },
  {
   "cell_type": "code",
   "execution_count": 18,
   "metadata": {},
   "outputs": [
    {
     "name": "stdout",
     "output_type": "stream",
     "text": [
      "Logistic Regression with Hypertuning Accuracy: 0.608\n",
      "Logistic Regression with Hypertuning Precision: [0.62162162 0.54814815 0.66192171]\n",
      "Logistic Regression with Hypertuning Recall: [0.30872483 0.73267327 0.67883212]\n"
     ]
    }
   ],
   "source": [
    "predicted = grid_search.predict(X_test)\n",
    "\n",
    "# Model Accuracy\n",
    "print(\"Logistic Regression with Hypertuning Accuracy:\",metrics.accuracy_score(y_test, predicted))\n",
    "print(\"Logistic Regression with Hypertuning Precision:\",metrics.precision_score(y_test, predicted,average=None))\n",
    "print(\"Logistic Regression with Hypertuning Recall:\",metrics.recall_score(y_test, predicted,average=None))"
   ]
  },
  {
   "cell_type": "code",
   "execution_count": 19,
   "metadata": {},
   "outputs": [
    {
     "name": "stdout",
     "output_type": "stream",
     "text": [
      "              precision    recall  f1-score   support\n",
      "\n",
      "    Negative       0.62      0.31      0.41       149\n",
      "     Neutral       0.55      0.73      0.63       202\n",
      "    Positive       0.66      0.68      0.67       274\n",
      "\n",
      "    accuracy                           0.61       625\n",
      "   macro avg       0.61      0.57      0.57       625\n",
      "weighted avg       0.62      0.61      0.59       625\n",
      "\n"
     ]
    }
   ],
   "source": [
    "print(classification_report(y_test, predicted))"
   ]
  }
 ],
 "metadata": {
  "kernelspec": {
   "display_name": "Python 3",
   "language": "python",
   "name": "python3"
  },
  "language_info": {
   "codemirror_mode": {
    "name": "ipython",
    "version": 3
   },
   "file_extension": ".py",
   "mimetype": "text/x-python",
   "name": "python",
   "nbconvert_exporter": "python",
   "pygments_lexer": "ipython3",
   "version": "3.7.4"
  }
 },
 "nbformat": 4,
 "nbformat_minor": 4
}
