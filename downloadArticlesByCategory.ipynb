{
 "cells": [
  {
   "cell_type": "markdown",
   "metadata": {},
   "source": [
    "### Prototype code to scrape the top headlines and their corresponding article text from News API"
   ]
  },
  {
   "cell_type": "code",
   "execution_count": 1,
   "metadata": {
    "ExecuteTime": {
     "end_time": "2020-07-11T04:57:58.398641Z",
     "start_time": "2020-07-11T04:57:57.945596Z"
    }
   },
   "outputs": [],
   "source": [
    "import os.path\n",
    "from os import path\n",
    "import pandas as pd\n",
    "import json"
   ]
  },
  {
   "cell_type": "code",
   "execution_count": 2,
   "metadata": {
    "ExecuteTime": {
     "end_time": "2020-07-11T04:57:58.570596Z",
     "start_time": "2020-07-11T04:57:58.402597Z"
    }
   },
   "outputs": [],
   "source": [
    "import pprint\n",
    "import requests"
   ]
  },
  {
   "cell_type": "code",
   "execution_count": 3,
   "metadata": {
    "ExecuteTime": {
     "end_time": "2020-07-11T04:57:58.585596Z",
     "start_time": "2020-07-11T04:57:58.572596Z"
    }
   },
   "outputs": [],
   "source": [
    "# API Key for News API\n",
    "secret = 'd05c3ae08abd461f90b3dc555af1bb59'"
   ]
  },
  {
   "cell_type": "code",
   "execution_count": 4,
   "metadata": {
    "ExecuteTime": {
     "end_time": "2020-07-11T04:57:58.601616Z",
     "start_time": "2020-07-11T04:57:58.587597Z"
    }
   },
   "outputs": [],
   "source": [
    "# Define the endpoint to extract all the top headlines \n",
    "url = 'https://newsapi.org/v2/top-headlines?'"
   ]
  },
  {
   "cell_type": "code",
   "execution_count": 5,
   "metadata": {
    "ExecuteTime": {
     "end_time": "2020-07-11T04:57:58.617596Z",
     "start_time": "2020-07-11T04:57:58.603595Z"
    }
   },
   "outputs": [],
   "source": [
    "# Specify the query and number of returns - Limit the headlines to country US, for now\n",
    "parameters = {\n",
    "    'language': 'en',\n",
    "    'country':'us',\n",
    "    'pageSize': 100,\n",
    "    'apiKey': secret \n",
    "}"
   ]
  },
  {
   "cell_type": "code",
   "execution_count": 6,
   "metadata": {
    "ExecuteTime": {
     "end_time": "2020-07-11T04:57:58.632595Z",
     "start_time": "2020-07-11T04:57:58.620596Z"
    }
   },
   "outputs": [],
   "source": [
    "categories = ['business','entertainment','general','health','science','sports','technology']\n"
   ]
  },
  {
   "cell_type": "code",
   "execution_count": 7,
   "metadata": {
    "ExecuteTime": {
     "end_time": "2020-07-11T04:57:59.412597Z",
     "start_time": "2020-07-11T04:57:58.654596Z"
    }
   },
   "outputs": [],
   "source": [
    "from newspaper import Article\n",
    "from newspaper import Config\n",
    "\n",
    "\n",
    "article_title = []\n",
    "article_authors = []\n",
    "article_text = []\n",
    "article_summary = []\n",
    "article_date = []\n",
    "article_top_image = []\n",
    "failed_url = []\n",
    "category_articles ={}\n",
    "pages= range(1,2)"
   ]
  },
  {
   "cell_type": "code",
   "execution_count": 8,
   "metadata": {
    "ExecuteTime": {
     "end_time": "2020-07-11T04:57:59.443599Z",
     "start_time": "2020-07-11T04:57:59.425597Z"
    }
   },
   "outputs": [],
   "source": [
    "#category_dataframe = pd.read_json(f'resources/business_top_headline_data.json').T\n",
    "#category_dataframe.head()"
   ]
  },
  {
   "cell_type": "code",
   "execution_count": null,
   "metadata": {
    "ExecuteTime": {
     "start_time": "2020-07-11T04:57:57.959Z"
    }
   },
   "outputs": [
    {
     "name": "stdout",
     "output_type": "stream",
     "text": [
      "business\n",
      "Using DataFrame (118, 11)\n",
      "Unable to parse article: http://news3lv.com/news/local/clark-county-releases-names-of-businesses-found-in-violation-of-mask-mandate\n",
      "Unable to parse article: http://13wham.com/news/local/local-malls-reopen-friday-but-some-stores-remain-closed\n",
      "***FAILED TO DOWNLOAD***https://news.google.com/__i/rss/rd/articles/CBMiXWh0dHBzOi8vd3d3Lm5ld3N3ZWVrLmNvbS93YXlmYWlyLWNoaWxkLXRyYWZmaWNraW5nLWNvbnNwaXJhY3ktdGhlb3J5LWNhYmluZXRzLXNjYW5kYWwtMTUxNzAxM9IBY2h0dHBzOi8vd3d3Lm5ld3N3ZWVrLmNvbS93YXlmYWlyLWNoaWxkLXRyYWZmaWNraW5nLWNvbnNwaXJhY3ktdGhlb3J5LWNhYmluZXRzLXNjYW5kYWwtMTUxNzAxMz9hbXA9MQ?oc=5\n",
      "***FAILED TO DOWNLOAD***https://news.google.com/__i/rss/rd/articles/CBMiTWh0dHBzOi8vd3d3LmFnd2ViLmNvbS9hcnRpY2xlL3dhc2RlLWxvd2VyLWNvcm4tc3VwcGxpZXMtZHVlLWFjcmVhZ2UtcmVkdWN0aW9u0gEA?oc=5\n",
      "Unable to parse article: http://wgme.com/news/local/union-threatens-to-fine-biw-workers-if-they-cross-picket-line\n",
      "Number of articles: 50\n",
      "Unable to parse article: https://www.bizjournals.com/denver/news/2020/07/09/visible-permanent-work-from-home-denver.html\n",
      "(133, 11)\n",
      "entertainment\n",
      "Using DataFrame (107, 11)\n",
      "Unable to parse article: https://news.google.com/__i/rss/rd/articles/CBMiK2h0dHBzOi8vd3d3LnlvdXR1YmUuY29tL3dhdGNoP3Y9TnpPS09aZlZwXzTSAQA?oc=5\n",
      "Unable to parse article: https://news.google.com/__i/rss/rd/articles/CBMiK2h0dHBzOi8vd3d3LnlvdXR1YmUuY29tL3dhdGNoP3Y9cWRxUWZ3QU5PWDTSAQA?oc=5\n",
      "Unable to parse article: https://news.google.com/__i/rss/rd/articles/CBMiK2h0dHBzOi8vd3d3LnlvdXR1YmUuY29tL3dhdGNoP3Y9QTBVY2xBbXJoVknSAQA?oc=5\n",
      "Unable to parse article: https://news.google.com/__i/rss/rd/articles/CBMiK2h0dHBzOi8vd3d3LnlvdXR1YmUuY29tL3dhdGNoP3Y9a21pOVJBUTNkZ2fSAQA?oc=5\n",
      "Unable to parse article: https://news.google.com/__i/rss/rd/articles/CBMiK2h0dHBzOi8vd3d3LnlvdXR1YmUuY29tL3dhdGNoP3Y9aDZhTTYxMmFndVHSAQA?oc=5\n",
      "Unable to parse article: https://news.google.com/__i/rss/rd/articles/CBMiK2h0dHBzOi8vd3d3LnlvdXR1YmUuY29tL3dhdGNoP3Y9UUczWUg4ZmFuT1nSAQA?oc=5\n",
      "Unable to parse article: https://news.google.com/__i/rss/rd/articles/CBMiK2h0dHBzOi8vd3d3LnlvdXR1YmUuY29tL3dhdGNoP3Y9RWQzQ05tYlpGb3fSAQA?oc=5\n",
      "Unable to parse article: https://news.google.com/__i/rss/rd/articles/CBMiK2h0dHBzOi8vd3d3LnlvdXR1YmUuY29tL3dhdGNoP3Y9ODhPMlduYnpGbXfSAQA?oc=5\n",
      "Number of articles: 100\n",
      "Unable to parse article: https://news.google.com/__i/rss/rd/articles/CBMiK2h0dHBzOi8vd3d3LnlvdXR1YmUuY29tL3dhdGNoP3Y9ZEpfU2NRNzlBMTjSAQA?oc=5\n",
      "Unable to parse article: https://news.google.com/__i/rss/rd/articles/CBMiK2h0dHBzOi8vd3d3LnlvdXR1YmUuY29tL3dhdGNoP3Y9ekR0RTBWTHg0czjSAQA?oc=5\n",
      "***FAILED TO DOWNLOAD***https://news.google.com/__i/rss/rd/articles/CBMiX2h0dHBzOi8vd3d3Lm5ld3N3ZWVrLmNvbS9qdWRnZS13aWxsLXJ1bGUtYWdhaW5zdC1tZWdoYW4tbWFya2xlLWZyaWVuZHMtd2hvLWRlZmVuZGVkLWhlci0xNTE2ODI00gFlaHR0cHM6Ly93d3cubmV3c3dlZWsuY29tL2p1ZGdlLXdpbGwtcnVsZS1hZ2FpbnN0LW1lZ2hhbi1tYXJrbGUtZnJpZW5kcy13aG8tZGVmZW5kZWQtaGVyLTE1MTY4MjQ_YW1wPTE?oc=5\n",
      "Unable to parse article: https://news.google.com/__i/rss/rd/articles/CBMiK2h0dHBzOi8vd3d3LnlvdXR1YmUuY29tL3dhdGNoP3Y9MzdudmM0ZTB3dGfSAQA?oc=5\n",
      "Unable to parse article: https://news.google.com/__i/rss/rd/articles/CBMiK2h0dHBzOi8vd3d3LnlvdXR1YmUuY29tL3dhdGNoP3Y9TGU1SU1HNS1DaEXSAQA?oc=5\n",
      "Unable to parse article: https://news.google.com/__i/rss/rd/articles/CBMiK2h0dHBzOi8vd3d3LnlvdXR1YmUuY29tL3dhdGNoP3Y9ajgtNzM0NHFqbkHSAQA?oc=5\n",
      "Unable to parse article: https://news.google.com/__i/rss/rd/articles/CBMiK2h0dHBzOi8vd3d3LnlvdXR1YmUuY29tL3dhdGNoP3Y9YURjVFdmNnNPTzTSAQA?oc=5\n",
      "(121, 11)\n",
      "general\n",
      "Using DataFrame (69, 11)\n",
      "Unable to parse article: http://katu.com/news/local/oha-anticipates-testing-material-shortage\n",
      "Unable to parse article: https://news.google.com/__i/rss/rd/articles/CBMiK2h0dHBzOi8vd3d3LnlvdXR1YmUuY29tL3dhdGNoP3Y9TnpPS09aZlZwXzTSAQA?oc=5\n",
      "***FAILED TO DOWNLOAD***https://www.washingtonpost.com/health/2020/07/10/cdc-covid-19-death-toll-is-twice-high-among-people-color-under-age-65-white-americans/\n",
      "***FAILED TO DOWNLOAD***https://news.google.com/__i/rss/rd/articles/CBMifWh0dHBzOi8vd3d3Lm5ld3N3ZWVrLmNvbS90ZXhhcy1nb3Zlcm5vci1pbmRpY2F0ZXMtc3RhdGUtbWF5LXJlZW50ZXItbG9ja2Rvd24tc2F5cy1oZXMtZGlzYXBwb2ludGVkLWxvY2FsLWFyZWFzLXJlZnVzZS0xNTE3MDk10gGDAWh0dHBzOi8vd3d3Lm5ld3N3ZWVrLmNvbS90ZXhhcy1nb3Zlcm5vci1pbmRpY2F0ZXMtc3RhdGUtbWF5LXJlZW50ZXItbG9ja2Rvd24tc2F5cy1oZXMtZGlzYXBwb2ludGVkLWxvY2FsLWFyZWFzLXJlZnVzZS0xNTE3MDk1P2FtcD0x?oc=5\n",
      "Unable to parse article: https://news.google.com/__i/rss/rd/articles/CBMiK2h0dHBzOi8vd3d3LnlvdXR1YmUuY29tL3dhdGNoP3Y9TVUtYVdOWnhTMG_SAQA?oc=5\n",
      "Number of articles: 150\n",
      "***FAILED TO DOWNLOAD***https://www.washingtonpost.com/nation/2020/07/10/trump-hannity-cognitive-test/\n",
      "(84, 11)\n",
      "health\n",
      "Using DataFrame (112, 11)\n",
      "***FAILED TO DOWNLOAD***https://news.google.com/__i/rss/rd/articles/CBMiRWh0dHBzOi8vd3d3LnRoZW5ld3N0cmlidW5lLmNvbS9uZXdzL2Nvcm9uYXZpcnVzL2FydGljbGUyNDQxNTc3NDIuaHRtbNIBRWh0dHBzOi8vYW1wLnRoZW5ld3N0cmlidW5lLmNvbS9uZXdzL2Nvcm9uYXZpcnVzL2FydGljbGUyNDQxNTc3NDIuaHRtbA?oc=5\n",
      "Unable to parse article: http://katu.com/news/local/oha-anticipates-testing-material-shortage\n",
      "***FAILED TO DOWNLOAD***https://www.washingtonpost.com/health/2020/07/10/cdc-covid-19-death-toll-is-twice-high-among-people-color-under-age-65-white-americans/\n",
      "***FAILED TO DOWNLOAD***https://news.google.com/__i/rss/rd/articles/CBMiQWh0dHBzOi8vd3d3LmthbnNhc2NpdHkuY29tL25ld3MvY29yb25hdmlydXMvYXJ0aWNsZTI0NDE1MzAyNy5odG1s0gFBaHR0cHM6Ly9hbXAua2Fuc2FzY2l0eS5jb20vbmV3cy9jb3JvbmF2aXJ1cy9hcnRpY2xlMjQ0MTUzMDI3Lmh0bWw?oc=5\n",
      "Unable to parse article: http://news4sanantonio.com/news/local/i-thought-this-was-a-hoax-patient-in-their-30s-dies-after-attending-covid-party\n",
      "***FAILED TO DOWNLOAD***https://www.washingtonpost.com/local/social-issues/as-the-pandemic-surges-old-people-alarm-their-kids-by-playing-bridge-and-getting-haircuts/2020/07/10/e10aa6e8-bd7b-11ea-bdaf-a129f921026f_story.html\n",
      "***FAILED TO DOWNLOAD***https://news.google.com/__i/rss/rd/articles/CBMiSGh0dHBzOi8vd3d3LmNoYXJsb3R0ZW9ic2VydmVyLmNvbS9uZXdzL2Nvcm9uYXZpcnVzL2FydGljbGUyNDQxNDQxMjIuaHRtbNIBSGh0dHBzOi8vYW1wLmNoYXJsb3R0ZW9ic2VydmVyLmNvbS9uZXdzL2Nvcm9uYXZpcnVzL2FydGljbGUyNDQxNDQxMjIuaHRtbA?oc=5\n",
      "***FAILED TO DOWNLOAD***https://news.google.com/__i/rss/rd/articles/CBMiRGh0dHBzOi8vd3d3LnNhbmx1aXNvYmlzcG8uY29tL25ld3MvY29yb25hdmlydXMvYXJ0aWNsZTI0NDE0NTc2Ny5odG1s0gFEaHR0cHM6Ly9hbXAuc2FubHVpc29iaXNwby5jb20vbmV3cy9jb3JvbmF2aXJ1cy9hcnRpY2xlMjQ0MTQ1NzY3Lmh0bWw?oc=5\n",
      "***FAILED TO DOWNLOAD***https://news.google.com/__i/rss/rd/articles/CBMiSGh0dHBzOi8vd3d3Lm15cnRsZWJlYWNob25saW5lLmNvbS9uZXdzL2Nvcm9uYXZpcnVzL2FydGljbGUyNDQxMzUyNTIuaHRtbNIBSGh0dHBzOi8vYW1wLm15cnRsZWJlYWNob25saW5lLmNvbS9uZXdzL2Nvcm9uYXZpcnVzL2FydGljbGUyNDQxMzUyNTIuaHRtbA?oc=5\n",
      "***FAILED TO DOWNLOAD***https://news.google.com/__i/rss/rd/articles/CBMiPWh0dHBzOi8vd3d3LnNhY2JlZS5jb20vbmV3cy9jb3JvbmF2aXJ1cy9hcnRpY2xlMjQ0MTQyOTU3Lmh0bWzSAT1odHRwczovL2FtcC5zYWNiZWUuY29tL25ld3MvY29yb25hdmlydXMvYXJ0aWNsZTI0NDE0Mjk1Ny5odG1s?oc=5\n",
      "Unable to parse article: https://news.google.com/__i/rss/rd/articles/CBMiK2h0dHBzOi8vd3d3LnlvdXR1YmUuY29tL3dhdGNoP3Y9eDA2VzdfR3dwT2fSAQA?oc=5\n",
      "Number of articles: 200\n",
      "(132, 11)\n",
      "science\n",
      "Using DataFrame (98, 11)\n",
      "Unable to parse article: https://news.google.com/__i/rss/rd/articles/CBMiK2h0dHBzOi8vd3d3LnlvdXR1YmUuY29tL3dhdGNoP3Y9LUxkX3VydDB0Z2fSAQA?oc=5\n",
      "***FAILED TO DOWNLOAD***https://amp.theguardian.comscience/2020/jul/09/spacewatch-nasa-asteroid-mission-passes-key-milestone\n",
      "Number of articles: 250\n",
      "Unable to parse article: https://www.nasa.gov/feature/goddard/2020/conditions-ripe-for-amazon-fire-us-hurricanes/\n",
      "(104, 11)\n",
      "sports\n",
      "Using DataFrame (110, 11)\n",
      "Unable to parse article: https://news.google.com/__i/rss/rd/articles/CBMiK2h0dHBzOi8vd3d3LnlvdXR1YmUuY29tL3dhdGNoP3Y9c2ItWmZxWFhIX0nSAQA?oc=5\n",
      "Unable to parse article: https://news.google.com/__i/rss/rd/articles/CBMiK2h0dHBzOi8vd3d3LnlvdXR1YmUuY29tL3dhdGNoP3Y9SGZ5QzFPMjJueGPSAQA?oc=5\n",
      "Unable to parse article: https://news.google.com/__i/rss/rd/articles/CBMiK2h0dHBzOi8vd3d3LnlvdXR1YmUuY29tL3dhdGNoP3Y9WU1LOUVyNS1uZlHSAQA?oc=5\n",
      "Unable to parse article: https://news.google.com/__i/rss/rd/articles/CBMiK2h0dHBzOi8vd3d3LnlvdXR1YmUuY29tL3dhdGNoP3Y9bHBCQ0NaSzVfZzTSAQA?oc=5\n",
      "Number of articles: 300\n",
      "Unable to parse article: https://news.google.com/__i/rss/rd/articles/CBMiK2h0dHBzOi8vd3d3LnlvdXR1YmUuY29tL3dhdGNoP3Y9UHZjVEVhTEZnRU3SAQA?oc=5\n"
     ]
    },
    {
     "name": "stdout",
     "output_type": "stream",
     "text": [
      "Unable to parse article: https://news.google.com/__i/rss/rd/articles/CBMiK2h0dHBzOi8vd3d3LnlvdXR1YmUuY29tL3dhdGNoP3Y9WXc3QkR4THJQU1XSAQA?oc=5\n",
      "Unable to parse article: https://news.google.com/__i/rss/rd/articles/CBMiK2h0dHBzOi8vd3d3LnlvdXR1YmUuY29tL3dhdGNoP3Y9SmI1VTQ1Y21LUjTSAQA?oc=5\n",
      "Unable to parse article: https://news.google.com/__i/rss/rd/articles/CBMiK2h0dHBzOi8vd3d3LnlvdXR1YmUuY29tL3dhdGNoP3Y9a29OV2tpdU00enPSAQA?oc=5\n",
      "***FAILED TO DOWNLOAD***https://www.washingtonpost.com/sports/2020/07/10/private-letter-redskins-fedex-said-it-will-remove-signage-if-name-isnt-changed/\n",
      "Unable to parse article: https://news.google.com/__i/rss/rd/articles/CBMiK2h0dHBzOi8vd3d3LnlvdXR1YmUuY29tL3dhdGNoP3Y9azJ0TnVqR2JFVTDSAQA?oc=5\n",
      "Unable to parse article: https://news.google.com/__i/rss/rd/articles/CBMiK2h0dHBzOi8vd3d3LnlvdXR1YmUuY29tL3dhdGNoP3Y9bmJIZEIxT1FzVjjSAQA?oc=5\n",
      "Unable to parse article: https://news.google.com/__i/rss/rd/articles/CBMiK2h0dHBzOi8vd3d3LnlvdXR1YmUuY29tL3dhdGNoP3Y9eHUtS2hBWjRpWm_SAQA?oc=5\n",
      "(135, 11)\n",
      "technology\n",
      "Using DataFrame (106, 11)\n",
      "Unable to parse article: https://news.google.com/__i/rss/rd/articles/CBMiK2h0dHBzOi8vd3d3LnlvdXR1YmUuY29tL3dhdGNoP3Y9YUNXT1g0MjVvZGvSAQA?oc=5\n"
     ]
    }
   ],
   "source": [
    "count =0\n",
    "for category in categories:\n",
    "    name = category\n",
    "    print(name)\n",
    "    bappend = False\n",
    "    if os.path.exists(f'resources/{category}_top_headline_data.json') :\n",
    "        category_dataframe = pd.read_json(f'resources/{category}_top_headline_data.json').T\n",
    "        print(f\"Using DataFrame {category_dataframe.shape}\" )\n",
    "        bappend = True\n",
    "    catDF= None\n",
    "    parameters['category'] = category\n",
    "    response = requests.get(url, params=parameters)\n",
    "    if response.status_code != requests.codes.ok:\n",
    "        print(f\"Bad result : {response.url}\")\n",
    "        continue\n",
    "    response_json = response.json()\n",
    "\n",
    "    df = pd.DataFrame.from_dict(response_json)\n",
    "    df = pd.concat([df.drop(['articles'], axis=1), df['articles'].apply(pd.Series)], axis=1) \n",
    "\n",
    "    rows = []\n",
    "    for index, row in df.iterrows():\n",
    "        h = row['url']\n",
    "        user_agent = 'Mozilla/5.0 (Macintosh; Intel Mac OS X 10_11_5) AppleWebKit/537.36 (KHTML, like Gecko) Chrome/50.0.2661.102 Safari/537.36'\n",
    "        config = Config()\n",
    "        config.verbose=True\n",
    "        config.browser_user_agent = user_agent\n",
    "        newsarticle = Article(h, config=config)\n",
    "        try :\n",
    "            newsarticle.download()\n",
    "            newsarticle.parse()\n",
    "            if not newsarticle.text :\n",
    "                print(f\"Unable to parse article: {h}\")\n",
    "                continue \n",
    "            artdict = {}                \n",
    "            artdict['articleText']=newsarticle.text\n",
    "            for column in df:\n",
    "                artdict[column]= row[column]\n",
    "            rows.append(artdict)\n",
    "            count += 1\n",
    "            if (count % 50 == 0 ):\n",
    "                print('Number of articles: '+str(count))\n",
    "\n",
    "        except :\n",
    "             print(f'***FAILED TO DOWNLOAD***{newsarticle.url}')\n",
    "             pass\n",
    "    if name in category_articles:\n",
    "        category_articles[name].append(pd.DataFrame(rows),ignore_index=True)\n",
    "    else:\n",
    "        if bappend :\n",
    "            category_dataframe = category_dataframe.append(pd.DataFrame(rows),ignore_index=True).drop_duplicates(subset='url')\n",
    "            category_articles[name] = category_dataframe\n",
    "        else:\n",
    "            category_articles[name]= pd.DataFrame(rows)\n",
    "    print(category_articles[name].shape)\n",
    "\n",
    "\n",
    "print('Total number of articles: '+str(count))\n",
    "    "
   ]
  },
  {
   "cell_type": "code",
   "execution_count": null,
   "metadata": {
    "ExecuteTime": {
     "start_time": "2020-07-11T04:57:57.967Z"
    }
   },
   "outputs": [],
   "source": [
    "for cat in category_articles.keys():\n",
    "    print(cat)\n",
    "    df = category_articles[cat]\n",
    "    df.to_json(f'resources/{cat}_top_headline_data.json', orient='index')\n",
    "    \n",
    "    "
   ]
  }
 ],
 "metadata": {
  "kernelspec": {
   "display_name": "Python 3",
   "language": "python",
   "name": "python3"
  },
  "language_info": {
   "codemirror_mode": {
    "name": "ipython",
    "version": 3
   },
   "file_extension": ".py",
   "mimetype": "text/x-python",
   "name": "python",
   "nbconvert_exporter": "python",
   "pygments_lexer": "ipython3",
   "version": "3.8.3"
  }
 },
 "nbformat": 4,
 "nbformat_minor": 2
}
