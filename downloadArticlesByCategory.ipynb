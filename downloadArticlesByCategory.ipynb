{
 "cells": [
  {
   "cell_type": "markdown",
   "metadata": {},
   "source": [
    "### Prototype code to scrape the top headlines and their corresponding article text from News API"
   ]
  },
  {
   "cell_type": "code",
   "execution_count": 1,
   "metadata": {
    "ExecuteTime": {
     "end_time": "2020-07-10T18:33:12.795775Z",
     "start_time": "2020-07-10T18:33:12.341763Z"
    }
   },
   "outputs": [],
   "source": [
    "import pandas as pd\n",
    "import json"
   ]
  },
  {
   "cell_type": "code",
   "execution_count": 2,
   "metadata": {
    "ExecuteTime": {
     "end_time": "2020-07-10T18:33:12.982779Z",
     "start_time": "2020-07-10T18:33:12.797762Z"
    }
   },
   "outputs": [],
   "source": [
    "import pprint\n",
    "import requests"
   ]
  },
  {
   "cell_type": "code",
   "execution_count": 3,
   "metadata": {
    "ExecuteTime": {
     "end_time": "2020-07-10T18:33:12.998763Z",
     "start_time": "2020-07-10T18:33:12.985787Z"
    }
   },
   "outputs": [],
   "source": [
    "# API Key for News API\n",
    "secret = 'd05c3ae08abd461f90b3dc555af1bb59'"
   ]
  },
  {
   "cell_type": "code",
   "execution_count": 4,
   "metadata": {
    "ExecuteTime": {
     "end_time": "2020-07-10T18:33:13.013780Z",
     "start_time": "2020-07-10T18:33:13.001768Z"
    }
   },
   "outputs": [],
   "source": [
    "# Define the endpoint to extract all the top headlines \n",
    "url = 'https://newsapi.org/v2/top-headlines?'"
   ]
  },
  {
   "cell_type": "code",
   "execution_count": 5,
   "metadata": {
    "ExecuteTime": {
     "end_time": "2020-07-10T18:33:13.029775Z",
     "start_time": "2020-07-10T18:33:13.015762Z"
    }
   },
   "outputs": [],
   "source": [
    "# Specify the query and number of returns - Limit the headlines to country US, for now\n",
    "parameters = {\n",
    "    'language': 'en',\n",
    "    'country':'us',\n",
    "    'pageSize': 100,\n",
    "    'apiKey': secret \n",
    "}"
   ]
  },
  {
   "cell_type": "code",
   "execution_count": 6,
   "metadata": {
    "ExecuteTime": {
     "end_time": "2020-07-10T18:33:13.044762Z",
     "start_time": "2020-07-10T18:33:13.032768Z"
    }
   },
   "outputs": [],
   "source": [
    "categories = ['business','entertainment','general','health','science','sports','technology']\n"
   ]
  },
  {
   "cell_type": "code",
   "execution_count": 7,
   "metadata": {
    "ExecuteTime": {
     "end_time": "2020-07-10T18:33:13.840732Z",
     "start_time": "2020-07-10T18:33:13.048764Z"
    }
   },
   "outputs": [],
   "source": [
    "from newspaper import Article\n",
    "from newspaper import Config\n",
    "\n",
    "\n",
    "article_title = []\n",
    "article_authors = []\n",
    "article_text = []\n",
    "article_summary = []\n",
    "article_date = []\n",
    "article_top_image = []\n",
    "failed_url = []\n",
    "category_articles ={}\n",
    "pages= range(1,2)"
   ]
  },
  {
   "cell_type": "code",
   "execution_count": 8,
   "metadata": {
    "ExecuteTime": {
     "end_time": "2020-07-10T18:38:59.474078Z",
     "start_time": "2020-07-10T18:33:13.855707Z"
    }
   },
   "outputs": [
    {
     "name": "stdout",
     "output_type": "stream",
     "text": [
      "business\n",
      "Unable to parse article: https://news.google.com/__i/rss/rd/articles/CBMiK2h0dHBzOi8vd3d3LnlvdXR1YmUuY29tL3dhdGNoP3Y9TjllLVFUNUd3NEnSAQA?oc=5\n",
      "Unable to parse article: http://komonews.com/news/coronavirus/first-seattle-volunteer-in-human-covid-19-vaccine-trials-says-she-feels-fantastic\n",
      "Number of articles: 50\n",
      "Unable to parse article: https://www.bizjournals.com/denver/news/2020/07/09/visible-permanent-work-from-home-denver.html\n",
      "entertainment\n",
      "Unable to parse article: https://www.tennessean.com/picture-gallery/news/2020/07/10/photos-funeral-country-music-star-charlie-daniels/5409824002/\n",
      "***FAILED TO DOWNLOAD***https://amp.theguardian.commusic/2020/jul/10/pop-smoke-five-arrested-in-connection-with-brooklyn-rappers-murder-bashar-jackson\n",
      "Number of articles: 100\n",
      "Unable to parse article: https://news.google.com/__i/rss/rd/articles/CBMiK2h0dHBzOi8vd3d3LnlvdXR1YmUuY29tL3dhdGNoP3Y9TGU1SU1HNS1DaEXSAQA?oc=5\n",
      "Unable to parse article: https://news.google.com/__i/rss/rd/articles/CBMiK2h0dHBzOi8vd3d3LnlvdXR1YmUuY29tL3dhdGNoP3Y9VHpOQ3Fac0ZkS0XSAQA?oc=5\n",
      "Unable to parse article: https://news.google.com/__i/rss/rd/articles/CBMiK2h0dHBzOi8vd3d3LnlvdXR1YmUuY29tL3dhdGNoP3Y9bWc1T09EdGNEajjSAQA?oc=5\n",
      "Unable to parse article: https://news.google.com/__i/rss/rd/articles/CBMiK2h0dHBzOi8vd3d3LnlvdXR1YmUuY29tL3dhdGNoP3Y9YURjVFdmNnNPTzTSAQA?oc=5\n",
      "Unable to parse article: https://news.google.com/__i/rss/rd/articles/CBMiK2h0dHBzOi8vd3d3LnlvdXR1YmUuY29tL3dhdGNoP3Y9NkphVkZVYzVqeGvSAQA?oc=5\n",
      "Unable to parse article: https://news.google.com/__i/rss/rd/articles/CBMiK2h0dHBzOi8vd3d3LnlvdXR1YmUuY29tL3dhdGNoP3Y9ZVJnOWdUUW55d2PSAQA?oc=5\n",
      "Unable to parse article: https://news.google.com/__i/rss/rd/articles/CBMiK2h0dHBzOi8vd3d3LnlvdXR1YmUuY29tL3dhdGNoP3Y9ZEZtUDVYeG42eG_SAQA?oc=5\n",
      "Unable to parse article: https://news.google.com/__i/rss/rd/articles/CBMiK2h0dHBzOi8vd3d3LnlvdXR1YmUuY29tL3dhdGNoP3Y9UGhjMGg0amNIRnfSAQA?oc=5\n",
      "general\n",
      "Unable to parse article: https://news.google.com/__i/rss/rd/articles/CBMiK2h0dHBzOi8vd3d3LnlvdXR1YmUuY29tL3dhdGNoP3Y9X2VId2ZZVFpOb2_SAQA?oc=5\n",
      "Number of articles: 150\n",
      "health\n",
      "***FAILED TO DOWNLOAD***https://news.google.com/__i/rss/rd/articles/CBMiRGh0dHBzOi8vd3d3LnN0YXItdGVsZWdyYW0uY29tL25ld3MvY29yb25hdmlydXMvYXJ0aWNsZTI0NDEwNzUzNy5odG1s0gFEaHR0cHM6Ly9hbXAuc3Rhci10ZWxlZ3JhbS5jb20vbmV3cy9jb3JvbmF2aXJ1cy9hcnRpY2xlMjQ0MTA3NTM3Lmh0bWw?oc=5\n",
      "Unable to parse article: http://katu.com/news/local/oha-to-address-record-breaking-spike-in-coronavirus-cases\n",
      "Unable to parse article: http://katu.com/news/coronavirus/youngest-person-in-portland-vancouver-area-falls-victim-to-coronavirus\n",
      "Unable to parse article: http://news4sanantonio.com/news/local/tdem-you-should-consider-wearing-a-mask-even-when-youre-in-your-own-home\n",
      "Number of articles: 200\n",
      "***FAILED TO DOWNLOAD***https://news.google.com/__i/rss/rd/articles/CBMiRGh0dHBzOi8vd3d3LnNhbmx1aXNvYmlzcG8uY29tL25ld3MvY29yb25hdmlydXMvYXJ0aWNsZTI0NDExMjE0Ny5odG1s0gFEaHR0cHM6Ly9hbXAuc2FubHVpc29iaXNwby5jb20vbmV3cy9jb3JvbmF2aXJ1cy9hcnRpY2xlMjQ0MTEyMTQ3Lmh0bWw?oc=5\n",
      "Unable to parse article: http://wpde.com/news/local/grand-strand-hospitals-ready-for-any-bike-rally-related-incidents-coronavirus-cases\n",
      "Unable to parse article: https://news.google.com/__i/rss/rd/articles/CBMiK2h0dHBzOi8vd3d3LnlvdXR1YmUuY29tL3dhdGNoP3Y9bVIza3JaZW5HUzDSAQA?oc=5\n",
      "Unable to parse article: http://komonews.com/news/coronavirus/public-health-temporarily-closes-dukes-in-alki-after-covid-19-outbreak\n",
      "***FAILED TO DOWNLOAD***https://news.google.com/__i/rss/rd/articles/CBMiQmh0dHBzOi8vd3d3Lm1pYW1paGVyYWxkLmNvbS9uZXdzL2Nvcm9uYXZpcnVzL2FydGljbGUyNDQwODc4NjcuaHRtbNIBQmh0dHBzOi8vYW1wLm1pYW1paGVyYWxkLmNvbS9uZXdzL2Nvcm9uYXZpcnVzL2FydGljbGUyNDQwODc4NjcuaHRtbA?oc=5\n",
      "***FAILED TO DOWNLOAD***https://www.foxtv.com/news/silent-transmission-covid-19-largely-spread-by-asymptomatic-presymptomatic-carriers-study-says\n",
      "***FAILED TO DOWNLOAD***https://www.fox4now.com/news/coronavirus/article-template-coronavirus-draft-change-headline-to-continue\n",
      "science\n",
      "***FAILED TO DOWNLOAD***https://amp.theguardian.comscience/2020/jul/09/spacewatch-nasa-asteroid-mission-passes-key-milestone\n",
      "Number of articles: 250\n",
      "Unable to parse article: https://www.nasa.gov/feature/goddard/2020/conditions-ripe-for-amazon-fire-us-hurricanes/\n",
      "***FAILED TO DOWNLOAD***https://www.express.co.uk/news/weird/1307157/ufo-sighting-aliens-space-news-nasa-scott-waring-conspiracy-theory\n",
      "sports\n",
      "Unable to parse article: https://news.google.com/__i/rss/rd/articles/CBMiK2h0dHBzOi8vd3d3LnlvdXR1YmUuY29tL3dhdGNoP3Y9SWpPbF94QTQzWTDSAQA?oc=5\n",
      "Unable to parse article: https://news.google.com/__i/rss/rd/articles/CBMiK2h0dHBzOi8vd3d3LnlvdXR1YmUuY29tL3dhdGNoP3Y9X2VId2ZZVFpOb2_SAQA?oc=5\n",
      "Unable to parse article: https://news.google.com/__i/rss/rd/articles/CBMiK2h0dHBzOi8vd3d3LnlvdXR1YmUuY29tL3dhdGNoP3Y9Z296VVRIbi1LNmPSAQA?oc=5\n",
      "Number of articles: 300\n",
      "Unable to parse article: https://news.google.com/__i/rss/rd/articles/CBMiK2h0dHBzOi8vd3d3LnlvdXR1YmUuY29tL3dhdGNoP3Y9UTZ1bWJSRkJWcjDSAQA?oc=5\n",
      "Unable to parse article: https://news.google.com/__i/rss/rd/articles/CBMiK2h0dHBzOi8vd3d3LnlvdXR1YmUuY29tL3dhdGNoP3Y9dVdsUkdfMF82TG_SAQA?oc=5\n",
      "Unable to parse article: https://news.google.com/__i/rss/rd/articles/CBMiK2h0dHBzOi8vd3d3LnlvdXR1YmUuY29tL3dhdGNoP3Y9Z2drbVoxaW1oUDjSAQA?oc=5\n",
      "Unable to parse article: https://news.google.com/__i/rss/rd/articles/CBMiK2h0dHBzOi8vd3d3LnlvdXR1YmUuY29tL3dhdGNoP3Y9dXgzeFViMmprSEnSAQA?oc=5\n",
      "Unable to parse article: https://news.google.com/__i/rss/rd/articles/CBMiK2h0dHBzOi8vd3d3LnlvdXR1YmUuY29tL3dhdGNoP3Y9V2hOUGhnRlFVUUXSAQA?oc=5\n",
      "Number of articles: 350\n",
      "Unable to parse article: https://news.google.com/__i/rss/rd/articles/CBMiK2h0dHBzOi8vd3d3LnlvdXR1YmUuY29tL3dhdGNoP3Y9SDVtcVZKOFROZlnSAQA?oc=5\n",
      "Unable to parse article: https://news.google.com/__i/rss/rd/articles/CBMiK2h0dHBzOi8vd3d3LnlvdXR1YmUuY29tL3dhdGNoP3Y9T05LYnM3Y2djX2vSAQA?oc=5\n",
      "technology\n",
      "Unable to parse article: https://news.google.com/__i/rss/rd/articles/CBMiK2h0dHBzOi8vd3d3LnlvdXR1YmUuY29tL3dhdGNoP3Y9MFBTcDJra3RMOTjSAQA?oc=5\n",
      "Unable to parse article: https://news.google.com/__i/rss/rd/articles/CBMiK2h0dHBzOi8vd3d3LnlvdXR1YmUuY29tL3dhdGNoP3Y9cW4wRHQ3NmdKYXPSAQA?oc=5\n",
      "Unable to parse article: https://news.google.com/__i/rss/rd/articles/CBMiK2h0dHBzOi8vd3d3LnlvdXR1YmUuY29tL3dhdGNoP3Y9OVJwLXdneHdhb1XSAQA?oc=5\n",
      "Unable to parse article: https://news.google.com/__i/rss/rd/articles/CBMiK2h0dHBzOi8vd3d3LnlvdXR1YmUuY29tL3dhdGNoP3Y9ZGZQU3ZaeENuQXPSAQA?oc=5\n",
      "Unable to parse article: https://news.google.com/__i/rss/rd/articles/CBMiK2h0dHBzOi8vd3d3LnlvdXR1YmUuY29tL3dhdGNoP3Y9MHZUMjhtMHVYTG_SAQA?oc=5\n",
      "Unable to parse article: https://news.google.com/__i/rss/rd/articles/CBMiK2h0dHBzOi8vd3d3LnlvdXR1YmUuY29tL3dhdGNoP3Y9ZGNjS1lVSFZQa1HSAQA?oc=5\n",
      "Unable to parse article: https://news.google.com/__i/rss/rd/articles/CBMiK2h0dHBzOi8vd3d3LnlvdXR1YmUuY29tL3dhdGNoP3Y9U3lKYzRtZy11ZVXSAQA?oc=5\n",
      "Unable to parse article: https://news.google.com/__i/rss/rd/articles/CBMiK2h0dHBzOi8vd3d3LnlvdXR1YmUuY29tL3dhdGNoP3Y9VDlEX0tZZXU5UknSAQA?oc=5\n",
      "Unable to parse article: https://news.google.com/__i/rss/rd/articles/CBMiK2h0dHBzOi8vd3d3LnlvdXR1YmUuY29tL3dhdGNoP3Y9M1c2Nkt0dVNTMUXSAQA?oc=5\n",
      "Unable to parse article: https://news.google.com/__i/rss/rd/articles/CBMiK2h0dHBzOi8vd3d3LnlvdXR1YmUuY29tL3dhdGNoP3Y9dkZvQzhJUTlydzjSAQA?oc=5\n",
      "Number of articles: 400\n",
      "Unable to parse article: https://news.google.com/__i/rss/rd/articles/CBMiK2h0dHBzOi8vd3d3LnlvdXR1YmUuY29tL3dhdGNoP3Y9UU5rUTg3SjZnOU3SAQA?oc=5\n",
      "Unable to parse article: https://news.google.com/__i/rss/rd/articles/CBMiK2h0dHBzOi8vd3d3LnlvdXR1YmUuY29tL3dhdGNoP3Y9MFdFRE11bElDVUHSAQA?oc=5\n",
      "Total number of articles: 408\n"
     ]
    }
   ],
   "source": [
    "count =0\n",
    "for category in categories:\n",
    "    name = category\n",
    "    print(name)\n",
    "    catDF= None\n",
    "    parameters['category'] = category\n",
    "    response = requests.get(url, params=parameters)\n",
    "    if response.status_code != requests.codes.ok:\n",
    "        print(f\"Bad result : {response.url}\")\n",
    "        continue\n",
    "    response_json = response.json()\n",
    "\n",
    "    df = pd.DataFrame.from_dict(response_json)\n",
    "    df = pd.concat([df.drop(['articles'], axis=1), df['articles'].apply(pd.Series)], axis=1) \n",
    "\n",
    "    rows = []\n",
    "    for index, row in df.iterrows():\n",
    "        h = row['url']\n",
    "        user_agent = 'Mozilla/5.0 (Macintosh; Intel Mac OS X 10_11_5) AppleWebKit/537.36 (KHTML, like Gecko) Chrome/50.0.2661.102 Safari/537.36'\n",
    "        config = Config()\n",
    "        config.verbose=True\n",
    "        config.browser_user_agent = user_agent\n",
    "        newsarticle = Article(h, config=config)\n",
    "        try :\n",
    "            newsarticle.download()\n",
    "            newsarticle.parse()\n",
    "            if not newsarticle.text :\n",
    "                print(f\"Unable to parse article: {h}\")\n",
    "                continue \n",
    "            artdict = {}                \n",
    "            artdict['articleText']=newsarticle.text\n",
    "            for column in df:\n",
    "                artdict[column]= row[column]\n",
    "            rows.append(artdict)\n",
    "            count += 1\n",
    "            if (count % 50 == 0 ):\n",
    "                print('Number of articles: '+str(count))\n",
    "\n",
    "        except :\n",
    "             print(f'***FAILED TO DOWNLOAD***{newsarticle.url}')\n",
    "             pass\n",
    "    if name in category_articles:\n",
    "        category_articles[name].append(pd.DataFrame(rows),ignore_index=True)\n",
    "    else:\n",
    "        category_articles[name]= pd.DataFrame(rows)\n",
    "\n",
    "\n",
    "print('Total number of articles: '+str(count))\n",
    "    "
   ]
  },
  {
   "cell_type": "code",
   "execution_count": 9,
   "metadata": {
    "ExecuteTime": {
     "end_time": "2020-07-10T18:38:59.489033Z",
     "start_time": "2020-07-10T18:38:59.477032Z"
    }
   },
   "outputs": [],
   "source": [
    "#category_articles['business_1']"
   ]
  },
  {
   "cell_type": "code",
   "execution_count": 10,
   "metadata": {
    "ExecuteTime": {
     "end_time": "2020-07-10T18:38:59.552041Z",
     "start_time": "2020-07-10T18:38:59.492032Z"
    }
   },
   "outputs": [
    {
     "name": "stdout",
     "output_type": "stream",
     "text": [
      "business\n",
      "entertainment\n",
      "general\n",
      "health\n",
      "science\n",
      "sports\n",
      "technology\n"
     ]
    }
   ],
   "source": [
    "for cat in category_articles.keys():\n",
    "    print(cat)\n",
    "    df = category_articles[cat]\n",
    "    df.to_json(f'resources/{cat}_top_headline_data.json', orient='index')\n",
    "    \n",
    "    "
   ]
  }
 ],
 "metadata": {
  "kernelspec": {
   "display_name": "Python 3",
   "language": "python",
   "name": "python3"
  },
  "language_info": {
   "codemirror_mode": {
    "name": "ipython",
    "version": 3
   },
   "file_extension": ".py",
   "mimetype": "text/x-python",
   "name": "python",
   "nbconvert_exporter": "python",
   "pygments_lexer": "ipython3",
   "version": "3.8.3"
  }
 },
 "nbformat": 4,
 "nbformat_minor": 2
}
