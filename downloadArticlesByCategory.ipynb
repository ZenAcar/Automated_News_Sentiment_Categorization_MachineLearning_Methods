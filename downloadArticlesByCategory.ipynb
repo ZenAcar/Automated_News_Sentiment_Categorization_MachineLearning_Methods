{
 "cells": [
  {
   "cell_type": "markdown",
   "metadata": {},
   "source": [
    "### Prototype code to scrape the top headlines and their corresponding article text from News API"
   ]
  },
  {
   "cell_type": "code",
   "execution_count": 1,
   "metadata": {
    "ExecuteTime": {
     "end_time": "2020-07-11T22:45:47.830316Z",
     "start_time": "2020-07-11T22:45:47.310024Z"
    }
   },
   "outputs": [],
   "source": [
    "import os.path\n",
    "from os import path\n",
    "import pandas as pd\n",
    "import json"
   ]
  },
  {
   "cell_type": "code",
   "execution_count": 2,
   "metadata": {
    "ExecuteTime": {
     "end_time": "2020-07-11T22:45:48.033835Z",
     "start_time": "2020-07-11T22:45:47.833301Z"
    }
   },
   "outputs": [],
   "source": [
    "import pprint\n",
    "import requests"
   ]
  },
  {
   "cell_type": "code",
   "execution_count": 3,
   "metadata": {
    "ExecuteTime": {
     "end_time": "2020-07-11T22:45:48.049844Z",
     "start_time": "2020-07-11T22:45:48.036838Z"
    }
   },
   "outputs": [],
   "source": [
    "# API Key for News API\n",
    "secret = 'd05c3ae08abd461f90b3dc555af1bb59'"
   ]
  },
  {
   "cell_type": "code",
   "execution_count": null,
   "metadata": {},
   "outputs": [],
   "source": []
  },
  {
   "cell_type": "code",
   "execution_count": null,
   "metadata": {},
   "outputs": [],
   "source": []
  },
  {
   "cell_type": "code",
   "execution_count": null,
   "metadata": {},
   "outputs": [],
   "source": []
  },
  {
   "cell_type": "code",
   "execution_count": 4,
   "metadata": {
    "ExecuteTime": {
     "end_time": "2020-07-11T22:45:48.065839Z",
     "start_time": "2020-07-11T22:45:48.052839Z"
    }
   },
   "outputs": [],
   "source": [
    "# Define the endpoint to extract all the top headlines \n",
    "url = 'https://newsapi.org/v2/top-headlines?'"
   ]
  },
  {
   "cell_type": "code",
   "execution_count": 5,
   "metadata": {
    "ExecuteTime": {
     "end_time": "2020-07-11T22:45:48.080842Z",
     "start_time": "2020-07-11T22:45:48.067840Z"
    }
   },
   "outputs": [],
   "source": [
    "# Specify the query and number of returns - Limit the headlines to country US, for now\n",
    "parameters = {\n",
    "    'language': 'en',\n",
    "    'country':'us',\n",
    "    'pageSize': 100,\n",
    "    'apiKey': secret \n",
    "}"
   ]
  },
  {
   "cell_type": "code",
   "execution_count": 6,
   "metadata": {
    "ExecuteTime": {
     "end_time": "2020-07-11T22:45:48.096838Z",
     "start_time": "2020-07-11T22:45:48.082838Z"
    }
   },
   "outputs": [],
   "source": [
    "categories = ['business','entertainment','general','health','science','sports','technology']\n"
   ]
  },
  {
   "cell_type": "code",
   "execution_count": 7,
   "metadata": {
    "ExecuteTime": {
     "end_time": "2020-07-11T22:45:48.935320Z",
     "start_time": "2020-07-11T22:45:48.098842Z"
    }
   },
   "outputs": [],
   "source": [
    "from newspaper import Article\n",
    "from newspaper import Config\n",
    "\n",
    "\n",
    "article_title = []\n",
    "article_authors = []\n",
    "article_text = []\n",
    "article_summary = []\n",
    "article_date = []\n",
    "article_top_image = []\n",
    "failed_url = []\n",
    "category_articles ={}\n",
    "pages= range(1,2)"
   ]
  },
  {
   "cell_type": "code",
   "execution_count": 8,
   "metadata": {
    "ExecuteTime": {
     "end_time": "2020-07-11T22:45:48.951320Z",
     "start_time": "2020-07-11T22:45:48.939322Z"
    }
   },
   "outputs": [],
   "source": [
    "#category_dataframe = pd.read_json(f'resources/business_top_headline_data.json').T\n",
    "#category_dataframe.head()"
   ]
  },
  {
   "cell_type": "code",
   "execution_count": 9,
   "metadata": {
    "ExecuteTime": {
     "end_time": "2020-07-11T22:51:59.108080Z",
     "start_time": "2020-07-11T22:45:48.953322Z"
    }
   },
   "outputs": [
    {
     "name": "stdout",
     "output_type": "stream",
     "text": [
      "business\n",
      "***FAILED TO DOWNLOAD***https://www.wptv.com/news/region-c-palm-beach-county/west-palm-beach/template-west-palm-beach\n",
      "Unable to parse article: https://www.profgalloway.com/lets-get-ready-to-rundle/\n",
      "Number of articles: 50\n",
      "***FAILED TO DOWNLOAD***https://news.google.com/__i/rss/rd/articles/CBMiXmh0dHBzOi8vd3d3LmFnd2ViLmNvbS9hcnRpY2xlL2Nvcm4tbWFya2V0LXVucGhhc2VkLXByb2R1Y3Rpb24tZHJvcC1sYXJnZS1jaGluZXNlLWJ1eS1oZXJlcy13aHnSAQA?oc=5\n",
      "Using DataFrame (217, 10) Adding 67\n",
      "(234, 10)\n",
      "(234, 10)\n",
      "entertainment\n",
      "Unable to parse article: https://news.google.com/__i/rss/rd/articles/CBMiK2h0dHBzOi8vd3d3LnlvdXR1YmUuY29tL3dhdGNoP3Y9ZUJocUt6NFptNTTSAQA?oc=5\n",
      "Unable to parse article: https://news.google.com/__i/rss/rd/articles/CBMiK2h0dHBzOi8vd3d3LnlvdXR1YmUuY29tL3dhdGNoP3Y9WUJOWkY4My1JRGfSAQA?oc=5\n",
      "Unable to parse article: https://news.google.com/__i/rss/rd/articles/CBMiK2h0dHBzOi8vd3d3LnlvdXR1YmUuY29tL3dhdGNoP3Y9Y1VvZmtOVXlYRHPSAQA?oc=5\n",
      "Unable to parse article: https://news.google.com/__i/rss/rd/articles/CBMiK2h0dHBzOi8vd3d3LnlvdXR1YmUuY29tL3dhdGNoP3Y9MW1tRW55RWFIM03SAQA?oc=5\n",
      "Number of articles: 100\n",
      "Unable to parse article: https://news.google.com/__i/rss/rd/articles/CBMiK2h0dHBzOi8vd3d3LnlvdXR1YmUuY29tL3dhdGNoP3Y9d0FCcndlVE5xRknSAQA?oc=5\n",
      "Unable to parse article: https://news.google.com/__i/rss/rd/articles/CBMiK2h0dHBzOi8vd3d3LnlvdXR1YmUuY29tL3dhdGNoP3Y9MWszeTRWZFBURnPSAQA?oc=5\n",
      "Unable to parse article: https://news.google.com/__i/rss/rd/articles/CBMiK2h0dHBzOi8vd3d3LnlvdXR1YmUuY29tL3dhdGNoP3Y9ZEpfU2NRNzlBMTjSAQA?oc=5\n",
      "Unable to parse article: https://news.google.com/__i/rss/rd/articles/CBMiK2h0dHBzOi8vd3d3LnlvdXR1YmUuY29tL3dhdGNoP3Y9dWlWLWVfc092TXfSAQA?oc=5\n",
      "***FAILED TO DOWNLOAD***https://news.google.com/__i/rss/rd/articles/CBMiXGh0dHBzOi8vd3d3Lm5ld3N3ZWVrLmNvbS9kb25hbGQtdHJ1bXAtbGlrZXMtdHdlZXQtc3VtbWVyLXdhbGtlci1uZXctZXAtc3RyaXBwZXItYmFjay0xNTE2OTEy0gFiaHR0cHM6Ly93d3cubmV3c3dlZWsuY29tL2RvbmFsZC10cnVtcC1saWtlcy10d2VldC1zdW1tZXItd2Fsa2VyLW5ldy1lcC1zdHJpcHBlci1iYWNrLTE1MTY5MTI_YW1wPTE?oc=5\n",
      "Unable to parse article: https://news.google.com/__i/rss/rd/articles/CBMiK2h0dHBzOi8vd3d3LnlvdXR1YmUuY29tL3dhdGNoP3Y9WUZwUE44eFZBUXfSAQA?oc=5\n",
      "Unable to parse article: https://news.google.com/__i/rss/rd/articles/CBMiK2h0dHBzOi8vd3d3LnlvdXR1YmUuY29tL3dhdGNoP3Y9MzdudmM0ZTB3dGfSAQA?oc=5\n",
      "***FAILED TO DOWNLOAD***https://news.google.com/__i/rss/rd/articles/CBMiVWh0dHBzOi8vd3d3Lm5ld3N3ZWVrLmNvbS9mYXItc2lkZS1iYWNrLWhlcmVzLXdoeS1nYXJ5LWxhcnNvbi1sZWZ0LWZpcnN0LXBsYWNlLTE1MTY3NDjSAVtodHRwczovL3d3dy5uZXdzd2Vlay5jb20vZmFyLXNpZGUtYmFjay1oZXJlcy13aHktZ2FyeS1sYXJzb24tbGVmdC1maXJzdC1wbGFjZS0xNTE2NzQ4P2FtcD0x?oc=5\n",
      "Using DataFrame (192, 10) Adding 58\n",
      "(211, 10)\n",
      "(211, 10)\n",
      "general\n",
      "Unable to parse article: https://news.google.com/__i/rss/rd/articles/CBMiK2h0dHBzOi8vd3d3LnlvdXR1YmUuY29tL3dhdGNoP3Y9NGtWaXMyRHdjM1HSAQA?oc=5\n",
      "***FAILED TO DOWNLOAD***https://news.google.com/__i/rss/rd/articles/CBMiQmh0dHBzOi8vd3d3Lm1pYW1paGVyYWxkLmNvbS9uZXdzL2Nvcm9uYXZpcnVzL2FydGljbGUyNDQxNDY3OTcuaHRtbNIBQmh0dHBzOi8vYW1wLm1pYW1paGVyYWxkLmNvbS9uZXdzL2Nvcm9uYXZpcnVzL2FydGljbGUyNDQxNDY3OTcuaHRtbA?oc=5\n",
      "Unable to parse article: https://news.google.com/__i/rss/rd/articles/CBMiK2h0dHBzOi8vd3d3LnlvdXR1YmUuY29tL3dhdGNoP3Y9cFBhb1lNeWZ6SmfSAQA?oc=5\n",
      "Number of articles: 150\n",
      "***FAILED TO DOWNLOAD***https://www.washingtonpost.com/politics/after-months-of-decline-americas-coronavirus-death-rate-begins-to-rise/2020/07/10/261fb24a-c2cd-11ea-864a-0dd31b9d6917_story.html\n",
      "Using DataFrame (167, 10) Adding 34\n",
      "(182, 10)\n",
      "(182, 10)\n",
      "health\n",
      "Unable to parse article: http://nbcmontana.com/news/local/85-new-cases-of-covid-19-in-montana\n",
      "***FAILED TO DOWNLOAD***https://www.washingtonpost.com/health/racism-in-care-leads-to-health-disparities-doctors-and-other-experts-say-as-they-push-for-change/2020/07/10/a1a1e40a-bb9e-11ea-80b9-40ece9a701dc_story.html\n",
      "Unable to parse article: http://komonews.com/news/coronavirus/health-officials-coronavirus-cases-continue-to-rise-in-king-co-at-alarming-rate\n",
      "Number of articles: 200\n",
      "***FAILED TO DOWNLOAD***https://news.google.com/__i/rss/rd/articles/CBMiSGh0dHBzOi8vd3d3LmNoYXJsb3R0ZW9ic2VydmVyLmNvbS9uZXdzL2Nvcm9uYXZpcnVzL2FydGljbGUyNDQxNTMwMjcuaHRtbNIBSGh0dHBzOi8vYW1wLmNoYXJsb3R0ZW9ic2VydmVyLmNvbS9uZXdzL2Nvcm9uYXZpcnVzL2FydGljbGUyNDQxNTMwMjcuaHRtbA?oc=5\n",
      "Unable to parse article: http://news4sanantonio.com/news/local/i-thought-this-was-a-hoax-patient-in-their-30s-dies-after-attending-covid-party\n",
      "Unable to parse article: http://idahonews.com/news/coronavirus/understanding-the-numbers-confirmed-and-probable-covid-19-cases-in-idaho\n",
      "***FAILED TO DOWNLOAD***https://news.google.com/__i/rss/rd/articles/CBMiQmh0dHBzOi8vd3d3Lm1pYW1paGVyYWxkLmNvbS9uZXdzL2Nvcm9uYXZpcnVzL2FydGljbGUyNDQxNDc4MzcuaHRtbNIBQmh0dHBzOi8vYW1wLm1pYW1paGVyYWxkLmNvbS9uZXdzL2Nvcm9uYXZpcnVzL2FydGljbGUyNDQxNDc4MzcuaHRtbA?oc=5\n",
      "Unable to parse article: http://upnorthlive.com/news/local/torch-lake-sandbar-listed-as-possible-covid-19-exposure-site-following-4th-of-july-party\n",
      "***FAILED TO DOWNLOAD***https://news.google.com/__i/rss/rd/articles/CBMiPWh0dHBzOi8vd3d3LnNhY2JlZS5jb20vbmV3cy9jb3JvbmF2aXJ1cy9hcnRpY2xlMjQ0MTQyOTU3Lmh0bWzSAT1odHRwczovL2FtcC5zYWNiZWUuY29tL25ld3MvY29yb25hdmlydXMvYXJ0aWNsZTI0NDE0Mjk1Ny5odG1s?oc=5\n",
      "***FAILED TO DOWNLOAD***https://www.washingtonpost.com/health/with-coronavirus-science-still-iffy-us-schools-hope-to-reopen-for-566-million-k-12-students/2020/07/09/10cba7d4-c203-11ea-b4f6-cb39cd8940fb_story.html\n",
      "Using DataFrame (219, 10) Adding 60\n",
      "(242, 10)\n",
      "(242, 10)\n",
      "science\n",
      "***FAILED TO DOWNLOAD***http://www.sci-news.com/paleontology/ankylorhiza-tiedemani-08626.html\n",
      "Unable to parse article: https://www.nasa.gov/press-release/aviation-scholars-to-speak-with-nasa-astronauts-aboard-space-station/\n",
      "Number of articles: 250\n",
      "***FAILED TO DOWNLOAD***https://amp.theguardian.comscience/2020/jul/09/spacewatch-nasa-asteroid-mission-passes-key-milestone\n",
      "Using DataFrame (140, 10) Adding 57\n",
      "(143, 10)\n",
      "(143, 10)\n",
      "sports\n",
      "Unable to parse article: https://news.google.com/__i/rss/rd/articles/CBMiK2h0dHBzOi8vd3d3LnlvdXR1YmUuY29tL3dhdGNoP3Y9THBUMUVfb3gtbFXSAQA?oc=5\n",
      "Unable to parse article: https://news.google.com/__i/rss/rd/articles/CBMiK2h0dHBzOi8vd3d3LnlvdXR1YmUuY29tL3dhdGNoP3Y9NGtWaXMyRHdjM1HSAQA?oc=5\n",
      "Unable to parse article: https://news.google.com/__i/rss/rd/articles/CBMiK2h0dHBzOi8vd3d3LnlvdXR1YmUuY29tL3dhdGNoP3Y9T0ZMcXBtZnFuUm_SAQA?oc=5\n",
      "Unable to parse article: https://news.google.com/__i/rss/rd/articles/CBMiK2h0dHBzOi8vd3d3LnlvdXR1YmUuY29tL3dhdGNoP3Y9R0lzbjVvUG1Ka1nSAQA?oc=5\n",
      "Unable to parse article: https://news.google.com/__i/rss/rd/articles/CBMiK2h0dHBzOi8vd3d3LnlvdXR1YmUuY29tL3dhdGNoP3Y9c0pxdnNQRG9TVnfSAQA?oc=5\n",
      "Number of articles: 300\n",
      "Unable to parse article: https://news.google.com/__i/rss/rd/articles/CBMiK2h0dHBzOi8vd3d3LnlvdXR1YmUuY29tL3dhdGNoP3Y9b2ppZ0dtaUpYVjjSAQA?oc=5\n",
      "Unable to parse article: https://news.google.com/__i/rss/rd/articles/CBMiK2h0dHBzOi8vd3d3LnlvdXR1YmUuY29tL3dhdGNoP3Y9SGZ5QzFPMjJueGPSAQA?oc=5\n",
      "Unable to parse article: http://wcyb.com/news/local/health-official-says-bms-safety-plan-for-all-star-race-is-exceptional\n",
      "Unable to parse article: https://news.google.com/__i/rss/rd/articles/CBMiK2h0dHBzOi8vd3d3LnlvdXR1YmUuY29tL3dhdGNoP3Y9a29OV2tpdU00enPSAQA?oc=5\n",
      "Using DataFrame (224, 10) Adding 61\n",
      "(243, 10)\n",
      "(243, 10)\n",
      "technology\n",
      "Unable to parse article: https://news.google.com/__i/rss/rd/articles/CBMiK2h0dHBzOi8vd3d3LnlvdXR1YmUuY29tL3dhdGNoP3Y9M1J4ZHdoRF9jODjSAQA?oc=5\n",
      "Unable to parse article: https://news.google.com/__i/rss/rd/articles/CBMiK2h0dHBzOi8vd3d3LnlvdXR1YmUuY29tL3dhdGNoP3Y9OFl0VlZfSmlVcGvSAQA?oc=5\n",
      "Unable to parse article: https://news.google.com/__i/rss/rd/articles/CBMiK2h0dHBzOi8vd3d3LnlvdXR1YmUuY29tL3dhdGNoP3Y9bTNmOGlrdzR4RGvSAQA?oc=5\n",
      "Unable to parse article: https://news.google.com/__i/rss/rd/articles/CBMiK2h0dHBzOi8vd3d3LnlvdXR1YmUuY29tL3dhdGNoP3Y9LS1wSG5BRnFxalnSAQA?oc=5\n",
      "Number of articles: 350\n",
      "Unable to parse article: https://news.google.com/__i/rss/rd/articles/CBMiK2h0dHBzOi8vd3d3LnlvdXR1YmUuY29tL3dhdGNoP3Y9cFBhb1lNeWZ6SmfSAQA?oc=5\n",
      "Unable to parse article: https://news.google.com/__i/rss/rd/articles/CBMiK2h0dHBzOi8vd3d3LnlvdXR1YmUuY29tL3dhdGNoP3Y9VWVENEdnblR6QjjSAQA?oc=5\n",
      "Unable to parse article: https://news.google.com/__i/rss/rd/articles/CBMiK2h0dHBzOi8vd3d3LnlvdXR1YmUuY29tL3dhdGNoP3Y9X1JwMUhJNVFJeVnSAQA?oc=5\n"
     ]
    },
    {
     "name": "stdout",
     "output_type": "stream",
     "text": [
      "Unable to parse article: https://www.mmorpg.com/notice/ss-captcha\n",
      "Unable to parse article: https://news.google.com/__i/rss/rd/articles/CBMiK2h0dHBzOi8vd3d3LnlvdXR1YmUuY29tL3dhdGNoP3Y9cW4wRHQ3NmdKYXPSAQA?oc=5\n",
      "Unable to parse article: https://news.google.com/__i/rss/rd/articles/CBMiK2h0dHBzOi8vd3d3LnlvdXR1YmUuY29tL3dhdGNoP3Y9ZGZQU3ZaeENuQXPSAQA?oc=5\n",
      "Using DataFrame (198, 10) Adding 60\n",
      "(211, 10)\n",
      "(211, 10)\n",
      "Total number of articles: 397\n"
     ]
    }
   ],
   "source": [
    "count =0\n",
    "for category in categories:\n",
    "    name = category\n",
    "    print(name)\n",
    "    bappend = False\n",
    "    if os.path.exists(f'resources/{category}_top_headline_data_new.json') :\n",
    "        category_dataframe = pd.read_json(f'resources/{category}_top_headline_data_new.json').T\n",
    "        bappend = True\n",
    "    catDF= None\n",
    "    parameters['category'] = category\n",
    "    response = requests.get(url, params=parameters)\n",
    "    if response.status_code != requests.codes.ok:\n",
    "        print(f\"Bad result : {response.url}\")\n",
    "        continue\n",
    "    response_json = response.json()\n",
    "\n",
    "    df = pd.DataFrame.from_dict(response_json)\n",
    "    df = pd.concat([df.drop(['articles'], axis=1), df['articles'].apply(pd.Series)], axis=1) \n",
    "\n",
    "    rows = []\n",
    "    for index, row in df.iterrows():\n",
    "        h = row['url']\n",
    "        user_agent = 'Mozilla/5.0 (Macintosh; Intel Mac OS X 10_11_5) AppleWebKit/537.36 (KHTML, like Gecko) Chrome/50.0.2661.102 Safari/537.36'\n",
    "        config = Config()\n",
    "        config.verbose=True\n",
    "        config.browser_user_agent = user_agent\n",
    "        newsarticle = Article(h, config=config)\n",
    "        try :\n",
    "            newsarticle.download()\n",
    "            newsarticle.parse()\n",
    "            if not newsarticle.text :\n",
    "                print(f\"Unable to parse article: {h}\")\n",
    "                continue \n",
    "            artdict = {}                \n",
    "            artdict['articleText']=newsarticle.text\n",
    "            artdict['articleSummary']=''   # Place Holder for bert summary\n",
    "            artdict['articleSentiment']='' # Place Holder for calculated Sentiment Analysis\n",
    "            for column in df:\n",
    "                #print(column)\n",
    "                if column in ['status', 'totalResults','content'] :\n",
    "                    continue \n",
    "                artdict[column]= row[column]\n",
    "            rows.append(artdict)\n",
    "            count += 1\n",
    "            if (count % 50 == 0 ):\n",
    "                print('Number of articles: '+str(count))\n",
    "\n",
    "        except :\n",
    "             print(f'***FAILED TO DOWNLOAD***{newsarticle.url}')\n",
    "             pass\n",
    "    if name in category_articles:\n",
    "        category_articles[name].append(pd.DataFrame(rows),ignore_index=True)\n",
    "    else:\n",
    "        if bappend :\n",
    "            print(f\"Using DataFrame {category_dataframe.shape} Adding {len(rows)}\" )\n",
    "            category_dataframe = category_dataframe.append(pd.DataFrame(rows),ignore_index=True).drop_duplicates(subset='url')\n",
    "            category_articles[name] = category_dataframe\n",
    "            print(category_articles[name].shape)        \n",
    "        else:\n",
    "            category_articles[name]= pd.DataFrame(rows)\n",
    "    print(category_articles[name].shape)\n",
    "\n",
    "\n",
    "print('Total number of articles: '+str(count))\n",
    "    "
   ]
  },
  {
   "cell_type": "code",
   "execution_count": 10,
   "metadata": {
    "ExecuteTime": {
     "end_time": "2020-07-11T22:51:59.218080Z",
     "start_time": "2020-07-11T22:51:59.111068Z"
    }
   },
   "outputs": [
    {
     "name": "stdout",
     "output_type": "stream",
     "text": [
      "business\n",
      "entertainment\n",
      "general\n",
      "health\n",
      "science\n",
      "sports\n",
      "technology\n"
     ]
    }
   ],
   "source": [
    "for category in category_articles.keys():\n",
    "    print(category)\n",
    "    df = category_articles[category]\n",
    "    df.to_json(f'resources/{category}_top_headline_data_new.json', orient='index')\n",
    "    \n",
    "    "
   ]
  },
  {
   "cell_type": "code",
   "execution_count": null,
   "metadata": {},
   "outputs": [],
   "source": []
  }
 ],
 "metadata": {
  "kernelspec": {
   "display_name": "Python 3",
   "language": "python",
   "name": "python3"
  },
  "language_info": {
   "codemirror_mode": {
    "name": "ipython",
    "version": 3
   },
   "file_extension": ".py",
   "mimetype": "text/x-python",
   "name": "python",
   "nbconvert_exporter": "python",
   "pygments_lexer": "ipython3",
   "version": "3.8.3"
  }
 },
 "nbformat": 4,
 "nbformat_minor": 2
}
