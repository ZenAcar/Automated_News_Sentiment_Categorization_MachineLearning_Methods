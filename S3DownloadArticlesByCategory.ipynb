{
 "cells": [
  {
   "cell_type": "markdown",
   "metadata": {},
   "source": [
    "### Prototype code to scrape the top headlines and their corresponding article text from News API"
   ]
  },
  {
   "cell_type": "code",
   "execution_count": 1,
   "metadata": {
    "ExecuteTime": {
     "end_time": "2020-07-12T00:35:29.959399Z",
     "start_time": "2020-07-12T00:35:29.167367Z"
    }
   },
   "outputs": [],
   "source": [
    "import os.path\n",
    "from os import path\n",
    "import pandas as pd\n",
    "import json\n",
    "import boto3 \n",
    "import os\n",
    "from io import StringIO\n"
   ]
  },
  {
   "cell_type": "code",
   "execution_count": 2,
   "metadata": {
    "ExecuteTime": {
     "end_time": "2020-07-12T00:35:30.037399Z",
     "start_time": "2020-07-12T00:35:29.962399Z"
    }
   },
   "outputs": [],
   "source": [
    "import pprint\n",
    "import requests"
   ]
  },
  {
   "cell_type": "code",
   "execution_count": 3,
   "metadata": {
    "ExecuteTime": {
     "end_time": "2020-07-12T00:35:30.053404Z",
     "start_time": "2020-07-12T00:35:30.041400Z"
    }
   },
   "outputs": [],
   "source": [
    "# API Key for News API\n",
    "secret = 'd05c3ae08abd461f90b3dc555af1bb59'"
   ]
  },
  {
   "cell_type": "code",
   "execution_count": 4,
   "metadata": {
    "ExecuteTime": {
     "end_time": "2020-07-12T00:35:30.069400Z",
     "start_time": "2020-07-12T00:35:30.057400Z"
    }
   },
   "outputs": [],
   "source": [
    "# s3 secret\n",
    "ACCESS_KEY = \"<KEY>\" \n",
    "SECRET_KEY = \"<SECRET>\" \n",
    "BUCKET_NAME ='<bucket>'\n"
   ]
  },
  {
   "cell_type": "code",
   "execution_count": 5,
   "metadata": {
    "ExecuteTime": {
     "end_time": "2020-07-12T00:35:30.287400Z",
     "start_time": "2020-07-12T00:35:30.071399Z"
    }
   },
   "outputs": [],
   "source": [
    "s3 = boto3.resource(\n",
    "    's3',\n",
    "    region_name='us-east-1',\n",
    "    aws_access_key_id=ACCESS_KEY,\n",
    "    aws_secret_access_key=SECRET_KEY\n",
    ").Bucket(BUCKET_NAME)\n",
    "\n",
    "json.load_s3 = lambda f: json.load(s3.Object(key=f).get()[\"Body\"])\n",
    "json.dump_s3 = lambda obj, f: s3.Object(key=f).put(Body=json.dumps(obj))"
   ]
  },
  {
   "cell_type": "code",
   "execution_count": 6,
   "metadata": {
    "ExecuteTime": {
     "end_time": "2020-07-12T00:35:30.303402Z",
     "start_time": "2020-07-12T00:35:30.291398Z"
    }
   },
   "outputs": [],
   "source": [
    "# Define the endpoint to extract all the top headlines \n",
    "url = 'https://newsapi.org/v2/top-headlines?'"
   ]
  },
  {
   "cell_type": "code",
   "execution_count": 7,
   "metadata": {
    "ExecuteTime": {
     "end_time": "2020-07-12T00:35:30.318399Z",
     "start_time": "2020-07-12T00:35:30.305401Z"
    }
   },
   "outputs": [],
   "source": [
    "# Specify the query and number of returns - Limit the headlines to country US, for now\n",
    "parameters = {\n",
    "    'language': 'en',\n",
    "    'country':'us',\n",
    "    'pageSize': 100,\n",
    "    'apiKey': secret \n",
    "}"
   ]
  },
  {
   "cell_type": "code",
   "execution_count": 8,
   "metadata": {
    "ExecuteTime": {
     "end_time": "2020-07-12T00:35:30.349398Z",
     "start_time": "2020-07-12T00:35:30.323399Z"
    }
   },
   "outputs": [],
   "source": [
    "categories = ['business','entertainment','general','health','science','sports','technology']\n"
   ]
  },
  {
   "cell_type": "code",
   "execution_count": 9,
   "metadata": {
    "ExecuteTime": {
     "end_time": "2020-07-12T00:35:31.285923Z",
     "start_time": "2020-07-12T00:35:30.352403Z"
    }
   },
   "outputs": [],
   "source": [
    "from newspaper import Article\n",
    "from newspaper import Config\n",
    "\n",
    "\n",
    "article_title = []\n",
    "article_authors = []\n",
    "article_text = []\n",
    "article_summary = []\n",
    "article_date = []\n",
    "article_top_image = []\n",
    "failed_url = []\n",
    "category_articles ={}\n",
    "pages= range(1,2)"
   ]
  },
  {
   "cell_type": "code",
   "execution_count": 10,
   "metadata": {
    "ExecuteTime": {
     "end_time": "2020-07-12T00:35:31.301923Z",
     "start_time": "2020-07-12T00:35:31.289923Z"
    }
   },
   "outputs": [],
   "source": [
    "#category_dataframe = pd.read_json(f'resources/business_top_headline_data.json').T\n",
    "#category_dataframe.head()"
   ]
  },
  {
   "cell_type": "code",
   "execution_count": 11,
   "metadata": {
    "ExecuteTime": {
     "end_time": "2020-07-12T00:42:19.188328Z",
     "start_time": "2020-07-12T00:35:31.310929Z"
    }
   },
   "outputs": [
    {
     "name": "stdout",
     "output_type": "stream",
     "text": [
      "business\n",
      "***FAILED TO DOWNLOAD***https://www.washingtonpost.com/business/2020/07/11/after-fastest-recession-us-history-economic-recovery-may-be-fizzling/\n",
      "Unable to parse article: http://turnto10.com/news/local/providence-post-office-evacuated-2-employees-sent-to-hospital\n",
      "Unable to parse article: http://news3lv.com/news/local/eldorado-must-sell-3-indiana-casinos-as-part-of-caesars-deal-07-11-2020\n",
      "***FAILED TO DOWNLOAD***https://www.wptv.com/news/region-c-palm-beach-county/west-palm-beach/template-west-palm-beach\n",
      "Unable to parse article: https://www.profgalloway.com/lets-get-ready-to-rundle/\n",
      "Number of articles: 50\n",
      "***FAILED TO DOWNLOAD***https://news.google.com/__i/rss/rd/articles/CBMiXmh0dHBzOi8vd3d3LmFnd2ViLmNvbS9hcnRpY2xlL2Nvcm4tbWFya2V0LXVucGhhc2VkLXByb2R1Y3Rpb24tZHJvcC1sYXJnZS1jaGluZXNlLWJ1eS1oZXJlcy13aHnSAQA?oc=5\n",
      "Using DataFrame (234, 10) Adding 64\n",
      "(249, 10)\n",
      "entertainment\n",
      "Unable to parse article: https://news.google.com/__i/rss/rd/articles/CBMiK2h0dHBzOi8vd3d3LnlvdXR1YmUuY29tL3dhdGNoP3Y9ekhIOTc4dFZvbWfSAQA?oc=5\n",
      "Unable to parse article: https://news.google.com/__i/rss/rd/articles/CBMiK2h0dHBzOi8vd3d3LnlvdXR1YmUuY29tL3dhdGNoP3Y9WXEwaG1qYWhkcTTSAQA?oc=5\n",
      "Unable to parse article: https://news.google.com/__i/rss/rd/articles/CBMiK2h0dHBzOi8vd3d3LnlvdXR1YmUuY29tL3dhdGNoP3Y9dWZkcDJJNU9mUzjSAQA?oc=5\n",
      "Number of articles: 100\n",
      "Unable to parse article: https://news.google.com/__i/rss/rd/articles/CBMiK2h0dHBzOi8vd3d3LnlvdXR1YmUuY29tL3dhdGNoP3Y9Y1VvZmtOVXlYRHPSAQA?oc=5\n",
      "Unable to parse article: https://news.google.com/__i/rss/rd/articles/CBMiK2h0dHBzOi8vd3d3LnlvdXR1YmUuY29tL3dhdGNoP3Y9MW1tRW55RWFIM03SAQA?oc=5\n",
      "Unable to parse article: https://news.google.com/__i/rss/rd/articles/CBMiK2h0dHBzOi8vd3d3LnlvdXR1YmUuY29tL3dhdGNoP3Y9QTBVY2xBbXJoVknSAQA?oc=5\n",
      "Unable to parse article: https://news.google.com/__i/rss/rd/articles/CBMiK2h0dHBzOi8vd3d3LnlvdXR1YmUuY29tL3dhdGNoP3Y9d0FCcndlVE5xRknSAQA?oc=5\n",
      "Unable to parse article: https://news.google.com/__i/rss/rd/articles/CBMiK2h0dHBzOi8vd3d3LnlvdXR1YmUuY29tL3dhdGNoP3Y9aDZhTTYxMmFndVHSAQA?oc=5\n",
      "Unable to parse article: https://news.google.com/__i/rss/rd/articles/CBMiK2h0dHBzOi8vd3d3LnlvdXR1YmUuY29tL3dhdGNoP3Y9MWszeTRWZFBURnPSAQA?oc=5\n",
      "Unable to parse article: https://news.google.com/__i/rss/rd/articles/CBMiK2h0dHBzOi8vd3d3LnlvdXR1YmUuY29tL3dhdGNoP3Y9Y2gtcXRzbzhtQUnSAQA?oc=5\n",
      "Unable to parse article: https://news.google.com/__i/rss/rd/articles/CBMiK2h0dHBzOi8vd3d3LnlvdXR1YmUuY29tL3dhdGNoP3Y9ZEpfU2NRNzlBMTjSAQA?oc=5\n",
      "Unable to parse article: https://news.google.com/__i/rss/rd/articles/CBMiK2h0dHBzOi8vd3d3LnlvdXR1YmUuY29tL3dhdGNoP3Y9WUZwUE44eFZBUXfSAQA?oc=5\n",
      "Unable to parse article: https://news.google.com/__i/rss/rd/articles/CBMiK2h0dHBzOi8vd3d3LnlvdXR1YmUuY29tL3dhdGNoP3Y9cXZrbWJydzlaYVXSAQA?oc=5\n",
      "***FAILED TO DOWNLOAD***https://news.google.com/__i/rss/rd/articles/CBMiX2h0dHBzOi8vd3d3Lm5ld3N3ZWVrLmNvbS9qdWRnZS13aWxsLXJ1bGUtYWdhaW5zdC1tZWdoYW4tbWFya2xlLWZyaWVuZHMtd2hvLWRlZmVuZGVkLWhlci0xNTE2ODI00gFlaHR0cHM6Ly93d3cubmV3c3dlZWsuY29tL2p1ZGdlLXdpbGwtcnVsZS1hZ2FpbnN0LW1lZ2hhbi1tYXJrbGUtZnJpZW5kcy13aG8tZGVmZW5kZWQtaGVyLTE1MTY4MjQ_YW1wPTE?oc=5\n",
      "Unable to parse article: https://news.google.com/__i/rss/rd/articles/CBMiK2h0dHBzOi8vd3d3LnlvdXR1YmUuY29tL3dhdGNoP3Y9MzdudmM0ZTB3dGfSAQA?oc=5\n",
      "Using DataFrame (211, 10) Adding 55\n",
      "(231, 10)\n",
      "general\n",
      "Unable to parse article: https://news.google.com/__i/rss/rd/articles/CBMiK2h0dHBzOi8vd3d3LnlvdXR1YmUuY29tL3dhdGNoP3Y9ekhIOTc4dFZvbWfSAQA?oc=5\n",
      "***FAILED TO DOWNLOAD***https://www.washingtonpost.com/business/2020/07/11/after-fastest-recession-us-history-economic-recovery-may-be-fizzling/\n",
      "Unable to parse article: https://news.google.com/__i/rss/rd/articles/CBMiK2h0dHBzOi8vd3d3LnlvdXR1YmUuY29tL3dhdGNoP3Y9WXEwaG1qYWhkcTTSAQA?oc=5\n",
      "Unable to parse article: https://news.google.com/__i/rss/rd/articles/CBMiK2h0dHBzOi8vd3d3LnlvdXR1YmUuY29tL3dhdGNoP3Y9NGtWaXMyRHdjM1HSAQA?oc=5\n",
      "Unable to parse article: https://news.google.com/__i/rss/rd/articles/CBMiK2h0dHBzOi8vd3d3LnlvdXR1YmUuY29tL3dhdGNoP3Y9VFNISnFfSk5Xb1XSAQA?oc=5\n",
      "***FAILED TO DOWNLOAD***https://news.google.com/__i/rss/rd/articles/CBMidmh0dHBzOi8vd3d3Lm5ld3N3ZWVrLmNvbS9mbG9yaWRhLWdvdmVybm9yLXJlc3BvbmRzLWZhdWNpcy1yZW1hcmstYWJvdXQtc3RhdGUtcmVvcGVuaW5nLXRvby1zb29uLXNheXMtdGhlcmVzLW5vLTE1MTcxNDDSAXxodHRwczovL3d3dy5uZXdzd2Vlay5jb20vZmxvcmlkYS1nb3Zlcm5vci1yZXNwb25kcy1mYXVjaXMtcmVtYXJrLWFib3V0LXN0YXRlLXJlb3BlbmluZy10b28tc29vbi1zYXlzLXRoZXJlcy1uby0xNTE3MTQwP2FtcD0x?oc=5\n",
      "Unable to parse article: https://www.nasa.gov/feature/jpl/join-nasa-for-the-launch-of-the-mars-2020-perseverance-rover/\n",
      "Unable to parse article: https://news.google.com/__i/rss/rd/articles/CBMiK2h0dHBzOi8vd3d3LnlvdXR1YmUuY29tL3dhdGNoP3Y9NWsza1BUWTRsZGPSAQA?oc=5\n",
      "***FAILED TO DOWNLOAD***https://news.google.com/__i/rss/rd/articles/CBMiW2h0dHBzOi8vd3d3Lm5ld3N3ZWVrLmNvbS90cnVtcHMtZGVjbGluZS1wb2xscy10aHJlYXRlbnMtcmVwdWJsaWNhbnMtc2VuYXRlLW1ham9yaXR5LTE1MTY5NjjSAWFodHRwczovL3d3dy5uZXdzd2Vlay5jb20vdHJ1bXBzLWRlY2xpbmUtcG9sbHMtdGhyZWF0ZW5zLXJlcHVibGljYW5zLXNlbmF0ZS1tYWpvcml0eS0xNTE2OTY4P2FtcD0x?oc=5\n",
      "Using DataFrame (182, 10) Adding 29\n",
      "(196, 10)\n",
      "health\n",
      "Number of articles: 150\n",
      "Unable to parse article: http://wcyb.com/news/local/tdh-83-new-covid-19-cases-reported-in-northeast-tennessee\n",
      "***FAILED TO DOWNLOAD***https://news.google.com/__i/rss/rd/articles/CBMiPWh0dHBzOi8vd3d3LnNhY2JlZS5jb20vbmV3cy9jb3JvbmF2aXJ1cy9hcnRpY2xlMjQ0MTYzMzc3Lmh0bWzSAT1odHRwczovL2FtcC5zYWNiZWUuY29tL25ld3MvY29yb25hdmlydXMvYXJ0aWNsZTI0NDE2MzM3Ny5odG1s?oc=5\n",
      "***FAILED TO DOWNLOAD***https://news.google.com/__i/rss/rd/articles/CBMiQGh0dHBzOi8vd3d3LmJyYWRlbnRvbi5jb20vbmV3cy9jb3JvbmF2aXJ1cy9hcnRpY2xlMjQ0MTY0ODg3Lmh0bWzSAUBodHRwczovL2FtcC5icmFkZW50b24uY29tL25ld3MvY29yb25hdmlydXMvYXJ0aWNsZTI0NDE2NDg4Ny5odG1s?oc=5\n",
      "***FAILED TO DOWNLOAD***https://news.google.com/__i/rss/rd/articles/CBMiQmh0dHBzOi8vd3d3LmNoYXJsb3R0ZW9ic2VydmVyLmNvbS9uZXdzL2xvY2FsL2FydGljbGUyNDQxNTQ3MzcuaHRtbNIBQmh0dHBzOi8vYW1wLmNoYXJsb3R0ZW9ic2VydmVyLmNvbS9uZXdzL2xvY2FsL2FydGljbGUyNDQxNTQ3MzcuaHRtbA?oc=5\n",
      "Unable to parse article: http://nbcmontana.com/news/local/85-new-cases-of-covid-19-in-montana\n",
      "***FAILED TO DOWNLOAD***https://www.washingtonpost.com/health/racial-disparities-seen-in-how-doctors-treat-pain-even-among-children/2020/07/10/265e77d6-b626-11ea-aca5-ebb63d27e1ff_story.html\n",
      "***FAILED TO DOWNLOAD***https://www.washingtonpost.com/health/racism-in-care-leads-to-health-disparities-doctors-and-other-experts-say-as-they-push-for-change/2020/07/10/a1a1e40a-bb9e-11ea-80b9-40ece9a701dc_story.html\n",
      "***FAILED TO DOWNLOAD***https://www.washingtonpost.com/health/2020/07/10/cdc-covid-19-death-toll-is-twice-high-among-people-color-under-age-65-white-americans/\n",
      "***FAILED TO DOWNLOAD***https://news.google.com/__i/rss/rd/articles/CBMiSGh0dHBzOi8vd3d3LmNoYXJsb3R0ZW9ic2VydmVyLmNvbS9uZXdzL2Nvcm9uYXZpcnVzL2FydGljbGUyNDQxNTMwMjcuaHRtbNIBSGh0dHBzOi8vYW1wLmNoYXJsb3R0ZW9ic2VydmVyLmNvbS9uZXdzL2Nvcm9uYXZpcnVzL2FydGljbGUyNDQxNTMwMjcuaHRtbA?oc=5\n",
      "***FAILED TO DOWNLOAD***https://news.google.com/__i/rss/rd/articles/CBMiQmh0dHBzOi8vd3d3Lm1pYW1paGVyYWxkLmNvbS9uZXdzL2Nvcm9uYXZpcnVzL2FydGljbGUyNDQxNDc4MzcuaHRtbNIBQmh0dHBzOi8vYW1wLm1pYW1paGVyYWxkLmNvbS9uZXdzL2Nvcm9uYXZpcnVzL2FydGljbGUyNDQxNDc4MzcuaHRtbA?oc=5\n",
      "Unable to parse article: http://upnorthlive.com/news/local/torch-lake-sandbar-listed-as-possible-covid-19-exposure-site-following-4th-of-july-party\n",
      "Number of articles: 200\n",
      "Using DataFrame (242, 10) Adding 59\n",
      "(264, 10)\n",
      "science\n",
      "Unable to parse article: https://www.nasa.gov/feature/jpl/join-nasa-for-the-launch-of-the-mars-2020-perseverance-rover/\n",
      "***FAILED TO DOWNLOAD***http://www.sci-news.com/paleontology/ankylorhiza-tiedemani-08626.html\n",
      "Unable to parse article: https://www.nasa.gov/press-release/aviation-scholars-to-speak-with-nasa-astronauts-aboard-space-station/\n",
      "Number of articles: 250\n",
      "Using DataFrame (143, 10) Adding 54\n",
      "(148, 10)\n",
      "sports\n",
      "Unable to parse article: https://news.google.com/__i/rss/rd/articles/CBMiK2h0dHBzOi8vd3d3LnlvdXR1YmUuY29tL3dhdGNoP3Y9dUdQRTJaS2xwZGvSAQA?oc=5\n",
      "Unable to parse article: https://news.google.com/__i/rss/rd/articles/CBMiK2h0dHBzOi8vd3d3LnlvdXR1YmUuY29tL3dhdGNoP3Y9T1hETDN4aFBnbTTSAQA?oc=5\n",
      "Unable to parse article: https://news.google.com/__i/rss/rd/articles/CBMiK2h0dHBzOi8vd3d3LnlvdXR1YmUuY29tL3dhdGNoP3Y9THBUMUVfb3gtbFXSAQA?oc=5\n"
     ]
    },
    {
     "name": "stdout",
     "output_type": "stream",
     "text": [
      "Unable to parse article: https://news.google.com/__i/rss/rd/articles/CBMiK2h0dHBzOi8vd3d3LnlvdXR1YmUuY29tL3dhdGNoP3Y9NGtWaXMyRHdjM1HSAQA?oc=5\n",
      "Unable to parse article: https://news.google.com/__i/rss/rd/articles/CBMiK2h0dHBzOi8vd3d3LnlvdXR1YmUuY29tL3dhdGNoP3Y9T0ZMcXBtZnFuUm_SAQA?oc=5\n",
      "Number of articles: 300\n",
      "Unable to parse article: https://news.google.com/__i/rss/rd/articles/CBMiK2h0dHBzOi8vd3d3LnlvdXR1YmUuY29tL3dhdGNoP3Y9UmdrTzNRTTluOGfSAQA?oc=5\n",
      "Unable to parse article: https://news.google.com/__i/rss/rd/articles/CBMiK2h0dHBzOi8vd3d3LnlvdXR1YmUuY29tL3dhdGNoP3Y9a29OV2tpdU00enPSAQA?oc=5\n",
      "Unable to parse article: https://news.google.com/__i/rss/rd/articles/CBMiK2h0dHBzOi8vd3d3LnlvdXR1YmUuY29tL3dhdGNoP3Y9WS1oSUJPRFQxSUHSAQA?oc=5\n",
      "Using DataFrame (243, 10) Adding 62\n",
      "(270, 10)\n",
      "technology\n",
      "Unable to parse article: https://news.google.com/__i/rss/rd/articles/CBMiK2h0dHBzOi8vd3d3LnlvdXR1YmUuY29tL3dhdGNoP3Y9U1VzSVlwZVIwckHSAQA?oc=5\n",
      "Unable to parse article: https://news.google.com/__i/rss/rd/articles/CBMiK2h0dHBzOi8vd3d3LnlvdXR1YmUuY29tL3dhdGNoP3Y9OFl0VlZfSmlVcGvSAQA?oc=5\n",
      "Unable to parse article: https://news.google.com/__i/rss/rd/articles/CBMiK2h0dHBzOi8vd3d3LnlvdXR1YmUuY29tL3dhdGNoP3Y9bTNmOGlrdzR4RGvSAQA?oc=5\n",
      "Number of articles: 350\n",
      "Unable to parse article: https://www.mmorpg.com/notice/ss-captcha\n",
      "Unable to parse article: https://news.google.com/__i/rss/rd/articles/CBMiK2h0dHBzOi8vd3d3LnlvdXR1YmUuY29tL3dhdGNoP3Y9cW4wRHQ3NmdKYXPSAQA?oc=5\n",
      "Using DataFrame (211, 10) Adding 65\n",
      "(232, 10)\n",
      "Total number of articles: 388\n"
     ]
    }
   ],
   "source": [
    "count =0\n",
    "for category in categories:\n",
    "    name = category\n",
    "    print(name)\n",
    "    fileName= f'resources/{category}_top_headline_data_new.json'\n",
    "    json_buffer=json.load_s3('Project3/'+fileName)\n",
    "    category_dataframe = pd.read_json(json_buffer).T    \n",
    "    parameters['category'] = category\n",
    "    response = requests.get(url, params=parameters)\n",
    "    if response.status_code != requests.codes.ok:\n",
    "        print(f\"Bad result : {response.url}\")\n",
    "        continue\n",
    "    response_json = response.json()\n",
    "\n",
    "    df = pd.DataFrame.from_dict(response_json)\n",
    "    df = pd.concat([df.drop(['articles'], axis=1), df['articles'].apply(pd.Series)], axis=1) \n",
    "\n",
    "    rows = []\n",
    "    for index, row in df.iterrows():\n",
    "        h = row['url']\n",
    "        user_agent = 'Mozilla/5.0 (Macintosh; Intel Mac OS X 10_11_5) AppleWebKit/537.36 (KHTML, like Gecko) Chrome/50.0.2661.102 Safari/537.36'\n",
    "        config = Config()\n",
    "        config.verbose=True\n",
    "        config.browser_user_agent = user_agent\n",
    "        newsarticle = Article(h, config=config)\n",
    "        try :\n",
    "            newsarticle.download()\n",
    "            newsarticle.parse()\n",
    "            if not newsarticle.text :\n",
    "                print(f\"Unable to parse article: {h}\")\n",
    "                continue \n",
    "            artdict = {}                \n",
    "            artdict['articleText']=newsarticle.text\n",
    "            artdict['articleSummary']=''   # Place Holder for bert summary\n",
    "            artdict['articleSentiment']='' # Place Holder for calculated Sentiment Analysis\n",
    "            for column in df:\n",
    "                #print(column)\n",
    "                if column in ['status', 'totalResults','content'] :\n",
    "                    continue \n",
    "                artdict[column]= row[column]\n",
    "            rows.append(artdict)\n",
    "            count += 1\n",
    "            if (count % 50 == 0 ):\n",
    "                print('Number of articles: '+str(count))\n",
    "\n",
    "        except :\n",
    "             print(f'***FAILED TO DOWNLOAD***{newsarticle.url}')\n",
    "             pass\n",
    "\n",
    "    print(f\"Using DataFrame {category_dataframe.shape} Adding {len(rows)}\" )\n",
    "    category_dataframe = category_dataframe.append(pd.DataFrame(rows),ignore_index=True).drop_duplicates(subset='url')\n",
    "#         df.to_json(f'resources/{category}_top_headline_data_new.json', orient='index')\n",
    "#         category_articles[name] = category_dataframe\n",
    "    print(category_dataframe.shape)\n",
    "    json_buffer = StringIO()\n",
    "    category_dataframe.to_json(json_buffer, orient='index')\n",
    "    json.dump_s3(json_buffer.getvalue(),'Project3/'+fileName)\n",
    "\n",
    "\n",
    "\n",
    "print('Total number of articles: '+str(count))\n",
    "    "
   ]
  },
  {
   "cell_type": "code",
   "execution_count": null,
   "metadata": {},
   "outputs": [],
   "source": []
  }
 ],
 "metadata": {
  "kernelspec": {
   "display_name": "Python 3",
   "language": "python",
   "name": "python3"
  },
  "language_info": {
   "codemirror_mode": {
    "name": "ipython",
    "version": 3
   },
   "file_extension": ".py",
   "mimetype": "text/x-python",
   "name": "python",
   "nbconvert_exporter": "python",
   "pygments_lexer": "ipython3",
   "version": "3.8.3"
  }
 },
 "nbformat": 4,
 "nbformat_minor": 2
}
