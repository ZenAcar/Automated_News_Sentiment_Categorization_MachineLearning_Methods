{
 "cells": [
  {
   "cell_type": "code",
   "execution_count": 1,
   "metadata": {
    "ExecuteTime": {
     "end_time": "2020-07-13T04:46:28.840549Z",
     "start_time": "2020-07-13T04:46:24.539552Z"
    }
   },
   "outputs": [],
   "source": [
    "import os.path\n",
    "from os import path\n",
    "import pandas as pd\n",
    "import json\n",
    "import boto3 \n",
    "import os\n",
    "from io import StringIO\n",
    "\n",
    "from summarizer import Summarizer\n"
   ]
  },
  {
   "cell_type": "code",
   "execution_count": 2,
   "metadata": {
    "ExecuteTime": {
     "end_time": "2020-07-13T04:46:28.856551Z",
     "start_time": "2020-07-13T04:46:28.842550Z"
    }
   },
   "outputs": [],
   "source": []
  },
  {
   "cell_type": "code",
   "execution_count": 3,
   "metadata": {
    "ExecuteTime": {
     "end_time": "2020-07-13T04:46:29.106554Z",
     "start_time": "2020-07-13T04:46:28.859550Z"
    }
   },
   "outputs": [],
   "source": [
    "s3 = boto3.resource(\n",
    "    's3',\n",
    "    region_name='us-east-1',\n",
    "    aws_access_key_id=ACCESS_KEY,\n",
    "    aws_secret_access_key=SECRET_KEY\n",
    ").Bucket(BUCKET_NAME)\n",
    "\n",
    "json.load_s3 = lambda f: json.load(s3.Object(key=f).get()[\"Body\"])\n",
    "json.dump_s3 = lambda obj, f: s3.Object(key=f).put(Body=json.dumps(obj))"
   ]
  },
  {
   "cell_type": "code",
   "execution_count": 4,
   "metadata": {
    "ExecuteTime": {
     "end_time": "2020-07-13T04:46:29.122555Z",
     "start_time": "2020-07-13T04:46:29.110551Z"
    }
   },
   "outputs": [],
   "source": [
    "categories = ['business','entertainment','general','health','science','sports','technology']\n"
   ]
  },
  {
   "cell_type": "code",
   "execution_count": 5,
   "metadata": {
    "ExecuteTime": {
     "end_time": "2020-07-13T04:46:57.575946Z",
     "start_time": "2020-07-13T04:46:29.125551Z"
    }
   },
   "outputs": [
    {
     "name": "stdout",
     "output_type": "stream",
     "text": [
      "business\n",
      "0\n",
      "entertainment\n",
      "0\n",
      "general\n",
      "0\n",
      "health\n",
      "0\n",
      "science\n",
      "0\n",
      "sports\n",
      "0\n",
      "technology\n",
      "0\n"
     ]
    }
   ],
   "source": [
    "count =0\n",
    "model = Summarizer()\n",
    "for category in categories:\n",
    "    name = category\n",
    "    print(name)\n",
    "    fileName= f'resources/{category}_top_headline_data_new.json'\n",
    "    json_buffer=json.load_s3('Project3/'+fileName)\n",
    "    category_dataframe = pd.read_json(json_buffer).T    \n",
    "    \n",
    "    for index, row in category_dataframe.iterrows():\n",
    "        if row['articleSummary']:\n",
    "            # skip if we already have summary\n",
    "            continue\n",
    "        #count+=1\n",
    "        newsarticle_text = row['articleText']\n",
    "        result = model(newsarticle_text, min_length=60)\n",
    "        full_summary = ''.join(result)\n",
    "        if not full_summary :\n",
    "            #no Summary was generated\n",
    "            continue\n",
    "        count+=1\n",
    "        row['articleSummary']=full_summary\n",
    "#    break\n",
    "    print(count)\n",
    "    json_buffer = StringIO()\n",
    "    category_dataframe.to_json(json_buffer, orient='index')\n",
    "    json.dump_s3(json_buffer.getvalue(),'Project3/'+fileName)    "
   ]
  },
  {
   "cell_type": "code",
   "execution_count": null,
   "metadata": {},
   "outputs": [],
   "source": []
  }
 ],
 "metadata": {
  "kernelspec": {
   "display_name": "Python 3",
   "language": "python",
   "name": "python3"
  },
  "language_info": {
   "codemirror_mode": {
    "name": "ipython",
    "version": 3
   },
   "file_extension": ".py",
   "mimetype": "text/x-python",
   "name": "python",
   "nbconvert_exporter": "python",
   "pygments_lexer": "ipython3",
   "version": "3.8.3"
  }
 },
 "nbformat": 4,
 "nbformat_minor": 4
}
