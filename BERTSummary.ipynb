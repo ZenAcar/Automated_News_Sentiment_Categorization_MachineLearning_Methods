{
 "cells": [
  {
   "cell_type": "code",
   "execution_count": 1,
   "metadata": {
    "ExecuteTime": {
     "end_time": "2020-07-13T04:40:30.576133Z",
     "start_time": "2020-07-13T04:40:26.606135Z"
    }
   },
   "outputs": [],
   "source": [
    "import os.path\n",
    "from os import path\n",
    "import pandas as pd\n",
    "import json\n",
    "import boto3 \n",
    "import os\n",
    "from io import StringIO\n",
    "\n",
    "from summarizer import Summarizer\n"
   ]
  },
  {
   "cell_type": "code",
   "execution_count": 2,
   "metadata": {
    "ExecuteTime": {
     "end_time": "2020-07-13T04:40:30.592136Z",
     "start_time": "2020-07-13T04:40:30.579134Z"
    }
   },
   "outputs": [],
   "source": [
    "# s3 secret\n",
    "ACCESS_KEY = \"\" \n",
    "SECRET_KEY = \"\" \n",
    "BUCKET_NAME =''"
   ]
  },
  {
   "cell_type": "code",
   "execution_count": 3,
   "metadata": {
    "ExecuteTime": {
     "end_time": "2020-07-13T04:40:30.888131Z",
     "start_time": "2020-07-13T04:40:30.598136Z"
    }
   },
   "outputs": [],
   "source": [
    "s3 = boto3.resource(\n",
    "    's3',\n",
    "    region_name='us-east-1',\n",
    "    aws_access_key_id=ACCESS_KEY,\n",
    "    aws_secret_access_key=SECRET_KEY\n",
    ").Bucket(BUCKET_NAME)\n",
    "\n",
    "json.load_s3 = lambda f: json.load(s3.Object(key=f).get()[\"Body\"])\n",
    "json.dump_s3 = lambda obj, f: s3.Object(key=f).put(Body=json.dumps(obj))"
   ]
  },
  {
   "cell_type": "code",
   "execution_count": 4,
   "metadata": {
    "ExecuteTime": {
     "end_time": "2020-07-13T04:40:30.903132Z",
     "start_time": "2020-07-13T04:40:30.890135Z"
    }
   },
   "outputs": [],
   "source": [
    "categories = ['business','entertainment','general','health','science','sports','technology']\n"
   ]
  },
  {
   "cell_type": "code",
   "execution_count": 6,
   "metadata": {
    "ExecuteTime": {
     "end_time": "2020-07-13T04:41:55.157838Z",
     "start_time": "2020-07-13T04:41:29.025660Z"
    }
   },
   "outputs": [
    {
     "name": "stdout",
     "output_type": "stream",
     "text": [
      "business\n",
      "0\n",
      "entertainment\n",
      "0\n",
      "general\n",
      "tex\n",
      "Get a copy of our latest issue!\n",
      "\n",
      "1\n",
      "health\n",
      "1\n",
      "science\n",
      "1\n",
      "sports\n",
      "tex\n",
      "The new Xavi? Barcelona legend Messi really can do it all\n",
      "\n",
      "The new Xavi? Messi really can do it all\n",
      "\n",
      "tex\n",
      "Get a copy of our latest issue!\n",
      "\n",
      "3\n",
      "technology\n",
      "tex\n",
      "@Jacobyman2589\n",
      "\n",
      "That is true there is way too much fear & bigotry in this damn world some people allow their fear to control them just because they do not understand how it works but I am different from them If I don't understand something I will educate myself And those type of people who complain how you look or act I call them self entitled douche bags some people need to mind their own business and stop judging people how they look or act only God and Jesus Christ possess that power fear can make people do things they will later regret in life But I did started to notice that some people are not liking how realistic video games are becoming even call of duty modern warfare is the most realistic game I have ever seen and some people complain the game is too realistic and if they want to watch something that is realistic they prefer to watch a movie or a TV show They prefer cartoonish graphics over realism People should not hate a video game because 95% of games are purely fictional and made for entertainment only But it's normal not to like something but to hate on it in a biased way is simply not acceptable People like that are being closed-minded instead of being open-minded And anyone can easily control their fear by simply conquering it and not allow it to control your emotions fear works in mysterious ways fear solely comes from Your subconscious and it's basically telling you it doesn't understand this piece of information And it's unable to process that information and it makes the person paranoid preventing them from educating themselves as long as we conquer our fear we will be able to adapt to anything 😉👍\n",
      "\n",
      "4\n"
     ]
    }
   ],
   "source": [
    "count =0\n",
    "model = Summarizer()\n",
    "for category in categories:\n",
    "    name = category\n",
    "    print(name)\n",
    "    fileName= f'resources/{category}_top_headline_data_new.json'\n",
    "    json_buffer=json.load_s3('Project3/'+fileName)\n",
    "    category_dataframe = pd.read_json(json_buffer).T    \n",
    "    \n",
    "    for index, row in category_dataframe.iterrows():\n",
    "        if row['articleSummary']:\n",
    "            # skip if we already have summary\n",
    "            continue\n",
    "        count+=1\n",
    "        newsarticle_text = row['articleText']\n",
    "        print(\"tex\")\n",
    "        print(newsarticle_text)\n",
    "        result = model(newsarticle_text, min_length=60)\n",
    "        full_summary = ''.join(result)\n",
    "        print(full_summary)\n",
    "        row['articleSummary']=full_summary\n",
    "#    break\n",
    "    print(count)\n",
    "    json_buffer = StringIO()\n",
    "    category_dataframe.to_json(json_buffer, orient='index')\n",
    "    json.dump_s3(json_buffer.getvalue(),'Project3/'+fileName)    "
   ]
  },
  {
   "cell_type": "code",
   "execution_count": null,
   "metadata": {},
   "outputs": [],
   "source": []
  }
 ],
 "metadata": {
  "kernelspec": {
   "display_name": "Python 3",
   "language": "python",
   "name": "python3"
  },
  "language_info": {
   "codemirror_mode": {
    "name": "ipython",
    "version": 3
   },
   "file_extension": ".py",
   "mimetype": "text/x-python",
   "name": "python",
   "nbconvert_exporter": "python",
   "pygments_lexer": "ipython3",
   "version": "3.8.3"
  }
 },
 "nbformat": 4,
 "nbformat_minor": 4
}
