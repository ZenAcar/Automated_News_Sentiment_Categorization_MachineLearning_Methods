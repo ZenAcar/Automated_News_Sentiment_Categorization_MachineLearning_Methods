{
 "cells": [
  {
   "cell_type": "code",
   "execution_count": 1,
   "metadata": {
    "ExecuteTime": {
     "end_time": "2020-07-11T03:35:59.325215Z",
     "start_time": "2020-07-11T03:35:58.838216Z"
    }
   },
   "outputs": [
    {
     "name": "stderr",
     "output_type": "stream",
     "text": [
      "<ipython-input-1-eb34c5ba2477>:7: FutureWarning: Passing a negative integer is deprecated in version 1.0 and will not be supported in future version. Instead, use None to not limit the column width.\n",
      "  pd.set_option('display.max_colwidth', -1)\n"
     ]
    }
   ],
   "source": [
    "import numpy as np # \n",
    "import pandas as pd # \n",
    "\n",
    "pd.set_option('display.max_rows', None)\n",
    "pd.set_option('display.max_columns', None)\n",
    "pd.set_option('display.width', None)\n",
    "pd.set_option('display.max_colwidth', -1)"
   ]
  },
  {
   "cell_type": "code",
   "execution_count": 2,
   "metadata": {
    "ExecuteTime": {
     "end_time": "2020-07-11T03:36:01.443217Z",
     "start_time": "2020-07-11T03:35:59.327216Z"
    }
   },
   "outputs": [
    {
     "data": {
      "text/html": [
       "<div>\n",
       "<style scoped>\n",
       "    .dataframe tbody tr th:only-of-type {\n",
       "        vertical-align: middle;\n",
       "    }\n",
       "\n",
       "    .dataframe tbody tr th {\n",
       "        vertical-align: top;\n",
       "    }\n",
       "\n",
       "    .dataframe thead th {\n",
       "        text-align: right;\n",
       "    }\n",
       "</style>\n",
       "<table border=\"1\" class=\"dataframe\">\n",
       "  <thead>\n",
       "    <tr style=\"text-align: right;\">\n",
       "      <th></th>\n",
       "      <th>category</th>\n",
       "      <th>headline</th>\n",
       "      <th>authors</th>\n",
       "      <th>link</th>\n",
       "      <th>short_description</th>\n",
       "      <th>date</th>\n",
       "    </tr>\n",
       "  </thead>\n",
       "  <tbody>\n",
       "    <tr>\n",
       "      <th>0</th>\n",
       "      <td>CRIME</td>\n",
       "      <td>There Were 2 Mass Shootings In Texas Last Week, But Only 1 On TV</td>\n",
       "      <td>Melissa Jeltsen</td>\n",
       "      <td>https://www.huffingtonpost.com/entry/texas-amanda-painter-mass-shooting_us_5b081ab4e4b0802d69caad89</td>\n",
       "      <td>She left her husband. He killed their children. Just another day in America.</td>\n",
       "      <td>2018-05-26</td>\n",
       "    </tr>\n",
       "    <tr>\n",
       "      <th>1</th>\n",
       "      <td>ENTERTAINMENT</td>\n",
       "      <td>Will Smith Joins Diplo And Nicky Jam For The 2018 World Cup's Official Song</td>\n",
       "      <td>Andy McDonald</td>\n",
       "      <td>https://www.huffingtonpost.com/entry/will-smith-joins-diplo-and-nicky-jam-for-the-official-2018-world-cup-song_us_5b09726fe4b0fdb2aa541201</td>\n",
       "      <td>Of course it has a song.</td>\n",
       "      <td>2018-05-26</td>\n",
       "    </tr>\n",
       "    <tr>\n",
       "      <th>2</th>\n",
       "      <td>ENTERTAINMENT</td>\n",
       "      <td>Hugh Grant Marries For The First Time At Age 57</td>\n",
       "      <td>Ron Dicker</td>\n",
       "      <td>https://www.huffingtonpost.com/entry/hugh-grant-marries_us_5b09212ce4b0568a880b9a8c</td>\n",
       "      <td>The actor and his longtime girlfriend Anna Eberstein tied the knot in a civil ceremony.</td>\n",
       "      <td>2018-05-26</td>\n",
       "    </tr>\n",
       "    <tr>\n",
       "      <th>3</th>\n",
       "      <td>ENTERTAINMENT</td>\n",
       "      <td>Jim Carrey Blasts 'Castrato' Adam Schiff And Democrats In New Artwork</td>\n",
       "      <td>Ron Dicker</td>\n",
       "      <td>https://www.huffingtonpost.com/entry/jim-carrey-adam-schiff-democrats_us_5b0950e8e4b0fdb2aa53e675</td>\n",
       "      <td>The actor gives Dems an ass-kicking for not fighting hard enough against Donald Trump.</td>\n",
       "      <td>2018-05-26</td>\n",
       "    </tr>\n",
       "    <tr>\n",
       "      <th>4</th>\n",
       "      <td>ENTERTAINMENT</td>\n",
       "      <td>Julianna Margulies Uses Donald Trump Poop Bags To Pick Up After Her Dog</td>\n",
       "      <td>Ron Dicker</td>\n",
       "      <td>https://www.huffingtonpost.com/entry/julianna-margulies-trump-poop-bag_us_5b093ec2e4b0fdb2aa53df70</td>\n",
       "      <td>The \"Dietland\" actress said using the bags is a \"really cathartic, therapeutic moment.\"</td>\n",
       "      <td>2018-05-26</td>\n",
       "    </tr>\n",
       "  </tbody>\n",
       "</table>\n",
       "</div>"
      ],
      "text/plain": [
       "        category  \\\n",
       "0  CRIME           \n",
       "1  ENTERTAINMENT   \n",
       "2  ENTERTAINMENT   \n",
       "3  ENTERTAINMENT   \n",
       "4  ENTERTAINMENT   \n",
       "\n",
       "                                                                      headline  \\\n",
       "0  There Were 2 Mass Shootings In Texas Last Week, But Only 1 On TV              \n",
       "1  Will Smith Joins Diplo And Nicky Jam For The 2018 World Cup's Official Song   \n",
       "2  Hugh Grant Marries For The First Time At Age 57                               \n",
       "3  Jim Carrey Blasts 'Castrato' Adam Schiff And Democrats In New Artwork         \n",
       "4  Julianna Margulies Uses Donald Trump Poop Bags To Pick Up After Her Dog       \n",
       "\n",
       "           authors  \\\n",
       "0  Melissa Jeltsen   \n",
       "1  Andy McDonald     \n",
       "2  Ron Dicker        \n",
       "3  Ron Dicker        \n",
       "4  Ron Dicker        \n",
       "\n",
       "                                                                                                                                         link  \\\n",
       "0  https://www.huffingtonpost.com/entry/texas-amanda-painter-mass-shooting_us_5b081ab4e4b0802d69caad89                                          \n",
       "1  https://www.huffingtonpost.com/entry/will-smith-joins-diplo-and-nicky-jam-for-the-official-2018-world-cup-song_us_5b09726fe4b0fdb2aa541201   \n",
       "2  https://www.huffingtonpost.com/entry/hugh-grant-marries_us_5b09212ce4b0568a880b9a8c                                                          \n",
       "3  https://www.huffingtonpost.com/entry/jim-carrey-adam-schiff-democrats_us_5b0950e8e4b0fdb2aa53e675                                            \n",
       "4  https://www.huffingtonpost.com/entry/julianna-margulies-trump-poop-bag_us_5b093ec2e4b0fdb2aa53df70                                           \n",
       "\n",
       "                                                                         short_description  \\\n",
       "0  She left her husband. He killed their children. Just another day in America.              \n",
       "1  Of course it has a song.                                                                  \n",
       "2  The actor and his longtime girlfriend Anna Eberstein tied the knot in a civil ceremony.   \n",
       "3  The actor gives Dems an ass-kicking for not fighting hard enough against Donald Trump.    \n",
       "4  The \"Dietland\" actress said using the bags is a \"really cathartic, therapeutic moment.\"   \n",
       "\n",
       "        date  \n",
       "0 2018-05-26  \n",
       "1 2018-05-26  \n",
       "2 2018-05-26  \n",
       "3 2018-05-26  \n",
       "4 2018-05-26  "
      ]
     },
     "execution_count": 2,
     "metadata": {},
     "output_type": "execute_result"
    }
   ],
   "source": [
    "# load data\n",
    "\n",
    "df = pd.read_json('resources/News_Category_Dataset_v2.json', lines=True)\n",
    "df.head()"
   ]
  },
  {
   "cell_type": "code",
   "execution_count": 3,
   "metadata": {
    "ExecuteTime": {
     "end_time": "2020-07-11T03:36:01.522222Z",
     "start_time": "2020-07-11T03:36:01.446218Z"
    }
   },
   "outputs": [
    {
     "data": {
      "text/plain": [
       "POLITICS          32739\n",
       "WELLNESS          17827\n",
       "ENTERTAINMENT     16058\n",
       "TRAVEL            9887 \n",
       "STYLE & BEAUTY    9649 \n",
       "PARENTING         8677 \n",
       "HEALTHY LIVING    6694 \n",
       "QUEER VOICES      6314 \n",
       "FOOD & DRINK      6226 \n",
       "BUSINESS          5937 \n",
       "COMEDY            5175 \n",
       "SPORTS            4884 \n",
       "BLACK VOICES      4528 \n",
       "HOME & LIVING     4195 \n",
       "PARENTS           3955 \n",
       "THE WORLDPOST     3664 \n",
       "WEDDINGS          3651 \n",
       "WOMEN             3490 \n",
       "IMPACT            3459 \n",
       "DIVORCE           3426 \n",
       "CRIME             3405 \n",
       "MEDIA             2815 \n",
       "WEIRD NEWS        2670 \n",
       "GREEN             2622 \n",
       "WORLDPOST         2579 \n",
       "RELIGION          2556 \n",
       "STYLE             2254 \n",
       "SCIENCE           2178 \n",
       "WORLD NEWS        2177 \n",
       "TASTE             2096 \n",
       "TECH              2082 \n",
       "MONEY             1707 \n",
       "ARTS              1509 \n",
       "FIFTY             1401 \n",
       "GOOD NEWS         1398 \n",
       "ARTS & CULTURE    1339 \n",
       "ENVIRONMENT       1323 \n",
       "COLLEGE           1144 \n",
       "LATINO VOICES     1129 \n",
       "CULTURE & ARTS    1030 \n",
       "EDUCATION         1004 \n",
       "Name: category, dtype: int64"
      ]
     },
     "execution_count": 3,
     "metadata": {},
     "output_type": "execute_result"
    }
   ],
   "source": [
    "df['category'].value_counts()"
   ]
  },
  {
   "cell_type": "markdown",
   "metadata": {},
   "source": [
    "News API categories\n",
    "* business\n",
    "* entertainment\n",
    "* general\n",
    "* health\n",
    "* science\n",
    "* sports\n",
    "* technology"
   ]
  },
  {
   "cell_type": "code",
   "execution_count": 4,
   "metadata": {
    "ExecuteTime": {
     "end_time": "2020-07-11T03:36:01.538217Z",
     "start_time": "2020-07-11T03:36:01.525219Z"
    }
   },
   "outputs": [],
   "source": [
    "business =['BUSINESS','MONEY']\n",
    "entertainment=['ENTERTAINMENT','ARTS','COMEDY','ARTS & CULTURE','CULTURE & ARTS','MEDIA']\n",
    "health=['HEALTH','WELLNESS','HEALTHY LIVING']\n",
    "science=['SCIENCE']\n",
    "sports=['SPORTS']\n",
    "technology = ['tech']"
   ]
  },
  {
   "cell_type": "code",
   "execution_count": 5,
   "metadata": {
    "ExecuteTime": {
     "end_time": "2020-07-11T03:36:01.599727Z",
     "start_time": "2020-07-11T03:36:01.540219Z"
    }
   },
   "outputs": [
    {
     "data": {
      "text/plain": [
       "(7644, 6)"
      ]
     },
     "execution_count": 5,
     "metadata": {},
     "output_type": "execute_result"
    }
   ],
   "source": [
    "condition = df['category'].isin(business)\n",
    "businessDF = df[condition]\n",
    "businessDF.shape"
   ]
  },
  {
   "cell_type": "code",
   "execution_count": 6,
   "metadata": {
    "ExecuteTime": {
     "end_time": "2020-07-11T03:36:02.411517Z",
     "start_time": "2020-07-11T03:36:02.363524Z"
    }
   },
   "outputs": [
    {
     "data": {
      "text/plain": [
       "(27926, 6)"
      ]
     },
     "execution_count": 6,
     "metadata": {},
     "output_type": "execute_result"
    }
   ],
   "source": [
    "condition = df['category'].isin(entertainment)\n",
    "entertainmentDF= df[condition]\n",
    "entertainmentDF.shape"
   ]
  },
  {
   "cell_type": "markdown",
   "metadata": {},
   "source": [
    "# install Azure textanalytics api\n",
    "\n",
    "https://docs.microsoft.com/en-us/azure/cognitive-services/text-analytics/quickstarts/text-analytics-sdk?tabs=version-3&pivots=programming-language-python\n",
    "    \n",
    "pip install azure-ai-textanalytics\n"
   ]
  },
  {
   "cell_type": "code",
   "execution_count": 9,
   "metadata": {
    "ExecuteTime": {
     "end_time": "2020-07-11T03:48:09.904560Z",
     "start_time": "2020-07-11T03:48:09.893559Z"
    }
   },
   "outputs": [],
   "source": [
    "TenArticlesDF = businessDF[:10]\n"
   ]
  },
  {
   "cell_type": "code",
   "execution_count": 13,
   "metadata": {
    "ExecuteTime": {
     "end_time": "2020-07-11T03:50:33.992333Z",
     "start_time": "2020-07-11T03:50:33.980313Z"
    }
   },
   "outputs": [],
   "source": [
    " = TenArticlesDF['short_description'].tolist()\n"
   ]
  },
  {
   "cell_type": "code",
   "execution_count": 21,
   "metadata": {
    "ExecuteTime": {
     "end_time": "2020-07-11T04:01:46.592085Z",
     "start_time": "2020-07-11T04:01:46.580063Z"
    }
   },
   "outputs": [
    {
     "name": "stdout",
     "output_type": "stream",
     "text": [
      "https://newanalytics.cognitiveservices.azure.com\n",
      "034530b1d6a448a49419d3205a4e40b3\n"
     ]
    }
   ],
   "source": [
    "key = \"<key>\"\n",
    "endpoint = \"<endpoint>\"\n",
    "\n",
    "import os\n",
    "endpoint = os.environ[\"AZURE_TEXT_ANALYTICS_ENDPOINT\"]\n",
    "key = os.environ[\"AZURE_TEXT_ANALYTICS_KEY\"]\n",
    "print(endpoint)\n",
    "print(key)"
   ]
  },
  {
   "cell_type": "code",
   "execution_count": 22,
   "metadata": {
    "ExecuteTime": {
     "end_time": "2020-07-11T04:01:47.996430Z",
     "start_time": "2020-07-11T04:01:47.987414Z"
    }
   },
   "outputs": [
    {
     "data": {
      "text/plain": [
       "['The investigation could lead to new U.S. tariffs similar to those imposed on imported steel and aluminum in March.',\n",
       " 'The new policy was unveiled weeks after the controversial arrest of two black men at a Philadelphia Starbucks.',\n",
       " 'Following the council vote, Amazon’s vice president, Drew Herdener, said the company has resumed construction planning for its so-called Block 18 project in downtown Seattle.',\n",
       " 'Victims will be free to go to court -- but a few caveats remain.',\n",
       " 'The breach is believed to have occurred between March and April.',\n",
       " 'Just by using the app, you click away your rights. Now some victims are fighting for change.',\n",
       " \"The city wants to tax large corporations to pay for homeless housing, but Jeff Bezos isn't pleased.\",\n",
       " 'The bank pledged in April to stop financing companies that sell military-style firearms to civilians. Remington made the Bushmaster rifle used in the Sandy Hook school massacre.',\n",
       " 'Martin Winterkorn resigned soon after the scandal became public in 2015.',\n",
       " 'Verizon launched an investigation soon after HuffPost reached out for comment.']"
      ]
     },
     "execution_count": 22,
     "metadata": {},
     "output_type": "execute_result"
    }
   ],
   "source": [
    "tenarticles"
   ]
  },
  {
   "cell_type": "code",
   "execution_count": 23,
   "metadata": {
    "ExecuteTime": {
     "end_time": "2020-07-11T04:01:49.244400Z",
     "start_time": "2020-07-11T04:01:49.236382Z"
    }
   },
   "outputs": [],
   "source": [
    "from azure.ai.textanalytics import TextAnalyticsClient\n",
    "from azure.core.credentials import AzureKeyCredential\n",
    "\n",
    "def authenticate_client():\n",
    "    ta_credential = AzureKeyCredential(key)\n",
    "    text_analytics_client = TextAnalyticsClient(\n",
    "            endpoint=endpoint, credential=ta_credential)\n",
    "    return text_analytics_client\n",
    "\n",
    "client = authenticate_client()"
   ]
  },
  {
   "cell_type": "code",
   "execution_count": 24,
   "metadata": {
    "ExecuteTime": {
     "end_time": "2020-07-11T04:01:51.476857Z",
     "start_time": "2020-07-11T04:01:50.940675Z"
    }
   },
   "outputs": [
    {
     "data": {
      "text/plain": [
       "[AnalyzeSentimentResult(id=0, sentiment=negative, warnings=[], statistics=None, confidence_scores=SentimentConfidenceScores(positive=0.0, neutral=0.5, negative=0.5), sentences=[SentenceSentiment(text=The investigation could lead to new U.S. tariffs similar to those imposed on imported steel and aluminum in March., sentiment=negative, confidence_scores=SentimentConfidenceScores(positive=0.0, neutral=0.5, negative=0.5))], is_error=False),\n",
       " AnalyzeSentimentResult(id=1, sentiment=negative, warnings=[], statistics=None, confidence_scores=SentimentConfidenceScores(positive=0.0, neutral=0.0, negative=1.0), sentences=[SentenceSentiment(text=The new policy was unveiled weeks after the controversial arrest of two black men at a Philadelphia Starbucks., sentiment=negative, confidence_scores=SentimentConfidenceScores(positive=0.0, neutral=0.0, negative=1.0))], is_error=False),\n",
       " AnalyzeSentimentResult(id=2, sentiment=neutral, warnings=[], statistics=None, confidence_scores=SentimentConfidenceScores(positive=0.0, neutral=0.96, negative=0.04), sentences=[SentenceSentiment(text=Following the council vote, Amazon’s vice president, Drew Herdener, said the company has resumed construction planning for its so-called Block 18 project in downtown Seattle., sentiment=neutral, confidence_scores=SentimentConfidenceScores(positive=0.0, neutral=0.96, negative=0.04))], is_error=False),\n",
       " AnalyzeSentimentResult(id=3, sentiment=negative, warnings=[], statistics=None, confidence_scores=SentimentConfidenceScores(positive=0.07, neutral=0.01, negative=0.92), sentences=[SentenceSentiment(text=Victims will be free to go to court -- but a few caveats remain., sentiment=negative, confidence_scores=SentimentConfidenceScores(positive=0.07, neutral=0.01, negative=0.92))], is_error=False),\n",
       " AnalyzeSentimentResult(id=4, sentiment=negative, warnings=[], statistics=None, confidence_scores=SentimentConfidenceScores(positive=0.0, neutral=0.17, negative=0.83), sentences=[SentenceSentiment(text=The breach is believed to have occurred between March and April., sentiment=negative, confidence_scores=SentimentConfidenceScores(positive=0.0, neutral=0.17, negative=0.83))], is_error=False),\n",
       " AnalyzeSentimentResult(id=5, sentiment=negative, warnings=[], statistics=None, confidence_scores=SentimentConfidenceScores(positive=0.0, neutral=0.0, negative=1.0), sentences=[SentenceSentiment(text=Just by using the app, you click away your rights., sentiment=neutral, confidence_scores=SentimentConfidenceScores(positive=0.0, neutral=1.0, negative=0.0)), SentenceSentiment(text=Now some victims are fighting for change., sentiment=negative, confidence_scores=SentimentConfidenceScores(positive=0.0, neutral=0.0, negative=1.0))], is_error=False),\n",
       " AnalyzeSentimentResult(id=6, sentiment=negative, warnings=[], statistics=None, confidence_scores=SentimentConfidenceScores(positive=0.0, neutral=0.0, negative=1.0), sentences=[SentenceSentiment(text=The city wants to tax large corporations to pay for homeless housing, but Jeff Bezos isn't pleased., sentiment=negative, confidence_scores=SentimentConfidenceScores(positive=0.0, neutral=0.0, negative=1.0))], is_error=False),\n",
       " AnalyzeSentimentResult(id=7, sentiment=negative, warnings=[], statistics=None, confidence_scores=SentimentConfidenceScores(positive=0.01, neutral=0.27, negative=0.72), sentences=[SentenceSentiment(text=The bank pledged in April to stop financing companies that sell military-style firearms to civilians., sentiment=neutral, confidence_scores=SentimentConfidenceScores(positive=0.01, neutral=0.85, negative=0.14)), SentenceSentiment(text=Remington made the Bushmaster rifle used in the Sandy Hook school massacre., sentiment=negative, confidence_scores=SentimentConfidenceScores(positive=0.01, neutral=0.27, negative=0.72))], is_error=False),\n",
       " AnalyzeSentimentResult(id=8, sentiment=negative, warnings=[], statistics=None, confidence_scores=SentimentConfidenceScores(positive=0.0, neutral=0.0, negative=1.0), sentences=[SentenceSentiment(text=Martin Winterkorn resigned soon after the scandal became public in 2015., sentiment=negative, confidence_scores=SentimentConfidenceScores(positive=0.0, neutral=0.0, negative=1.0))], is_error=False),\n",
       " AnalyzeSentimentResult(id=9, sentiment=neutral, warnings=[], statistics=None, confidence_scores=SentimentConfidenceScores(positive=0.01, neutral=0.93, negative=0.06), sentences=[SentenceSentiment(text=Verizon launched an investigation soon after HuffPost reached out for comment., sentiment=neutral, confidence_scores=SentimentConfidenceScores(positive=0.01, neutral=0.93, negative=0.06))], is_error=False)]"
      ]
     },
     "execution_count": 24,
     "metadata": {},
     "output_type": "execute_result"
    }
   ],
   "source": [
    "result = client.analyze_sentiment(documents = tenarticles)\n",
    "result"
   ]
  },
  {
   "cell_type": "code",
   "execution_count": 28,
   "metadata": {
    "ExecuteTime": {
     "end_time": "2020-07-11T04:04:54.185933Z",
     "start_time": "2020-07-11T04:04:54.172937Z"
    }
   },
   "outputs": [
    {
     "name": "stdout",
     "output_type": "stream",
     "text": [
      "Document Sentiment: negative\n",
      "Overall scores: positive=0.00; neutral=0.50; negative=0.50 \n",
      "\n",
      "Sentence: The investigation could lead to new U.S. tariffs similar to those imposed on imported steel and aluminum in March.\n",
      "Sentence 1 sentiment: negative\n",
      "Sentence score:\n",
      "Positive=0.00\n",
      "Neutral=0.50\n",
      "Negative=0.50\n",
      "\n",
      "Document Sentiment: negative\n",
      "Overall scores: positive=0.00; neutral=0.00; negative=1.00 \n",
      "\n",
      "Sentence: The new policy was unveiled weeks after the controversial arrest of two black men at a Philadelphia Starbucks.\n",
      "Sentence 1 sentiment: negative\n",
      "Sentence score:\n",
      "Positive=0.00\n",
      "Neutral=0.00\n",
      "Negative=1.00\n",
      "\n",
      "Document Sentiment: neutral\n",
      "Overall scores: positive=0.00; neutral=0.96; negative=0.04 \n",
      "\n",
      "Sentence: Following the council vote, Amazon’s vice president, Drew Herdener, said the company has resumed construction planning for its so-called Block 18 project in downtown Seattle.\n",
      "Sentence 1 sentiment: neutral\n",
      "Sentence score:\n",
      "Positive=0.00\n",
      "Neutral=0.96\n",
      "Negative=0.04\n",
      "\n",
      "Document Sentiment: negative\n",
      "Overall scores: positive=0.07; neutral=0.01; negative=0.92 \n",
      "\n",
      "Sentence: Victims will be free to go to court -- but a few caveats remain.\n",
      "Sentence 1 sentiment: negative\n",
      "Sentence score:\n",
      "Positive=0.07\n",
      "Neutral=0.01\n",
      "Negative=0.92\n",
      "\n",
      "Document Sentiment: negative\n",
      "Overall scores: positive=0.00; neutral=0.17; negative=0.83 \n",
      "\n",
      "Sentence: The breach is believed to have occurred between March and April.\n",
      "Sentence 1 sentiment: negative\n",
      "Sentence score:\n",
      "Positive=0.00\n",
      "Neutral=0.17\n",
      "Negative=0.83\n",
      "\n",
      "Document Sentiment: negative\n",
      "Overall scores: positive=0.00; neutral=0.00; negative=1.00 \n",
      "\n",
      "Sentence: Just by using the app, you click away your rights.\n",
      "Sentence 1 sentiment: neutral\n",
      "Sentence score:\n",
      "Positive=0.00\n",
      "Neutral=1.00\n",
      "Negative=0.00\n",
      "\n",
      "Sentence: Now some victims are fighting for change.\n",
      "Sentence 2 sentiment: negative\n",
      "Sentence score:\n",
      "Positive=0.00\n",
      "Neutral=0.00\n",
      "Negative=1.00\n",
      "\n",
      "Document Sentiment: negative\n",
      "Overall scores: positive=0.00; neutral=0.00; negative=1.00 \n",
      "\n",
      "Sentence: The city wants to tax large corporations to pay for homeless housing, but Jeff Bezos isn't pleased.\n",
      "Sentence 1 sentiment: negative\n",
      "Sentence score:\n",
      "Positive=0.00\n",
      "Neutral=0.00\n",
      "Negative=1.00\n",
      "\n",
      "Document Sentiment: negative\n",
      "Overall scores: positive=0.01; neutral=0.27; negative=0.72 \n",
      "\n",
      "Sentence: The bank pledged in April to stop financing companies that sell military-style firearms to civilians.\n",
      "Sentence 1 sentiment: neutral\n",
      "Sentence score:\n",
      "Positive=0.01\n",
      "Neutral=0.85\n",
      "Negative=0.14\n",
      "\n",
      "Sentence: Remington made the Bushmaster rifle used in the Sandy Hook school massacre.\n",
      "Sentence 2 sentiment: negative\n",
      "Sentence score:\n",
      "Positive=0.01\n",
      "Neutral=0.27\n",
      "Negative=0.72\n",
      "\n",
      "Document Sentiment: negative\n",
      "Overall scores: positive=0.00; neutral=0.00; negative=1.00 \n",
      "\n",
      "Sentence: Martin Winterkorn resigned soon after the scandal became public in 2015.\n",
      "Sentence 1 sentiment: negative\n",
      "Sentence score:\n",
      "Positive=0.00\n",
      "Neutral=0.00\n",
      "Negative=1.00\n",
      "\n",
      "Document Sentiment: neutral\n",
      "Overall scores: positive=0.01; neutral=0.93; negative=0.06 \n",
      "\n",
      "Sentence: Verizon launched an investigation soon after HuffPost reached out for comment.\n",
      "Sentence 1 sentiment: neutral\n",
      "Sentence score:\n",
      "Positive=0.01\n",
      "Neutral=0.93\n",
      "Negative=0.06\n",
      "\n"
     ]
    }
   ],
   "source": [
    "for response in result:\n",
    "    print(\"Document Sentiment: {}\".format(response.sentiment))\n",
    "    print(\"Overall scores: positive={0:.2f}; neutral={1:.2f}; negative={2:.2f} \\n\".format(\n",
    "        response.confidence_scores.positive,\n",
    "        response.confidence_scores.neutral,\n",
    "        response.confidence_scores.negative,\n",
    "    ))\n",
    "    for idx, sentence in enumerate(response.sentences):\n",
    "        print(\"Sentence: {}\".format(sentence.text))\n",
    "        print(\"Sentence {} sentiment: {}\".format(idx+1, sentence.sentiment))\n",
    "        print(\"Sentence score:\\nPositive={0:.2f}\\nNeutral={1:.2f}\\nNegative={2:.2f}\\n\".format(\n",
    "            sentence.confidence_scores.positive,\n",
    "            sentence.confidence_scores.neutral,\n",
    "            sentence.confidence_scores.negative,\n",
    "        ))\n",
    "          "
   ]
  },
  {
   "cell_type": "code",
   "execution_count": null,
   "metadata": {},
   "outputs": [],
   "source": []
  }
 ],
 "metadata": {
  "kernelspec": {
   "display_name": "Python 3",
   "language": "python",
   "name": "python3"
  },
  "language_info": {
   "codemirror_mode": {
    "name": "ipython",
    "version": 3
   },
   "file_extension": ".py",
   "mimetype": "text/x-python",
   "name": "python",
   "nbconvert_exporter": "python",
   "pygments_lexer": "ipython3",
   "version": "3.8.3"
  }
 },
 "nbformat": 4,
 "nbformat_minor": 4
}
