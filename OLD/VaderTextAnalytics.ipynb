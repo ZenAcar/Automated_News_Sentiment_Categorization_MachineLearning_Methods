{
 "cells": [
  {
   "cell_type": "code",
   "execution_count": 1,
   "metadata": {
    "ExecuteTime": {
     "end_time": "2020-07-11T03:35:59.325215Z",
     "start_time": "2020-07-11T03:35:58.838216Z"
    }
   },
   "outputs": [
    {
     "name": "stderr",
     "output_type": "stream",
     "text": [
      "<ipython-input-1-eb34c5ba2477>:7: FutureWarning: Passing a negative integer is deprecated in version 1.0 and will not be supported in future version. Instead, use None to not limit the column width.\n",
      "  pd.set_option('display.max_colwidth', -1)\n"
     ]
    }
   ],
   "source": [
    "import numpy as np # \n",
    "import pandas as pd # \n",
    "\n",
    "pd.set_option('display.max_rows', None)\n",
    "pd.set_option('display.max_columns', None)\n",
    "pd.set_option('display.width', None)\n",
    "pd.set_option('display.max_colwidth', -1)"
   ]
  },
  {
   "cell_type": "code",
   "execution_count": 2,
   "metadata": {
    "ExecuteTime": {
     "end_time": "2020-07-11T03:36:01.443217Z",
     "start_time": "2020-07-11T03:35:59.327216Z"
    }
   },
   "outputs": [
    {
     "data": {
      "text/html": [
       "<div>\n",
       "<style scoped>\n",
       "    .dataframe tbody tr th:only-of-type {\n",
       "        vertical-align: middle;\n",
       "    }\n",
       "\n",
       "    .dataframe tbody tr th {\n",
       "        vertical-align: top;\n",
       "    }\n",
       "\n",
       "    .dataframe thead th {\n",
       "        text-align: right;\n",
       "    }\n",
       "</style>\n",
       "<table border=\"1\" class=\"dataframe\">\n",
       "  <thead>\n",
       "    <tr style=\"text-align: right;\">\n",
       "      <th></th>\n",
       "      <th>category</th>\n",
       "      <th>headline</th>\n",
       "      <th>authors</th>\n",
       "      <th>link</th>\n",
       "      <th>short_description</th>\n",
       "      <th>date</th>\n",
       "    </tr>\n",
       "  </thead>\n",
       "  <tbody>\n",
       "    <tr>\n",
       "      <th>0</th>\n",
       "      <td>CRIME</td>\n",
       "      <td>There Were 2 Mass Shootings In Texas Last Week, But Only 1 On TV</td>\n",
       "      <td>Melissa Jeltsen</td>\n",
       "      <td>https://www.huffingtonpost.com/entry/texas-amanda-painter-mass-shooting_us_5b081ab4e4b0802d69caad89</td>\n",
       "      <td>She left her husband. He killed their children. Just another day in America.</td>\n",
       "      <td>2018-05-26</td>\n",
       "    </tr>\n",
       "    <tr>\n",
       "      <th>1</th>\n",
       "      <td>ENTERTAINMENT</td>\n",
       "      <td>Will Smith Joins Diplo And Nicky Jam For The 2018 World Cup's Official Song</td>\n",
       "      <td>Andy McDonald</td>\n",
       "      <td>https://www.huffingtonpost.com/entry/will-smith-joins-diplo-and-nicky-jam-for-the-official-2018-world-cup-song_us_5b09726fe4b0fdb2aa541201</td>\n",
       "      <td>Of course it has a song.</td>\n",
       "      <td>2018-05-26</td>\n",
       "    </tr>\n",
       "    <tr>\n",
       "      <th>2</th>\n",
       "      <td>ENTERTAINMENT</td>\n",
       "      <td>Hugh Grant Marries For The First Time At Age 57</td>\n",
       "      <td>Ron Dicker</td>\n",
       "      <td>https://www.huffingtonpost.com/entry/hugh-grant-marries_us_5b09212ce4b0568a880b9a8c</td>\n",
       "      <td>The actor and his longtime girlfriend Anna Eberstein tied the knot in a civil ceremony.</td>\n",
       "      <td>2018-05-26</td>\n",
       "    </tr>\n",
       "    <tr>\n",
       "      <th>3</th>\n",
       "      <td>ENTERTAINMENT</td>\n",
       "      <td>Jim Carrey Blasts 'Castrato' Adam Schiff And Democrats In New Artwork</td>\n",
       "      <td>Ron Dicker</td>\n",
       "      <td>https://www.huffingtonpost.com/entry/jim-carrey-adam-schiff-democrats_us_5b0950e8e4b0fdb2aa53e675</td>\n",
       "      <td>The actor gives Dems an ass-kicking for not fighting hard enough against Donald Trump.</td>\n",
       "      <td>2018-05-26</td>\n",
       "    </tr>\n",
       "    <tr>\n",
       "      <th>4</th>\n",
       "      <td>ENTERTAINMENT</td>\n",
       "      <td>Julianna Margulies Uses Donald Trump Poop Bags To Pick Up After Her Dog</td>\n",
       "      <td>Ron Dicker</td>\n",
       "      <td>https://www.huffingtonpost.com/entry/julianna-margulies-trump-poop-bag_us_5b093ec2e4b0fdb2aa53df70</td>\n",
       "      <td>The \"Dietland\" actress said using the bags is a \"really cathartic, therapeutic moment.\"</td>\n",
       "      <td>2018-05-26</td>\n",
       "    </tr>\n",
       "  </tbody>\n",
       "</table>\n",
       "</div>"
      ],
      "text/plain": [
       "        category  \\\n",
       "0  CRIME           \n",
       "1  ENTERTAINMENT   \n",
       "2  ENTERTAINMENT   \n",
       "3  ENTERTAINMENT   \n",
       "4  ENTERTAINMENT   \n",
       "\n",
       "                                                                      headline  \\\n",
       "0  There Were 2 Mass Shootings In Texas Last Week, But Only 1 On TV              \n",
       "1  Will Smith Joins Diplo And Nicky Jam For The 2018 World Cup's Official Song   \n",
       "2  Hugh Grant Marries For The First Time At Age 57                               \n",
       "3  Jim Carrey Blasts 'Castrato' Adam Schiff And Democrats In New Artwork         \n",
       "4  Julianna Margulies Uses Donald Trump Poop Bags To Pick Up After Her Dog       \n",
       "\n",
       "           authors  \\\n",
       "0  Melissa Jeltsen   \n",
       "1  Andy McDonald     \n",
       "2  Ron Dicker        \n",
       "3  Ron Dicker        \n",
       "4  Ron Dicker        \n",
       "\n",
       "                                                                                                                                         link  \\\n",
       "0  https://www.huffingtonpost.com/entry/texas-amanda-painter-mass-shooting_us_5b081ab4e4b0802d69caad89                                          \n",
       "1  https://www.huffingtonpost.com/entry/will-smith-joins-diplo-and-nicky-jam-for-the-official-2018-world-cup-song_us_5b09726fe4b0fdb2aa541201   \n",
       "2  https://www.huffingtonpost.com/entry/hugh-grant-marries_us_5b09212ce4b0568a880b9a8c                                                          \n",
       "3  https://www.huffingtonpost.com/entry/jim-carrey-adam-schiff-democrats_us_5b0950e8e4b0fdb2aa53e675                                            \n",
       "4  https://www.huffingtonpost.com/entry/julianna-margulies-trump-poop-bag_us_5b093ec2e4b0fdb2aa53df70                                           \n",
       "\n",
       "                                                                         short_description  \\\n",
       "0  She left her husband. He killed their children. Just another day in America.              \n",
       "1  Of course it has a song.                                                                  \n",
       "2  The actor and his longtime girlfriend Anna Eberstein tied the knot in a civil ceremony.   \n",
       "3  The actor gives Dems an ass-kicking for not fighting hard enough against Donald Trump.    \n",
       "4  The \"Dietland\" actress said using the bags is a \"really cathartic, therapeutic moment.\"   \n",
       "\n",
       "        date  \n",
       "0 2018-05-26  \n",
       "1 2018-05-26  \n",
       "2 2018-05-26  \n",
       "3 2018-05-26  \n",
       "4 2018-05-26  "
      ]
     },
     "execution_count": 2,
     "metadata": {},
     "output_type": "execute_result"
    }
   ],
   "source": [
    "# load data\n",
    "\n",
    "df = pd.read_json('resources/News_Category_Dataset_v2.json', lines=True)\n",
    "df.head()"
   ]
  },
  {
   "cell_type": "code",
   "execution_count": 3,
   "metadata": {
    "ExecuteTime": {
     "end_time": "2020-07-11T03:36:01.522222Z",
     "start_time": "2020-07-11T03:36:01.446218Z"
    }
   },
   "outputs": [
    {
     "data": {
      "text/plain": [
       "POLITICS          32739\n",
       "WELLNESS          17827\n",
       "ENTERTAINMENT     16058\n",
       "TRAVEL            9887 \n",
       "STYLE & BEAUTY    9649 \n",
       "PARENTING         8677 \n",
       "HEALTHY LIVING    6694 \n",
       "QUEER VOICES      6314 \n",
       "FOOD & DRINK      6226 \n",
       "BUSINESS          5937 \n",
       "COMEDY            5175 \n",
       "SPORTS            4884 \n",
       "BLACK VOICES      4528 \n",
       "HOME & LIVING     4195 \n",
       "PARENTS           3955 \n",
       "THE WORLDPOST     3664 \n",
       "WEDDINGS          3651 \n",
       "WOMEN             3490 \n",
       "IMPACT            3459 \n",
       "DIVORCE           3426 \n",
       "CRIME             3405 \n",
       "MEDIA             2815 \n",
       "WEIRD NEWS        2670 \n",
       "GREEN             2622 \n",
       "WORLDPOST         2579 \n",
       "RELIGION          2556 \n",
       "STYLE             2254 \n",
       "SCIENCE           2178 \n",
       "WORLD NEWS        2177 \n",
       "TASTE             2096 \n",
       "TECH              2082 \n",
       "MONEY             1707 \n",
       "ARTS              1509 \n",
       "FIFTY             1401 \n",
       "GOOD NEWS         1398 \n",
       "ARTS & CULTURE    1339 \n",
       "ENVIRONMENT       1323 \n",
       "COLLEGE           1144 \n",
       "LATINO VOICES     1129 \n",
       "CULTURE & ARTS    1030 \n",
       "EDUCATION         1004 \n",
       "Name: category, dtype: int64"
      ]
     },
     "execution_count": 3,
     "metadata": {},
     "output_type": "execute_result"
    }
   ],
   "source": [
    "df['category'].value_counts()"
   ]
  },
  {
   "cell_type": "markdown",
   "metadata": {},
   "source": [
    "News API categories\n",
    "* business\n",
    "* entertainment\n",
    "* general\n",
    "* health\n",
    "* science\n",
    "* sports\n",
    "* technology"
   ]
  },
  {
   "cell_type": "code",
   "execution_count": 4,
   "metadata": {
    "ExecuteTime": {
     "end_time": "2020-07-11T03:36:01.538217Z",
     "start_time": "2020-07-11T03:36:01.525219Z"
    }
   },
   "outputs": [],
   "source": [
    "business =['BUSINESS','MONEY']\n",
    "entertainment=['ENTERTAINMENT','ARTS','COMEDY','ARTS & CULTURE','CULTURE & ARTS','MEDIA']\n",
    "health=['HEALTH','WELLNESS','HEALTHY LIVING']\n",
    "science=['SCIENCE']\n",
    "sports=['SPORTS']\n",
    "technology = ['tech']"
   ]
  },
  {
   "cell_type": "code",
   "execution_count": 5,
   "metadata": {
    "ExecuteTime": {
     "end_time": "2020-07-11T03:36:01.599727Z",
     "start_time": "2020-07-11T03:36:01.540219Z"
    }
   },
   "outputs": [
    {
     "data": {
      "text/plain": [
       "(7644, 6)"
      ]
     },
     "execution_count": 5,
     "metadata": {},
     "output_type": "execute_result"
    }
   ],
   "source": [
    "condition = df['category'].isin(business)\n",
    "businessDF = df[condition]\n",
    "businessDF.shape"
   ]
  },
  {
   "cell_type": "code",
   "execution_count": 6,
   "metadata": {
    "ExecuteTime": {
     "end_time": "2020-07-11T03:36:02.411517Z",
     "start_time": "2020-07-11T03:36:02.363524Z"
    }
   },
   "outputs": [
    {
     "data": {
      "text/plain": [
       "(27926, 6)"
      ]
     },
     "execution_count": 6,
     "metadata": {},
     "output_type": "execute_result"
    }
   ],
   "source": [
    "condition = df['category'].isin(entertainment)\n",
    "entertainmentDF= df[condition]\n",
    "entertainmentDF.shape"
   ]
  },
  {
   "cell_type": "markdown",
   "metadata": {},
   "source": [
    "# install Vader\n",
    "\n",
    " pip install vaderSentiment\n",
    " \n",
    " https://www.geeksforgeeks.org/python-sentiment-analysis-using-vader/\n",
    " \n",
    " https://medium.com/analytics-vidhya/simplifying-social-media-sentiment-analysis-using-vader-in-python-f9e6ec6fc52f\n",
    " \n",
    " \n"
   ]
  },
  {
   "cell_type": "code",
   "execution_count": 9,
   "metadata": {
    "ExecuteTime": {
     "end_time": "2020-07-11T03:48:09.904560Z",
     "start_time": "2020-07-11T03:48:09.893559Z"
    }
   },
   "outputs": [],
   "source": [
    "TenArticlesDF = businessDF[:10]\n"
   ]
  },
  {
   "cell_type": "code",
   "execution_count": 13,
   "metadata": {
    "ExecuteTime": {
     "end_time": "2020-07-11T03:50:33.992333Z",
     "start_time": "2020-07-11T03:50:33.980313Z"
    }
   },
   "outputs": [],
   "source": [
    "tenarticles = TenArticlesDF['short_description'].tolist()\n"
   ]
  },
  {
   "cell_type": "code",
   "execution_count": 29,
   "metadata": {
    "ExecuteTime": {
     "end_time": "2020-07-11T20:14:53.777186Z",
     "start_time": "2020-07-11T20:14:53.740187Z"
    }
   },
   "outputs": [],
   "source": [
    "from vaderSentiment.vaderSentiment import SentimentIntensityAnalyzer\n"
   ]
  },
  {
   "cell_type": "code",
   "execution_count": 32,
   "metadata": {
    "ExecuteTime": {
     "end_time": "2020-07-11T20:18:42.496873Z",
     "start_time": "2020-07-11T20:18:42.451871Z"
    }
   },
   "outputs": [
    {
     "name": "stdout",
     "output_type": "stream",
     "text": [
      "Overall sentiment dictionary is :  {'neg': 0.067, 'neu': 0.933, 'pos': 0.0, 'compound': -0.0772}\n",
      "sentence was rated as  6.7 % Negative\n",
      "sentence was rated as  93.30000000000001 % Neutral\n",
      "sentence was rated as  0.0 % Positive\n",
      "Sentence Overall Rated As Negative\n",
      "Overall sentiment dictionary is :  {'neg': 0.208, 'neu': 0.792, 'pos': 0.0, 'compound': -0.4939}\n",
      "sentence was rated as  20.8 % Negative\n",
      "sentence was rated as  79.2 % Neutral\n",
      "sentence was rated as  0.0 % Positive\n",
      "Sentence Overall Rated As Negative\n",
      "Overall sentiment dictionary is :  {'neg': 0.108, 'neu': 0.892, 'pos': 0.0, 'compound': -0.4404}\n",
      "sentence was rated as  10.8 % Negative\n",
      "sentence was rated as  89.2 % Neutral\n",
      "sentence was rated as  0.0 % Positive\n",
      "Sentence Overall Rated As Negative\n",
      "Overall sentiment dictionary is :  {'neg': 0.104, 'neu': 0.759, 'pos': 0.136, 'compound': 0.128}\n",
      "sentence was rated as  10.4 % Negative\n",
      "sentence was rated as  75.9 % Neutral\n",
      "sentence was rated as  13.600000000000001 % Positive\n",
      "Sentence Overall Rated As Positive\n",
      "Overall sentiment dictionary is :  {'neg': 0.0, 'neu': 1.0, 'pos': 0.0, 'compound': 0.0}\n",
      "sentence was rated as  0.0 % Negative\n",
      "sentence was rated as  100.0 % Neutral\n",
      "sentence was rated as  0.0 % Positive\n",
      "Sentence Overall Rated As Neutral\n",
      "Overall sentiment dictionary is :  {'neg': 0.242, 'neu': 0.758, 'pos': 0.0, 'compound': -0.5859}\n",
      "sentence was rated as  24.2 % Negative\n",
      "sentence was rated as  75.8 % Neutral\n",
      "sentence was rated as  0.0 % Positive\n",
      "Sentence Overall Rated As Negative\n",
      "Overall sentiment dictionary is :  {'neg': 0.223, 'neu': 0.777, 'pos': 0.0, 'compound': -0.5121}\n",
      "sentence was rated as  22.3 % Negative\n",
      "sentence was rated as  77.7 % Neutral\n",
      "sentence was rated as  0.0 % Positive\n",
      "Sentence Overall Rated As Negative\n",
      "Overall sentiment dictionary is :  {'neg': 0.078, 'neu': 0.922, 'pos': 0.0, 'compound': -0.296}\n",
      "sentence was rated as  7.8 % Negative\n",
      "sentence was rated as  92.2 % Neutral\n",
      "sentence was rated as  0.0 % Positive\n",
      "Sentence Overall Rated As Negative\n",
      "Overall sentiment dictionary is :  {'neg': 0.353, 'neu': 0.647, 'pos': 0.0, 'compound': -0.5994}\n",
      "sentence was rated as  35.3 % Negative\n",
      "sentence was rated as  64.7 % Neutral\n",
      "sentence was rated as  0.0 % Positive\n",
      "Sentence Overall Rated As Negative\n",
      "Overall sentiment dictionary is :  {'neg': 0.0, 'neu': 0.756, 'pos': 0.244, 'compound': 0.2263}\n",
      "sentence was rated as  0.0 % Negative\n",
      "sentence was rated as  75.6 % Neutral\n",
      "sentence was rated as  24.4 % Positive\n",
      "Sentence Overall Rated As Positive\n"
     ]
    }
   ],
   "source": [
    "analyzer = SentimentIntensityAnalyzer()\n",
    "\n",
    "for art in tenarticles:\n",
    "    sentiment_dict=analyzer.polarity_scores(art)\n",
    "    print(\"Overall sentiment dictionary is : \", sentiment_dict) \n",
    "    print(\"sentence was rated as \", sentiment_dict['neg']*100, \"% Negative\") \n",
    "    print(\"sentence was rated as \", sentiment_dict['neu']*100, \"% Neutral\") \n",
    "    print(\"sentence was rated as \", sentiment_dict['pos']*100, \"% Positive\") \n",
    "    print(\"Sentence Overall Rated As\", end = \" \")     \n",
    "    if sentiment_dict['compound'] >= 0.05 : \n",
    "        print(\"Positive\") \n",
    "    elif sentiment_dict['compound'] <= - 0.05 : \n",
    "        print(\"Negative\") \n",
    "    else : \n",
    "        print(\"Neutral\") "
   ]
  },
  {
   "cell_type": "code",
   "execution_count": null,
   "metadata": {},
   "outputs": [],
   "source": []
  }
 ],
 "metadata": {
  "kernelspec": {
   "display_name": "Python 3",
   "language": "python",
   "name": "python3"
  },
  "language_info": {
   "codemirror_mode": {
    "name": "ipython",
    "version": 3
   },
   "file_extension": ".py",
   "mimetype": "text/x-python",
   "name": "python",
   "nbconvert_exporter": "python",
   "pygments_lexer": "ipython3",
   "version": "3.8.3"
  }
 },
 "nbformat": 4,
 "nbformat_minor": 4
}
