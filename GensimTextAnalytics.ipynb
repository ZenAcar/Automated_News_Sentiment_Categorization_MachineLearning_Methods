{
 "cells": [
  {
   "cell_type": "code",
   "execution_count": 1,
   "metadata": {
    "ExecuteTime": {
     "end_time": "2020-07-11T03:35:59.325215Z",
     "start_time": "2020-07-11T03:35:58.838216Z"
    }
   },
   "outputs": [
    {
     "name": "stderr",
     "output_type": "stream",
     "text": [
      "/Users/zennureozbekacar/opt/anaconda3/lib/python3.7/site-packages/ipykernel_launcher.py:7: FutureWarning: Passing a negative integer is deprecated in version 1.0 and will not be supported in future version. Instead, use None to not limit the column width.\n",
      "  import sys\n"
     ]
    }
   ],
   "source": [
    "import numpy as np # \n",
    "import pandas as pd # \n",
    "\n",
    "pd.set_option('display.max_rows', None)\n",
    "pd.set_option('display.max_columns', None)\n",
    "pd.set_option('display.width', None)\n",
    "pd.set_option('display.max_colwidth', -1)"
   ]
  },
  {
   "cell_type": "code",
   "execution_count": 2,
   "metadata": {
    "ExecuteTime": {
     "end_time": "2020-07-11T03:36:01.443217Z",
     "start_time": "2020-07-11T03:35:59.327216Z"
    },
    "scrolled": false
   },
   "outputs": [
    {
     "data": {
      "text/html": [
       "<div>\n",
       "<style scoped>\n",
       "    .dataframe tbody tr th:only-of-type {\n",
       "        vertical-align: middle;\n",
       "    }\n",
       "\n",
       "    .dataframe tbody tr th {\n",
       "        vertical-align: top;\n",
       "    }\n",
       "\n",
       "    .dataframe thead th {\n",
       "        text-align: right;\n",
       "    }\n",
       "</style>\n",
       "<table border=\"1\" class=\"dataframe\">\n",
       "  <thead>\n",
       "    <tr style=\"text-align: right;\">\n",
       "      <th></th>\n",
       "      <th>category</th>\n",
       "      <th>headline</th>\n",
       "      <th>authors</th>\n",
       "      <th>link</th>\n",
       "      <th>short_description</th>\n",
       "      <th>date</th>\n",
       "    </tr>\n",
       "  </thead>\n",
       "  <tbody>\n",
       "    <tr>\n",
       "      <th>0</th>\n",
       "      <td>CRIME</td>\n",
       "      <td>There Were 2 Mass Shootings In Texas Last Week, But Only 1 On TV</td>\n",
       "      <td>Melissa Jeltsen</td>\n",
       "      <td>https://www.huffingtonpost.com/entry/texas-amanda-painter-mass-shooting_us_5b081ab4e4b0802d69caad89</td>\n",
       "      <td>She left her husband. He killed their children. Just another day in America.</td>\n",
       "      <td>2018-05-26</td>\n",
       "    </tr>\n",
       "    <tr>\n",
       "      <th>1</th>\n",
       "      <td>ENTERTAINMENT</td>\n",
       "      <td>Will Smith Joins Diplo And Nicky Jam For The 2018 World Cup's Official Song</td>\n",
       "      <td>Andy McDonald</td>\n",
       "      <td>https://www.huffingtonpost.com/entry/will-smith-joins-diplo-and-nicky-jam-for-the-official-2018-world-cup-song_us_5b09726fe4b0fdb2aa541201</td>\n",
       "      <td>Of course it has a song.</td>\n",
       "      <td>2018-05-26</td>\n",
       "    </tr>\n",
       "    <tr>\n",
       "      <th>2</th>\n",
       "      <td>ENTERTAINMENT</td>\n",
       "      <td>Hugh Grant Marries For The First Time At Age 57</td>\n",
       "      <td>Ron Dicker</td>\n",
       "      <td>https://www.huffingtonpost.com/entry/hugh-grant-marries_us_5b09212ce4b0568a880b9a8c</td>\n",
       "      <td>The actor and his longtime girlfriend Anna Eberstein tied the knot in a civil ceremony.</td>\n",
       "      <td>2018-05-26</td>\n",
       "    </tr>\n",
       "    <tr>\n",
       "      <th>3</th>\n",
       "      <td>ENTERTAINMENT</td>\n",
       "      <td>Jim Carrey Blasts 'Castrato' Adam Schiff And Democrats In New Artwork</td>\n",
       "      <td>Ron Dicker</td>\n",
       "      <td>https://www.huffingtonpost.com/entry/jim-carrey-adam-schiff-democrats_us_5b0950e8e4b0fdb2aa53e675</td>\n",
       "      <td>The actor gives Dems an ass-kicking for not fighting hard enough against Donald Trump.</td>\n",
       "      <td>2018-05-26</td>\n",
       "    </tr>\n",
       "    <tr>\n",
       "      <th>4</th>\n",
       "      <td>ENTERTAINMENT</td>\n",
       "      <td>Julianna Margulies Uses Donald Trump Poop Bags To Pick Up After Her Dog</td>\n",
       "      <td>Ron Dicker</td>\n",
       "      <td>https://www.huffingtonpost.com/entry/julianna-margulies-trump-poop-bag_us_5b093ec2e4b0fdb2aa53df70</td>\n",
       "      <td>The \"Dietland\" actress said using the bags is a \"really cathartic, therapeutic moment.\"</td>\n",
       "      <td>2018-05-26</td>\n",
       "    </tr>\n",
       "  </tbody>\n",
       "</table>\n",
       "</div>"
      ],
      "text/plain": [
       "        category  \\\n",
       "0  CRIME           \n",
       "1  ENTERTAINMENT   \n",
       "2  ENTERTAINMENT   \n",
       "3  ENTERTAINMENT   \n",
       "4  ENTERTAINMENT   \n",
       "\n",
       "                                                                      headline  \\\n",
       "0  There Were 2 Mass Shootings In Texas Last Week, But Only 1 On TV              \n",
       "1  Will Smith Joins Diplo And Nicky Jam For The 2018 World Cup's Official Song   \n",
       "2  Hugh Grant Marries For The First Time At Age 57                               \n",
       "3  Jim Carrey Blasts 'Castrato' Adam Schiff And Democrats In New Artwork         \n",
       "4  Julianna Margulies Uses Donald Trump Poop Bags To Pick Up After Her Dog       \n",
       "\n",
       "           authors  \\\n",
       "0  Melissa Jeltsen   \n",
       "1  Andy McDonald     \n",
       "2  Ron Dicker        \n",
       "3  Ron Dicker        \n",
       "4  Ron Dicker        \n",
       "\n",
       "                                                                                                                                         link  \\\n",
       "0  https://www.huffingtonpost.com/entry/texas-amanda-painter-mass-shooting_us_5b081ab4e4b0802d69caad89                                          \n",
       "1  https://www.huffingtonpost.com/entry/will-smith-joins-diplo-and-nicky-jam-for-the-official-2018-world-cup-song_us_5b09726fe4b0fdb2aa541201   \n",
       "2  https://www.huffingtonpost.com/entry/hugh-grant-marries_us_5b09212ce4b0568a880b9a8c                                                          \n",
       "3  https://www.huffingtonpost.com/entry/jim-carrey-adam-schiff-democrats_us_5b0950e8e4b0fdb2aa53e675                                            \n",
       "4  https://www.huffingtonpost.com/entry/julianna-margulies-trump-poop-bag_us_5b093ec2e4b0fdb2aa53df70                                           \n",
       "\n",
       "                                                                         short_description  \\\n",
       "0  She left her husband. He killed their children. Just another day in America.              \n",
       "1  Of course it has a song.                                                                  \n",
       "2  The actor and his longtime girlfriend Anna Eberstein tied the knot in a civil ceremony.   \n",
       "3  The actor gives Dems an ass-kicking for not fighting hard enough against Donald Trump.    \n",
       "4  The \"Dietland\" actress said using the bags is a \"really cathartic, therapeutic moment.\"   \n",
       "\n",
       "        date  \n",
       "0 2018-05-26  \n",
       "1 2018-05-26  \n",
       "2 2018-05-26  \n",
       "3 2018-05-26  \n",
       "4 2018-05-26  "
      ]
     },
     "execution_count": 2,
     "metadata": {},
     "output_type": "execute_result"
    }
   ],
   "source": [
    "# load data\n",
    "df = pd.read_json('resources/News_Category_Dataset_v2.json', lines=True)\n",
    "df.head()"
   ]
  },
  {
   "cell_type": "code",
   "execution_count": 3,
   "metadata": {},
   "outputs": [],
   "source": [
    "df = df.drop_duplicates(subset='short_description', keep='last')"
   ]
  },
  {
   "cell_type": "code",
   "execution_count": 4,
   "metadata": {},
   "outputs": [],
   "source": [
    "df=df.reset_index()"
   ]
  },
  {
   "cell_type": "code",
   "execution_count": 5,
   "metadata": {},
   "outputs": [],
   "source": [
    "import re\n",
    "import string\n",
    "\n",
    "def clean_text_round(text):\n",
    "    \n",
    "    text = text.lower()\n",
    "    text = re.sub('\\[.*?\\]', '',text)\n",
    "    text = re.sub('[%s]' % re.escape(string.punctuation), '', text)\n",
    "    text = re.sub('\\w*\\d\\w*', '', text)\n",
    "    text = re.sub('[''\"\"...]','',text)\n",
    "    text = re.sub('\\n','',text)\n",
    "    text = re.sub('\\d+', '', text)\n",
    "    text = re.sub('[^\\w\\s]','', text)  # remove punctuation \n",
    "    \n",
    "    return text\n",
    "\n",
    "get_cleaning = lambda x: clean_text_round(x)\n",
    "df.short_description = pd.DataFrame(df.short_description.apply(get_cleaning))\n",
    "df.short_description = df.short_description.str.replace('\\d+', '') # remove numbers"
   ]
  },
  {
   "cell_type": "code",
   "execution_count": 46,
   "metadata": {
    "scrolled": true
   },
   "outputs": [],
   "source": [
    "import gensim\n",
    "from gensim.models import Word2Vec\n",
    "from sklearn.manifold import TSNE\n",
    "import matplotlib.pyplot as plt\n",
    "from gensim.parsing.preprocessing import remove_stopwords"
   ]
  },
  {
   "cell_type": "code",
   "execution_count": 47,
   "metadata": {},
   "outputs": [],
   "source": [
    "df['short_description'] = df['short_description'].apply(lambda x: gensim.parsing.preprocessing.remove_stopwords(x))\n",
    "\n"
   ]
  },
  {
   "cell_type": "code",
   "execution_count": 48,
   "metadata": {},
   "outputs": [
    {
     "data": {
      "text/plain": [
       "'actor longtime girlfriend anna eberstein tied knot civil ceremony'"
      ]
     },
     "execution_count": 48,
     "metadata": {},
     "output_type": "execute_result"
    }
   ],
   "source": [
    "df.short_description[2]"
   ]
  },
  {
   "cell_type": "code",
   "execution_count": 49,
   "metadata": {},
   "outputs": [],
   "source": [
    "remove_words = ['i', 'your', 'you', 'on', 'with', 'and', 'have', 'the', 'to', 'in', 'for', 'that', 'had', 'be', 'a', 'year'\n",
    "               'it', 'may', 'one', 'as', 'if', 'is', 'via', 'this', 'will', 'david', 'jenni', 'im', 'susan', 'it', 'up',\n",
    "               'angelica', 'hi', 'hello', 'we', 'our', 'all', 'kelli', 'yes', 'gavin', 'our', 'were', 'of', 'can', 'at',\n",
    "               'any', 'by', 'also', 'joe', 'ronnie', 'morning', 'evening', 'good', 'what', 'okay', 'ok', 'are', 'us', 'my',\n",
    "               'th', 'st', 'nd', 'rd', 'was', 'there', 'then', 'lee', 'out', 'or', 'so','alan', 'from','unfortunately',\n",
    "               'alason', 'but', 'youre', 'does', 'heres', 'little', 'more', 'set', 'br', 'dr', 'ave', 'here', 'about', 'an',\n",
    "               'let', 'know', 'than', 'then', 'no', 'why', 'way', 'every', 'thats', 'taken', 'today', 'way', 'id', 'isnt', \n",
    "               'only', 'bay', 'me', 'when', 'want', 'end', 'month', 'do', 'til', 'get', 'back', 'thanks', 'bonnie', 'woodal',\n",
    "               'off', 'drive', 'michell','and', 'he','she', 'her','just']"
   ]
  },
  {
   "cell_type": "code",
   "execution_count": 50,
   "metadata": {},
   "outputs": [],
   "source": [
    "def apply_remove_words_to_texts():\n",
    "    pat = r'\\b(?:{})\\b'.format('|'.join(remove_words))\n",
    "    df[\"short_description_new\"] = df['short_description'].str.replace(pat, '')\n",
    "    df[\"short_description_new\"] = df['short_description_new'].str.strip()\n",
    "    return df"
   ]
  },
  {
   "cell_type": "code",
   "execution_count": 51,
   "metadata": {},
   "outputs": [],
   "source": [
    "df = apply_remove_words_to_texts()"
   ]
  },
  {
   "cell_type": "code",
   "execution_count": 52,
   "metadata": {
    "scrolled": true
   },
   "outputs": [
    {
     "data": {
      "text/html": [
       "<div>\n",
       "<style scoped>\n",
       "    .dataframe tbody tr th:only-of-type {\n",
       "        vertical-align: middle;\n",
       "    }\n",
       "\n",
       "    .dataframe tbody tr th {\n",
       "        vertical-align: top;\n",
       "    }\n",
       "\n",
       "    .dataframe thead th {\n",
       "        text-align: right;\n",
       "    }\n",
       "</style>\n",
       "<table border=\"1\" class=\"dataframe\">\n",
       "  <thead>\n",
       "    <tr style=\"text-align: right;\">\n",
       "      <th></th>\n",
       "      <th>index</th>\n",
       "      <th>category</th>\n",
       "      <th>headline</th>\n",
       "      <th>authors</th>\n",
       "      <th>link</th>\n",
       "      <th>short_description</th>\n",
       "      <th>date</th>\n",
       "      <th>short_description_new</th>\n",
       "      <th>label</th>\n",
       "    </tr>\n",
       "  </thead>\n",
       "  <tbody>\n",
       "    <tr>\n",
       "      <th>0</th>\n",
       "      <td>0</td>\n",
       "      <td>CRIME</td>\n",
       "      <td>There Were 2 Mass Shootings In Texas Last Week, But Only 1 On TV</td>\n",
       "      <td>Melissa Jeltsen</td>\n",
       "      <td>https://www.huffingtonpost.com/entry/texas-amanda-painter-mass-shooting_us_5b081ab4e4b0802d69caad89</td>\n",
       "      <td>left husband killed children day america</td>\n",
       "      <td>2018-05-26</td>\n",
       "      <td>left husband killed children day america</td>\n",
       "      <td>Negative</td>\n",
       "    </tr>\n",
       "    <tr>\n",
       "      <th>1</th>\n",
       "      <td>1</td>\n",
       "      <td>ENTERTAINMENT</td>\n",
       "      <td>Will Smith Joins Diplo And Nicky Jam For The 2018 World Cup's Official Song</td>\n",
       "      <td>Andy McDonald</td>\n",
       "      <td>https://www.huffingtonpost.com/entry/will-smith-joins-diplo-and-nicky-jam-for-the-official-2018-world-cup-song_us_5b09726fe4b0fdb2aa541201</td>\n",
       "      <td>course song</td>\n",
       "      <td>2018-05-26</td>\n",
       "      <td>course song</td>\n",
       "      <td>Neutral</td>\n",
       "    </tr>\n",
       "    <tr>\n",
       "      <th>2</th>\n",
       "      <td>2</td>\n",
       "      <td>ENTERTAINMENT</td>\n",
       "      <td>Hugh Grant Marries For The First Time At Age 57</td>\n",
       "      <td>Ron Dicker</td>\n",
       "      <td>https://www.huffingtonpost.com/entry/hugh-grant-marries_us_5b09212ce4b0568a880b9a8c</td>\n",
       "      <td>actor longtime girlfriend anna eberstein tied knot civil ceremony</td>\n",
       "      <td>2018-05-26</td>\n",
       "      <td>actor longtime girlfriend anna eberstein tied knot civil ceremony</td>\n",
       "      <td>Neutral</td>\n",
       "    </tr>\n",
       "    <tr>\n",
       "      <th>3</th>\n",
       "      <td>3</td>\n",
       "      <td>ENTERTAINMENT</td>\n",
       "      <td>Jim Carrey Blasts 'Castrato' Adam Schiff And Democrats In New Artwork</td>\n",
       "      <td>Ron Dicker</td>\n",
       "      <td>https://www.huffingtonpost.com/entry/jim-carrey-adam-schiff-democrats_us_5b0950e8e4b0fdb2aa53e675</td>\n",
       "      <td>actor gives dems asskicking fighting hard donald trump</td>\n",
       "      <td>2018-05-26</td>\n",
       "      <td>actor gives dems asskicking fighting hard donald trump</td>\n",
       "      <td>Positive</td>\n",
       "    </tr>\n",
       "    <tr>\n",
       "      <th>4</th>\n",
       "      <td>4</td>\n",
       "      <td>ENTERTAINMENT</td>\n",
       "      <td>Julianna Margulies Uses Donald Trump Poop Bags To Pick Up After Her Dog</td>\n",
       "      <td>Ron Dicker</td>\n",
       "      <td>https://www.huffingtonpost.com/entry/julianna-margulies-trump-poop-bag_us_5b093ec2e4b0fdb2aa53df70</td>\n",
       "      <td>dietland actress said bags cathartic therapeutic moment</td>\n",
       "      <td>2018-05-26</td>\n",
       "      <td>dietland actress said bags cathartic therapeutic moment</td>\n",
       "      <td>Neutral</td>\n",
       "    </tr>\n",
       "  </tbody>\n",
       "</table>\n",
       "</div>"
      ],
      "text/plain": [
       "   index       category  \\\n",
       "0  0      CRIME           \n",
       "1  1      ENTERTAINMENT   \n",
       "2  2      ENTERTAINMENT   \n",
       "3  3      ENTERTAINMENT   \n",
       "4  4      ENTERTAINMENT   \n",
       "\n",
       "                                                                      headline  \\\n",
       "0  There Were 2 Mass Shootings In Texas Last Week, But Only 1 On TV              \n",
       "1  Will Smith Joins Diplo And Nicky Jam For The 2018 World Cup's Official Song   \n",
       "2  Hugh Grant Marries For The First Time At Age 57                               \n",
       "3  Jim Carrey Blasts 'Castrato' Adam Schiff And Democrats In New Artwork         \n",
       "4  Julianna Margulies Uses Donald Trump Poop Bags To Pick Up After Her Dog       \n",
       "\n",
       "           authors  \\\n",
       "0  Melissa Jeltsen   \n",
       "1  Andy McDonald     \n",
       "2  Ron Dicker        \n",
       "3  Ron Dicker        \n",
       "4  Ron Dicker        \n",
       "\n",
       "                                                                                                                                         link  \\\n",
       "0  https://www.huffingtonpost.com/entry/texas-amanda-painter-mass-shooting_us_5b081ab4e4b0802d69caad89                                          \n",
       "1  https://www.huffingtonpost.com/entry/will-smith-joins-diplo-and-nicky-jam-for-the-official-2018-world-cup-song_us_5b09726fe4b0fdb2aa541201   \n",
       "2  https://www.huffingtonpost.com/entry/hugh-grant-marries_us_5b09212ce4b0568a880b9a8c                                                          \n",
       "3  https://www.huffingtonpost.com/entry/jim-carrey-adam-schiff-democrats_us_5b0950e8e4b0fdb2aa53e675                                            \n",
       "4  https://www.huffingtonpost.com/entry/julianna-margulies-trump-poop-bag_us_5b093ec2e4b0fdb2aa53df70                                           \n",
       "\n",
       "                                                   short_description  \\\n",
       "0  left husband killed children day america                            \n",
       "1  course song                                                         \n",
       "2  actor longtime girlfriend anna eberstein tied knot civil ceremony   \n",
       "3  actor gives dems asskicking fighting hard donald trump              \n",
       "4  dietland actress said bags cathartic therapeutic moment             \n",
       "\n",
       "        date  \\\n",
       "0 2018-05-26   \n",
       "1 2018-05-26   \n",
       "2 2018-05-26   \n",
       "3 2018-05-26   \n",
       "4 2018-05-26   \n",
       "\n",
       "                                               short_description_new     label  \n",
       "0  left husband killed children day america                           Negative  \n",
       "1  course song                                                        Neutral   \n",
       "2  actor longtime girlfriend anna eberstein tied knot civil ceremony  Neutral   \n",
       "3  actor gives dems asskicking fighting hard donald trump             Positive  \n",
       "4  dietland actress said bags cathartic therapeutic moment            Neutral   "
      ]
     },
     "execution_count": 52,
     "metadata": {},
     "output_type": "execute_result"
    }
   ],
   "source": [
    "df.head()"
   ]
  },
  {
   "cell_type": "code",
   "execution_count": 53,
   "metadata": {},
   "outputs": [],
   "source": [
    "from vaderSentiment.vaderSentiment import SentimentIntensityAnalyzer"
   ]
  },
  {
   "cell_type": "code",
   "execution_count": 54,
   "metadata": {},
   "outputs": [],
   "source": [
    "analyzer = SentimentIntensityAnalyzer()\n",
    "overall_sentiment = []\n",
    "\n",
    "for art in df['short_description_new']:\n",
    "    sentiment_dict=analyzer.polarity_scores(art)\n",
    "    #print(\"Overall sentiment dictionary is : \", sentiment_dict) \n",
    "    #print(\"sentence was rated as \", sentiment_dict['neg']*100, \"% Negative\") \n",
    "    #print(\"sentence was rated as \", sentiment_dict['neu']*100, \"% Neutral\") \n",
    "    #print(\"sentence was rated as \", sentiment_dict['pos']*100, \"% Positive\") \n",
    "    #print(\"Sentence Overall Rated As\", end = \" \")  \n",
    "    if sentiment_dict['compound'] >= 0.05 : \n",
    "        overall_sentiment.append(\"Positive\")\n",
    "    elif sentiment_dict['compound'] <= - 0.05 : \n",
    "        overall_sentiment.append(\"Negative\")\n",
    "    else : \n",
    "        overall_sentiment.append(\"Neutral\")\n",
    "        \n",
    "df['label'] = overall_sentiment"
   ]
  },
  {
   "cell_type": "code",
   "execution_count": 55,
   "metadata": {},
   "outputs": [
    {
     "data": {
      "text/html": [
       "<div>\n",
       "<style scoped>\n",
       "    .dataframe tbody tr th:only-of-type {\n",
       "        vertical-align: middle;\n",
       "    }\n",
       "\n",
       "    .dataframe tbody tr th {\n",
       "        vertical-align: top;\n",
       "    }\n",
       "\n",
       "    .dataframe thead th {\n",
       "        text-align: right;\n",
       "    }\n",
       "</style>\n",
       "<table border=\"1\" class=\"dataframe\">\n",
       "  <thead>\n",
       "    <tr style=\"text-align: right;\">\n",
       "      <th></th>\n",
       "      <th>index</th>\n",
       "      <th>category</th>\n",
       "      <th>headline</th>\n",
       "      <th>authors</th>\n",
       "      <th>link</th>\n",
       "      <th>short_description</th>\n",
       "      <th>date</th>\n",
       "      <th>short_description_new</th>\n",
       "      <th>label</th>\n",
       "    </tr>\n",
       "  </thead>\n",
       "  <tbody>\n",
       "    <tr>\n",
       "      <th>0</th>\n",
       "      <td>0</td>\n",
       "      <td>CRIME</td>\n",
       "      <td>There Were 2 Mass Shootings In Texas Last Week, But Only 1 On TV</td>\n",
       "      <td>Melissa Jeltsen</td>\n",
       "      <td>https://www.huffingtonpost.com/entry/texas-amanda-painter-mass-shooting_us_5b081ab4e4b0802d69caad89</td>\n",
       "      <td>left husband killed children day america</td>\n",
       "      <td>2018-05-26</td>\n",
       "      <td>left husband killed children day america</td>\n",
       "      <td>Negative</td>\n",
       "    </tr>\n",
       "    <tr>\n",
       "      <th>1</th>\n",
       "      <td>1</td>\n",
       "      <td>ENTERTAINMENT</td>\n",
       "      <td>Will Smith Joins Diplo And Nicky Jam For The 2018 World Cup's Official Song</td>\n",
       "      <td>Andy McDonald</td>\n",
       "      <td>https://www.huffingtonpost.com/entry/will-smith-joins-diplo-and-nicky-jam-for-the-official-2018-world-cup-song_us_5b09726fe4b0fdb2aa541201</td>\n",
       "      <td>course song</td>\n",
       "      <td>2018-05-26</td>\n",
       "      <td>course song</td>\n",
       "      <td>Neutral</td>\n",
       "    </tr>\n",
       "    <tr>\n",
       "      <th>2</th>\n",
       "      <td>2</td>\n",
       "      <td>ENTERTAINMENT</td>\n",
       "      <td>Hugh Grant Marries For The First Time At Age 57</td>\n",
       "      <td>Ron Dicker</td>\n",
       "      <td>https://www.huffingtonpost.com/entry/hugh-grant-marries_us_5b09212ce4b0568a880b9a8c</td>\n",
       "      <td>actor longtime girlfriend anna eberstein tied knot civil ceremony</td>\n",
       "      <td>2018-05-26</td>\n",
       "      <td>actor longtime girlfriend anna eberstein tied knot civil ceremony</td>\n",
       "      <td>Neutral</td>\n",
       "    </tr>\n",
       "    <tr>\n",
       "      <th>3</th>\n",
       "      <td>3</td>\n",
       "      <td>ENTERTAINMENT</td>\n",
       "      <td>Jim Carrey Blasts 'Castrato' Adam Schiff And Democrats In New Artwork</td>\n",
       "      <td>Ron Dicker</td>\n",
       "      <td>https://www.huffingtonpost.com/entry/jim-carrey-adam-schiff-democrats_us_5b0950e8e4b0fdb2aa53e675</td>\n",
       "      <td>actor gives dems asskicking fighting hard donald trump</td>\n",
       "      <td>2018-05-26</td>\n",
       "      <td>actor gives dems asskicking fighting hard donald trump</td>\n",
       "      <td>Negative</td>\n",
       "    </tr>\n",
       "    <tr>\n",
       "      <th>4</th>\n",
       "      <td>4</td>\n",
       "      <td>ENTERTAINMENT</td>\n",
       "      <td>Julianna Margulies Uses Donald Trump Poop Bags To Pick Up After Her Dog</td>\n",
       "      <td>Ron Dicker</td>\n",
       "      <td>https://www.huffingtonpost.com/entry/julianna-margulies-trump-poop-bag_us_5b093ec2e4b0fdb2aa53df70</td>\n",
       "      <td>dietland actress said bags cathartic therapeutic moment</td>\n",
       "      <td>2018-05-26</td>\n",
       "      <td>dietland actress said bags cathartic therapeutic moment</td>\n",
       "      <td>Neutral</td>\n",
       "    </tr>\n",
       "  </tbody>\n",
       "</table>\n",
       "</div>"
      ],
      "text/plain": [
       "   index       category  \\\n",
       "0  0      CRIME           \n",
       "1  1      ENTERTAINMENT   \n",
       "2  2      ENTERTAINMENT   \n",
       "3  3      ENTERTAINMENT   \n",
       "4  4      ENTERTAINMENT   \n",
       "\n",
       "                                                                      headline  \\\n",
       "0  There Were 2 Mass Shootings In Texas Last Week, But Only 1 On TV              \n",
       "1  Will Smith Joins Diplo And Nicky Jam For The 2018 World Cup's Official Song   \n",
       "2  Hugh Grant Marries For The First Time At Age 57                               \n",
       "3  Jim Carrey Blasts 'Castrato' Adam Schiff And Democrats In New Artwork         \n",
       "4  Julianna Margulies Uses Donald Trump Poop Bags To Pick Up After Her Dog       \n",
       "\n",
       "           authors  \\\n",
       "0  Melissa Jeltsen   \n",
       "1  Andy McDonald     \n",
       "2  Ron Dicker        \n",
       "3  Ron Dicker        \n",
       "4  Ron Dicker        \n",
       "\n",
       "                                                                                                                                         link  \\\n",
       "0  https://www.huffingtonpost.com/entry/texas-amanda-painter-mass-shooting_us_5b081ab4e4b0802d69caad89                                          \n",
       "1  https://www.huffingtonpost.com/entry/will-smith-joins-diplo-and-nicky-jam-for-the-official-2018-world-cup-song_us_5b09726fe4b0fdb2aa541201   \n",
       "2  https://www.huffingtonpost.com/entry/hugh-grant-marries_us_5b09212ce4b0568a880b9a8c                                                          \n",
       "3  https://www.huffingtonpost.com/entry/jim-carrey-adam-schiff-democrats_us_5b0950e8e4b0fdb2aa53e675                                            \n",
       "4  https://www.huffingtonpost.com/entry/julianna-margulies-trump-poop-bag_us_5b093ec2e4b0fdb2aa53df70                                           \n",
       "\n",
       "                                                   short_description  \\\n",
       "0  left husband killed children day america                            \n",
       "1  course song                                                         \n",
       "2  actor longtime girlfriend anna eberstein tied knot civil ceremony   \n",
       "3  actor gives dems asskicking fighting hard donald trump              \n",
       "4  dietland actress said bags cathartic therapeutic moment             \n",
       "\n",
       "        date  \\\n",
       "0 2018-05-26   \n",
       "1 2018-05-26   \n",
       "2 2018-05-26   \n",
       "3 2018-05-26   \n",
       "4 2018-05-26   \n",
       "\n",
       "                                               short_description_new     label  \n",
       "0  left husband killed children day america                           Negative  \n",
       "1  course song                                                        Neutral   \n",
       "2  actor longtime girlfriend anna eberstein tied knot civil ceremony  Neutral   \n",
       "3  actor gives dems asskicking fighting hard donald trump             Negative  \n",
       "4  dietland actress said bags cathartic therapeutic moment            Neutral   "
      ]
     },
     "execution_count": 55,
     "metadata": {},
     "output_type": "execute_result"
    }
   ],
   "source": [
    "df.head()"
   ]
  },
  {
   "cell_type": "code",
   "execution_count": 56,
   "metadata": {
    "ExecuteTime": {
     "end_time": "2020-07-11T03:36:01.522222Z",
     "start_time": "2020-07-11T03:36:01.446218Z"
    }
   },
   "outputs": [
    {
     "data": {
      "text/plain": [
       "POLITICS          29106\n",
       "WELLNESS          17549\n",
       "ENTERTAINMENT     13251\n",
       "TRAVEL            9375 \n",
       "STYLE & BEAUTY    9152 \n",
       "PARENTING         8624 \n",
       "FOOD & DRINK      6206 \n",
       "QUEER VOICES      5405 \n",
       "HEALTHY LIVING    5197 \n",
       "BUSINESS          5060 \n",
       "COMEDY            4361 \n",
       "SPORTS            4186 \n",
       "BLACK VOICES      4064 \n",
       "HOME & LIVING     4023 \n",
       "THE WORLDPOST     3657 \n",
       "WEDDINGS          3645 \n",
       "PARENTS           3433 \n",
       "DIVORCE           3401 \n",
       "IMPACT            3050 \n",
       "WOMEN             3023 \n",
       "CRIME             2671 \n",
       "MEDIA             2259 \n",
       "WORLD NEWS        2169 \n",
       "WEIRD NEWS        2152 \n",
       "GREEN             2034 \n",
       "TECH              1990 \n",
       "TASTE             1904 \n",
       "RELIGION          1779 \n",
       "SCIENCE           1763 \n",
       "MONEY             1706 \n",
       "STYLE             1500 \n",
       "ARTS & CULTURE    1321 \n",
       "ENVIRONMENT       1317 \n",
       "WORLDPOST         1242 \n",
       "FIFTY             1042 \n",
       "GOOD NEWS         1027 \n",
       "LATINO VOICES     1018 \n",
       "CULTURE & ARTS    1016 \n",
       "COLLEGE           921  \n",
       "EDUCATION         891  \n",
       "ARTS              863  \n",
       "Name: category, dtype: int64"
      ]
     },
     "execution_count": 56,
     "metadata": {},
     "output_type": "execute_result"
    }
   ],
   "source": [
    "df['category'].value_counts()"
   ]
  },
  {
   "cell_type": "markdown",
   "metadata": {},
   "source": [
    "News API categories\n",
    "* business\n",
    "* entertainment\n",
    "* general\n",
    "* health\n",
    "* science\n",
    "* sports\n",
    "* technology"
   ]
  },
  {
   "cell_type": "code",
   "execution_count": 57,
   "metadata": {
    "ExecuteTime": {
     "end_time": "2020-07-11T03:36:01.538217Z",
     "start_time": "2020-07-11T03:36:01.525219Z"
    }
   },
   "outputs": [],
   "source": [
    "business =['BUSINESS','MONEY']\n",
    "entertainment=['ENTERTAINMENT','ARTS','COMEDY','ARTS & CULTURE','CULTURE & ARTS','MEDIA']\n",
    "health=['HEALTH','WELLNESS','HEALTHY LIVING']\n",
    "science=['SCIENCE']\n",
    "sports=['SPORTS']\n",
    "technology = ['tech']"
   ]
  },
  {
   "cell_type": "code",
   "execution_count": 58,
   "metadata": {
    "ExecuteTime": {
     "end_time": "2020-07-11T03:36:01.599727Z",
     "start_time": "2020-07-11T03:36:01.540219Z"
    }
   },
   "outputs": [
    {
     "data": {
      "text/plain": [
       "(6766, 9)"
      ]
     },
     "execution_count": 58,
     "metadata": {},
     "output_type": "execute_result"
    }
   ],
   "source": [
    "condition = df['category'].isin(business)\n",
    "businessDF = df[condition]\n",
    "businessDF.shape"
   ]
  },
  {
   "cell_type": "code",
   "execution_count": 59,
   "metadata": {},
   "outputs": [],
   "source": [
    "from sklearn.model_selection import train_test_split\n",
    "\n",
    "trainData, testData = train_test_split(businessDF, test_size=0.3)"
   ]
  },
  {
   "cell_type": "code",
   "execution_count": 60,
   "metadata": {},
   "outputs": [
    {
     "data": {
      "text/plain": [
       "6766"
      ]
     },
     "execution_count": 60,
     "metadata": {},
     "output_type": "execute_result"
    }
   ],
   "source": [
    "len(businessDF)"
   ]
  },
  {
   "cell_type": "code",
   "execution_count": 61,
   "metadata": {},
   "outputs": [
    {
     "data": {
      "text/plain": [
       "4736"
      ]
     },
     "execution_count": 61,
     "metadata": {},
     "output_type": "execute_result"
    }
   ],
   "source": [
    "len(trainData)"
   ]
  },
  {
   "cell_type": "code",
   "execution_count": 62,
   "metadata": {},
   "outputs": [
    {
     "data": {
      "text/plain": [
       "2030"
      ]
     },
     "execution_count": 62,
     "metadata": {},
     "output_type": "execute_result"
    }
   ],
   "source": [
    "len(testData)"
   ]
  },
  {
   "cell_type": "code",
   "execution_count": 63,
   "metadata": {},
   "outputs": [
    {
     "data": {
      "text/html": [
       "<div>\n",
       "<style scoped>\n",
       "    .dataframe tbody tr th:only-of-type {\n",
       "        vertical-align: middle;\n",
       "    }\n",
       "\n",
       "    .dataframe tbody tr th {\n",
       "        vertical-align: top;\n",
       "    }\n",
       "\n",
       "    .dataframe thead th {\n",
       "        text-align: right;\n",
       "    }\n",
       "</style>\n",
       "<table border=\"1\" class=\"dataframe\">\n",
       "  <thead>\n",
       "    <tr style=\"text-align: right;\">\n",
       "      <th></th>\n",
       "      <th>index</th>\n",
       "      <th>category</th>\n",
       "      <th>headline</th>\n",
       "      <th>authors</th>\n",
       "      <th>link</th>\n",
       "      <th>short_description</th>\n",
       "      <th>date</th>\n",
       "      <th>short_description_new</th>\n",
       "      <th>label</th>\n",
       "    </tr>\n",
       "  </thead>\n",
       "  <tbody>\n",
       "    <tr>\n",
       "      <th>177645</th>\n",
       "      <td>200139</td>\n",
       "      <td>BUSINESS</td>\n",
       "      <td>Mortgage Deal Reached In 2008 Shows Pitfalls To Avoid In Current Settlement</td>\n",
       "      <td>Loren Berlin</td>\n",
       "      <td>https://www.huffingtonpost.com/entry/mortgage-deal-settlement-banks-attorney-general_us_5bb2b49ae4b0480ca659e69f</td>\n",
       "      <td>obama administration pushing states sign new settlement agrees countrywide deal underwhelmed</td>\n",
       "      <td>2012-02-05</td>\n",
       "      <td>obama administration pushing states sign new settlement agrees countrywide deal underwhelmed</td>\n",
       "      <td>Positive</td>\n",
       "    </tr>\n",
       "    <tr>\n",
       "      <th>167976</th>\n",
       "      <td>190290</td>\n",
       "      <td>MONEY</td>\n",
       "      <td>Why We All Need to Think About Alternative Credit</td>\n",
       "      <td>Credit.com, Contributor\\nExpert information about credit scoring, credit reporting and ...</td>\n",
       "      <td>https://www.huffingtonpost.com/entry/why-we-all-need-to-think_us_5b9bbd22e4b03a1dcc79f834</td>\n",
       "      <td>time alternative credit join mainstream credit conversation long overdue youre consumer</td>\n",
       "      <td>2012-05-21</td>\n",
       "      <td>time alternative credit join mainstream credit conversation long overdue  consumer</td>\n",
       "      <td>Positive</td>\n",
       "    </tr>\n",
       "    <tr>\n",
       "      <th>32377</th>\n",
       "      <td>32879</td>\n",
       "      <td>BUSINESS</td>\n",
       "      <td>Bay Area School Gets Rich Quick On Snapchat Investment</td>\n",
       "      <td>Ron Dicker</td>\n",
       "      <td>https://www.huffingtonpost.com/entry/st-francis-high-snapchat-investment_us_58b95626e4b0d2821b4d411f</td>\n",
       "      <td>gods looking president catholic high school said</td>\n",
       "      <td>2017-03-03</td>\n",
       "      <td>gods looking president catholic high school said</td>\n",
       "      <td>Neutral</td>\n",
       "    </tr>\n",
       "    <tr>\n",
       "      <th>136626</th>\n",
       "      <td>158396</td>\n",
       "      <td>BUSINESS</td>\n",
       "      <td>This FAA Sequester Vote Doesn't Smell Right</td>\n",
       "      <td>Jared Bernstein, Contributor\\nFmr. Obama administration economist; CNBC and MSNBC contributor</td>\n",
       "      <td>https://www.huffingtonpost.com/entry/faa-furloughs-sequestration_us_5bb2f2c1e4b0480ca65f4ab9</td>\n",
       "      <td>bipartisan support mitigate noxious effects sequestration papering highvisibility stuff affects affluent lots budget bleeding goes beneath radar</td>\n",
       "      <td>2013-04-27</td>\n",
       "      <td>bipartisan support mitigate noxious effects sequestration papering highvisibility stuff affects affluent lots budget bleeding goes beneath radar</td>\n",
       "      <td>Positive</td>\n",
       "    </tr>\n",
       "    <tr>\n",
       "      <th>54043</th>\n",
       "      <td>55733</td>\n",
       "      <td>BUSINESS</td>\n",
       "      <td>Judge Orders Leonardo DiCaprio To Give Deposition In 'Wolf Of Wall Street' Lawsuit</td>\n",
       "      <td></td>\n",
       "      <td>https://www.huffingtonpost.com/entry/leonardo-dicaprio-deposition-wolf-wall_us_57648c68e4b015db1bc98231</td>\n",
       "      <td>plaintiff sued million claiming defamed film</td>\n",
       "      <td>2016-06-18</td>\n",
       "      <td>plaintiff sued million claiming defamed film</td>\n",
       "      <td>Neutral</td>\n",
       "    </tr>\n",
       "  </tbody>\n",
       "</table>\n",
       "</div>"
      ],
      "text/plain": [
       "         index  category  \\\n",
       "177645  200139  BUSINESS   \n",
       "167976  190290  MONEY      \n",
       "32377   32879   BUSINESS   \n",
       "136626  158396  BUSINESS   \n",
       "54043   55733   BUSINESS   \n",
       "\n",
       "                                                                                  headline  \\\n",
       "177645  Mortgage Deal Reached In 2008 Shows Pitfalls To Avoid In Current Settlement          \n",
       "167976  Why We All Need to Think About Alternative Credit                                    \n",
       "32377   Bay Area School Gets Rich Quick On Snapchat Investment                               \n",
       "136626  This FAA Sequester Vote Doesn't Smell Right                                          \n",
       "54043   Judge Orders Leonardo DiCaprio To Give Deposition In 'Wolf Of Wall Street' Lawsuit   \n",
       "\n",
       "                                                                                              authors  \\\n",
       "177645  Loren Berlin                                                                                    \n",
       "167976  Credit.com, Contributor\\nExpert information about credit scoring, credit reporting and ...      \n",
       "32377   Ron Dicker                                                                                      \n",
       "136626  Jared Bernstein, Contributor\\nFmr. Obama administration economist; CNBC and MSNBC contributor   \n",
       "54043                                                                                                   \n",
       "\n",
       "                                                                                                                    link  \\\n",
       "177645  https://www.huffingtonpost.com/entry/mortgage-deal-settlement-banks-attorney-general_us_5bb2b49ae4b0480ca659e69f   \n",
       "167976  https://www.huffingtonpost.com/entry/why-we-all-need-to-think_us_5b9bbd22e4b03a1dcc79f834                          \n",
       "32377   https://www.huffingtonpost.com/entry/st-francis-high-snapchat-investment_us_58b95626e4b0d2821b4d411f               \n",
       "136626  https://www.huffingtonpost.com/entry/faa-furloughs-sequestration_us_5bb2f2c1e4b0480ca65f4ab9                       \n",
       "54043   https://www.huffingtonpost.com/entry/leonardo-dicaprio-deposition-wolf-wall_us_57648c68e4b015db1bc98231            \n",
       "\n",
       "                                                                                                                                       short_description  \\\n",
       "177645  obama administration pushing states sign new settlement agrees countrywide deal underwhelmed                                                       \n",
       "167976  time alternative credit join mainstream credit conversation long overdue youre consumer                                                            \n",
       "32377   gods looking president catholic high school said                                                                                                   \n",
       "136626  bipartisan support mitigate noxious effects sequestration papering highvisibility stuff affects affluent lots budget bleeding goes beneath radar   \n",
       "54043   plaintiff sued million claiming defamed film                                                                                                       \n",
       "\n",
       "             date  \\\n",
       "177645 2012-02-05   \n",
       "167976 2012-05-21   \n",
       "32377  2017-03-03   \n",
       "136626 2013-04-27   \n",
       "54043  2016-06-18   \n",
       "\n",
       "                                                                                                                                   short_description_new  \\\n",
       "177645  obama administration pushing states sign new settlement agrees countrywide deal underwhelmed                                                       \n",
       "167976  time alternative credit join mainstream credit conversation long overdue  consumer                                                                 \n",
       "32377   gods looking president catholic high school said                                                                                                   \n",
       "136626  bipartisan support mitigate noxious effects sequestration papering highvisibility stuff affects affluent lots budget bleeding goes beneath radar   \n",
       "54043   plaintiff sued million claiming defamed film                                                                                                       \n",
       "\n",
       "           label  \n",
       "177645  Positive  \n",
       "167976  Positive  \n",
       "32377   Neutral   \n",
       "136626  Positive  \n",
       "54043   Neutral   "
      ]
     },
     "execution_count": 63,
     "metadata": {},
     "output_type": "execute_result"
    }
   ],
   "source": [
    "trainData.head()"
   ]
  },
  {
   "cell_type": "code",
   "execution_count": 64,
   "metadata": {},
   "outputs": [],
   "source": [
    "trainData.to_csv(\"Resources/BusinessTrainData_1.csv\")\n",
    "testData.to_csv(\"Resources/BusinessTestData_1.csv\")"
   ]
  },
  {
   "cell_type": "code",
   "execution_count": 65,
   "metadata": {
    "scrolled": true
   },
   "outputs": [
    {
     "data": {
      "text/html": [
       "<div>\n",
       "<style scoped>\n",
       "    .dataframe tbody tr th:only-of-type {\n",
       "        vertical-align: middle;\n",
       "    }\n",
       "\n",
       "    .dataframe tbody tr th {\n",
       "        vertical-align: top;\n",
       "    }\n",
       "\n",
       "    .dataframe thead th {\n",
       "        text-align: right;\n",
       "    }\n",
       "</style>\n",
       "<table border=\"1\" class=\"dataframe\">\n",
       "  <thead>\n",
       "    <tr style=\"text-align: right;\">\n",
       "      <th></th>\n",
       "      <th>index</th>\n",
       "      <th>category</th>\n",
       "      <th>headline</th>\n",
       "      <th>authors</th>\n",
       "      <th>link</th>\n",
       "      <th>short_description</th>\n",
       "      <th>date</th>\n",
       "      <th>short_description_new</th>\n",
       "      <th>label</th>\n",
       "    </tr>\n",
       "  </thead>\n",
       "  <tbody>\n",
       "    <tr>\n",
       "      <th>126245</th>\n",
       "      <td>147817</td>\n",
       "      <td>BUSINESS</td>\n",
       "      <td>States Profiting The Most From Sin: 24/7 Wall St.</td>\n",
       "      <td>24/7 Wall St., 24/7 Wall St.</td>\n",
       "      <td>https://www.huffingtonpost.com/entry/sin-states_us_5bb2fbf9e4b0480ca6605e93</td>\n",
       "      <td>like tax foundations scott drenkard argue states motivated profit specifically increasing</td>\n",
       "      <td>2013-08-17</td>\n",
       "      <td>like tax foundations scott drenkard argue states motivated profit specifically increasing</td>\n",
       "      <td>Positive</td>\n",
       "    </tr>\n",
       "    <tr>\n",
       "      <th>17388</th>\n",
       "      <td>17631</td>\n",
       "      <td>BUSINESS</td>\n",
       "      <td>Hurricane Harvey And The Failure Of The Free Market</td>\n",
       "      <td>Paul Constant, ContributorFellow at Civic Ventures and co-founder of the Seattle Review ...</td>\n",
       "      <td>https://www.huffingtonpost.com/entry/hurricane-harvey-and-the-failure-of-the-free-market_us_59a6ce80e4b0d81379a81c8e</td>\n",
       "      <td>lifeordeath situation</td>\n",
       "      <td>2017-08-30</td>\n",
       "      <td>lifeordeath situation</td>\n",
       "      <td>Neutral</td>\n",
       "    </tr>\n",
       "    <tr>\n",
       "      <th>142441</th>\n",
       "      <td>164325</td>\n",
       "      <td>BUSINESS</td>\n",
       "      <td>Happy Birthday Steve Jobs: Business Leaders Reflect On Ex-Apple CEO</td>\n",
       "      <td></td>\n",
       "      <td>https://www.huffingtonpost.com/entry/happy-birthday-steve-jobs_us_5bb2e9abe4b0480ca65e9725</td>\n",
       "      <td>exapple ceo steve jobs alive today following death cancer age major</td>\n",
       "      <td>2013-02-24</td>\n",
       "      <td>exapple ceo steve jobs alive  following death cancer age major</td>\n",
       "      <td>Negative</td>\n",
       "    </tr>\n",
       "    <tr>\n",
       "      <th>152740</th>\n",
       "      <td>174777</td>\n",
       "      <td>BUSINESS</td>\n",
       "      <td>Presidential Election 2012: Let the Best Brand Win</td>\n",
       "      <td>Mario Simon, Contributor\\nCEO, Millward Brown Vermeer</td>\n",
       "      <td>https://www.huffingtonpost.com/entry/candidate-branding_us_5bb2da4ee4b0480ca65d5344</td>\n",
       "      <td>political leaders known centuries commercial organizations recently discovered successful brands rooted universal human ideals</td>\n",
       "      <td>2012-11-04</td>\n",
       "      <td>political leaders known centuries commercial organizations recently discovered successful brands rooted universal human ideals</td>\n",
       "      <td>Positive</td>\n",
       "    </tr>\n",
       "    <tr>\n",
       "      <th>67676</th>\n",
       "      <td>70009</td>\n",
       "      <td>BUSINESS</td>\n",
       "      <td>How To Ask For A Raise</td>\n",
       "      <td></td>\n",
       "      <td>https://www.huffingtonpost.comhttp://pubx.co/nPghPj</td>\n",
       "      <td>youve summoned ask raise youre definitely</td>\n",
       "      <td>2016-01-07</td>\n",
       "      <td>youve summoned ask raise  definitely</td>\n",
       "      <td>Positive</td>\n",
       "    </tr>\n",
       "  </tbody>\n",
       "</table>\n",
       "</div>"
      ],
      "text/plain": [
       "         index  category  \\\n",
       "126245  147817  BUSINESS   \n",
       "17388   17631   BUSINESS   \n",
       "142441  164325  BUSINESS   \n",
       "152740  174777  BUSINESS   \n",
       "67676   70009   BUSINESS   \n",
       "\n",
       "                                                                   headline  \\\n",
       "126245  States Profiting The Most From Sin: 24/7 Wall St.                     \n",
       "17388   Hurricane Harvey And The Failure Of The Free Market                   \n",
       "142441  Happy Birthday Steve Jobs: Business Leaders Reflect On Ex-Apple CEO   \n",
       "152740  Presidential Election 2012: Let the Best Brand Win                    \n",
       "67676   How To Ask For A Raise                                                \n",
       "\n",
       "                                                                                            authors  \\\n",
       "126245  24/7 Wall St., 24/7 Wall St.                                                                  \n",
       "17388   Paul Constant, ContributorFellow at Civic Ventures and co-founder of the Seattle Review ...   \n",
       "142441                                                                                                \n",
       "152740  Mario Simon, Contributor\\nCEO, Millward Brown Vermeer                                         \n",
       "67676                                                                                                 \n",
       "\n",
       "                                                                                                                        link  \\\n",
       "126245  https://www.huffingtonpost.com/entry/sin-states_us_5bb2fbf9e4b0480ca6605e93                                            \n",
       "17388   https://www.huffingtonpost.com/entry/hurricane-harvey-and-the-failure-of-the-free-market_us_59a6ce80e4b0d81379a81c8e   \n",
       "142441  https://www.huffingtonpost.com/entry/happy-birthday-steve-jobs_us_5bb2e9abe4b0480ca65e9725                             \n",
       "152740  https://www.huffingtonpost.com/entry/candidate-branding_us_5bb2da4ee4b0480ca65d5344                                    \n",
       "67676   https://www.huffingtonpost.comhttp://pubx.co/nPghPj                                                                    \n",
       "\n",
       "                                                                                                                     short_description  \\\n",
       "126245  like tax foundations scott drenkard argue states motivated profit specifically increasing                                        \n",
       "17388   lifeordeath situation                                                                                                            \n",
       "142441  exapple ceo steve jobs alive today following death cancer age major                                                              \n",
       "152740  political leaders known centuries commercial organizations recently discovered successful brands rooted universal human ideals   \n",
       "67676   youve summoned ask raise youre definitely                                                                                        \n",
       "\n",
       "             date  \\\n",
       "126245 2013-08-17   \n",
       "17388  2017-08-30   \n",
       "142441 2013-02-24   \n",
       "152740 2012-11-04   \n",
       "67676  2016-01-07   \n",
       "\n",
       "                                                                                                                 short_description_new  \\\n",
       "126245  like tax foundations scott drenkard argue states motivated profit specifically increasing                                        \n",
       "17388   lifeordeath situation                                                                                                            \n",
       "142441  exapple ceo steve jobs alive  following death cancer age major                                                                   \n",
       "152740  political leaders known centuries commercial organizations recently discovered successful brands rooted universal human ideals   \n",
       "67676   youve summoned ask raise  definitely                                                                                             \n",
       "\n",
       "           label  \n",
       "126245  Positive  \n",
       "17388   Neutral   \n",
       "142441  Negative  \n",
       "152740  Positive  \n",
       "67676   Positive  "
      ]
     },
     "execution_count": 65,
     "metadata": {},
     "output_type": "execute_result"
    }
   ],
   "source": [
    "trainData.sample(frac=1).head(5) # shuffle the df and pick first 5"
   ]
  },
  {
   "cell_type": "markdown",
   "metadata": {},
   "source": [
    "# Vectorizing the Data"
   ]
  },
  {
   "cell_type": "code",
   "execution_count": 66,
   "metadata": {},
   "outputs": [],
   "source": [
    "from sklearn.feature_extraction.text import CountVectorizer,TfidfVectorizer\n",
    "# Create feature vectors\n",
    "vectorizer = TfidfVectorizer(min_df = 5,\n",
    "                             max_df = 0.8,\n",
    "                             sublinear_tf = True,\n",
    "                             use_idf = True)\n",
    "train_vectors = vectorizer.fit_transform(trainData['short_description_new'])\n",
    "test_vectors = vectorizer.transform(testData['short_description_new'])"
   ]
  },
  {
   "cell_type": "code",
   "execution_count": 67,
   "metadata": {},
   "outputs": [
    {
     "data": {
      "text/plain": [
       "<4736x2497 sparse matrix of type '<class 'numpy.float64'>'\n",
       "\twith 41195 stored elements in Compressed Sparse Row format>"
      ]
     },
     "execution_count": 67,
     "metadata": {},
     "output_type": "execute_result"
    }
   ],
   "source": [
    "train_vectors"
   ]
  },
  {
   "cell_type": "code",
   "execution_count": 68,
   "metadata": {},
   "outputs": [
    {
     "data": {
      "text/plain": [
       "<2030x2497 sparse matrix of type '<class 'numpy.float64'>'\n",
       "\twith 16808 stored elements in Compressed Sparse Row format>"
      ]
     },
     "execution_count": 68,
     "metadata": {},
     "output_type": "execute_result"
    }
   ],
   "source": [
    "test_vectors"
   ]
  },
  {
   "cell_type": "markdown",
   "metadata": {},
   "source": [
    "# Creating a Linear SVM Mode"
   ]
  },
  {
   "cell_type": "code",
   "execution_count": 69,
   "metadata": {},
   "outputs": [],
   "source": [
    "import time\n",
    "# from sklearn import svm\n",
    "from sklearn.svm import SVC \n",
    "from sklearn.metrics import classification_report\n",
    "from sklearn.pipeline import Pipeline\n",
    "from sklearn.pipeline import make_pipeline\n",
    "from sklearn import set_config"
   ]
  },
  {
   "cell_type": "code",
   "execution_count": 70,
   "metadata": {},
   "outputs": [
    {
     "data": {
      "text/html": [
       "<style>div.sk-top-container {color: black;background-color: white;}div.sk-toggleable {background-color: white;}label.sk-toggleable__label {cursor: pointer;display: block;width: 100%;margin-bottom: 0;padding: 0.2em 0.3em;box-sizing: border-box;text-align: center;}div.sk-toggleable__content {max-height: 0;max-width: 0;overflow: hidden;text-align: left;background-color: #f0f8ff;}div.sk-toggleable__content pre {margin: 0.2em;color: black;border-radius: 0.25em;background-color: #f0f8ff;}input.sk-toggleable__control:checked~div.sk-toggleable__content {max-height: 200px;max-width: 100%;overflow: auto;}div.sk-estimator input.sk-toggleable__control:checked~label.sk-toggleable__label {background-color: #d4ebff;}div.sk-label input.sk-toggleable__control:checked~label.sk-toggleable__label {background-color: #d4ebff;}input.sk-hidden--visually {border: 0;clip: rect(1px 1px 1px 1px);clip: rect(1px, 1px, 1px, 1px);height: 1px;margin: -1px;overflow: hidden;padding: 0;position: absolute;width: 1px;}div.sk-estimator {font-family: monospace;background-color: #f0f8ff;margin: 0.25em 0.25em;border: 1px dotted black;border-radius: 0.25em;box-sizing: border-box;}div.sk-estimator:hover {background-color: #d4ebff;}div.sk-parallel-item::after {content: \"\";width: 100%;border-bottom: 1px solid gray;flex-grow: 1;}div.sk-label:hover label.sk-toggleable__label {background-color: #d4ebff;}div.sk-serial::before {content: \"\";position: absolute;border-left: 1px solid gray;box-sizing: border-box;top: 2em;bottom: 0;left: 50%;}div.sk-serial {display: flex;flex-direction: column;align-items: center;background-color: white;}div.sk-item {z-index: 1;}div.sk-parallel {display: flex;align-items: stretch;justify-content: center;background-color: white;}div.sk-parallel-item {display: flex;flex-direction: column;position: relative;background-color: white;}div.sk-parallel-item:first-child::after {align-self: flex-end;width: 50%;}div.sk-parallel-item:last-child::after {align-self: flex-start;width: 50%;}div.sk-parallel-item:only-child::after {width: 0;}div.sk-dashed-wrapped {border: 1px dashed gray;margin: 0.2em;box-sizing: border-box;padding-bottom: 0.1em;background-color: white;position: relative;}div.sk-label label {font-family: monospace;font-weight: bold;background-color: white;display: inline-block;line-height: 1.2em;}div.sk-label-container {position: relative;z-index: 2;text-align: center;}div.sk-container {display: inline-block;position: relative;}</style><div class=\"sk-top-container\"><div class=\"sk-container\"><div class=\"sk-item sk-dashed-wrapped\"><div class=\"sk-label-container\"><div class=\"sk-label sk-toggleable\"><input class=\"sk-toggleable__control sk-hidden--visually\" id=\"d2f98278-7c75-44c1-9f34-a364a8414434\" type=\"checkbox\" ><label class=\"sk-toggleable__label\" for=\"d2f98278-7c75-44c1-9f34-a364a8414434\">Pipeline</label><div class=\"sk-toggleable__content\"><pre>Pipeline(steps=[('classifier', SVC(kernel='linear'))])</pre></div></div></div><div class=\"sk-serial\"><div class=\"sk-item\"><div class=\"sk-estimator sk-toggleable\"><input class=\"sk-toggleable__control sk-hidden--visually\" id=\"f19352ab-aeba-4bd0-b5d2-eedbb324eb04\" type=\"checkbox\" ><label class=\"sk-toggleable__label\" for=\"f19352ab-aeba-4bd0-b5d2-eedbb324eb04\">SVC</label><div class=\"sk-toggleable__content\"><pre>SVC(kernel='linear')</pre></div></div></div></div></div></div></div>"
      ],
      "text/plain": [
       "Pipeline(steps=[('classifier', SVC(kernel='linear'))])"
      ]
     },
     "execution_count": 70,
     "metadata": {},
     "output_type": "execute_result"
    }
   ],
   "source": [
    "# Perform classification with SVM, kernel=linear\n",
    "classifier = SVC(kernel='linear')\n",
    "t0 = time.time()\n",
    "t1 = time.time()\n",
    "t2 = time.time()\n",
    "time_linear_train = t1-t0\n",
    "time_linear_predict = t2-t1\n",
    "set_config(display=\"diagram\")\n",
    "pipe = Pipeline([('classifier', classifier)])\n",
    "pipe"
   ]
  },
  {
   "cell_type": "code",
   "execution_count": 71,
   "metadata": {},
   "outputs": [
    {
     "data": {
      "text/html": [
       "<style>div.sk-top-container {color: black;background-color: white;}div.sk-toggleable {background-color: white;}label.sk-toggleable__label {cursor: pointer;display: block;width: 100%;margin-bottom: 0;padding: 0.2em 0.3em;box-sizing: border-box;text-align: center;}div.sk-toggleable__content {max-height: 0;max-width: 0;overflow: hidden;text-align: left;background-color: #f0f8ff;}div.sk-toggleable__content pre {margin: 0.2em;color: black;border-radius: 0.25em;background-color: #f0f8ff;}input.sk-toggleable__control:checked~div.sk-toggleable__content {max-height: 200px;max-width: 100%;overflow: auto;}div.sk-estimator input.sk-toggleable__control:checked~label.sk-toggleable__label {background-color: #d4ebff;}div.sk-label input.sk-toggleable__control:checked~label.sk-toggleable__label {background-color: #d4ebff;}input.sk-hidden--visually {border: 0;clip: rect(1px 1px 1px 1px);clip: rect(1px, 1px, 1px, 1px);height: 1px;margin: -1px;overflow: hidden;padding: 0;position: absolute;width: 1px;}div.sk-estimator {font-family: monospace;background-color: #f0f8ff;margin: 0.25em 0.25em;border: 1px dotted black;border-radius: 0.25em;box-sizing: border-box;}div.sk-estimator:hover {background-color: #d4ebff;}div.sk-parallel-item::after {content: \"\";width: 100%;border-bottom: 1px solid gray;flex-grow: 1;}div.sk-label:hover label.sk-toggleable__label {background-color: #d4ebff;}div.sk-serial::before {content: \"\";position: absolute;border-left: 1px solid gray;box-sizing: border-box;top: 2em;bottom: 0;left: 50%;}div.sk-serial {display: flex;flex-direction: column;align-items: center;background-color: white;}div.sk-item {z-index: 1;}div.sk-parallel {display: flex;align-items: stretch;justify-content: center;background-color: white;}div.sk-parallel-item {display: flex;flex-direction: column;position: relative;background-color: white;}div.sk-parallel-item:first-child::after {align-self: flex-end;width: 50%;}div.sk-parallel-item:last-child::after {align-self: flex-start;width: 50%;}div.sk-parallel-item:only-child::after {width: 0;}div.sk-dashed-wrapped {border: 1px dashed gray;margin: 0.2em;box-sizing: border-box;padding-bottom: 0.1em;background-color: white;position: relative;}div.sk-label label {font-family: monospace;font-weight: bold;background-color: white;display: inline-block;line-height: 1.2em;}div.sk-label-container {position: relative;z-index: 2;text-align: center;}div.sk-container {display: inline-block;position: relative;}</style><div class=\"sk-top-container\"><div class=\"sk-container\"><div class=\"sk-item sk-dashed-wrapped\"><div class=\"sk-label-container\"><div class=\"sk-label sk-toggleable\"><input class=\"sk-toggleable__control sk-hidden--visually\" id=\"05a3b098-e346-4ebe-8096-1cca28fbdb0e\" type=\"checkbox\" ><label class=\"sk-toggleable__label\" for=\"05a3b098-e346-4ebe-8096-1cca28fbdb0e\">Pipeline</label><div class=\"sk-toggleable__content\"><pre>Pipeline(steps=[('classifier', SVC(kernel='linear'))])</pre></div></div></div><div class=\"sk-serial\"><div class=\"sk-item\"><div class=\"sk-estimator sk-toggleable\"><input class=\"sk-toggleable__control sk-hidden--visually\" id=\"6030aef9-9834-42ad-8b94-2e93e51138f6\" type=\"checkbox\" ><label class=\"sk-toggleable__label\" for=\"6030aef9-9834-42ad-8b94-2e93e51138f6\">SVC</label><div class=\"sk-toggleable__content\"><pre>SVC(kernel='linear')</pre></div></div></div></div></div></div></div>"
      ],
      "text/plain": [
       "Pipeline(steps=[('classifier', SVC(kernel='linear'))])"
      ]
     },
     "execution_count": 71,
     "metadata": {},
     "output_type": "execute_result"
    }
   ],
   "source": [
    "# classifier.fit(train_vectors, trainData['label'])\n",
    "pipe.fit(train_vectors, trainData['label'])"
   ]
  },
  {
   "cell_type": "code",
   "execution_count": 72,
   "metadata": {},
   "outputs": [],
   "source": [
    "predicted=pipe.predict(test_vectors)"
   ]
  },
  {
   "cell_type": "code",
   "execution_count": 73,
   "metadata": {},
   "outputs": [],
   "source": [
    "svm_acc_train=pipe.score(train_vectors, trainData['label'])\n",
    "svm_acc_test=pipe.score(test_vectors, testData['label'])"
   ]
  },
  {
   "cell_type": "code",
   "execution_count": 77,
   "metadata": {},
   "outputs": [
    {
     "name": "stdout",
     "output_type": "stream",
     "text": [
      "Training time: 0.000031s; Prediction time: 0.000026s\n",
      "Train Accuracy = 0.8754222972972973\n",
      "Test Accuracy = 0.6610837438423646\n",
      "positive:  {'precision': 0.7033824804856895, 'recall': 0.8343621399176955, 'f1-score': 0.7632941176470588, 'support': 972}\n",
      "negative:  {'precision': 0.6541019955654102, 'recall': 0.5221238938053098, 'f1-score': 0.5807086614173229, 'support': 565}\n"
     ]
    }
   ],
   "source": [
    "# results\n",
    "print(\"Training time: %fs; Prediction time: %fs\" % (time_linear_train, time_linear_predict))\n",
    "report = classification_report(testData['label'], predicted, output_dict=True)\n",
    "print(f\"Train Accuracy = {svm_acc_train}\")\n",
    "print(f\"Test Accuracy = {svm_acc_test}\")\n",
    "print('positive: ', report['Positive'])\n",
    "print('negative: ', report['Negative'])"
   ]
  },
  {
   "cell_type": "code",
   "execution_count": 75,
   "metadata": {},
   "outputs": [
    {
     "name": "stdout",
     "output_type": "stream",
     "text": [
      "              precision    recall  f1-score   support\n",
      "\n",
      "    Negative       0.52      0.65      0.58       451\n",
      "     Neutral       0.48      0.55      0.51       426\n",
      "    Positive       0.83      0.70      0.76      1153\n",
      "\n",
      "    accuracy                           0.66      2030\n",
      "   macro avg       0.61      0.64      0.62      2030\n",
      "weighted avg       0.69      0.66      0.67      2030\n",
      "\n"
     ]
    }
   ],
   "source": [
    "from sklearn.metrics import classification_report\n",
    "print(classification_report(pipe.predict(test_vectors),testData['label']))"
   ]
  },
  {
   "cell_type": "markdown",
   "metadata": {},
   "source": [
    "# Save the Model"
   ]
  },
  {
   "cell_type": "code",
   "execution_count": null,
   "metadata": {},
   "outputs": [],
   "source": [
    "import pickle\n",
    "# pickling the vectorizer\n",
    "pickle.dump(vectorizer, open('vectorizer.sav', 'wb'))\n",
    "# pickling the model\n",
    "pickle.dump(classifier_linear, open('classifier.sav', 'wb'))"
   ]
  },
  {
   "cell_type": "markdown",
   "metadata": {},
   "source": [
    "# Test the SVM classifier"
   ]
  },
  {
   "cell_type": "code",
   "execution_count": null,
   "metadata": {},
   "outputs": [],
   "source": [
    "review = \"\"\"SUPERB, I AM IN LOVE IN THIS PHONE\"\"\"\n",
    "review_vector = vectorizer.transform([review]) # vectorizing\n",
    "print(classifier_linear.predict(review_vector))"
   ]
  },
  {
   "cell_type": "code",
   "execution_count": null,
   "metadata": {},
   "outputs": [],
   "source": []
  },
  {
   "cell_type": "code",
   "execution_count": 78,
   "metadata": {},
   "outputs": [],
   "source": [
    "# f = open('Resources/BusinessTrainData_1.csv', 'r', encoding='utf8')\n",
    "# text = f.read()\n",
    "# t_list = text.split('\\n')\n",
    "\n",
    "# corpus = []\n",
    "\n",
    "# for sentence in t_list:\n",
    "#     corpus.append(sentence.split())\n"
   ]
  },
  {
   "cell_type": "code",
   "execution_count": 79,
   "metadata": {
    "scrolled": false
   },
   "outputs": [],
   "source": [
    "# print(corpus[:10])"
   ]
  },
  {
   "cell_type": "code",
   "execution_count": 80,
   "metadata": {},
   "outputs": [],
   "source": [
    "# vector = Word2Vec(corpus, size=100, min_count=1,sg=1)"
   ]
  },
  {
   "cell_type": "code",
   "execution_count": 81,
   "metadata": {},
   "outputs": [],
   "source": [
    "# vector.wv['app', 'council']"
   ]
  },
  {
   "cell_type": "code",
   "execution_count": 82,
   "metadata": {},
   "outputs": [],
   "source": [
    "# vector.wv.most_similar('council')"
   ]
  },
  {
   "cell_type": "code",
   "execution_count": 83,
   "metadata": {},
   "outputs": [],
   "source": [
    "# vector.wv.most_similar('app')"
   ]
  },
  {
   "cell_type": "code",
   "execution_count": 84,
   "metadata": {},
   "outputs": [],
   "source": [
    "# vector.save('word2vec.vector')"
   ]
  },
  {
   "cell_type": "code",
   "execution_count": 85,
   "metadata": {},
   "outputs": [],
   "source": [
    "# vector = Word2Vec.load('word2vec.vector')"
   ]
  },
  {
   "cell_type": "code",
   "execution_count": 86,
   "metadata": {},
   "outputs": [],
   "source": [
    "# def closestwords_tsneplot(model, word):\n",
    "#     word_vectors = np.empty((0,100))\n",
    "#     word_labels = [word]\n",
    "    \n",
    "#     close_words = model.wv.most_similar(word)\n",
    "    \n",
    "#     word_vectors = np.append(word_vectors, np.array([model.wv[word]]), axis=0)\n",
    "    \n",
    "#     for w, _ in close_words:\n",
    "#         word_labels.append(w)\n",
    "#         word_vectors = np.append(word_vectors, np.array([model.wv[w]]), axis=0)\n",
    "        \n",
    "#     tsne = TSNE(random_state=0)\n",
    "#     Y = tsne.fit_transform(word_vectors)\n",
    "    \n",
    "#     x_coords = Y[:, 0]\n",
    "#     y_coords = Y[:, 1]\n",
    "    \n",
    "#     plt.scatter(x_coords, y_coords)\n",
    "    \n",
    "#     for label, x, y in zip(word_labels, x_coords, y_coords):\n",
    "#         plt.annotate(label, xy=(x, y), xytext=(5, -2), textcoords='offset points')\n",
    "        \n",
    "#     plt.show()"
   ]
  },
  {
   "cell_type": "code",
   "execution_count": 87,
   "metadata": {},
   "outputs": [],
   "source": [
    "# closestwords_tsneplot(model, 'council')"
   ]
  },
  {
   "cell_type": "code",
   "execution_count": 88,
   "metadata": {},
   "outputs": [],
   "source": [
    "# closestwords_tsneplot(model, 'firearms')"
   ]
  },
  {
   "cell_type": "code",
   "execution_count": 89,
   "metadata": {},
   "outputs": [],
   "source": [
    "# closestwords_tsneplot(model, 'Bezos')"
   ]
  },
  {
   "cell_type": "code",
   "execution_count": 90,
   "metadata": {},
   "outputs": [],
   "source": [
    "# closestwords_tsneplot(model, 'scandal')"
   ]
  },
  {
   "cell_type": "code",
   "execution_count": null,
   "metadata": {},
   "outputs": [],
   "source": []
  }
 ],
 "metadata": {
  "kernelspec": {
   "display_name": "Python 3",
   "language": "python",
   "name": "python3"
  },
  "language_info": {
   "codemirror_mode": {
    "name": "ipython",
    "version": 3
   },
   "file_extension": ".py",
   "mimetype": "text/x-python",
   "name": "python",
   "nbconvert_exporter": "python",
   "pygments_lexer": "ipython3",
   "version": "3.7.7"
  }
 },
 "nbformat": 4,
 "nbformat_minor": 4
}
