{
 "cells": [
  {
   "cell_type": "code",
   "execution_count": 69,
   "metadata": {
    "ExecuteTime": {
     "end_time": "2020-07-11T03:35:59.325215Z",
     "start_time": "2020-07-11T03:35:58.838216Z"
    }
   },
   "outputs": [
    {
     "name": "stderr",
     "output_type": "stream",
     "text": [
      "/Users/zennureozbekacar/opt/anaconda3/lib/python3.7/site-packages/ipykernel_launcher.py:7: FutureWarning: Passing a negative integer is deprecated in version 1.0 and will not be supported in future version. Instead, use None to not limit the column width.\n",
      "  import sys\n"
     ]
    }
   ],
   "source": [
    "import numpy as np # \n",
    "import pandas as pd # \n",
    "\n",
    "pd.set_option('display.max_rows', None)\n",
    "pd.set_option('display.max_columns', None)\n",
    "pd.set_option('display.width', None)\n",
    "pd.set_option('display.max_colwidth', -1)"
   ]
  },
  {
   "cell_type": "code",
   "execution_count": 70,
   "metadata": {
    "ExecuteTime": {
     "end_time": "2020-07-11T03:36:01.443217Z",
     "start_time": "2020-07-11T03:35:59.327216Z"
    },
    "scrolled": true
   },
   "outputs": [
    {
     "data": {
      "text/html": [
       "<div>\n",
       "<style scoped>\n",
       "    .dataframe tbody tr th:only-of-type {\n",
       "        vertical-align: middle;\n",
       "    }\n",
       "\n",
       "    .dataframe tbody tr th {\n",
       "        vertical-align: top;\n",
       "    }\n",
       "\n",
       "    .dataframe thead th {\n",
       "        text-align: right;\n",
       "    }\n",
       "</style>\n",
       "<table border=\"1\" class=\"dataframe\">\n",
       "  <thead>\n",
       "    <tr style=\"text-align: right;\">\n",
       "      <th></th>\n",
       "      <th>category</th>\n",
       "      <th>headline</th>\n",
       "      <th>authors</th>\n",
       "      <th>link</th>\n",
       "      <th>short_description</th>\n",
       "      <th>date</th>\n",
       "    </tr>\n",
       "  </thead>\n",
       "  <tbody>\n",
       "    <tr>\n",
       "      <th>0</th>\n",
       "      <td>CRIME</td>\n",
       "      <td>There Were 2 Mass Shootings In Texas Last Week, But Only 1 On TV</td>\n",
       "      <td>Melissa Jeltsen</td>\n",
       "      <td>https://www.huffingtonpost.com/entry/texas-amanda-painter-mass-shooting_us_5b081ab4e4b0802d69caad89</td>\n",
       "      <td>She left her husband. He killed their children. Just another day in America.</td>\n",
       "      <td>2018-05-26</td>\n",
       "    </tr>\n",
       "    <tr>\n",
       "      <th>1</th>\n",
       "      <td>ENTERTAINMENT</td>\n",
       "      <td>Will Smith Joins Diplo And Nicky Jam For The 2018 World Cup's Official Song</td>\n",
       "      <td>Andy McDonald</td>\n",
       "      <td>https://www.huffingtonpost.com/entry/will-smith-joins-diplo-and-nicky-jam-for-the-official-2018-world-cup-song_us_5b09726fe4b0fdb2aa541201</td>\n",
       "      <td>Of course it has a song.</td>\n",
       "      <td>2018-05-26</td>\n",
       "    </tr>\n",
       "    <tr>\n",
       "      <th>2</th>\n",
       "      <td>ENTERTAINMENT</td>\n",
       "      <td>Hugh Grant Marries For The First Time At Age 57</td>\n",
       "      <td>Ron Dicker</td>\n",
       "      <td>https://www.huffingtonpost.com/entry/hugh-grant-marries_us_5b09212ce4b0568a880b9a8c</td>\n",
       "      <td>The actor and his longtime girlfriend Anna Eberstein tied the knot in a civil ceremony.</td>\n",
       "      <td>2018-05-26</td>\n",
       "    </tr>\n",
       "    <tr>\n",
       "      <th>3</th>\n",
       "      <td>ENTERTAINMENT</td>\n",
       "      <td>Jim Carrey Blasts 'Castrato' Adam Schiff And Democrats In New Artwork</td>\n",
       "      <td>Ron Dicker</td>\n",
       "      <td>https://www.huffingtonpost.com/entry/jim-carrey-adam-schiff-democrats_us_5b0950e8e4b0fdb2aa53e675</td>\n",
       "      <td>The actor gives Dems an ass-kicking for not fighting hard enough against Donald Trump.</td>\n",
       "      <td>2018-05-26</td>\n",
       "    </tr>\n",
       "    <tr>\n",
       "      <th>4</th>\n",
       "      <td>ENTERTAINMENT</td>\n",
       "      <td>Julianna Margulies Uses Donald Trump Poop Bags To Pick Up After Her Dog</td>\n",
       "      <td>Ron Dicker</td>\n",
       "      <td>https://www.huffingtonpost.com/entry/julianna-margulies-trump-poop-bag_us_5b093ec2e4b0fdb2aa53df70</td>\n",
       "      <td>The \"Dietland\" actress said using the bags is a \"really cathartic, therapeutic moment.\"</td>\n",
       "      <td>2018-05-26</td>\n",
       "    </tr>\n",
       "  </tbody>\n",
       "</table>\n",
       "</div>"
      ],
      "text/plain": [
       "        category  \\\n",
       "0  CRIME           \n",
       "1  ENTERTAINMENT   \n",
       "2  ENTERTAINMENT   \n",
       "3  ENTERTAINMENT   \n",
       "4  ENTERTAINMENT   \n",
       "\n",
       "                                                                      headline  \\\n",
       "0  There Were 2 Mass Shootings In Texas Last Week, But Only 1 On TV              \n",
       "1  Will Smith Joins Diplo And Nicky Jam For The 2018 World Cup's Official Song   \n",
       "2  Hugh Grant Marries For The First Time At Age 57                               \n",
       "3  Jim Carrey Blasts 'Castrato' Adam Schiff And Democrats In New Artwork         \n",
       "4  Julianna Margulies Uses Donald Trump Poop Bags To Pick Up After Her Dog       \n",
       "\n",
       "           authors  \\\n",
       "0  Melissa Jeltsen   \n",
       "1  Andy McDonald     \n",
       "2  Ron Dicker        \n",
       "3  Ron Dicker        \n",
       "4  Ron Dicker        \n",
       "\n",
       "                                                                                                                                         link  \\\n",
       "0  https://www.huffingtonpost.com/entry/texas-amanda-painter-mass-shooting_us_5b081ab4e4b0802d69caad89                                          \n",
       "1  https://www.huffingtonpost.com/entry/will-smith-joins-diplo-and-nicky-jam-for-the-official-2018-world-cup-song_us_5b09726fe4b0fdb2aa541201   \n",
       "2  https://www.huffingtonpost.com/entry/hugh-grant-marries_us_5b09212ce4b0568a880b9a8c                                                          \n",
       "3  https://www.huffingtonpost.com/entry/jim-carrey-adam-schiff-democrats_us_5b0950e8e4b0fdb2aa53e675                                            \n",
       "4  https://www.huffingtonpost.com/entry/julianna-margulies-trump-poop-bag_us_5b093ec2e4b0fdb2aa53df70                                           \n",
       "\n",
       "                                                                         short_description  \\\n",
       "0  She left her husband. He killed their children. Just another day in America.              \n",
       "1  Of course it has a song.                                                                  \n",
       "2  The actor and his longtime girlfriend Anna Eberstein tied the knot in a civil ceremony.   \n",
       "3  The actor gives Dems an ass-kicking for not fighting hard enough against Donald Trump.    \n",
       "4  The \"Dietland\" actress said using the bags is a \"really cathartic, therapeutic moment.\"   \n",
       "\n",
       "        date  \n",
       "0 2018-05-26  \n",
       "1 2018-05-26  \n",
       "2 2018-05-26  \n",
       "3 2018-05-26  \n",
       "4 2018-05-26  "
      ]
     },
     "execution_count": 70,
     "metadata": {},
     "output_type": "execute_result"
    }
   ],
   "source": [
    "# load data\n",
    "\n",
    "df = pd.read_json('resources/News_Category_Dataset_v2.json', lines=True)\n",
    "df.head()\n",
    "# df = pd.read_json('daily_news_data/JSON/top_headline_business_data.json', lines=True)\n",
    "# df.head()"
   ]
  },
  {
   "cell_type": "code",
   "execution_count": 71,
   "metadata": {
    "ExecuteTime": {
     "end_time": "2020-07-11T03:36:01.522222Z",
     "start_time": "2020-07-11T03:36:01.446218Z"
    }
   },
   "outputs": [
    {
     "data": {
      "text/plain": [
       "POLITICS          32739\n",
       "WELLNESS          17827\n",
       "ENTERTAINMENT     16058\n",
       "TRAVEL            9887 \n",
       "STYLE & BEAUTY    9649 \n",
       "PARENTING         8677 \n",
       "HEALTHY LIVING    6694 \n",
       "QUEER VOICES      6314 \n",
       "FOOD & DRINK      6226 \n",
       "BUSINESS          5937 \n",
       "COMEDY            5175 \n",
       "SPORTS            4884 \n",
       "BLACK VOICES      4528 \n",
       "HOME & LIVING     4195 \n",
       "PARENTS           3955 \n",
       "THE WORLDPOST     3664 \n",
       "WEDDINGS          3651 \n",
       "WOMEN             3490 \n",
       "IMPACT            3459 \n",
       "DIVORCE           3426 \n",
       "CRIME             3405 \n",
       "MEDIA             2815 \n",
       "WEIRD NEWS        2670 \n",
       "GREEN             2622 \n",
       "WORLDPOST         2579 \n",
       "RELIGION          2556 \n",
       "STYLE             2254 \n",
       "SCIENCE           2178 \n",
       "WORLD NEWS        2177 \n",
       "TASTE             2096 \n",
       "TECH              2082 \n",
       "MONEY             1707 \n",
       "ARTS              1509 \n",
       "FIFTY             1401 \n",
       "GOOD NEWS         1398 \n",
       "ARTS & CULTURE    1339 \n",
       "ENVIRONMENT       1323 \n",
       "COLLEGE           1144 \n",
       "LATINO VOICES     1129 \n",
       "CULTURE & ARTS    1030 \n",
       "EDUCATION         1004 \n",
       "Name: category, dtype: int64"
      ]
     },
     "execution_count": 71,
     "metadata": {},
     "output_type": "execute_result"
    }
   ],
   "source": [
    "df['category'].value_counts()"
   ]
  },
  {
   "cell_type": "markdown",
   "metadata": {},
   "source": [
    "News API categories\n",
    "* business\n",
    "* entertainment\n",
    "* general\n",
    "* health\n",
    "* science\n",
    "* sports\n",
    "* technology"
   ]
  },
  {
   "cell_type": "code",
   "execution_count": 72,
   "metadata": {
    "ExecuteTime": {
     "end_time": "2020-07-11T03:36:01.538217Z",
     "start_time": "2020-07-11T03:36:01.525219Z"
    }
   },
   "outputs": [],
   "source": [
    "business =['BUSINESS','MONEY']\n",
    "entertainment=['ENTERTAINMENT','ARTS','COMEDY','ARTS & CULTURE','CULTURE & ARTS','MEDIA']\n",
    "health=['HEALTH','WELLNESS','HEALTHY LIVING']\n",
    "science=['SCIENCE']\n",
    "sports=['SPORTS']\n",
    "technology = ['tech']"
   ]
  },
  {
   "cell_type": "code",
   "execution_count": 73,
   "metadata": {
    "ExecuteTime": {
     "end_time": "2020-07-11T03:36:01.599727Z",
     "start_time": "2020-07-11T03:36:01.540219Z"
    }
   },
   "outputs": [
    {
     "data": {
      "text/plain": [
       "(7644, 6)"
      ]
     },
     "execution_count": 73,
     "metadata": {},
     "output_type": "execute_result"
    }
   ],
   "source": [
    "condition = df['category'].isin(business)\n",
    "businessDF = df[condition]\n",
    "businessDF.shape"
   ]
  },
  {
   "cell_type": "code",
   "execution_count": 142,
   "metadata": {},
   "outputs": [],
   "source": [
    "businessDF[\"short_description\"][:50].to_csv(\"Resources/businessTrain_1.csv\")\n",
    "businessDF[\"short_description\"][:100].to_csv(\"Resources/businessTest_1.csv\")"
   ]
  },
  {
   "cell_type": "code",
   "execution_count": 18,
   "metadata": {},
   "outputs": [],
   "source": [
    "import numpy as np\n",
    "from gensim.models import Word2Vec\n",
    "from sklearn.manifold import TSNE\n",
    "import matplotlib.pyplot as plt"
   ]
  },
  {
   "cell_type": "code",
   "execution_count": 83,
   "metadata": {},
   "outputs": [],
   "source": [
    "f = open('Resources/businessTrain_1.csv', 'r', encoding='utf8')\n",
    "text = f.read()\n",
    "t_list = text.split('\\n')\n",
    "\n",
    "corpus = []\n",
    "\n",
    "for sentence in t_list:\n",
    "    corpus.append(sentence.split())"
   ]
  },
  {
   "cell_type": "code",
   "execution_count": 88,
   "metadata": {
    "scrolled": false
   },
   "outputs": [
    {
     "name": "stdout",
     "output_type": "stream",
     "text": [
      "[[',short_description'], ['87,The', 'investigation', 'could', 'lead', 'to', 'new', 'U.S.', 'tariffs', 'similar', 'to', 'those', 'imposed', 'on', 'imported', 'steel', 'and', 'aluminum', 'in', 'March.'], ['337,The', 'new', 'policy', 'was', 'unveiled', 'weeks', 'after', 'the', 'controversial', 'arrest', 'of', 'two', 'black', 'men', 'at', 'a', 'Philadelphia', 'Starbucks.'], ['603,\"Following', 'the', 'council', 'vote,', 'Amazon’s', 'vice', 'president,', 'Drew', 'Herdener,', 'said', 'the', 'company', 'has', 'resumed', 'construction', 'planning', 'for', 'its', 'so-called', 'Block', '18', 'project', 'in', 'downtown', 'Seattle.\"'], ['604,Victims', 'will', 'be', 'free', 'to', 'go', 'to', 'court', '--', 'but', 'a', 'few', 'caveats', 'remain.'], ['669,The', 'breach', 'is', 'believed', 'to', 'have', 'occurred', 'between', 'March', 'and', 'April.'], ['711,\"Just', 'by', 'using', 'the', 'app,', 'you', 'click', 'away', 'your', 'rights.', 'Now', 'some', 'victims', 'are', 'fighting', 'for', 'change.\"'], ['715,\"The', 'city', 'wants', 'to', 'tax', 'large', 'corporations', 'to', 'pay', 'for', 'homeless', 'housing,', 'but', 'Jeff', 'Bezos', \"isn't\", 'pleased.\"'], ['976,The', 'bank', 'pledged', 'in', 'April', 'to', 'stop', 'financing', 'companies', 'that', 'sell', 'military-style', 'firearms', 'to', 'civilians.', 'Remington', 'made', 'the', 'Bushmaster', 'rifle', 'used', 'in', 'the', 'Sandy', 'Hook', 'school', 'massacre.'], ['1217,Martin', 'Winterkorn', 'resigned', 'soon', 'after', 'the', 'scandal', 'became', 'public', 'in', '2015.']]\n"
     ]
    }
   ],
   "source": [
    "print(corpus[:10])"
   ]
  },
  {
   "cell_type": "markdown",
   "metadata": {},
   "source": [
    "Word2Vec' object has no attribute 'polarity_scores"
   ]
  },
  {
   "cell_type": "code",
   "execution_count": 133,
   "metadata": {},
   "outputs": [],
   "source": [
    "model = Word2Vec(corpus, size=100, min_count=1,sg=1)"
   ]
  },
  {
   "cell_type": "code",
   "execution_count": 134,
   "metadata": {},
   "outputs": [
    {
     "data": {
      "text/plain": [
       "array([[ 4.9366970e-03,  2.5854008e-03,  4.3603820e-03, -5.1422101e-03,\n",
       "         4.9572634e-03, -4.8993649e-03, -3.7491985e-03,  3.6157350e-04,\n",
       "        -4.4247545e-03, -1.9946604e-04, -4.2537255e-03, -1.2257796e-03,\n",
       "        -3.0404038e-03, -2.5055907e-04,  5.1430054e-04, -4.0960461e-03,\n",
       "        -2.1266169e-03,  4.2998740e-03,  1.5072712e-03,  4.3834005e-03,\n",
       "         2.2442569e-03, -7.8261318e-04,  5.0035962e-03,  3.4968311e-03,\n",
       "         4.0908796e-03, -2.8890909e-03, -2.7996311e-03, -1.3627452e-04,\n",
       "         4.0728929e-03, -4.0576034e-03,  1.0921330e-03,  3.1198056e-03,\n",
       "         3.8421983e-03,  1.9056558e-03,  1.9603907e-03, -4.3310253e-03,\n",
       "         1.8535616e-03, -4.8735146e-03,  4.0289527e-03, -2.8158864e-03,\n",
       "        -1.0839475e-03,  1.2271045e-03,  4.2951996e-03, -3.7024822e-03,\n",
       "         3.3342044e-03,  3.1781965e-03,  5.0208513e-03,  4.6067224e-03,\n",
       "        -1.4899471e-03, -5.3153322e-03, -2.8394090e-03, -2.9706107e-03,\n",
       "         4.7333725e-03,  4.1687177e-03, -4.9476200e-03,  3.2456496e-04,\n",
       "         2.2887918e-03, -2.6600792e-03, -4.8138972e-04, -4.8337686e-03,\n",
       "         4.4939690e-03,  8.3615573e-04, -2.7902916e-04, -1.8247142e-03,\n",
       "         2.1170501e-03,  4.2401431e-03,  4.6973084e-03,  1.4407575e-03,\n",
       "         4.3939417e-03, -4.6404260e-03,  8.1270060e-04, -4.7735395e-03,\n",
       "         3.8073638e-03, -4.0523428e-03, -2.7002166e-03, -2.3178551e-04,\n",
       "        -2.5258311e-03,  3.0604762e-03,  4.7136140e-03, -1.2199860e-04,\n",
       "        -2.3820512e-03,  3.6328798e-03,  2.3654758e-03,  4.1632459e-04,\n",
       "         1.2944362e-03,  4.0657339e-03, -3.3842125e-03,  9.1593555e-04,\n",
       "        -3.5513025e-03,  1.7513118e-03, -1.8200848e-03,  3.3143556e-03,\n",
       "         1.0270865e-03, -2.8229938e-03,  3.6114007e-03, -1.9560214e-03,\n",
       "        -3.0532309e-03,  1.8153868e-03,  3.5623361e-03,  4.1661519e-03],\n",
       "       [-3.9132317e-03,  3.3777819e-03, -1.2936093e-03,  4.5498013e-03,\n",
       "        -4.9555069e-03, -4.8370641e-03, -2.2070524e-03, -2.0414931e-03,\n",
       "        -4.0255583e-04,  3.2752135e-03, -8.0442621e-04,  4.0461021e-03,\n",
       "         5.8249640e-04,  3.5675452e-03, -4.7447053e-03, -2.4079105e-03,\n",
       "        -1.4608724e-03, -2.2421898e-03,  4.5765461e-03, -4.5265947e-03,\n",
       "        -1.8975899e-03, -6.5801374e-04,  4.0610349e-03, -3.7856484e-03,\n",
       "         1.6124877e-03, -1.5826608e-03,  4.1130958e-03,  6.5572001e-04,\n",
       "         1.9678520e-03, -1.4372531e-03,  4.1321293e-03,  4.3936055e-03,\n",
       "         2.8905211e-05, -2.7705883e-03,  1.5322971e-03,  1.9905327e-03,\n",
       "        -9.2929578e-04,  3.7699712e-03,  6.7345239e-04, -4.5815818e-03,\n",
       "         1.9482520e-04, -5.3510175e-04, -2.6208065e-03,  4.1673221e-03,\n",
       "        -3.3378738e-03,  1.6496759e-03,  4.6730209e-03, -2.0630837e-03,\n",
       "         4.4109649e-03, -8.3599146e-04,  1.6756501e-03,  3.2157726e-03,\n",
       "        -4.0346505e-03,  1.6089331e-03,  7.0516107e-04, -3.5723734e-03,\n",
       "         4.2935223e-03,  1.9040918e-03,  1.0488137e-03, -2.7745196e-03,\n",
       "         4.2547323e-03,  1.4379834e-03,  2.6617881e-03,  1.4898842e-03,\n",
       "        -2.8035783e-03, -3.2537587e-03,  1.3580709e-03, -2.8947499e-03,\n",
       "        -5.7379372e-04, -6.7187374e-04, -2.6012023e-03, -2.3216268e-03,\n",
       "        -3.2597077e-03, -1.8986444e-03, -4.1780123e-03, -2.9275330e-05,\n",
       "         3.1623882e-03,  2.3694606e-03,  1.3087109e-03, -1.1149123e-03,\n",
       "         2.2045947e-03, -1.1439263e-04, -4.3262304e-03,  1.1905900e-03,\n",
       "         4.1080083e-04, -3.5759227e-04,  1.9771485e-03, -1.2973384e-03,\n",
       "        -4.1266605e-03,  2.6708783e-03, -3.1151313e-03, -2.7502333e-03,\n",
       "         6.2400562e-04,  1.9682297e-03,  1.4264261e-03, -1.3126218e-04,\n",
       "        -2.4757853e-03,  1.3566962e-06,  3.9617970e-04, -2.8570491e-04]],\n",
       "      dtype=float32)"
      ]
     },
     "execution_count": 134,
     "metadata": {},
     "output_type": "execute_result"
    }
   ],
   "source": [
    "model.wv['app', 'council']"
   ]
  },
  {
   "cell_type": "code",
   "execution_count": 117,
   "metadata": {},
   "outputs": [
    {
     "data": {
      "text/plain": [
       "[('Arizona', 0.34767913818359375),\n",
       " ('approved', 0.2751935124397278),\n",
       " ('members', 0.26255109906196594),\n",
       " ('said.\"', 0.25308239459991455),\n",
       " ('David', 0.24499894678592682),\n",
       " ('regulators', 0.2425909787416458),\n",
       " ('over', 0.23303508758544922),\n",
       " ('address', 0.22262318432331085),\n",
       " ('worked', 0.2199457734823227),\n",
       " ('4514,The', 0.21717362105846405)]"
      ]
     },
     "execution_count": 117,
     "metadata": {},
     "output_type": "execute_result"
    }
   ],
   "source": [
    "model.wv.most_similar('council')"
   ]
  },
  {
   "cell_type": "code",
   "execution_count": 146,
   "metadata": {},
   "outputs": [
    {
     "data": {
      "text/plain": [
       "[('say', 0.278034508228302),\n",
       " ('grill', 0.25832563638687134),\n",
       " ('agreements.', 0.25241920351982117),\n",
       " ('defrauding', 0.2477051466703415),\n",
       " ('1295,Verizon', 0.22938579320907593),\n",
       " ('2147,\"Two', 0.2204972505569458),\n",
       " ('pay', 0.215559720993042),\n",
       " ('also', 0.20491160452365875),\n",
       " ('ago,', 0.20399942994117737),\n",
       " ('Hook', 0.2034602165222168)]"
      ]
     },
     "execution_count": 146,
     "metadata": {},
     "output_type": "execute_result"
    }
   ],
   "source": [
    "model.wv.most_similar('app')"
   ]
  },
  {
   "cell_type": "code",
   "execution_count": 118,
   "metadata": {},
   "outputs": [],
   "source": [
    "model.save('word2vec.model')"
   ]
  },
  {
   "cell_type": "code",
   "execution_count": 119,
   "metadata": {},
   "outputs": [],
   "source": [
    "model = Word2Vec.load('word2vec.model')"
   ]
  },
  {
   "cell_type": "code",
   "execution_count": 120,
   "metadata": {},
   "outputs": [],
   "source": [
    "def closestwords_tsneplot(model, word):\n",
    "    word_vectors = np.empty((0,100))\n",
    "    word_labels = [word]\n",
    "    \n",
    "    close_words = model.wv.most_similar(word)\n",
    "    \n",
    "    word_vectors = np.append(word_vectors, np.array([model.wv[word]]), axis=0)\n",
    "    \n",
    "    for w, _ in close_words:\n",
    "        word_labels.append(w)\n",
    "        word_vectors = np.append(word_vectors, np.array([model.wv[w]]), axis=0)\n",
    "        \n",
    "    tsne = TSNE(random_state=0)\n",
    "    Y = tsne.fit_transform(word_vectors)\n",
    "    \n",
    "    x_coords = Y[:, 0]\n",
    "    y_coords = Y[:, 1]\n",
    "    \n",
    "    plt.scatter(x_coords, y_coords)\n",
    "    \n",
    "    for label, x, y in zip(word_labels, x_coords, y_coords):\n",
    "        plt.annotate(label, xy=(x, y), xytext=(5, -2), textcoords='offset points')\n",
    "        \n",
    "    plt.show()"
   ]
  },
  {
   "cell_type": "code",
   "execution_count": 122,
   "metadata": {},
   "outputs": [
    {
     "data": {
      "image/png": "[encoded data removed]",
      "text/plain": [
       "<Figure size 432x288 with 1 Axes>"
      ]
     },
     "metadata": {
      "needs_background": "light"
     },
     "output_type": "display_data"
    }
   ],
   "source": [
    "closestwords_tsneplot(model, 'council')"
   ]
  },
  {
   "cell_type": "code",
   "execution_count": 128,
   "metadata": {},
   "outputs": [
    {
     "data": {
      "image/png": "[encoded data removed]",
      "text/plain": [
       "<Figure size 432x288 with 1 Axes>"
      ]
     },
     "metadata": {
      "needs_background": "light"
     },
     "output_type": "display_data"
    }
   ],
   "source": [
    "closestwords_tsneplot(model, 'firearms')"
   ]
  },
  {
   "cell_type": "code",
   "execution_count": 136,
   "metadata": {},
   "outputs": [
    {
     "data": {
      "image/png": "[encoded data removed]",
      "text/plain": [
       "<Figure size 432x288 with 1 Axes>"
      ]
     },
     "metadata": {
      "needs_background": "light"
     },
     "output_type": "display_data"
    }
   ],
   "source": [
    "closestwords_tsneplot(model, 'Bezos')"
   ]
  },
  {
   "cell_type": "code",
   "execution_count": 138,
   "metadata": {},
   "outputs": [
    {
     "data": {
      "image/png": "[encoded data removed]",
      "text/plain": [
       "<Figure size 432x288 with 1 Axes>"
      ]
     },
     "metadata": {
      "needs_background": "light"
     },
     "output_type": "display_data"
    }
   ],
   "source": [
    "closestwords_tsneplot(model, 'scandal')"
   ]
  },
  {
   "cell_type": "code",
   "execution_count": null,
   "metadata": {},
   "outputs": [],
   "source": []
  }
 ],
 "metadata": {
  "kernelspec": {
   "display_name": "Python 3",
   "language": "python",
   "name": "python3"
  },
  "language_info": {
   "codemirror_mode": {
    "name": "ipython",
    "version": 3
   },
   "file_extension": ".py",
   "mimetype": "text/x-python",
   "name": "python",
   "nbconvert_exporter": "python",
   "pygments_lexer": "ipython3",
   "version": "3.7.7"
  }
 },
 "nbformat": 4,
 "nbformat_minor": 4
}
