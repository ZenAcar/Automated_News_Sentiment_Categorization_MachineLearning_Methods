{
 "cells": [
  {
   "cell_type": "code",
   "execution_count": 1,
   "metadata": {
    "ExecuteTime": {
     "end_time": "2020-07-12T19:04:47.915485Z",
     "start_time": "2020-07-12T19:04:47.461438Z"
    }
   },
   "outputs": [
    {
     "name": "stderr",
     "output_type": "stream",
     "text": [
      "<ipython-input-1-eb34c5ba2477>:7: FutureWarning: Passing a negative integer is deprecated in version 1.0 and will not be supported in future version. Instead, use None to not limit the column width.\n",
      "  pd.set_option('display.max_colwidth', -1)\n"
     ]
    }
   ],
   "source": [
    "import numpy as np # \n",
    "import pandas as pd # \n",
    "\n",
    "pd.set_option('display.max_rows', None)\n",
    "pd.set_option('display.max_columns', None)\n",
    "pd.set_option('display.width', None)\n",
    "pd.set_option('display.max_colwidth', -1)"
   ]
  },
  {
   "cell_type": "code",
   "execution_count": 2,
   "metadata": {
    "ExecuteTime": {
     "end_time": "2020-07-12T19:04:48.195873Z",
     "start_time": "2020-07-12T19:04:47.918484Z"
    }
   },
   "outputs": [],
   "source": [
    "import json\n",
    "import boto3 \n",
    "import os\n",
    "from io import StringIO\n"
   ]
  },
  {
   "cell_type": "code",
   "execution_count": null,
   "metadata": {},
   "outputs": [],
   "source": []
  },
  {
   "cell_type": "code",
   "execution_count": 3,
   "metadata": {
    "ExecuteTime": {
     "end_time": "2020-07-12T19:04:48.211858Z",
     "start_time": "2020-07-12T19:04:48.197860Z"
    }
   },
   "outputs": [],
   "source": [
    "# s3 secret\n",
    "ACCESS_KEY = \"<KEY>\" \n",
    "SECRET_KEY = \"<SECRET>\" \n",
    "BUCKET_NAME ='<bucket>'"
   ]
  },
  {
   "cell_type": "code",
   "execution_count": 4,
   "metadata": {
    "ExecuteTime": {
     "end_time": "2020-07-12T19:04:48.414861Z",
     "start_time": "2020-07-12T19:04:48.219861Z"
    }
   },
   "outputs": [],
   "source": [
    "s3 = boto3.resource(\n",
    "    's3',\n",
    "    region_name='us-east-1',\n",
    "    aws_access_key_id=ACCESS_KEY,\n",
    "    aws_secret_access_key=SECRET_KEY\n",
    ").Bucket(BUCKET_NAME)\n",
    "\n",
    "json.load_s3 = lambda f: json.load(s3.Object(key=f).get()[\"Body\"])\n",
    "json.dump_s3 = lambda obj, f: s3.Object(key=f).put(Body=json.dumps(obj))"
   ]
  },
  {
   "cell_type": "code",
   "execution_count": 20,
   "metadata": {
    "ExecuteTime": {
     "end_time": "2020-07-12T19:24:12.222363Z",
     "start_time": "2020-07-12T19:22:54.178450Z"
    }
   },
   "outputs": [
    {
     "data": {
      "text/html": [
       "<div>\n",
       "<style scoped>\n",
       "    .dataframe tbody tr th:only-of-type {\n",
       "        vertical-align: middle;\n",
       "    }\n",
       "\n",
       "    .dataframe tbody tr th {\n",
       "        vertical-align: top;\n",
       "    }\n",
       "\n",
       "    .dataframe thead th {\n",
       "        text-align: right;\n",
       "    }\n",
       "</style>\n",
       "<table border=\"1\" class=\"dataframe\">\n",
       "  <thead>\n",
       "    <tr style=\"text-align: right;\">\n",
       "      <th></th>\n",
       "      <th>category</th>\n",
       "      <th>headline</th>\n",
       "      <th>authors</th>\n",
       "      <th>link</th>\n",
       "      <th>short_description</th>\n",
       "      <th>date</th>\n",
       "    </tr>\n",
       "  </thead>\n",
       "  <tbody>\n",
       "    <tr>\n",
       "      <th>0</th>\n",
       "      <td>CRIME</td>\n",
       "      <td>There Were 2 Mass Shootings In Texas Last Week, But Only 1 On TV</td>\n",
       "      <td>Melissa Jeltsen</td>\n",
       "      <td>https://www.huffingtonpost.com/entry/texas-amanda-painter-mass-shooting_us_5b081ab4e4b0802d69caad89</td>\n",
       "      <td>She left her husband. He killed their children. Just another day in America.</td>\n",
       "      <td>1527292800000</td>\n",
       "    </tr>\n",
       "    <tr>\n",
       "      <th>1</th>\n",
       "      <td>ENTERTAINMENT</td>\n",
       "      <td>Will Smith Joins Diplo And Nicky Jam For The 2018 World Cup's Official Song</td>\n",
       "      <td>Andy McDonald</td>\n",
       "      <td>https://www.huffingtonpost.com/entry/will-smith-joins-diplo-and-nicky-jam-for-the-official-2018-world-cup-song_us_5b09726fe4b0fdb2aa541201</td>\n",
       "      <td>Of course it has a song.</td>\n",
       "      <td>1527292800000</td>\n",
       "    </tr>\n",
       "    <tr>\n",
       "      <th>2</th>\n",
       "      <td>ENTERTAINMENT</td>\n",
       "      <td>Hugh Grant Marries For The First Time At Age 57</td>\n",
       "      <td>Ron Dicker</td>\n",
       "      <td>https://www.huffingtonpost.com/entry/hugh-grant-marries_us_5b09212ce4b0568a880b9a8c</td>\n",
       "      <td>The actor and his longtime girlfriend Anna Eberstein tied the knot in a civil ceremony.</td>\n",
       "      <td>1527292800000</td>\n",
       "    </tr>\n",
       "    <tr>\n",
       "      <th>3</th>\n",
       "      <td>ENTERTAINMENT</td>\n",
       "      <td>Jim Carrey Blasts 'Castrato' Adam Schiff And Democrats In New Artwork</td>\n",
       "      <td>Ron Dicker</td>\n",
       "      <td>https://www.huffingtonpost.com/entry/jim-carrey-adam-schiff-democrats_us_5b0950e8e4b0fdb2aa53e675</td>\n",
       "      <td>The actor gives Dems an ass-kicking for not fighting hard enough against Donald Trump.</td>\n",
       "      <td>1527292800000</td>\n",
       "    </tr>\n",
       "    <tr>\n",
       "      <th>4</th>\n",
       "      <td>ENTERTAINMENT</td>\n",
       "      <td>Julianna Margulies Uses Donald Trump Poop Bags To Pick Up After Her Dog</td>\n",
       "      <td>Ron Dicker</td>\n",
       "      <td>https://www.huffingtonpost.com/entry/julianna-margulies-trump-poop-bag_us_5b093ec2e4b0fdb2aa53df70</td>\n",
       "      <td>The \"Dietland\" actress said using the bags is a \"really cathartic, therapeutic moment.\"</td>\n",
       "      <td>1527292800000</td>\n",
       "    </tr>\n",
       "  </tbody>\n",
       "</table>\n",
       "</div>"
      ],
      "text/plain": [
       "        category  \\\n",
       "0  CRIME           \n",
       "1  ENTERTAINMENT   \n",
       "2  ENTERTAINMENT   \n",
       "3  ENTERTAINMENT   \n",
       "4  ENTERTAINMENT   \n",
       "\n",
       "                                                                      headline  \\\n",
       "0  There Were 2 Mass Shootings In Texas Last Week, But Only 1 On TV              \n",
       "1  Will Smith Joins Diplo And Nicky Jam For The 2018 World Cup's Official Song   \n",
       "2  Hugh Grant Marries For The First Time At Age 57                               \n",
       "3  Jim Carrey Blasts 'Castrato' Adam Schiff And Democrats In New Artwork         \n",
       "4  Julianna Margulies Uses Donald Trump Poop Bags To Pick Up After Her Dog       \n",
       "\n",
       "           authors  \\\n",
       "0  Melissa Jeltsen   \n",
       "1  Andy McDonald     \n",
       "2  Ron Dicker        \n",
       "3  Ron Dicker        \n",
       "4  Ron Dicker        \n",
       "\n",
       "                                                                                                                                         link  \\\n",
       "0  https://www.huffingtonpost.com/entry/texas-amanda-painter-mass-shooting_us_5b081ab4e4b0802d69caad89                                          \n",
       "1  https://www.huffingtonpost.com/entry/will-smith-joins-diplo-and-nicky-jam-for-the-official-2018-world-cup-song_us_5b09726fe4b0fdb2aa541201   \n",
       "2  https://www.huffingtonpost.com/entry/hugh-grant-marries_us_5b09212ce4b0568a880b9a8c                                                          \n",
       "3  https://www.huffingtonpost.com/entry/jim-carrey-adam-schiff-democrats_us_5b0950e8e4b0fdb2aa53e675                                            \n",
       "4  https://www.huffingtonpost.com/entry/julianna-margulies-trump-poop-bag_us_5b093ec2e4b0fdb2aa53df70                                           \n",
       "\n",
       "                                                                         short_description  \\\n",
       "0  She left her husband. He killed their children. Just another day in America.              \n",
       "1  Of course it has a song.                                                                  \n",
       "2  The actor and his longtime girlfriend Anna Eberstein tied the knot in a civil ceremony.   \n",
       "3  The actor gives Dems an ass-kicking for not fighting hard enough against Donald Trump.    \n",
       "4  The \"Dietland\" actress said using the bags is a \"really cathartic, therapeutic moment.\"   \n",
       "\n",
       "            date  \n",
       "0  1527292800000  \n",
       "1  1527292800000  \n",
       "2  1527292800000  \n",
       "3  1527292800000  \n",
       "4  1527292800000  "
      ]
     },
     "execution_count": 20,
     "metadata": {},
     "output_type": "execute_result"
    }
   ],
   "source": [
    "# load data\n",
    "fileName = 'resources/News_Category_Dataset_v2.json'\n",
    "\n",
    "json_buffer=json.load_s3('Project3/'+fileName)\n",
    "df = pd.read_json(json_buffer).T\n",
    "#df = json.load_s3('Project3/'+fileName)\n",
    "#df = pd.read_json(fileName, lines=True)\n",
    "#json_buffer = StringIO()\n",
    "#df.to_json(json_buffer, orient='index')\n",
    "#json.dump_s3(json_buffer.getvalue(),'Project3/'+fileName)\n",
    "\n",
    "df.head()"
   ]
  },
  {
   "cell_type": "code",
   "execution_count": 21,
   "metadata": {
    "ExecuteTime": {
     "end_time": "2020-07-12T19:24:21.476410Z",
     "start_time": "2020-07-12T19:24:21.384410Z"
    }
   },
   "outputs": [
    {
     "data": {
      "text/plain": [
       "POLITICS          32739\n",
       "WELLNESS          17827\n",
       "ENTERTAINMENT     16058\n",
       "TRAVEL            9887 \n",
       "STYLE & BEAUTY    9649 \n",
       "PARENTING         8677 \n",
       "HEALTHY LIVING    6694 \n",
       "QUEER VOICES      6314 \n",
       "FOOD & DRINK      6226 \n",
       "BUSINESS          5937 \n",
       "COMEDY            5175 \n",
       "SPORTS            4884 \n",
       "BLACK VOICES      4528 \n",
       "HOME & LIVING     4195 \n",
       "PARENTS           3955 \n",
       "THE WORLDPOST     3664 \n",
       "WEDDINGS          3651 \n",
       "WOMEN             3490 \n",
       "IMPACT            3459 \n",
       "DIVORCE           3426 \n",
       "CRIME             3405 \n",
       "MEDIA             2815 \n",
       "WEIRD NEWS        2670 \n",
       "GREEN             2622 \n",
       "WORLDPOST         2579 \n",
       "RELIGION          2556 \n",
       "STYLE             2254 \n",
       "SCIENCE           2178 \n",
       "WORLD NEWS        2177 \n",
       "TASTE             2096 \n",
       "TECH              2082 \n",
       "MONEY             1707 \n",
       "ARTS              1509 \n",
       "FIFTY             1401 \n",
       "GOOD NEWS         1398 \n",
       "ARTS & CULTURE    1339 \n",
       "ENVIRONMENT       1323 \n",
       "COLLEGE           1144 \n",
       "LATINO VOICES     1129 \n",
       "CULTURE & ARTS    1030 \n",
       "EDUCATION         1004 \n",
       "Name: category, dtype: int64"
      ]
     },
     "execution_count": 21,
     "metadata": {},
     "output_type": "execute_result"
    }
   ],
   "source": [
    "df['category'].value_counts()"
   ]
  },
  {
   "cell_type": "markdown",
   "metadata": {},
   "source": [
    "News API categories\n",
    "* business\n",
    "* entertainment\n",
    "* general\n",
    "* health\n",
    "* science\n",
    "* sports\n",
    "* technology"
   ]
  },
  {
   "cell_type": "code",
   "execution_count": 22,
   "metadata": {
    "ExecuteTime": {
     "end_time": "2020-07-12T19:24:21.912416Z",
     "start_time": "2020-07-12T19:24:21.903409Z"
    }
   },
   "outputs": [],
   "source": [
    "business =['BUSINESS','MONEY']\n",
    "entertainment=['ENTERTAINMENT','ARTS','COMEDY','ARTS & CULTURE','CULTURE & ARTS','MEDIA']\n",
    "health=['HEALTH','WELLNESS','HEALTHY LIVING']\n",
    "science=['SCIENCE']\n",
    "sports=['SPORTS']\n",
    "technology = ['TECH']"
   ]
  },
  {
   "cell_type": "code",
   "execution_count": 23,
   "metadata": {
    "ExecuteTime": {
     "end_time": "2020-07-12T19:24:22.177408Z",
     "start_time": "2020-07-12T19:24:22.135408Z"
    }
   },
   "outputs": [
    {
     "data": {
      "text/plain": [
       "(7644, 6)"
      ]
     },
     "execution_count": 23,
     "metadata": {},
     "output_type": "execute_result"
    }
   ],
   "source": [
    "condition = df['category'].isin(business)\n",
    "businessDF = df[condition]\n",
    "businessDF.shape"
   ]
  },
  {
   "cell_type": "code",
   "execution_count": 24,
   "metadata": {
    "ExecuteTime": {
     "end_time": "2020-07-12T19:24:22.552409Z",
     "start_time": "2020-07-12T19:24:22.497408Z"
    }
   },
   "outputs": [
    {
     "data": {
      "text/plain": [
       "(27926, 6)"
      ]
     },
     "execution_count": 24,
     "metadata": {},
     "output_type": "execute_result"
    }
   ],
   "source": [
    "condition = df['category'].isin(entertainment)\n",
    "entertainmentDF= df[condition]\n",
    "entertainmentDF.shape"
   ]
  },
  {
   "cell_type": "code",
   "execution_count": 25,
   "metadata": {
    "ExecuteTime": {
     "end_time": "2020-07-12T19:24:22.942409Z",
     "start_time": "2020-07-12T19:24:22.912409Z"
    }
   },
   "outputs": [
    {
     "data": {
      "text/plain": [
       "(2178, 6)"
      ]
     },
     "execution_count": 25,
     "metadata": {},
     "output_type": "execute_result"
    }
   ],
   "source": [
    "condition = df['category'].isin(science)\n",
    "scienceDF= df[condition]\n",
    "scienceDF.shape"
   ]
  },
  {
   "cell_type": "code",
   "execution_count": 26,
   "metadata": {
    "ExecuteTime": {
     "end_time": "2020-07-12T19:24:23.347410Z",
     "start_time": "2020-07-12T19:24:23.315407Z"
    }
   },
   "outputs": [
    {
     "data": {
      "text/plain": [
       "(4884, 6)"
      ]
     },
     "execution_count": 26,
     "metadata": {},
     "output_type": "execute_result"
    }
   ],
   "source": [
    "condition = df['category'].isin(sports)\n",
    "sportsDF= df[condition]\n",
    "sportsDF.shape"
   ]
  },
  {
   "cell_type": "code",
   "execution_count": 27,
   "metadata": {
    "ExecuteTime": {
     "end_time": "2020-07-12T19:24:23.739609Z",
     "start_time": "2020-07-12T19:24:23.703610Z"
    }
   },
   "outputs": [
    {
     "data": {
      "text/plain": [
       "(2082, 6)"
      ]
     },
     "execution_count": 27,
     "metadata": {},
     "output_type": "execute_result"
    }
   ],
   "source": [
    "condition = df['category'].isin(technology)\n",
    "technologyDF= df[condition]\n",
    "technologyDF.shape"
   ]
  },
  {
   "cell_type": "code",
   "execution_count": 28,
   "metadata": {
    "ExecuteTime": {
     "end_time": "2020-07-12T19:24:24.131612Z",
     "start_time": "2020-07-12T19:24:24.111610Z"
    }
   },
   "outputs": [],
   "source": [
    "categories=[entertainmentDF,businessDF,scienceDF,sportsDF,technologyDF]\n",
    "categoryNames=['entertainment','business','science','sports','technology']"
   ]
  },
  {
   "cell_type": "markdown",
   "metadata": {},
   "source": [
    "# install Vader\n",
    "\n",
    " pip install vaderSentiment\n",
    " \n",
    " https://www.geeksforgeeks.org/python-sentiment-analysis-using-vader/\n",
    " \n",
    " https://medium.com/analytics-vidhya/simplifying-social-media-sentiment-analysis-using-vader-in-python-f9e6ec6fc52f\n",
    " \n",
    " \n"
   ]
  },
  {
   "cell_type": "code",
   "execution_count": 29,
   "metadata": {
    "ExecuteTime": {
     "end_time": "2020-07-12T19:24:25.099629Z",
     "start_time": "2020-07-12T19:24:25.087611Z"
    }
   },
   "outputs": [],
   "source": [
    "from vaderSentiment.vaderSentiment import SentimentIntensityAnalyzer"
   ]
  },
  {
   "cell_type": "code",
   "execution_count": 30,
   "metadata": {
    "ExecuteTime": {
     "end_time": "2020-07-12T19:24:25.627625Z",
     "start_time": "2020-07-12T19:24:25.600609Z"
    }
   },
   "outputs": [],
   "source": [
    "analyzer = SentimentIntensityAnalyzer()\n",
    "def sentimentAnalysis(art):\n",
    "    sentiment_dict=analyzer.polarity_scores(art)\n",
    "    if sentiment_dict['compound'] >= 0.05 : \n",
    "        return \"Positive\"\n",
    "    elif sentiment_dict['compound'] <= - 0.05 : \n",
    "        return \"Negative\"\n",
    "    else : \n",
    "        return \"Neutral\"    \n"
   ]
  },
  {
   "cell_type": "markdown",
   "metadata": {
    "ExecuteTime": {
     "end_time": "2020-07-12T19:24:46.443746Z",
     "start_time": "2020-07-12T19:24:26.248679Z"
    }
   },
   "source": [
    "ix=0\n",
    "for categoryDF in categories:\n",
    "    result=[]\n",
    "    fileName= f'resources/{categoryNames[ix]}_labeled_data.json'\n",
    "    ix+=1\n",
    "    print(fileName)\n",
    "    for index, row in categoryDF.iterrows():\n",
    "        art= row['short_description']\n",
    "        res = sentimentAnalysis(art)\n",
    "        result.append(res)\n",
    "    categoryDF['label']=result\n",
    "    df=categoryDF[['short_description','label']]\n",
    "    json_buffer = StringIO()\n",
    "    df.to_json(json_buffer, orient='index')\n",
    "    json.dump_s3(json_buffer.getvalue(),'Project3/'+fileName)\n",
    "    print(df.shape)"
   ]
  },
  {
   "cell_type": "markdown",
   "metadata": {
    "ExecuteTime": {
     "end_time": "2020-07-12T19:33:31.300854Z",
     "start_time": "2020-07-12T19:33:31.282853Z"
    }
   },
   "source": [
    "# Files\n",
    "* resources/entertainment_labeled_data.json\n",
    "* resources/business_labeled_data.json\n",
    "* resources/science_labeled_data.json\n",
    "* resources/sports_labeled_data.json\n",
    "* resources/technology_labeled_data.json\n"
   ]
  },
  {
   "cell_type": "code",
   "execution_count": 37,
   "metadata": {
    "ExecuteTime": {
     "end_time": "2020-07-12T19:36:09.070111Z",
     "start_time": "2020-07-12T19:35:53.357061Z"
    }
   },
   "outputs": [
    {
     "name": "stdout",
     "output_type": "stream",
     "text": [
      "                                                                                                               short_description  \\\n",
      "1  Of course it has a song.                                                                                                        \n",
      "2  The actor and his longtime girlfriend Anna Eberstein tied the knot in a civil ceremony.                                         \n",
      "3  The actor gives Dems an ass-kicking for not fighting hard enough against Donald Trump.                                          \n",
      "4  The \"Dietland\" actress said using the bags is a \"really cathartic, therapeutic moment.\"                                         \n",
      "5  \"It is not right to equate horrific incidents of sexual assault with misplaced compliments or humor,\" he said in a statement.   \n",
      "\n",
      "      label  \n",
      "1  Neutral   \n",
      "2  Neutral   \n",
      "3  Positive  \n",
      "4  Neutral   \n",
      "5  Negative  \n",
      "                                                                                                                                                                  short_description  \\\n",
      "87   The investigation could lead to new U.S. tariffs similar to those imposed on imported steel and aluminum in March.                                                               \n",
      "337  The new policy was unveiled weeks after the controversial arrest of two black men at a Philadelphia Starbucks.                                                                   \n",
      "603  Following the council vote, Amazon’s vice president, Drew Herdener, said the company has resumed construction planning for its so-called Block 18 project in downtown Seattle.   \n",
      "604  Victims will be free to go to court -- but a few caveats remain.                                                                                                                 \n",
      "669  The breach is believed to have occurred between March and April.                                                                                                                 \n",
      "\n",
      "        label  \n",
      "87   Negative  \n",
      "337  Negative  \n",
      "603  Negative  \n",
      "604  Positive  \n",
      "669  Neutral   \n",
      "                                                                                       short_description  \\\n",
      "155   The researchers plan to scour the Loch Ness next month for evidence of its supposed inhabitant.      \n",
      "285   The supposed \"interstellar immigrant\" is located near Jupiter but has an atypical orbit.             \n",
      "439   It's the first time a rocket designed by a Chinese private company has successfully entered orbit.   \n",
      "449   YIKES!                                                                                               \n",
      "1246  Some of America's top researchers will move to France to continue their research.                    \n",
      "\n",
      "         label  \n",
      "155   Neutral   \n",
      "285   Neutral   \n",
      "439   Positive  \n",
      "449   Neutral   \n",
      "1246  Positive  \n",
      "                                                                                                                                                   short_description  \\\n",
      "80   “I never want to put restrictions on the speech of our players.\"                                                                                                  \n",
      "101  The pardoning of the black heavyweight boxer is only the third posthumous pardon in U.S. history.                                                                 \n",
      "135  The score is love-love.                                                                                                                                           \n",
      "136  \"I don’t think people should be staying in locker rooms,\" Trump told Fox News. \"You have to stand proudly for the national anthem or you shouldn’t be playing.\"   \n",
      "154  Was it supposed to be Gary Busey or Mickey Rooney?                                                                                                                \n",
      "\n",
      "        label  \n",
      "80   Negative  \n",
      "101  Positive  \n",
      "135  Neutral   \n",
      "136  Positive  \n",
      "154  Neutral   \n",
      "                                                                                                short_description  \\\n",
      "137  A failed startup suggested that Facebook mounted what could be described as mass surveillance.                 \n",
      "138  The NTSB published a preliminary report on the incident Thursday.                                              \n",
      "272  And no one will know when you use it.                                                                          \n",
      "373  The firm at the center of the Facebook data hack made the decision after suffering a sharp drop in business.   \n",
      "499  Two women decided it was time to have one.                                                                     \n",
      "\n",
      "        label  \n",
      "137  Negative  \n",
      "138  Neutral   \n",
      "272  Negative  \n",
      "373  Negative  \n",
      "499  Neutral   \n"
     ]
    }
   ],
   "source": [
    "categoryNames=['entertainment','business','science','sports','technology']\n",
    "for categoryname in categoryNames:\n",
    "    fileName= f'resources/{categoryname}_labeled_data.json'\n",
    "    json_buffer=json.load_s3('Project3/'+fileName)\n",
    "    df = pd.read_json(json_buffer).T\n",
    "    print(df.head())"
   ]
  },
  {
   "cell_type": "code",
   "execution_count": null,
   "metadata": {},
   "outputs": [],
   "source": []
  }
 ],
 "metadata": {
  "kernelspec": {
   "display_name": "Python 3",
   "language": "python",
   "name": "python3"
  },
  "language_info": {
   "codemirror_mode": {
    "name": "ipython",
    "version": 3
   },
   "file_extension": ".py",
   "mimetype": "text/x-python",
   "name": "python",
   "nbconvert_exporter": "python",
   "pygments_lexer": "ipython3",
   "version": "3.8.3"
  }
 },
 "nbformat": 4,
 "nbformat_minor": 4
}
