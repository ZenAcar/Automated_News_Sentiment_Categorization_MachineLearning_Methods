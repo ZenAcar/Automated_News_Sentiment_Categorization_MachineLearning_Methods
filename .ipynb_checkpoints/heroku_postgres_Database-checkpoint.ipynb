{
 "cells": [
  {
   "cell_type": "markdown",
   "metadata": {},
   "source": [
    "### Use template code to load stored NewsAPI data from S3\n",
    "### Replace variables with your own where is say \"key-here\"\n",
    "### Do not post notebooks with keys to GitHub"
   ]
  },
  {
   "cell_type": "code",
   "execution_count": 1,
   "metadata": {
    "ExecuteTime": {
     "end_time": "2020-07-17T05:48:42.482216Z",
     "start_time": "2020-07-17T05:48:41.653220Z"
    }
   },
   "outputs": [],
   "source": [
    "import os.path\n",
    "from os import path\n",
    "import pandas as pd\n",
    "import json\n",
    "import boto3 \n",
    "import os\n",
    "from io import StringIO\n",
    "\n",
    "import psycopg2\n",
    "import pandas as pds\n",
    "from sqlalchemy import create_engine"
   ]
  },
  {
   "cell_type": "code",
   "execution_count": 2,
   "metadata": {
    "ExecuteTime": {
     "end_time": "2020-07-17T05:48:42.497218Z",
     "start_time": "2020-07-17T05:48:42.485219Z"
    }
   },
   "outputs": [],
   "source": [
    "# API Key for News API\n",
    "secret = 'key here'"
   ]
  },
  {
   "cell_type": "code",
   "execution_count": 3,
   "metadata": {
    "ExecuteTime": {
     "end_time": "2020-07-17T05:48:42.513217Z",
     "start_time": "2020-07-17T05:48:42.499218Z"
    }
   },
   "outputs": [],
   "source": [
    "# s3 secret - Carlos Keys (don't commit to GitHub)\n",
    "ACCESS_KEY = \"key-here\" \n",
    "SECRET_KEY = \"key-here\" \n",
    "BUCKET_NAME ='key-here'"
   ]
  },
  {
   "cell_type": "code",
   "execution_count": 4,
   "metadata": {
    "ExecuteTime": {
     "end_time": "2020-07-17T05:48:42.747221Z",
     "start_time": "2020-07-17T05:48:42.515217Z"
    }
   },
   "outputs": [],
   "source": [
    "# S3 credentials\n",
    "s3 = boto3.resource(\n",
    "    's3',\n",
    "    region_name='us-east-1',\n",
    "    aws_access_key_id=ACCESS_KEY,\n",
    "    aws_secret_access_key=SECRET_KEY\n",
    ").Bucket(BUCKET_NAME)\n",
    "\n",
    "json.load_s3 = lambda f: json.load(s3.Object(key=f).get()[\"Body\"])\n",
    "json.dump_s3 = lambda obj, f: s3.Object(key=f).put(Body=json.dumps(obj))"
   ]
  },
  {
   "cell_type": "code",
   "execution_count": 5,
   "metadata": {
    "ExecuteTime": {
     "end_time": "2020-07-17T05:48:42.762220Z",
     "start_time": "2020-07-17T05:48:42.750225Z"
    }
   },
   "outputs": [],
   "source": [
    "categories = ['business','entertainment','general','health','science','sports','technology']"
   ]
  },
  {
   "cell_type": "markdown",
   "metadata": {},
   "source": [
    "## Json files stored\n",
    "* resources/business_top_headline_data_new.json\n",
    "* resources/entertainment_top_headline_data_new.json\n",
    "* resources/general_top_headline_data_new.json\n",
    "* resources/health_top_headline_data_new.json\n",
    "* resources/science_top_headline_data_new.json\n",
    "* resources/sports_top_headline_data_new.json\n",
    "* resources/technology_top_headline_data_new.json"
   ]
  },
  {
   "cell_type": "code",
   "execution_count": 6,
   "metadata": {
    "ExecuteTime": {
     "end_time": "2020-07-17T05:48:49.042219Z",
     "start_time": "2020-07-17T05:48:42.766220Z"
    }
   },
   "outputs": [
    {
     "name": "stdout",
     "output_type": "stream",
     "text": [
      "(6513, 11)\n"
     ]
    },
    {
     "data": {
      "text/plain": [
       "sports           1133\n",
       "business         1124\n",
       "health           1023\n",
       "entertainment     919\n",
       "general           915\n",
       "technology        911\n",
       "science           488\n",
       "Name: category, dtype: int64"
      ]
     },
     "execution_count": 6,
     "metadata": {},
     "output_type": "execute_result"
    }
   ],
   "source": [
    "# Pull data\n",
    "count =0\n",
    "first = True\n",
    "for category in categories:\n",
    "    name = category\n",
    "    fileName= f'resources/{category}_top_headline_data_new.json'\n",
    "    json_buffer=json.load_s3('Project3/'+fileName)\n",
    "    if first:\n",
    "        category_dataframe=pd.read_json(json_buffer).T\n",
    "        first = False \n",
    "    else :\n",
    "        df = pd.read_json(json_buffer).T\n",
    "        category_dataframe = category_dataframe.append(df,ignore_index=True)\n",
    "    \n",
    "print(category_dataframe.shape)\n",
    "category_dataframe.category.value_counts()"
   ]
  },
  {
   "cell_type": "code",
   "execution_count": 7,
   "metadata": {
    "ExecuteTime": {
     "end_time": "2020-07-17T05:48:49.058223Z",
     "start_time": "2020-07-17T05:48:49.044218Z"
    }
   },
   "outputs": [],
   "source": [
    "# Save to Postgres (replace the variables, push to github)\n",
    "jdbcUrl = ''\n"
   ]
  },
  {
   "cell_type": "code",
   "execution_count": 8,
   "metadata": {
    "ExecuteTime": {
     "end_time": "2020-07-17T05:48:49.105218Z",
     "start_time": "2020-07-17T05:48:49.063220Z"
    }
   },
   "outputs": [],
   "source": [
    "alchemyEngine   = create_engine(jdbcUrl, pool_recycle=3600);"
   ]
  },
  {
   "cell_type": "code",
   "execution_count": 9,
   "metadata": {
    "ExecuteTime": {
     "end_time": "2020-07-17T05:48:50.178216Z",
     "start_time": "2020-07-17T05:48:49.108221Z"
    }
   },
   "outputs": [],
   "source": [
    "postgreSQLConnection    = alchemyEngine.connect();"
   ]
  },
  {
   "cell_type": "code",
   "execution_count": 10,
   "metadata": {
    "ExecuteTime": {
     "end_time": "2020-07-17T05:48:50.210216Z",
     "start_time": "2020-07-17T05:48:50.181234Z"
    }
   },
   "outputs": [],
   "source": [
    "category_dataframe['publishedAt']= pd.to_datetime(category_dataframe['publishedAt'])"
   ]
  },
  {
   "cell_type": "code",
   "execution_count": null,
   "metadata": {
    "ExecuteTime": {
     "start_time": "2020-07-17T05:48:41.667Z"
    }
   },
   "outputs": [],
   "source": [
    "postgreSQLTable= \"sentiment_results\"  \n",
    "frame= category_dataframe[['author', 'title', 'description', 'url',\n",
    "       'urlToImage', 'publishedAt', 'articleSummary', 'articleSentiment',\n",
    "       'category']].to_sql(postgreSQLTable, postgreSQLConnection, if_exists='replace');"
   ]
  }
 ],
 "metadata": {
  "kernelspec": {
   "display_name": "Python 3",
   "language": "python",
   "name": "python3"
  },
  "language_info": {
   "codemirror_mode": {
    "name": "ipython",
    "version": 3
   },
   "file_extension": ".py",
   "mimetype": "text/x-python",
   "name": "python",
   "nbconvert_exporter": "python",
   "pygments_lexer": "ipython3",
   "version": "3.7.4"
  },
  "name": "AWS_Postgres_Database",
  "notebookId": 3437517939325743
 },
 "nbformat": 4,
 "nbformat_minor": 1
}
