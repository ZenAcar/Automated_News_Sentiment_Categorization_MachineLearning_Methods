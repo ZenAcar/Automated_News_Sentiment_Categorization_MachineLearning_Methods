{
 "cells": [
  {
   "cell_type": "code",
   "execution_count": 1,
   "metadata": {},
   "outputs": [],
   "source": [
    "# https://nlp.johnsnowlabs.com/docs/en/annotators#languagedetectordl\n",
    "\n",
    "# maven - com.johnsnowlabs.nlp:spark-nlp_2.11:2.5.3\n",
    "# pypi - spark-nlp, vaderSentiment, boto3==1.9.157\n",
    "\n",
    "# example on sentiment analysis\n",
    "  # https://github.com/JohnSnowLabs/spark-nlp-workshop/blob/master/jupyter/training/english/classification/SentimentDL_train_multiclass_sentiment_classifier.ipynb\n",
    "# https://nlp.johnsnowlabs.com/docs/en/pipelines#multi-language"
   ]
  },
  {
   "cell_type": "code",
   "execution_count": 2,
   "metadata": {},
   "outputs": [
    {
     "data": {
      "text/html": [
       "<style scoped>\n",
       "  .ansiout {\n",
       "    display: block;\n",
       "    unicode-bidi: embed;\n",
       "    white-space: pre-wrap;\n",
       "    word-wrap: break-word;\n",
       "    word-break: break-all;\n",
       "    font-family: \"Source Code Pro\", \"Menlo\", monospace;;\n",
       "    font-size: 13px;\n",
       "    color: #555;\n",
       "    margin-left: 4px;\n",
       "    line-height: 19px;\n",
       "  }\n",
       "</style>\n",
       "<div class=\"ansiout\"></div>"
      ]
     },
     "metadata": {},
     "output_type": "display_data"
    }
   ],
   "source": [
    "from pyspark.sql import SparkSession\n",
    "import pyspark.sql.functions as F\n",
    "from pyspark import SparkFiles\n",
    "from pyspark.ml.feature import (\n",
    "    StringIndexer,\n",
    "    HashingTF, \n",
    "    IDF\n",
    ")\n",
    "from pyspark.ml.feature import VectorAssembler\n",
    "from pyspark.ml.evaluation import MulticlassClassificationEvaluator\n",
    "from pyspark.ml.classification import NaiveBayes"
   ]
  },
  {
   "cell_type": "code",
   "execution_count": 3,
   "metadata": {},
   "outputs": [
    {
     "data": {
      "text/html": [
       "<style scoped>\n",
       "  .ansiout {\n",
       "    display: block;\n",
       "    unicode-bidi: embed;\n",
       "    white-space: pre-wrap;\n",
       "    word-wrap: break-word;\n",
       "    word-break: break-all;\n",
       "    font-family: \"Source Code Pro\", \"Menlo\", monospace;;\n",
       "    font-size: 13px;\n",
       "    color: #555;\n",
       "    margin-left: 4px;\n",
       "    line-height: 19px;\n",
       "  }\n",
       "</style>\n",
       "<div class=\"ansiout\"></div>"
      ]
     },
     "metadata": {},
     "output_type": "display_data"
    }
   ],
   "source": [
    "# get or create Spark session\n",
    "\n",
    "app_name = \"news_analysis\"\n",
    "\n",
    "spark = SparkSession.builder.appName(app_name) \\\n",
    "    .config(\"spark.jars.packages\", \"com.johnsnowlabs.nlp:spark-nlp_2.11:2.5.3\") \\\n",
    "    .getOrCreate()"
   ]
  },
  {
   "cell_type": "code",
   "execution_count": 4,
   "metadata": {},
   "outputs": [
    {
     "data": {
      "text/html": [
       "<style scoped>\n",
       "  .table-result-container {\n",
       "    max-height: 300px;\n",
       "    overflow: auto;\n",
       "  }\n",
       "  table, th, td {\n",
       "    border: 1px solid black;\n",
       "    border-collapse: collapse;\n",
       "  }\n",
       "  th, td {\n",
       "    padding: 5px;\n",
       "  }\n",
       "  th {\n",
       "    text-align: left;\n",
       "  }\n",
       "</style><div class='table-result-container'><table class='table-result'><thead style='background-color: white'><tr><th>_c0</th><th>short_description</th></tr></thead><tbody><tr><td>87</td><td>The investigation could lead to new U.S. tariffs similar to those imposed on imported steel and aluminum in March.</td></tr><tr><td>337</td><td>The new policy was unveiled weeks after the controversial arrest of two black men at a Philadelphia Starbucks.</td></tr><tr><td>603</td><td>Following the council vote, Amazon’s vice president, Drew Herdener, said the company has resumed construction planning for its so-called Block 18 project in downtown Seattle.</td></tr><tr><td>604</td><td>Victims will be free to go to court -- but a few caveats remain.</td></tr><tr><td>669</td><td>The breach is believed to have occurred between March and April.</td></tr><tr><td>711</td><td>Just by using the app, you click away your rights. Now some victims are fighting for change.</td></tr><tr><td>715</td><td>The city wants to tax large corporations to pay for homeless housing, but Jeff Bezos isn't pleased.</td></tr><tr><td>976</td><td>The bank pledged in April to stop financing companies that sell military-style firearms to civilians. Remington made the Bushmaster rifle used in the Sandy Hook school massacre.</td></tr><tr><td>1217</td><td>Martin Winterkorn resigned soon after the scandal became public in 2015.</td></tr><tr><td>1295</td><td>Verizon launched an investigation soon after HuffPost reached out for comment.</td></tr><tr><td>1470</td><td>U.S. regulators are expected to grill the companies on how they will price their combined wireless offerings.</td></tr><tr><td>2129</td><td>The agency's ruling in a little-noticed case last month has knocked the wind out of the push for shareholder activism, a favorite neoliberal tactic to address climate change.</td></tr><tr><td>2138</td><td>The company pulled assault-style weapons and accessories from their stores in February.</td></tr><tr><td>2147</td><td>\"Two months ago, a pro-Trump Facebook group posted my photo and asked its 72,000 members if they would \"\"smash or pass.\"\"\"</td></tr><tr><td>2246</td><td>Voters approved a plan for supportive housing, but disputes over where to put it have stalled progress.</td></tr><tr><td>2449</td><td>American democracy doesn't look much better.</td></tr><tr><td>2585</td><td>\"\"\"It's brought me more negatives than positives.\"\"\"</td></tr><tr><td>2695</td><td>The company touts improved in-house tracking tools for steering abusive accounts away from the site.</td></tr><tr><td>2714</td><td>The additional tariffs were being considered “in light of China’s unfair retaliation” against earlier U.S. trade actions, Trump said.</td></tr><tr><td>2773</td><td>Mark Zuckerberg spoke with reporters on topics including trust in the site and trust in his own leadership.</td></tr><tr><td>2982</td><td>Toronto-based Hudson’s Bay did not say when the breach had begun or how many payment card numbers were taken.</td></tr><tr><td>3002</td><td>\"Heineken needs to \"\"take appropriate action</td></tr><tr><td>3055</td><td>The company alerted its app users four days after learning of the hack.</td></tr><tr><td>3138</td><td>Discarding gender stereotypes, new collections feature male nurses and stay-at-home dads, along with guys who wear makeup and jewelry.</td></tr><tr><td>3140</td><td>A woman who worked at the drink company said she was sexually harassed and abruptly fired. This is what can happen when a boys club runs amok.</td></tr><tr><td>3142</td><td>Marketing experts, therapists and parents weigh in.</td></tr><tr><td>3196</td><td>“The real world took another step toward its slow and sure conversion to The Handmaid’s Tale this week,” a Vogue editor responded.</td></tr><tr><td>3215</td><td>The consequences of a fatal crash in Arizona continue.</td></tr><tr><td>3312</td><td>The company listed assets in the range of $500 million to $1 billion and liabilities in the range of $500 million and $1 billion.</td></tr><tr><td>3332</td><td>The young woman was only 4 years old when Errol Musk married her mother.</td></tr><tr><td>3510</td><td>The video site is expanding restrictions following the Florida massacre.</td></tr><tr><td>3530</td><td>The drop comes on the heels of an action by President Donald Trump to impose tariffs on up to $60 billion of Chinese imports.</td></tr><tr><td>3533</td><td>Lazarus was 94 years old.</td></tr><tr><td>3585</td><td>We've been burned many times before. Why should we trust Facebook again?</td></tr><tr><td>3644</td><td>The embattled film studio said Monday that it was also ending all non-disclosure agreements.</td></tr><tr><td>3710</td><td>The organizations say such tariffs would be “particularly harmful” to the U.S. economy and consumers.</td></tr><tr><td>3718</td><td>Growing up is never easy.</td></tr><tr><td>3835</td><td>Sniff.</td></tr><tr><td>3916</td><td>The company has reached an agreement with shareholders of more than $10 billion of its outstanding debt.</td></tr><tr><td>3960</td><td>The liquidation could put up to 33,000 U.S. jobs at risk.</td></tr><tr><td>3992</td><td>The biotech company Holmes started was once worth $9 billion.</td></tr><tr><td>3993</td><td>The tech giant is standing behind its use of forced arbitration, a practice criticized for silencing women.</td></tr><tr><td>4220</td><td>He made headlines by jacking up the price of a lifesaving drug.</td></tr><tr><td>4286</td><td>The combined company will be led by current Cigna Chief Executive Officer David Cordani.</td></tr><tr><td>4417</td><td>New documents show the two groups have a deeper working relationship than previously known.</td></tr><tr><td>4450</td><td>\"AR-15s don't mix with dating app \"\"rooted in kindness and respect.\"\"\"</td></tr><tr><td>4514</td><td>The former drug company executive was convicted in 2017 for defrauding investors.</td></tr><tr><td>4634</td><td>\"Uber called the methodology and findings of the working paper \"\"deeply flawed.\"\"\"</td></tr><tr><td>4828</td><td>The relationship has been sliced.</td></tr><tr><td>4840</td><td>The companies are having disagreements over what to stock on store shelves.</td></tr></tbody></table></div>"
      ]
     },
     "metadata": {},
     "output_type": "display_data"
    }
   ],
   "source": [
    "file_uri = \"/mnt/mnt_s3/businessTrain_1.csv\"\n",
    "\n",
    "trainDataset = spark.read \\\n",
    "    .format(\"com.databricks.spark.csv\") \\\n",
    "    .options(header='true', inferSchema=\"true\") \\\n",
    "    .load(file_uri)\n",
    "display(trainDataset)"
   ]
  },
  {
   "cell_type": "code",
   "execution_count": 5,
   "metadata": {},
   "outputs": [
    {
     "data": {
      "text/html": [
       "<style scoped>\n",
       "  .table-result-container {\n",
       "    max-height: 300px;\n",
       "    overflow: auto;\n",
       "  }\n",
       "  table, th, td {\n",
       "    border: 1px solid black;\n",
       "    border-collapse: collapse;\n",
       "  }\n",
       "  th, td {\n",
       "    padding: 5px;\n",
       "  }\n",
       "  th {\n",
       "    text-align: left;\n",
       "  }\n",
       "</style><div class='table-result-container'><table class='table-result'><thead style='background-color: white'><tr><th>_c0</th><th>short_description</th></tr></thead><tbody><tr><td>87</td><td>The investigation could lead to new U.S. tariffs similar to those imposed on imported steel and aluminum in March.</td></tr><tr><td>337</td><td>The new policy was unveiled weeks after the controversial arrest of two black men at a Philadelphia Starbucks.</td></tr><tr><td>603</td><td>Following the council vote, Amazon’s vice president, Drew Herdener, said the company has resumed construction planning for its so-called Block 18 project in downtown Seattle.</td></tr><tr><td>604</td><td>Victims will be free to go to court -- but a few caveats remain.</td></tr><tr><td>669</td><td>The breach is believed to have occurred between March and April.</td></tr><tr><td>711</td><td>Just by using the app, you click away your rights. Now some victims are fighting for change.</td></tr><tr><td>715</td><td>The city wants to tax large corporations to pay for homeless housing, but Jeff Bezos isn't pleased.</td></tr><tr><td>976</td><td>The bank pledged in April to stop financing companies that sell military-style firearms to civilians. Remington made the Bushmaster rifle used in the Sandy Hook school massacre.</td></tr><tr><td>1217</td><td>Martin Winterkorn resigned soon after the scandal became public in 2015.</td></tr><tr><td>1295</td><td>Verizon launched an investigation soon after HuffPost reached out for comment.</td></tr><tr><td>1470</td><td>U.S. regulators are expected to grill the companies on how they will price their combined wireless offerings.</td></tr><tr><td>2129</td><td>The agency's ruling in a little-noticed case last month has knocked the wind out of the push for shareholder activism, a favorite neoliberal tactic to address climate change.</td></tr><tr><td>2138</td><td>The company pulled assault-style weapons and accessories from their stores in February.</td></tr><tr><td>2147</td><td>\"Two months ago, a pro-Trump Facebook group posted my photo and asked its 72,000 members if they would \"\"smash or pass.\"\"\"</td></tr><tr><td>2246</td><td>Voters approved a plan for supportive housing, but disputes over where to put it have stalled progress.</td></tr><tr><td>2449</td><td>American democracy doesn't look much better.</td></tr><tr><td>2585</td><td>\"\"\"It's brought me more negatives than positives.\"\"\"</td></tr><tr><td>2695</td><td>The company touts improved in-house tracking tools for steering abusive accounts away from the site.</td></tr><tr><td>2714</td><td>The additional tariffs were being considered “in light of China’s unfair retaliation” against earlier U.S. trade actions, Trump said.</td></tr><tr><td>2773</td><td>Mark Zuckerberg spoke with reporters on topics including trust in the site and trust in his own leadership.</td></tr><tr><td>2982</td><td>Toronto-based Hudson’s Bay did not say when the breach had begun or how many payment card numbers were taken.</td></tr><tr><td>3002</td><td>\"Heineken needs to \"\"take appropriate action</td></tr><tr><td>3055</td><td>The company alerted its app users four days after learning of the hack.</td></tr><tr><td>3138</td><td>Discarding gender stereotypes, new collections feature male nurses and stay-at-home dads, along with guys who wear makeup and jewelry.</td></tr><tr><td>3140</td><td>A woman who worked at the drink company said she was sexually harassed and abruptly fired. This is what can happen when a boys club runs amok.</td></tr><tr><td>3142</td><td>Marketing experts, therapists and parents weigh in.</td></tr><tr><td>3196</td><td>“The real world took another step toward its slow and sure conversion to The Handmaid’s Tale this week,” a Vogue editor responded.</td></tr><tr><td>3215</td><td>The consequences of a fatal crash in Arizona continue.</td></tr><tr><td>3312</td><td>The company listed assets in the range of $500 million to $1 billion and liabilities in the range of $500 million and $1 billion.</td></tr><tr><td>3332</td><td>The young woman was only 4 years old when Errol Musk married her mother.</td></tr><tr><td>3510</td><td>The video site is expanding restrictions following the Florida massacre.</td></tr><tr><td>3530</td><td>The drop comes on the heels of an action by President Donald Trump to impose tariffs on up to $60 billion of Chinese imports.</td></tr><tr><td>3533</td><td>Lazarus was 94 years old.</td></tr><tr><td>3585</td><td>We've been burned many times before. Why should we trust Facebook again?</td></tr><tr><td>3644</td><td>The embattled film studio said Monday that it was also ending all non-disclosure agreements.</td></tr><tr><td>3710</td><td>The organizations say such tariffs would be “particularly harmful” to the U.S. economy and consumers.</td></tr><tr><td>3718</td><td>Growing up is never easy.</td></tr><tr><td>3835</td><td>Sniff.</td></tr><tr><td>3916</td><td>The company has reached an agreement with shareholders of more than $10 billion of its outstanding debt.</td></tr><tr><td>3960</td><td>The liquidation could put up to 33,000 U.S. jobs at risk.</td></tr><tr><td>3992</td><td>The biotech company Holmes started was once worth $9 billion.</td></tr><tr><td>3993</td><td>The tech giant is standing behind its use of forced arbitration, a practice criticized for silencing women.</td></tr><tr><td>4220</td><td>He made headlines by jacking up the price of a lifesaving drug.</td></tr><tr><td>4286</td><td>The combined company will be led by current Cigna Chief Executive Officer David Cordani.</td></tr><tr><td>4417</td><td>New documents show the two groups have a deeper working relationship than previously known.</td></tr><tr><td>4450</td><td>\"AR-15s don't mix with dating app \"\"rooted in kindness and respect.\"\"\"</td></tr><tr><td>4514</td><td>The former drug company executive was convicted in 2017 for defrauding investors.</td></tr><tr><td>4634</td><td>\"Uber called the methodology and findings of the working paper \"\"deeply flawed.\"\"\"</td></tr><tr><td>4828</td><td>The relationship has been sliced.</td></tr><tr><td>4840</td><td>The companies are having disagreements over what to stock on store shelves.</td></tr><tr><td>4842</td><td>\"The retail giant said it's making changes to its gun sale policies \"\"in light of recent events.\"\"\"</td></tr><tr><td>4934</td><td>The board of disgraced movie mogul Harvey Weinstein's former company ended negotiations to sell the studio for $500 million.</td></tr><tr><td>4958</td><td>The company said it disagrees with the organization on certain policies but won't end its partnership.</td></tr><tr><td>5006</td><td>\"\"\"Bullet Train\"\" featured players firing on virtual people in a train station just days after the Parkland high school shootings.\"</td></tr><tr><td>5110</td><td>“It’s time for tech leaders to acknowledge their role in helping the NRA spread this dangerous content and cut it out.\"\"</td></tr><tr><td>5125</td><td>Many brands that offered discounts to NRA members are dumping the gun group after its furious response to the Florida mass shooting.</td></tr><tr><td>5624</td><td>But the ride-hailing pioneer seems to be slowing the bleeding.</td></tr><tr><td>5933</td><td>Uber had been accused of stealing trade secrets from Waymo.</td></tr><tr><td>5995</td><td>Limited English proficiency could be one reason why, the study suggests.</td></tr><tr><td>5998</td><td>The benchmark S&P 500 and the Dow industrials confirmed they were in correction territory.</td></tr><tr><td>6052</td><td>The Las Vegas mogul has been accused of abusing and sexually harassing casino workers for decades.</td></tr><tr><td>6093</td><td>The new tariffs the White House announced last month are likely to make things worse for the industry.</td></tr><tr><td>6124</td><td>Asian shares fell sharply on Tuesday after Wall Street suffered its biggest decline since 2011.</td></tr><tr><td>6163</td><td>The Dow Jones Industrial Average rose 567.02 points, or 2.33 percent, to 24,912.77.</td></tr><tr><td>6236</td><td>The minute-long commercial highlights the company's emergency response plans.</td></tr><tr><td>6259</td><td>The drop came as investors grappled with rising bond yields and potentially firming inflation.</td></tr><tr><td>6320</td><td>In an unprecedented move, the Fed ordered the bank to halt growth over compliance issues.</td></tr><tr><td>6348</td><td>Dozens of former employees have accused the casino mogul of sexual harassment.</td></tr><tr><td>6453</td><td>The government agency proposed a rule that would eliminate line speed maximums at hog plants.</td></tr><tr><td>6494</td><td>Activists celebrated the decision, but remain concerned about the welfare of workers in hog plants.</td></tr><tr><td>6521</td><td>\"HuffPost's reporting revealed text messages in which he called a female employee a \"\"whore.\"\"\"</td></tr><tr><td>6720</td><td>Just 39 percent of Americans have enough money in savings to cover an unexpected $1,000 bill, according to a new report.</td></tr><tr><td>6761</td><td>The billionaire was accused of decades of sexual abuse in a bombshell Wall Street Journal report published on Friday.</td></tr><tr><td>6790</td><td>Andrew Luccock pays about $1,700 per month for health insurance for his family of 5 — and still expects to pay more than</td></tr><tr><td>6794</td><td>The Las Vegas mogul has been accused of sexually harassing and abusing female employees.</td></tr><tr><td>6876</td><td>Trump was never invited to attend the World Economic Forum as a businessman.</td></tr><tr><td>7007</td><td>People who once had free accounts may now have to pay $12 a month.</td></tr><tr><td>7363</td><td>\"\"\"I'm terrible</td></tr><tr><td>7394</td><td>The places still in the running include 17 U.S. cities, one Canadian city and two other U.S. locations.</td></tr><tr><td>7536</td><td>The latest tumble leaves bitcoin more than 40 percent down from the record highs of around $20,000 reached in mid-December, wiping about $130 billion from its “market cap.\"\"</td></tr><tr><td>7677</td><td>“Out here, it feels like we’re in our own world. It doesn’t feel like the U.S. It feels like a third-world country.”</td></tr><tr><td>7733</td><td>The grant will help 1,000 undocumented immigrant graduates of U.S. high schools.</td></tr><tr><td>7764</td><td>\"The company calls the allegations \"\"baseless.\"\"\"</td></tr><tr><td>7769</td><td>At least 21 deaths worldwide are linked to the Takata inflators that can rupture and send deadly metal fragments inside vehicles.</td></tr><tr><td>8312</td><td>\"The tobacco company is pushing e-cigarettes instead, in what anti-smoking advocates are calling a \"\"P.R. stunt.\"\"\"</td></tr><tr><td>8524</td><td>What do you teach your kids about money, prosperity and how to get rich? If you’re like most parents, the answer is probably</td></tr><tr><td>8602</td><td>Some hikes are less than a quarter an hour. But when you're making minimum wage, every penny counts.</td></tr><tr><td>8657</td><td>The company dropped battery prices by $50, but some customers still aren't satisfied.</td></tr><tr><td>8711</td><td>That's trillion with a T.</td></tr><tr><td>8760</td><td>The discount chain is building a new distribution center in the Lone Star State to support its growing store count.</td></tr><tr><td>8858</td><td>\"One lawsuit claims the tech giant engaged in \"\"deceptive</td></tr><tr><td>8915</td><td>Social media gets lots of press, but social commerce has been pretty much ignored. Why is that — and why does it matter in</td></tr><tr><td>8956</td><td>Bonuses for workers are smart PR, but they don't mean Republicans' trickle-down fantasies are coming true.</td></tr><tr><td>8987</td><td>Papa John's has parted with its longtime CEO and founder John Schnatter.</td></tr><tr><td>9025</td><td>The surge in the company’s stock price lifted its market capitalization to $92 million from $23.8 million as of Wednesday’s close.</td></tr><tr><td>9028</td><td>Schmidt will continue to serve Alphabet as an adviser focused on technical and science issues.</td></tr><tr><td>9111</td><td>Those packages don’t appear by magic.</td></tr><tr><td>9126</td><td>\"“If you’re an American, your information probably was exposed,\"\" said the researcher who found the breach.\"</td></tr><tr><td>9196</td><td>There has been much greater concern about the danger of asset bubbles ever since the collapse of the housing bubble sank</td></tr><tr><td>9299</td><td>Forget the bidding war for Amazon's next headquarters. Local governments are already subsidizing the world's largest online retailer -- through its ever-growing fulfillment network.</td></tr></tbody></table></div>"
      ]
     },
     "metadata": {},
     "output_type": "display_data"
    }
   ],
   "source": [
    "file_uri = \"/mnt/mnt_s3/businessTest_1.csv\"\n",
    "\n",
    "testDataset = spark.read \\\n",
    "    .format(\"com.databricks.spark.csv\") \\\n",
    "    .options(header='true', inferSchema=\"true\") \\\n",
    "    .load(file_uri)\n",
    "display(testDataset)"
   ]
  },
  {
   "cell_type": "code",
   "execution_count": 6,
   "metadata": {},
   "outputs": [
    {
     "data": {
      "text/html": [
       "\n",
       "            <div>\n",
       "                <p><b>SparkSession - hive</b></p>\n",
       "                \n",
       "        <div>\n",
       "            <p><b>SparkContext</b></p>\n",
       "\n",
       "            <p><a href=\"http://10.172.234.74:48975\">Spark UI</a></p>\n",
       "\n",
       "            <dl>\n",
       "              <dt>Version</dt>\n",
       "                <dd><code>v2.4.5</code></dd>\n",
       "              <dt>Master</dt>\n",
       "                <dd><code>local[8]</code></dd>\n",
       "              <dt>AppName</dt>\n",
       "                <dd><code>Databricks Shell</code></dd>\n",
       "            </dl>\n",
       "        </div>\n",
       "        \n",
       "            </div>\n",
       "        "
      ]
     },
     "metadata": {},
     "output_type": "display_data"
    }
   ],
   "source": [
    "import sparknlp\n",
    "from sparknlp.base import *\n",
    "from sparknlp.annotator import *\n",
    "from pyspark.ml import Pipeline\n",
    "from sparknlp.pretrained import PretrainedPipeline\n",
    "\n",
    "sparknlp.start()"
   ]
  },
  {
   "cell_type": "code",
   "execution_count": 7,
   "metadata": {},
   "outputs": [
    {
     "data": {
      "text/html": [
       "<style scoped>\n",
       "  .ansiout {\n",
       "    display: block;\n",
       "    unicode-bidi: embed;\n",
       "    white-space: pre-wrap;\n",
       "    word-wrap: break-word;\n",
       "    word-break: break-all;\n",
       "    font-family: \"Source Code Pro\", \"Menlo\", monospace;;\n",
       "    font-size: 13px;\n",
       "    color: #555;\n",
       "    margin-left: 4px;\n",
       "    line-height: 19px;\n",
       "  }\n",
       "</style>\n",
       "<div class=\"ansiout\">tfhub_use download started this may take some time.\n",
       "Approximate size to download 923.7 MB\n",
       "\r",
       "[ | ]\r",
       "[OK!]\n",
       "</div>"
      ]
     },
     "metadata": {},
     "output_type": "display_data"
    }
   ],
   "source": [
    "# actual content is inside description column\n",
    "document = DocumentAssembler()\\\n",
    "    .setInputCol(\"text\")\\\n",
    "    .setOutputCol(\"document\")\n",
    "\n",
    "use = UniversalSentenceEncoder.pretrained() \\\n",
    " .setInputCols([\"document\"])\\\n",
    " .setOutputCol(\"sentence_embeddings\")\n",
    "\n",
    "# the classes/labels/categories are in category column\n",
    "sentimentdl = SentimentDLApproach()\\\n",
    "  .setInputCols([\"sentence_embeddings\"])\\\n",
    "  .setOutputCol(\"class\")\\\n",
    "  .setLabelColumn(\"label\")\\\n",
    "  .setMaxEpochs(5)\\\n",
    "  .setEnableOutputLogs(True)\n",
    "\n",
    "pipeline = Pipeline(\n",
    "    stages = [\n",
    "        document,\n",
    "        use,\n",
    "        sentimentdl\n",
    "    ])"
   ]
  },
  {
   "cell_type": "code",
   "execution_count": 8,
   "metadata": {},
   "outputs": [
    {
     "data": {
      "text/html": [
       "<style scoped>\n",
       "  .ansiout {\n",
       "    display: block;\n",
       "    unicode-bidi: embed;\n",
       "    white-space: pre-wrap;\n",
       "    word-wrap: break-word;\n",
       "    word-break: break-all;\n",
       "    font-family: \"Source Code Pro\", \"Menlo\", monospace;;\n",
       "    font-size: 13px;\n",
       "    color: #555;\n",
       "    margin-left: 4px;\n",
       "    line-height: 19px;\n",
       "  }\n",
       "</style>\n",
       "<div class=\"ansiout\"><span class=\"ansi-red-fg\">---------------------------------------------------------------------------</span>\n",
       "<span class=\"ansi-red-fg\">NameError</span>                                 Traceback (most recent call last)\n",
       "<span class=\"ansi-green-fg\">&lt;command-2848134660505655&gt;</span> in <span class=\"ansi-cyan-fg\">&lt;module&gt;</span>\n",
       "<span class=\"ansi-green-intense-fg ansi-bold\">      1</span> \n",
       "<span class=\"ansi-green-fg\">----&gt; 2</span><span class=\"ansi-red-fg\"> </span>pipelineModel <span class=\"ansi-blue-fg\">=</span> pipeline<span class=\"ansi-blue-fg\">.</span>fit<span class=\"ansi-blue-fg\">(</span>trainDataset<span class=\"ansi-blue-fg\">)</span>\n",
       "\n",
       "<span class=\"ansi-red-fg\">NameError</span>: name &#39;pipeline&#39; is not defined</div>"
      ]
     },
     "metadata": {},
     "output_type": "display_data"
    }
   ],
   "source": [
    "\n",
    "pipelineModel = pipeline.fit(trainDataset)\n"
   ]
  },
  {
   "cell_type": "code",
   "execution_count": 9,
   "metadata": {},
   "outputs": [
    {
     "data": {
      "text/html": [
       "<style scoped>\n",
       "  .ansiout {\n",
       "    display: block;\n",
       "    unicode-bidi: embed;\n",
       "    white-space: pre-wrap;\n",
       "    word-wrap: break-word;\n",
       "    word-break: break-all;\n",
       "    font-family: \"Source Code Pro\", \"Menlo\", monospace;;\n",
       "    font-size: 13px;\n",
       "    color: #555;\n",
       "    margin-left: 4px;\n",
       "    line-height: 19px;\n",
       "  }\n",
       "</style>\n",
       "<div class=\"ansiout\"><span class=\"ansi-red-fg\">---------------------------------------------------------------------------</span>\n",
       "<span class=\"ansi-red-fg\">NameError</span>                                 Traceback (most recent call last)\n",
       "<span class=\"ansi-green-fg\">&lt;command-2848134660505656&gt;</span> in <span class=\"ansi-cyan-fg\">&lt;module&gt;</span>\n",
       "<span class=\"ansi-green-fg\">----&gt; 1</span><span class=\"ansi-red-fg\"> </span>pipelineModel<span class=\"ansi-blue-fg\">.</span>save<span class=\"ansi-blue-fg\">(</span><span class=\"ansi-blue-fg\">&#34;/mnt/mnt_s3/sentimentdl_pipeline_2&#34;</span><span class=\"ansi-blue-fg\">)</span>\n",
       "\n",
       "<span class=\"ansi-red-fg\">NameError</span>: name &#39;pipelineModel&#39; is not defined</div>"
      ]
     },
     "metadata": {},
     "output_type": "display_data"
    }
   ],
   "source": [
    "pipelineModel.save(\"/mnt/mnt_s3/sentimentdl_pipeline_2\")"
   ]
  },
  {
   "cell_type": "code",
   "execution_count": 10,
   "metadata": {},
   "outputs": [
    {
     "data": {
      "text/html": [
       "<style scoped>\n",
       "  .ansiout {\n",
       "    display: block;\n",
       "    unicode-bidi: embed;\n",
       "    white-space: pre-wrap;\n",
       "    word-wrap: break-word;\n",
       "    word-break: break-all;\n",
       "    font-family: \"Source Code Pro\", \"Menlo\", monospace;;\n",
       "    font-size: 13px;\n",
       "    color: #555;\n",
       "    margin-left: 4px;\n",
       "    line-height: 19px;\n",
       "  }\n",
       "</style>\n",
       "<div class=\"ansiout\"></div>"
      ]
     },
     "metadata": {},
     "output_type": "display_data"
    }
   ],
   "source": [
    "loadedPipeline = PipelineModel.load(\"/mnt/mnt_s3/sentimentdl_pipeline\")"
   ]
  },
  {
   "cell_type": "code",
   "execution_count": 11,
   "metadata": {},
   "outputs": [
    {
     "data": {
      "text/html": [
       "<style scoped>\n",
       "  .table-result-container {\n",
       "    max-height: 300px;\n",
       "    overflow: auto;\n",
       "  }\n",
       "  table, th, td {\n",
       "    border: 1px solid black;\n",
       "    border-collapse: collapse;\n",
       "  }\n",
       "  th, td {\n",
       "    padding: 5px;\n",
       "  }\n",
       "  th {\n",
       "    text-align: left;\n",
       "  }\n",
       "</style><div class='table-result-container'><table class='table-result'><thead style='background-color: white'><tr><th>text</th><th>document</th><th>sentence_embeddings</th><th>class</th></tr></thead><tbody><tr><td>This is so great! How are you</td><td>List(List(document, 0, 28, This is so great! How are you, Map(sentence -> 0), List()))</td><td>List(List(sentence_embeddings, 0, 28, This is so great! How are you, Map(sentence -> 0, token -> This is so great! How are you, pieceId -> -1, isWordStart -> true), List(-0.044814963, -0.05343625, -0.017754782, 0.04899741, 0.051401008, -0.042926952, 0.036112633, -0.005341642, -0.02022967, 0.011376023, 0.015447797, -0.03130282, 0.03275759, 0.00642316, 0.039736662, 0.051038373, 0.038437348, 0.034722913, -0.034205608, -0.024489608, 0.099452905, 0.0028532716, -0.056623675, 0.026428374, -0.04274834, 0.025320418, -0.01104122, -0.073644206, -0.03576117, -0.033458825, 0.082821526, -0.042382907, 0.082729585, -0.0011118852, 0.065487035, -0.0283428, -0.051970217, -0.058127046, 0.03421903, -0.028819056, -0.036846448, 0.013446278, 0.045095786, 0.016007995, 0.0707104, -0.01935179, -0.006292021, -0.005656347, 0.005722599, 0.008506344, 0.024640396, -0.003702339, 6.7961955E-4, -0.022444168, 0.076750256, 0.07733127, 0.059107386, -0.06609662, 0.03468297, -0.03865948, -0.025027692, 0.044098016, -0.014282938, -0.059225313, -0.038453918, -0.035218187, -0.056729585, -0.05309764, 0.065831594, 0.010803969, -0.057025556, -0.039839912, -0.031291652, -0.053471718, 0.042174432, 0.060792103, 0.08429857, 0.010691451, 0.069566414, -0.023105096, -0.011219691, 0.024073828, -0.05625869, 0.012703204, 1.7737046E-4, 0.052746415, 0.012890334, -0.045072738, 0.019110646, -0.055593796, 0.031743743, 0.0025748091, -0.019045701, -0.030780612, -0.10658766, 0.004763453, 0.0071506267, -0.003284561, 0.05396042, 0.11376959, 7.763902E-4, -0.1186138, 0.08270888, -0.0045158556, -0.05326657, 0.032826807, -0.039628632, -0.0041902624, 0.014405311, -0.012880672, 0.004350969, 0.012856381, 0.051018436, 0.022614928, -0.02875179, -0.046244856, 0.021447573, -0.031113666, -0.07471646, -0.038660914, 0.03289692, 0.021789124, -0.0025288947, 0.06426864, -0.0051148986, -0.05059947, -0.033726927, -0.054526698, -0.0045733494, 0.03328055, -0.044403262, 0.018477082, -0.018676149, 0.035189956, 0.036130164, -0.038257193, -0.030391626, -0.042574156, 0.030725103, -0.046986755, 0.019910518, 0.005418108, -0.053559422, -0.025283162, 0.019360937, -0.038261373, 0.0054283044, 0.10191601, -0.050012954, 0.03935554, -0.0817351, -0.059689377, 0.002063957, 0.10042983, 0.030023627, 0.039280195, 0.009968658, -0.04929852, 0.060588483, -0.06867872, -0.066693395, 0.021424767, 0.10294692, -4.891793E-4, -0.017728198, -0.013681293, -0.03457137, -0.045889124, 0.019508168, 0.041074105, 0.07727595, -5.501505E-6, 0.01824646, -9.4660456E-5, 0.05029057, -0.022003526, -0.02695722, -0.012759411, -0.055593982, -0.04205846, -0.026314365, 0.034369566, 0.06197125, 0.03571874, 0.024103774, 0.026397195, -0.039646268, 0.039003223, -0.026113579, 0.01765421, -1.3625374E-4, 0.006826758, -0.018291926, -0.051366325, 0.013106154, -0.046678502, 0.046303608, -0.017140668, 0.075248525, 0.063914366, -0.021790413, -0.03630901, 0.009796751, 0.035290606, -0.045177896, -0.04819629, 0.064659104, 0.0025759086, 0.054529287, -0.046675652, 0.060961206, 0.0028563696, 0.019508852, 0.02119605, -0.022595815, -0.0033000112, 0.061546978, 0.07723145, 0.021880565, 0.061690632, 0.03863656, -0.022855945, 0.032332595, 0.03648825, -0.017861746, -0.0056460984, 0.0053528245, 0.05916097, 0.079446, -0.07054129, 0.057076335, 0.03138806, 0.0014789229, 0.04244129, -0.024902502, -0.058261547, -0.02966465, 0.07425235, -0.027796218, 0.0052131084, 0.00622651, -0.078930184, -0.041052915, -0.08807453, 9.734605E-4, 0.050643098, 0.015911493, -9.3615556E-4, -0.026559249, 0.090227455, -0.015512658, -0.085749336, 0.013179673, 0.004841457, -0.044150174, -0.036906186, -0.015180662, -0.019440904, -0.054300856, -0.08758833, 0.045280196, -0.026457367, -0.08181092, 0.012085323, -0.038430743, 0.019560752, -0.047415186, -0.047496386, 1.6744996E-5, -0.046276934, 0.029708872, -0.0041234973, -0.0029851885, 0.026296716, -0.065690756, -0.048057877, -0.041748177, 0.062258754, -0.033050157, -0.06737835, -0.017354228, -0.05597544, 0.015786571, 0.0010437329, -0.07166444, -0.07801268, 0.04257807, 0.04942974, -0.078850724, 0.04084522, -0.034103144, 0.06360265, 0.045368563, -0.09386598, -0.010499532, 0.016721603, 0.019168725, 0.060595993, -0.02893206, 0.022218773, 0.015391518, 0.04646184, 0.0056534363, -0.020127896, -0.02537573, -0.002442842, 0.018111376, 0.069363125, 0.01243066, 0.02306453, 0.042959753, 0.046981413, -0.009208796, -0.0023731687, -0.027438127, 0.06111167, 0.03105838, 0.025551332, 0.043176956, 0.060655437, -0.014460566, 0.06227263, -6.3383294E-4, -0.014890319, -0.08746518, -0.010394779, -0.0437174, -0.028389959, 0.04548805, 0.005920897, -0.04922914, -0.014019652, 0.012648722, -0.074628785, 0.051786162, 0.011159786, 0.05056654, 0.03705559, 0.020790955, -0.025019877, -0.055039216, -0.029596796, 0.11984023, 0.059746247, -0.008260063, 0.016146343, -0.007025426, -0.042489532, -0.0023786637, -0.056766305, 0.05355089, -0.07373987, -0.06359809, 0.05963098, -0.036493592, 0.05314451, -0.03521385, 0.022884175, -0.025356792, -0.023820946, -0.05707528, 0.054075994, -0.02757164, -0.07608875, 0.015866721, -0.037685268, 0.0017401855, 0.063001856, 0.0063772444, 0.052112337, 0.025218718, 0.0058290926, -0.013598732, -0.02465223, -0.05831268, 7.117313E-4, -0.07646819, -0.03629308, -0.022871539, 0.055790137, 0.04198721, -0.029382331, 0.014265618, 0.05850921, -0.02862568, -0.04508171, 0.014077942, -0.045720898, -0.06696583, 0.040143225, 0.018599499, 0.04906281, -0.007219002, 6.1934954E-4, 0.011809844, -0.03394466, 0.019577565, 0.03180979, -0.037855964, 0.062560596, -0.051288098, -0.07789953, -0.082340024, 0.0031927435, 0.059843034, -3.6677436E-4, -0.047346763, -0.07075298, 0.043096118, -0.02168733, -5.806506E-4, 0.05381918, -0.0897392, -0.04400578, 0.038975913, 0.106586635, 0.011403084, 0.0167025, 0.05899819, 0.022570211, 0.0100464, 0.045784604, 0.0148052955, -0.05445301, 0.015978271, -0.018239168, -0.020733576, -0.059354868, -0.087570116, 0.010763232, 0.027750226, 0.0062750145, 0.05035737, 0.0062635443, -0.08042083, -0.062452856, 0.055849418, -0.055303935, -0.057897378, 0.03291124, -0.03485116, -0.05211541, -0.01231625, -0.030532185, 0.049381524, 0.04639088, 0.08530234, 0.02235467, 0.05592315, -0.065307885, -0.0023660334, 0.008905022, 0.018648949, -0.0064260648, -0.055316404, -0.038113326, 0.08530778, -0.040038135, 0.019605769, -0.073047034, 0.022343643, 0.014480592, 0.034414623, 0.009621597, 0.027709978, -0.06541907, -0.009368934, 0.005358719, -0.024659192, -0.04740125, 0.04143863, -0.06925371, -0.05304979, -0.00854447, -0.029781697, 0.019842166, -0.07652735, -0.0200076, -0.012373131, 0.023117695, -0.01545143, -0.021447273, -0.04516706, -0.03210723, -0.005137637, 0.02135544, 0.022627374, 0.02266083, -0.053274926, -0.045935713, 0.0013715753, 0.07212246, 0.008818554, -0.0609313, -0.065033995, -0.021049613, 0.026180414, 0.042359125, 0.037791554, 0.06387918, -0.026525835, 0.02843007, 0.06500793, 0.094800696, -0.035872955, -0.054932736, 0.010316236, -0.057480436, 0.04194603, 0.010365273, -0.034919128, 0.01576521)))</td><td>List(List(category, 0, 28, positive, Map(sentence -> 0, positive -> 1.0, negative -> 9.504015E-12), List()))</td></tr><tr><td>No way, never again!</td><td>List(List(document, 0, 19, No way, never again!, Map(sentence -> 0), List()))</td><td>List(List(sentence_embeddings, 0, 19, No way, never again!, Map(sentence -> 0, token -> No way, never again!, pieceId -> -1, isWordStart -> true), List(0.01968834, -0.002837751, -0.016137714, 0.013522027, -0.004118537, -0.014825487, -0.07611282, -0.078595385, -0.031865723, 0.024406366, 0.021083662, 0.014891209, -0.01077525, -0.036439534, 0.023593502, 0.025614746, -0.0036783323, -0.03035633, 2.5473372E-4, -0.039405644, -0.075604126, 0.0022857846, -0.013735199, -0.05276843, -0.058895182, 0.05344509, 0.026187455, -0.10963041, -0.003697154, 0.009676611, 0.016606597, -0.043728493, -0.022162667, -0.0243829, -0.03164862, -0.004520566, -0.029536996, 0.10043714, 0.040445935, -0.003928715, 0.033258103, -0.0019726327, 0.06521722, 0.007908995, 0.0015223912, -0.112929456, 0.016972642, -0.03517003, -0.007720533, 0.025500173, 0.014046814, -0.0024857102, -0.0011042476, -0.030805705, 0.08935146, -0.079278104, 0.089240395, -0.020463686, -0.048853327, 0.006483916, 0.0069693355, 0.03576799, 0.04730622, 0.0154499365, -0.052303273, -0.023441209, 0.033929948, 0.043406315, -0.012906375, -0.025806583, -0.01749618, -0.0114236, 0.017379764, 0.013048286, -0.0016582358, -0.0057164454, -0.033015393, 0.020582441, 0.007721899, 0.06287013, 0.022054445, -0.09544065, -0.021763729, -0.012327713, 0.048639484, -0.07757111, -0.047206663, 0.030298823, 0.015016648, -0.07242193, 0.041268427, 0.03742256, -0.0065530683, 0.009968729, -0.056087103, -0.05604768, 0.062034056, -0.002224633, -0.06262596, -0.0058550825, 0.017049056, -0.019985357, -0.042309687, -0.010168586, 0.03138086, 0.08351567, 0.04464743, 0.035198558, -0.020069243, 0.07083139, -0.09669215, 0.016818961, 0.014617475, -0.012645843, -0.018834127, -0.002275782, 0.0018383297, -0.095878184, 0.056813233, -0.019056441, 0.036003213, 0.04738544, 0.016770719, -0.036868963, -0.037605405, -0.09547894, -0.047466077, -0.0017602707, 0.060742013, 0.001470135, -0.06215427, 0.011092611, 0.020751758, -0.0037450397, 0.035976738, -0.0011160795, 0.013894692, 0.0011138539, 0.114050604, -0.010612687, -0.020033136, 0.019527024, -0.09508568, 0.024296563, -0.02558317, 0.07098993, 0.026016518, -0.021584671, -0.038071185, -0.028254304, 0.027403379, -0.1086356, 0.033775304, -0.056935396, -0.006788362, -0.0011149754, 0.04273066, -0.012687059, 0.061621424, -0.017497437, -0.108901605, 0.03066074, 0.016716076, 0.03830349, 0.016901428, -0.0017555676, -0.028602187, -0.035022575, 0.008165459, 0.04592246, -0.02828685, -0.008955969, -0.033331595, -0.043196086, 0.048757344, 0.028870335, 0.009277219, 0.007362088, -0.079253905, -0.015437935, 3.0463963E-4, -0.012463498, 0.09911192, -0.0700007, 0.023758465, 0.018027483, 0.022483155, -0.06948251, 0.039412074, 0.040095128, 0.009608461, 0.0061860564, 0.020016067, 0.025152916, -0.029639918, -0.10685778, 0.004117513, -0.007621528, -0.04429929, -0.033206616, 0.031277444, -0.005180059, 0.028834097, -0.04936777, -0.0019790132, -0.047411885, 0.059758298, 0.017212892, -0.08433169, 0.010969216, 0.10243362, 0.04097177, 0.030209122, 0.07142805, -0.058636304, -0.013834134, -0.0014950668, 0.034985445, -0.07449719, -0.012273359, -0.006999811, 0.006850862, 0.016334556, 0.015406278, -0.0020127245, -0.082794026, -0.04567526, 0.04950717, -0.07848477, -0.02353067, 0.030970262, 0.05489018, -0.019819971, 0.0074993493, 0.032887578, 0.039789256, 0.03823199, -0.052386116, 0.05369864, 0.031394348, 0.045338154, 0.10405897, 0.03705767, 0.05154102, -0.060321316, 0.022322135, 0.031796895, 0.00302501, 0.030542744, -0.03117643, -0.034585938, 0.026435087, 0.034043334, 0.048587848, -0.013939161, 0.04162712, 0.0029567701, 0.04080929, 0.039177533, 0.05044211, 0.011326531, 0.0595552, 0.012359411, -0.0121402, -0.07208679, -0.051142696, 0.039704844, 0.07064887, -0.0542911, -0.035800215, 0.022776231, 0.01864789, -0.06979576, 0.010793832, -0.08241927, 0.04458698, 0.017462192, -0.03328395, -0.016644483, -0.039526235, -0.021713993, -0.03985899, 0.027698293, 0.03182306, -0.09264043, 0.005003657, 0.014377948, 0.051305205, -0.023814932, -0.03532099, -0.023806484, -0.025760679, 0.030729456, -8.50375E-5, 0.039153337, -0.012373496, 0.0043505398, 0.03789414, 0.07270529, -0.036556818, -0.042740524, -0.006987402, -0.030243944, 0.06398078, -0.04820815, -0.0069669182, 0.01388051, 0.053487897, -0.017720519, 0.007739669, 0.10658333, 0.045512162, 0.029874576, -0.047325, -0.009243511, 0.0254047, 0.014010252, -0.002811061, 0.0021420955, 0.0035732572, -0.0050901617, 0.022840505, 0.033181287, -0.008076046, -0.060142025, 0.022032334, 0.04194852, 0.011563639, -0.0042573526, -0.026793674, 0.035769206, -0.04128829, -0.08824983, 0.032949086, -0.002490949, 0.025092565, -0.07300558, 0.105181605, 0.005832974, -0.0283122, -0.012140006, -0.02594965, -0.03143375, -7.58503E-4, 0.07825089, -0.018660557, -0.061330765, 0.053231545, -0.050383694, -0.017735194, 0.05098992, -0.06617634, -0.06336119, 0.024376946, 0.019600734, -0.028730338, -0.032088656, 0.003983361, 0.0018184878, -0.041208487, 0.06976286, 0.022177648, 0.010133424, -4.4801556E-5, 0.011860557, -0.015447446, 0.015013404, 0.10785788, -0.07100378, -0.018289784, -0.006665446, -0.05305138, 0.020689208, 0.00805729, -0.015722025, 0.08637763, 0.010336097, 0.07905866, -0.0014539837, 0.057718568, 0.08593534, -0.00873364, -0.05682274, -0.019880733, -0.021922972, -0.03556007, 0.044742502, -0.04861135, -0.104735725, 0.025533205, 0.0313585, 0.031612165, -0.023134345, 0.02441936, -0.043071292, -0.022882544, -0.022669075, -0.009919446, 0.05926384, 0.01722952, 0.028528066, 0.065682776, -0.08218847, 0.0022868982, 0.046864666, 0.057564232, -0.029431492, 0.053755302, -0.025166556, 0.02411872, -0.020585477, 0.016276998, -0.011450146, -0.03524221, 0.027418949, -0.039157473, -0.001461666, 0.0036121835, -0.01701065, -0.0070458828, -0.029941332, -0.037864186, -0.0058148457, 0.0721853, 0.046218812, -0.028120473, -0.059266623, 0.07195695, 0.012169332, 0.009792105, 0.10109778, -0.009234241, 0.032879777, 0.018257473, 0.062699124, -0.0133296745, -0.04249673, 0.012934059, 0.029349653, 0.0622255, 0.006341135, -0.067475386, -0.025196403, 0.05510598, 0.046604928, -0.047392566, 1.8052346E-5, 0.01828664, 0.10770378, 0.06631635, -0.003968996, -0.088322595, 0.049492344, 0.057755508, 0.024965923, -0.019045053, 0.10836171, 0.038282495, 0.03730129, 0.0047449726, -0.05816586, -0.017064651, -0.07260823, -0.0056556966, -0.042763706, -0.05275334, 0.0014425633, 0.04932006, 0.09352136, -0.011116873, 0.01743858, 0.057850208, 0.016727483, 0.018984042, 0.035981383, 0.046090398, -0.0891375, 0.007005666, 0.016410135, -0.07531161, -0.006250451, -0.04024044, -0.037500266, 0.035671033, -0.029467747, 0.020375572, -0.025470098, -0.09540727, -0.10916286, -0.043365527, 0.04378458, -0.014516248, 0.046675958, 0.01708289, -0.017113956, 0.014357633, -0.044428624, 0.016098596, -8.259266E-4, -0.017736813, 0.05885921, -0.04471329, -0.02056402, 0.003389644, 0.06591112, 0.044880256, -0.010152286, -0.09465166, 0.1112892, -0.002114523, -0.10728134, 0.0052331765)))</td><td>List(List(category, 0, 19, negative, Map(sentence -> 0, positive -> 2.1435148E-6, negative -> 0.99999785), List()))</td></tr><tr><td>Yes, bring on more!</td><td>List(List(document, 0, 18, Yes, bring on more!, Map(sentence -> 0), List()))</td><td>List(List(sentence_embeddings, 0, 18, Yes, bring on more!, Map(sentence -> 0, token -> Yes, bring on more!, pieceId -> -1, isWordStart -> true), List(0.044870585, 7.8038534E-4, 0.002153987, -0.025557838, -0.006903334, -0.019455273, -0.07855054, -0.0414462, -0.048343495, -0.012155616, -0.009834611, 0.06623944, -0.017361471, 0.0075905444, -0.021286853, 0.07103728, 0.05803849, 0.0054649487, 0.025868269, -0.03026779, -0.012117196, 0.0629962, -0.040768072, -0.005793058, 1.12898735E-4, 0.055393327, 0.017923266, -0.11135722, -0.026929474, 0.012223885, -0.021613527, 0.008542114, 0.031003531, -0.0068529723, 0.0075172624, 0.042948466, -0.007720766, 0.02473131, 0.061622098, 0.07153556, 0.013024715, 0.012178633, -0.036305297, 0.014599608, 0.012861926, -0.12956004, 0.051832054, -0.036832176, 0.02471215, 0.01656772, 0.017340729, 0.046044894, -0.04491977, -0.054047596, 0.11303515, -0.086983144, 0.08825773, -0.014385106, -0.025624018, -0.009004846, 0.018650163, 0.034779593, 0.03424889, 0.0020937964, -0.040748764, -0.056561634, 0.06068164, -0.011772569, -0.009697307, 0.045545887, -0.042320058, -5.6644954E-4, 0.029464722, 0.014543914, 0.0074004047, -0.03712317, -0.014228343, -0.03718512, -0.020922337, 0.050366435, 0.043988038, -0.10666878, -0.05065486, 0.0076704063, -0.0066892863, 8.4090274E-4, 0.04444812, 0.051864997, -0.019832376, -0.07805498, 0.04294446, -0.01739676, 0.0330783, -0.018078668, -0.023276957, -0.046773467, 0.03194829, -0.0321041, -0.04210748, 0.06653239, 0.03455431, 0.020861804, -0.053782973, 0.018078767, 0.031794738, -0.017897332, -0.009913848, 0.026454266, -0.023155767, -0.006889004, 0.058058787, -0.041391682, -0.008289739, 4.518305E-4, 0.02864109, 0.031911734, -0.0047022994, -0.0782674, 0.039468024, -0.016257772, 0.004715978, -0.048826344, 0.011326152, 0.017147047, -0.044520754, -0.096537404, -0.08820336, -0.021953477, 0.061493438, 0.019324128, 0.033427645, 0.041223496, -0.027487775, -0.006686479, 0.024634385, -0.05033867, -0.034429137, -0.004449731, 0.11980808, -0.012141331, -0.053886995, -0.0016014527, -0.109861806, -0.019830734, -0.010109338, 0.058320615, 0.011649223, 0.06603249, -0.023171036, -0.008020256, -0.029361084, -0.101069994, 0.04131653, -0.002325638, -0.003255639, 0.029778946, 0.049036596, -0.037192333, 0.0716154, -0.044216063, -0.10241029, 0.03681402, 0.013502703, 0.03680085, -0.036236353, -0.04656288, -0.025252296, -0.015539621, -0.037411977, -0.0041583017, -0.01949866, 0.0154834585, -0.0505363, 4.1020036E-4, 0.069403544, -0.015655998, 0.03578354, -0.012462677, -0.032405008, 0.04152348, -0.023398647, 8.111158E-5, 0.052649684, -0.042902395, 0.05570791, 0.04000448, 0.045748107, -0.0072556552, -0.05196048, 0.050954252, 0.024903812, -0.003779935, 0.044885423, 0.026221132, -0.046074457, -0.109143876, 0.041443218, -0.040407203, -0.048422556, 0.04358169, 0.043980226, 0.026067985, 0.011494187, 0.008888867, -0.0059527396, -0.032627176, -0.0076537784, 0.05477451, -0.09453892, 7.637736E-4, 0.10799917, 0.013573458, -0.04321456, 0.056599416, -0.056628447, -0.0036928575, 0.005098516, -0.046676297, -0.098446734, 0.007248248, -0.050844338, -0.024652919, 0.017298786, 0.0061540017, 0.023731487, -0.064541146, -0.059931133, 0.016676279, -0.021986263, 0.06356718, -0.009600192, 0.03804036, -0.03427605, 0.00416158, 0.037582148, 5.8446405E-4, 0.042895477, 0.09460725, 0.0026589243, 0.024820087, 0.029770663, 0.09382517, 0.047026247, 0.09494301, -0.02616977, 0.021270415, 0.058933593, -0.052471958, 0.068070054, -0.018952137, -0.03334943, 0.066278905, 0.06469517, 0.024565654, -0.026136441, 0.058695458, 0.0272942, 0.04646386, 0.013660093, 0.022911644, -0.014350086, 0.039458014, -0.0034906429, -0.057650078, -0.05943661, -0.049829427, -0.009803732, 0.031992927, -0.06150327, -0.010450675, -0.030881615, 0.0025973544, -0.059745297, 0.024478583, -0.06403355, 0.019341197, -0.032881822, 0.024624143, -0.0066218576, 0.05540607, 0.0076827337, 0.0059266076, 0.030319644, 4.2650374E-4, -0.09862137, 0.08100769, 0.009892427, 0.05688315, -0.036325492, 0.07478534, 0.009287478, 0.043600556, -0.0062834066, -0.057413682, 0.07594733, 0.014735008, 0.0053474237, -0.06062918, 0.028260963, 0.0070493724, -0.020543734, -0.0043392265, -0.023059392, -0.0023403608, -0.05608717, 0.019259125, 0.013857801, 0.04892014, -0.019129992, 0.031352755, 0.05858041, 0.051394332, 0.04198389, -0.035230104, -0.070183225, 0.051435146, 0.047663648, -0.047206342, -0.026229337, 0.014033877, -0.042176332, -0.03319687, 0.031172883, -0.0031643242, -0.04509286, -0.029436363, 0.024094518, -0.023909427, 0.01782215, -0.02742576, 0.036275063, 0.016201187, -0.03539115, -0.01442039, 0.0069304127, 0.04882534, -0.02817911, 0.11159513, 0.031561144, -0.027535582, -0.038874757, 0.007374984, 0.030929478, 0.047443587, 0.05694614, -0.040397994, 0.023016853, 0.025806548, 0.03118609, -0.008702317, 0.017815754, -0.05808024, 0.012568264, 0.021653, -0.034952566, -0.01949172, -0.008345849, -0.03531813, -0.04760802, -0.038260616, 0.04366255, 0.015397508, -0.03237092, 0.012084879, -0.020749973, 0.013603052, 0.002194125, 0.117857724, -0.030423094, 0.044674993, 0.027868535, 0.025987357, 0.0166324, 0.032014087, 0.015676716, 0.055792052, 0.045412872, 0.039915916, -0.06745878, 0.02183878, 0.08536375, -0.013635613, 0.013674869, -0.0116452165, -0.04534052, 0.018506674, 0.0736145, -0.06667011, -0.11492557, 0.0404651, 0.022173112, 0.100292265, -0.07204349, 0.015072434, -0.028548343, -0.07350911, -0.015441617, 0.0154545335, 0.03924346, 0.003306821, 0.007299255, 0.02513318, -0.0921747, -0.023541236, -0.07333847, 0.043617766, -0.0019575157, -0.05130707, 0.007564503, -0.041575696, -0.03257056, 0.04844972, -0.034687176, 0.0012181618, 0.026647776, -0.010701629, -0.012308115, 0.0073171626, -0.01677539, 0.016911214, -0.023300046, -0.044457275, 0.0056150677, 0.06589868, 0.03472302, 0.01477843, -0.02317854, 0.09827068, -0.06346892, -0.015875882, 0.09471663, -0.0051142406, 0.040907126, 0.049542286, -0.029310523, -0.0020204743, -0.05028666, -0.0014968814, 0.01878973, -0.053129625, 0.011766787, -0.056168713, 0.0126280645, 0.02962775, 0.06197525, -0.05929574, 0.016341291, -0.03868155, 0.10526233, 0.0863825, 0.041560963, -0.06998221, -0.06444791, 0.045407016, -0.0022919315, -0.0015611446, 0.090596996, 0.0038890343, 0.019913908, 0.046325576, -0.038782865, -0.04394778, 0.015839733, 0.0025589895, -0.01951515, -0.014718221, 0.022610988, 0.012403335, 0.07855142, 0.012310448, 0.01287532, -0.015266082, -0.011267009, -5.4647593E-5, 0.044722114, 0.050297465, -0.08369399, -0.016403573, 0.012723432, -0.079725794, 0.019184245, -0.011848279, -0.056061067, 0.028842684, -0.014075875, -0.026721226, 0.010626641, -0.08167182, -0.11131087, 0.054174732, -0.011368816, -0.0063639777, 0.073811285, 0.030999234, -0.016545283, 0.027159913, 0.030685334, 0.035050765, 0.0060555064, -0.0017079967, 0.01901658, -0.012668813, 0.02582363, 0.037404925, 0.013403926, -0.014927109, -0.026635975, -0.06561902, 0.12091808, -0.008925377, -0.114543006, -0.074358866)))</td><td>List(List(category, 0, 18, positive, Map(sentence -> 0, positive -> 0.99999917, negative -> 8.88518E-7), List()))</td></tr></tbody></table></div>"
      ]
     },
     "metadata": {},
     "output_type": "display_data"
    }
   ],
   "source": [
    "import pandas as pd\n",
    "pdf = pd.DataFrame({\"text\": [\n",
    "  \"This is so great! How are you\", \n",
    "  \"No way, never again!\", \n",
    "  \"Yes, bring on more!\"\n",
    "]})\n",
    "df = spark.createDataFrame(pdf)\n",
    "\n",
    "results = pipelineModel.transform(df)\n",
    "display(\n",
    "  results\n",
    ")"
   ]
  },
  {
   "cell_type": "code",
   "execution_count": 12,
   "metadata": {},
   "outputs": [
    {
     "data": {
      "text/html": [
       "<style scoped>\n",
       "  .table-result-container {\n",
       "    max-height: 300px;\n",
       "    overflow: auto;\n",
       "  }\n",
       "  table, th, td {\n",
       "    border: 1px solid black;\n",
       "    border-collapse: collapse;\n",
       "  }\n",
       "  th, td {\n",
       "    padding: 5px;\n",
       "  }\n",
       "  th {\n",
       "    text-align: left;\n",
       "  }\n",
       "</style><div class='table-result-container'><table class='table-result'><thead style='background-color: white'><tr><th>text</th><th>result</th></tr></thead><tbody><tr><td>This is so great! How are you</td><td>List(positive)</td></tr><tr><td>No way, never again!</td><td>List(negative)</td></tr><tr><td>Yes, bring on more!</td><td>List(positive)</td></tr></tbody></table></div>"
      ]
     },
     "metadata": {},
     "output_type": "display_data"
    }
   ],
   "source": [
    "display(\n",
    "  results.selectExpr(\"text\", \"class.result\")\n",
    ")"
   ]
  },
  {
   "cell_type": "code",
   "execution_count": 13,
   "metadata": {},
   "outputs": [
    {
     "data": {
      "text/html": [
       "<style scoped>\n",
       "  .ansiout {\n",
       "    display: block;\n",
       "    unicode-bidi: embed;\n",
       "    white-space: pre-wrap;\n",
       "    word-wrap: break-word;\n",
       "    word-break: break-all;\n",
       "    font-family: \"Source Code Pro\", \"Menlo\", monospace;;\n",
       "    font-size: 13px;\n",
       "    color: #555;\n",
       "    margin-left: 4px;\n",
       "    line-height: 19px;\n",
       "  }\n",
       "</style>\n",
       "<div class=\"ansiout\"><span class=\"ansi-red-fg\">---------------------------------------------------------------------------</span>\n",
       "<span class=\"ansi-red-fg\">NameError</span>                                 Traceback (most recent call last)\n",
       "<span class=\"ansi-green-fg\">&lt;command-3190552083553456&gt;</span> in <span class=\"ansi-cyan-fg\">&lt;module&gt;</span>\n",
       "<span class=\"ansi-green-fg\">----&gt; 1</span><span class=\"ansi-red-fg\"> </span>analyzer<span class=\"ansi-blue-fg\">.</span>polarity_scores<span class=\"ansi-blue-fg\">(</span><span class=\"ansi-blue-fg\">&#34;This is so great! How are you&#34;</span><span class=\"ansi-blue-fg\">)</span>\n",
       "\n",
       "<span class=\"ansi-red-fg\">NameError</span>: name &#39;analyzer&#39; is not defined</div>"
      ]
     },
     "metadata": {},
     "output_type": "display_data"
    }
   ],
   "source": [
    "analyzer.polarity_scores(\"This is so great! How are you\")"
   ]
  },
  {
   "cell_type": "code",
   "execution_count": 14,
   "metadata": {},
   "outputs": [
    {
     "data": {
      "text/html": [
       "<style scoped>\n",
       "  .table-result-container {\n",
       "    max-height: 300px;\n",
       "    overflow: auto;\n",
       "  }\n",
       "  table, th, td {\n",
       "    border: 1px solid black;\n",
       "    border-collapse: collapse;\n",
       "  }\n",
       "  th, td {\n",
       "    padding: 5px;\n",
       "  }\n",
       "  th {\n",
       "    text-align: left;\n",
       "  }\n",
       "</style><div class='table-result-container'><table class='table-result'><thead style='background-color: white'><tr><th>text</th><th>document</th><th>sentence_embeddings</th><th>class</th><th>vaderSentiment</th></tr></thead><tbody><tr><td>This is so great! How are you</td><td>List(List(document, 0, 28, This is so great! How are you, Map(sentence -> 0), List()))</td><td>List(List(sentence_embeddings, 0, 28, This is so great! How are you, Map(sentence -> 0, token -> This is so great! How are you, pieceId -> -1, isWordStart -> true), List(-0.044814963, -0.05343625, -0.017754782, 0.04899741, 0.051401008, -0.042926952, 0.036112633, -0.005341642, -0.02022967, 0.011376023, 0.015447797, -0.03130282, 0.03275759, 0.00642316, 0.039736662, 0.051038373, 0.038437348, 0.034722913, -0.034205608, -0.024489608, 0.099452905, 0.0028532716, -0.056623675, 0.026428374, -0.04274834, 0.025320418, -0.01104122, -0.073644206, -0.03576117, -0.033458825, 0.082821526, -0.042382907, 0.082729585, -0.0011118852, 0.065487035, -0.0283428, -0.051970217, -0.058127046, 0.03421903, -0.028819056, -0.036846448, 0.013446278, 0.045095786, 0.016007995, 0.0707104, -0.01935179, -0.006292021, -0.005656347, 0.005722599, 0.008506344, 0.024640396, -0.003702339, 6.7961955E-4, -0.022444168, 0.076750256, 0.07733127, 0.059107386, -0.06609662, 0.03468297, -0.03865948, -0.025027692, 0.044098016, -0.014282938, -0.059225313, -0.038453918, -0.035218187, -0.056729585, -0.05309764, 0.065831594, 0.010803969, -0.057025556, -0.039839912, -0.031291652, -0.053471718, 0.042174432, 0.060792103, 0.08429857, 0.010691451, 0.069566414, -0.023105096, -0.011219691, 0.024073828, -0.05625869, 0.012703204, 1.7737046E-4, 0.052746415, 0.012890334, -0.045072738, 0.019110646, -0.055593796, 0.031743743, 0.0025748091, -0.019045701, -0.030780612, -0.10658766, 0.004763453, 0.0071506267, -0.003284561, 0.05396042, 0.11376959, 7.763902E-4, -0.1186138, 0.08270888, -0.0045158556, -0.05326657, 0.032826807, -0.039628632, -0.0041902624, 0.014405311, -0.012880672, 0.004350969, 0.012856381, 0.051018436, 0.022614928, -0.02875179, -0.046244856, 0.021447573, -0.031113666, -0.07471646, -0.038660914, 0.03289692, 0.021789124, -0.0025288947, 0.06426864, -0.0051148986, -0.05059947, -0.033726927, -0.054526698, -0.0045733494, 0.03328055, -0.044403262, 0.018477082, -0.018676149, 0.035189956, 0.036130164, -0.038257193, -0.030391626, -0.042574156, 0.030725103, -0.046986755, 0.019910518, 0.005418108, -0.053559422, -0.025283162, 0.019360937, -0.038261373, 0.0054283044, 0.10191601, -0.050012954, 0.03935554, -0.0817351, -0.059689377, 0.002063957, 0.10042983, 0.030023627, 0.039280195, 0.009968658, -0.04929852, 0.060588483, -0.06867872, -0.066693395, 0.021424767, 0.10294692, -4.891793E-4, -0.017728198, -0.013681293, -0.03457137, -0.045889124, 0.019508168, 0.041074105, 0.07727595, -5.501505E-6, 0.01824646, -9.4660456E-5, 0.05029057, -0.022003526, -0.02695722, -0.012759411, -0.055593982, -0.04205846, -0.026314365, 0.034369566, 0.06197125, 0.03571874, 0.024103774, 0.026397195, -0.039646268, 0.039003223, -0.026113579, 0.01765421, -1.3625374E-4, 0.006826758, -0.018291926, -0.051366325, 0.013106154, -0.046678502, 0.046303608, -0.017140668, 0.075248525, 0.063914366, -0.021790413, -0.03630901, 0.009796751, 0.035290606, -0.045177896, -0.04819629, 0.064659104, 0.0025759086, 0.054529287, -0.046675652, 0.060961206, 0.0028563696, 0.019508852, 0.02119605, -0.022595815, -0.0033000112, 0.061546978, 0.07723145, 0.021880565, 0.061690632, 0.03863656, -0.022855945, 0.032332595, 0.03648825, -0.017861746, -0.0056460984, 0.0053528245, 0.05916097, 0.079446, -0.07054129, 0.057076335, 0.03138806, 0.0014789229, 0.04244129, -0.024902502, -0.058261547, -0.02966465, 0.07425235, -0.027796218, 0.0052131084, 0.00622651, -0.078930184, -0.041052915, -0.08807453, 9.734605E-4, 0.050643098, 0.015911493, -9.3615556E-4, -0.026559249, 0.090227455, -0.015512658, -0.085749336, 0.013179673, 0.004841457, -0.044150174, -0.036906186, -0.015180662, -0.019440904, -0.054300856, -0.08758833, 0.045280196, -0.026457367, -0.08181092, 0.012085323, -0.038430743, 0.019560752, -0.047415186, -0.047496386, 1.6744996E-5, -0.046276934, 0.029708872, -0.0041234973, -0.0029851885, 0.026296716, -0.065690756, -0.048057877, -0.041748177, 0.062258754, -0.033050157, -0.06737835, -0.017354228, -0.05597544, 0.015786571, 0.0010437329, -0.07166444, -0.07801268, 0.04257807, 0.04942974, -0.078850724, 0.04084522, -0.034103144, 0.06360265, 0.045368563, -0.09386598, -0.010499532, 0.016721603, 0.019168725, 0.060595993, -0.02893206, 0.022218773, 0.015391518, 0.04646184, 0.0056534363, -0.020127896, -0.02537573, -0.002442842, 0.018111376, 0.069363125, 0.01243066, 0.02306453, 0.042959753, 0.046981413, -0.009208796, -0.0023731687, -0.027438127, 0.06111167, 0.03105838, 0.025551332, 0.043176956, 0.060655437, -0.014460566, 0.06227263, -6.3383294E-4, -0.014890319, -0.08746518, -0.010394779, -0.0437174, -0.028389959, 0.04548805, 0.005920897, -0.04922914, -0.014019652, 0.012648722, -0.074628785, 0.051786162, 0.011159786, 0.05056654, 0.03705559, 0.020790955, -0.025019877, -0.055039216, -0.029596796, 0.11984023, 0.059746247, -0.008260063, 0.016146343, -0.007025426, -0.042489532, -0.0023786637, -0.056766305, 0.05355089, -0.07373987, -0.06359809, 0.05963098, -0.036493592, 0.05314451, -0.03521385, 0.022884175, -0.025356792, -0.023820946, -0.05707528, 0.054075994, -0.02757164, -0.07608875, 0.015866721, -0.037685268, 0.0017401855, 0.063001856, 0.0063772444, 0.052112337, 0.025218718, 0.0058290926, -0.013598732, -0.02465223, -0.05831268, 7.117313E-4, -0.07646819, -0.03629308, -0.022871539, 0.055790137, 0.04198721, -0.029382331, 0.014265618, 0.05850921, -0.02862568, -0.04508171, 0.014077942, -0.045720898, -0.06696583, 0.040143225, 0.018599499, 0.04906281, -0.007219002, 6.1934954E-4, 0.011809844, -0.03394466, 0.019577565, 0.03180979, -0.037855964, 0.062560596, -0.051288098, -0.07789953, -0.082340024, 0.0031927435, 0.059843034, -3.6677436E-4, -0.047346763, -0.07075298, 0.043096118, -0.02168733, -5.806506E-4, 0.05381918, -0.0897392, -0.04400578, 0.038975913, 0.106586635, 0.011403084, 0.0167025, 0.05899819, 0.022570211, 0.0100464, 0.045784604, 0.0148052955, -0.05445301, 0.015978271, -0.018239168, -0.020733576, -0.059354868, -0.087570116, 0.010763232, 0.027750226, 0.0062750145, 0.05035737, 0.0062635443, -0.08042083, -0.062452856, 0.055849418, -0.055303935, -0.057897378, 0.03291124, -0.03485116, -0.05211541, -0.01231625, -0.030532185, 0.049381524, 0.04639088, 0.08530234, 0.02235467, 0.05592315, -0.065307885, -0.0023660334, 0.008905022, 0.018648949, -0.0064260648, -0.055316404, -0.038113326, 0.08530778, -0.040038135, 0.019605769, -0.073047034, 0.022343643, 0.014480592, 0.034414623, 0.009621597, 0.027709978, -0.06541907, -0.009368934, 0.005358719, -0.024659192, -0.04740125, 0.04143863, -0.06925371, -0.05304979, -0.00854447, -0.029781697, 0.019842166, -0.07652735, -0.0200076, -0.012373131, 0.023117695, -0.01545143, -0.021447273, -0.04516706, -0.03210723, -0.005137637, 0.02135544, 0.022627374, 0.02266083, -0.053274926, -0.045935713, 0.0013715753, 0.07212246, 0.008818554, -0.0609313, -0.065033995, -0.021049613, 0.026180414, 0.042359125, 0.037791554, 0.06387918, -0.026525835, 0.02843007, 0.06500793, 0.094800696, -0.035872955, -0.054932736, 0.010316236, -0.057480436, 0.04194603, 0.010365273, -0.034919128, 0.01576521)))</td><td>List(List(category, 0, 28, positive, Map(sentence -> 0, positive -> 1.0, negative -> 9.504015E-12), List()))</td><td>List(0.0, 0.52, 0.48, 0.7603)</td></tr><tr><td>No way, never again!</td><td>List(List(document, 0, 19, No way, never again!, Map(sentence -> 0), List()))</td><td>List(List(sentence_embeddings, 0, 19, No way, never again!, Map(sentence -> 0, token -> No way, never again!, pieceId -> -1, isWordStart -> true), List(0.01968834, -0.002837751, -0.016137714, 0.013522027, -0.004118537, -0.014825487, -0.07611282, -0.078595385, -0.031865723, 0.024406366, 0.021083662, 0.014891209, -0.01077525, -0.036439534, 0.023593502, 0.025614746, -0.0036783323, -0.03035633, 2.5473372E-4, -0.039405644, -0.075604126, 0.0022857846, -0.013735199, -0.05276843, -0.058895182, 0.05344509, 0.026187455, -0.10963041, -0.003697154, 0.009676611, 0.016606597, -0.043728493, -0.022162667, -0.0243829, -0.03164862, -0.004520566, -0.029536996, 0.10043714, 0.040445935, -0.003928715, 0.033258103, -0.0019726327, 0.06521722, 0.007908995, 0.0015223912, -0.112929456, 0.016972642, -0.03517003, -0.007720533, 0.025500173, 0.014046814, -0.0024857102, -0.0011042476, -0.030805705, 0.08935146, -0.079278104, 0.089240395, -0.020463686, -0.048853327, 0.006483916, 0.0069693355, 0.03576799, 0.04730622, 0.0154499365, -0.052303273, -0.023441209, 0.033929948, 0.043406315, -0.012906375, -0.025806583, -0.01749618, -0.0114236, 0.017379764, 0.013048286, -0.0016582358, -0.0057164454, -0.033015393, 0.020582441, 0.007721899, 0.06287013, 0.022054445, -0.09544065, -0.021763729, -0.012327713, 0.048639484, -0.07757111, -0.047206663, 0.030298823, 0.015016648, -0.07242193, 0.041268427, 0.03742256, -0.0065530683, 0.009968729, -0.056087103, -0.05604768, 0.062034056, -0.002224633, -0.06262596, -0.0058550825, 0.017049056, -0.019985357, -0.042309687, -0.010168586, 0.03138086, 0.08351567, 0.04464743, 0.035198558, -0.020069243, 0.07083139, -0.09669215, 0.016818961, 0.014617475, -0.012645843, -0.018834127, -0.002275782, 0.0018383297, -0.095878184, 0.056813233, -0.019056441, 0.036003213, 0.04738544, 0.016770719, -0.036868963, -0.037605405, -0.09547894, -0.047466077, -0.0017602707, 0.060742013, 0.001470135, -0.06215427, 0.011092611, 0.020751758, -0.0037450397, 0.035976738, -0.0011160795, 0.013894692, 0.0011138539, 0.114050604, -0.010612687, -0.020033136, 0.019527024, -0.09508568, 0.024296563, -0.02558317, 0.07098993, 0.026016518, -0.021584671, -0.038071185, -0.028254304, 0.027403379, -0.1086356, 0.033775304, -0.056935396, -0.006788362, -0.0011149754, 0.04273066, -0.012687059, 0.061621424, -0.017497437, -0.108901605, 0.03066074, 0.016716076, 0.03830349, 0.016901428, -0.0017555676, -0.028602187, -0.035022575, 0.008165459, 0.04592246, -0.02828685, -0.008955969, -0.033331595, -0.043196086, 0.048757344, 0.028870335, 0.009277219, 0.007362088, -0.079253905, -0.015437935, 3.0463963E-4, -0.012463498, 0.09911192, -0.0700007, 0.023758465, 0.018027483, 0.022483155, -0.06948251, 0.039412074, 0.040095128, 0.009608461, 0.0061860564, 0.020016067, 0.025152916, -0.029639918, -0.10685778, 0.004117513, -0.007621528, -0.04429929, -0.033206616, 0.031277444, -0.005180059, 0.028834097, -0.04936777, -0.0019790132, -0.047411885, 0.059758298, 0.017212892, -0.08433169, 0.010969216, 0.10243362, 0.04097177, 0.030209122, 0.07142805, -0.058636304, -0.013834134, -0.0014950668, 0.034985445, -0.07449719, -0.012273359, -0.006999811, 0.006850862, 0.016334556, 0.015406278, -0.0020127245, -0.082794026, -0.04567526, 0.04950717, -0.07848477, -0.02353067, 0.030970262, 0.05489018, -0.019819971, 0.0074993493, 0.032887578, 0.039789256, 0.03823199, -0.052386116, 0.05369864, 0.031394348, 0.045338154, 0.10405897, 0.03705767, 0.05154102, -0.060321316, 0.022322135, 0.031796895, 0.00302501, 0.030542744, -0.03117643, -0.034585938, 0.026435087, 0.034043334, 0.048587848, -0.013939161, 0.04162712, 0.0029567701, 0.04080929, 0.039177533, 0.05044211, 0.011326531, 0.0595552, 0.012359411, -0.0121402, -0.07208679, -0.051142696, 0.039704844, 0.07064887, -0.0542911, -0.035800215, 0.022776231, 0.01864789, -0.06979576, 0.010793832, -0.08241927, 0.04458698, 0.017462192, -0.03328395, -0.016644483, -0.039526235, -0.021713993, -0.03985899, 0.027698293, 0.03182306, -0.09264043, 0.005003657, 0.014377948, 0.051305205, -0.023814932, -0.03532099, -0.023806484, -0.025760679, 0.030729456, -8.50375E-5, 0.039153337, -0.012373496, 0.0043505398, 0.03789414, 0.07270529, -0.036556818, -0.042740524, -0.006987402, -0.030243944, 0.06398078, -0.04820815, -0.0069669182, 0.01388051, 0.053487897, -0.017720519, 0.007739669, 0.10658333, 0.045512162, 0.029874576, -0.047325, -0.009243511, 0.0254047, 0.014010252, -0.002811061, 0.0021420955, 0.0035732572, -0.0050901617, 0.022840505, 0.033181287, -0.008076046, -0.060142025, 0.022032334, 0.04194852, 0.011563639, -0.0042573526, -0.026793674, 0.035769206, -0.04128829, -0.08824983, 0.032949086, -0.002490949, 0.025092565, -0.07300558, 0.105181605, 0.005832974, -0.0283122, -0.012140006, -0.02594965, -0.03143375, -7.58503E-4, 0.07825089, -0.018660557, -0.061330765, 0.053231545, -0.050383694, -0.017735194, 0.05098992, -0.06617634, -0.06336119, 0.024376946, 0.019600734, -0.028730338, -0.032088656, 0.003983361, 0.0018184878, -0.041208487, 0.06976286, 0.022177648, 0.010133424, -4.4801556E-5, 0.011860557, -0.015447446, 0.015013404, 0.10785788, -0.07100378, -0.018289784, -0.006665446, -0.05305138, 0.020689208, 0.00805729, -0.015722025, 0.08637763, 0.010336097, 0.07905866, -0.0014539837, 0.057718568, 0.08593534, -0.00873364, -0.05682274, -0.019880733, -0.021922972, -0.03556007, 0.044742502, -0.04861135, -0.104735725, 0.025533205, 0.0313585, 0.031612165, -0.023134345, 0.02441936, -0.043071292, -0.022882544, -0.022669075, -0.009919446, 0.05926384, 0.01722952, 0.028528066, 0.065682776, -0.08218847, 0.0022868982, 0.046864666, 0.057564232, -0.029431492, 0.053755302, -0.025166556, 0.02411872, -0.020585477, 0.016276998, -0.011450146, -0.03524221, 0.027418949, -0.039157473, -0.001461666, 0.0036121835, -0.01701065, -0.0070458828, -0.029941332, -0.037864186, -0.0058148457, 0.0721853, 0.046218812, -0.028120473, -0.059266623, 0.07195695, 0.012169332, 0.009792105, 0.10109778, -0.009234241, 0.032879777, 0.018257473, 0.062699124, -0.0133296745, -0.04249673, 0.012934059, 0.029349653, 0.0622255, 0.006341135, -0.067475386, -0.025196403, 0.05510598, 0.046604928, -0.047392566, 1.8052346E-5, 0.01828664, 0.10770378, 0.06631635, -0.003968996, -0.088322595, 0.049492344, 0.057755508, 0.024965923, -0.019045053, 0.10836171, 0.038282495, 0.03730129, 0.0047449726, -0.05816586, -0.017064651, -0.07260823, -0.0056556966, -0.042763706, -0.05275334, 0.0014425633, 0.04932006, 0.09352136, -0.011116873, 0.01743858, 0.057850208, 0.016727483, 0.018984042, 0.035981383, 0.046090398, -0.0891375, 0.007005666, 0.016410135, -0.07531161, -0.006250451, -0.04024044, -0.037500266, 0.035671033, -0.029467747, 0.020375572, -0.025470098, -0.09540727, -0.10916286, -0.043365527, 0.04378458, -0.014516248, 0.046675958, 0.01708289, -0.017113956, 0.014357633, -0.044428624, 0.016098596, -8.259266E-4, -0.017736813, 0.05885921, -0.04471329, -0.02056402, 0.003389644, 0.06591112, 0.044880256, -0.010152286, -0.09465166, 0.1112892, -0.002114523, -0.10728134, 0.0052331765)))</td><td>List(List(category, 0, 19, negative, Map(sentence -> 0, positive -> 2.1435148E-6, negative -> 0.99999785), List()))</td><td>List(0.454, 0.546, 0.0, -0.3595)</td></tr><tr><td>Yes, bring on more!</td><td>List(List(document, 0, 18, Yes, bring on more!, Map(sentence -> 0), List()))</td><td>List(List(sentence_embeddings, 0, 18, Yes, bring on more!, Map(sentence -> 0, token -> Yes, bring on more!, pieceId -> -1, isWordStart -> true), List(0.044870585, 7.8038534E-4, 0.002153987, -0.025557838, -0.006903334, -0.019455273, -0.07855054, -0.0414462, -0.048343495, -0.012155616, -0.009834611, 0.06623944, -0.017361471, 0.0075905444, -0.021286853, 0.07103728, 0.05803849, 0.0054649487, 0.025868269, -0.03026779, -0.012117196, 0.0629962, -0.040768072, -0.005793058, 1.12898735E-4, 0.055393327, 0.017923266, -0.11135722, -0.026929474, 0.012223885, -0.021613527, 0.008542114, 0.031003531, -0.0068529723, 0.0075172624, 0.042948466, -0.007720766, 0.02473131, 0.061622098, 0.07153556, 0.013024715, 0.012178633, -0.036305297, 0.014599608, 0.012861926, -0.12956004, 0.051832054, -0.036832176, 0.02471215, 0.01656772, 0.017340729, 0.046044894, -0.04491977, -0.054047596, 0.11303515, -0.086983144, 0.08825773, -0.014385106, -0.025624018, -0.009004846, 0.018650163, 0.034779593, 0.03424889, 0.0020937964, -0.040748764, -0.056561634, 0.06068164, -0.011772569, -0.009697307, 0.045545887, -0.042320058, -5.6644954E-4, 0.029464722, 0.014543914, 0.0074004047, -0.03712317, -0.014228343, -0.03718512, -0.020922337, 0.050366435, 0.043988038, -0.10666878, -0.05065486, 0.0076704063, -0.0066892863, 8.4090274E-4, 0.04444812, 0.051864997, -0.019832376, -0.07805498, 0.04294446, -0.01739676, 0.0330783, -0.018078668, -0.023276957, -0.046773467, 0.03194829, -0.0321041, -0.04210748, 0.06653239, 0.03455431, 0.020861804, -0.053782973, 0.018078767, 0.031794738, -0.017897332, -0.009913848, 0.026454266, -0.023155767, -0.006889004, 0.058058787, -0.041391682, -0.008289739, 4.518305E-4, 0.02864109, 0.031911734, -0.0047022994, -0.0782674, 0.039468024, -0.016257772, 0.004715978, -0.048826344, 0.011326152, 0.017147047, -0.044520754, -0.096537404, -0.08820336, -0.021953477, 0.061493438, 0.019324128, 0.033427645, 0.041223496, -0.027487775, -0.006686479, 0.024634385, -0.05033867, -0.034429137, -0.004449731, 0.11980808, -0.012141331, -0.053886995, -0.0016014527, -0.109861806, -0.019830734, -0.010109338, 0.058320615, 0.011649223, 0.06603249, -0.023171036, -0.008020256, -0.029361084, -0.101069994, 0.04131653, -0.002325638, -0.003255639, 0.029778946, 0.049036596, -0.037192333, 0.0716154, -0.044216063, -0.10241029, 0.03681402, 0.013502703, 0.03680085, -0.036236353, -0.04656288, -0.025252296, -0.015539621, -0.037411977, -0.0041583017, -0.01949866, 0.0154834585, -0.0505363, 4.1020036E-4, 0.069403544, -0.015655998, 0.03578354, -0.012462677, -0.032405008, 0.04152348, -0.023398647, 8.111158E-5, 0.052649684, -0.042902395, 0.05570791, 0.04000448, 0.045748107, -0.0072556552, -0.05196048, 0.050954252, 0.024903812, -0.003779935, 0.044885423, 0.026221132, -0.046074457, -0.109143876, 0.041443218, -0.040407203, -0.048422556, 0.04358169, 0.043980226, 0.026067985, 0.011494187, 0.008888867, -0.0059527396, -0.032627176, -0.0076537784, 0.05477451, -0.09453892, 7.637736E-4, 0.10799917, 0.013573458, -0.04321456, 0.056599416, -0.056628447, -0.0036928575, 0.005098516, -0.046676297, -0.098446734, 0.007248248, -0.050844338, -0.024652919, 0.017298786, 0.0061540017, 0.023731487, -0.064541146, -0.059931133, 0.016676279, -0.021986263, 0.06356718, -0.009600192, 0.03804036, -0.03427605, 0.00416158, 0.037582148, 5.8446405E-4, 0.042895477, 0.09460725, 0.0026589243, 0.024820087, 0.029770663, 0.09382517, 0.047026247, 0.09494301, -0.02616977, 0.021270415, 0.058933593, -0.052471958, 0.068070054, -0.018952137, -0.03334943, 0.066278905, 0.06469517, 0.024565654, -0.026136441, 0.058695458, 0.0272942, 0.04646386, 0.013660093, 0.022911644, -0.014350086, 0.039458014, -0.0034906429, -0.057650078, -0.05943661, -0.049829427, -0.009803732, 0.031992927, -0.06150327, -0.010450675, -0.030881615, 0.0025973544, -0.059745297, 0.024478583, -0.06403355, 0.019341197, -0.032881822, 0.024624143, -0.0066218576, 0.05540607, 0.0076827337, 0.0059266076, 0.030319644, 4.2650374E-4, -0.09862137, 0.08100769, 0.009892427, 0.05688315, -0.036325492, 0.07478534, 0.009287478, 0.043600556, -0.0062834066, -0.057413682, 0.07594733, 0.014735008, 0.0053474237, -0.06062918, 0.028260963, 0.0070493724, -0.020543734, -0.0043392265, -0.023059392, -0.0023403608, -0.05608717, 0.019259125, 0.013857801, 0.04892014, -0.019129992, 0.031352755, 0.05858041, 0.051394332, 0.04198389, -0.035230104, -0.070183225, 0.051435146, 0.047663648, -0.047206342, -0.026229337, 0.014033877, -0.042176332, -0.03319687, 0.031172883, -0.0031643242, -0.04509286, -0.029436363, 0.024094518, -0.023909427, 0.01782215, -0.02742576, 0.036275063, 0.016201187, -0.03539115, -0.01442039, 0.0069304127, 0.04882534, -0.02817911, 0.11159513, 0.031561144, -0.027535582, -0.038874757, 0.007374984, 0.030929478, 0.047443587, 0.05694614, -0.040397994, 0.023016853, 0.025806548, 0.03118609, -0.008702317, 0.017815754, -0.05808024, 0.012568264, 0.021653, -0.034952566, -0.01949172, -0.008345849, -0.03531813, -0.04760802, -0.038260616, 0.04366255, 0.015397508, -0.03237092, 0.012084879, -0.020749973, 0.013603052, 0.002194125, 0.117857724, -0.030423094, 0.044674993, 0.027868535, 0.025987357, 0.0166324, 0.032014087, 0.015676716, 0.055792052, 0.045412872, 0.039915916, -0.06745878, 0.02183878, 0.08536375, -0.013635613, 0.013674869, -0.0116452165, -0.04534052, 0.018506674, 0.0736145, -0.06667011, -0.11492557, 0.0404651, 0.022173112, 0.100292265, -0.07204349, 0.015072434, -0.028548343, -0.07350911, -0.015441617, 0.0154545335, 0.03924346, 0.003306821, 0.007299255, 0.02513318, -0.0921747, -0.023541236, -0.07333847, 0.043617766, -0.0019575157, -0.05130707, 0.007564503, -0.041575696, -0.03257056, 0.04844972, -0.034687176, 0.0012181618, 0.026647776, -0.010701629, -0.012308115, 0.0073171626, -0.01677539, 0.016911214, -0.023300046, -0.044457275, 0.0056150677, 0.06589868, 0.03472302, 0.01477843, -0.02317854, 0.09827068, -0.06346892, -0.015875882, 0.09471663, -0.0051142406, 0.040907126, 0.049542286, -0.029310523, -0.0020204743, -0.05028666, -0.0014968814, 0.01878973, -0.053129625, 0.011766787, -0.056168713, 0.0126280645, 0.02962775, 0.06197525, -0.05929574, 0.016341291, -0.03868155, 0.10526233, 0.0863825, 0.041560963, -0.06998221, -0.06444791, 0.045407016, -0.0022919315, -0.0015611446, 0.090596996, 0.0038890343, 0.019913908, 0.046325576, -0.038782865, -0.04394778, 0.015839733, 0.0025589895, -0.01951515, -0.014718221, 0.022610988, 0.012403335, 0.07855142, 0.012310448, 0.01287532, -0.015266082, -0.011267009, -5.4647593E-5, 0.044722114, 0.050297465, -0.08369399, -0.016403573, 0.012723432, -0.079725794, 0.019184245, -0.011848279, -0.056061067, 0.028842684, -0.014075875, -0.026721226, 0.010626641, -0.08167182, -0.11131087, 0.054174732, -0.011368816, -0.0063639777, 0.073811285, 0.030999234, -0.016545283, 0.027159913, 0.030685334, 0.035050765, 0.0060555064, -0.0017079967, 0.01901658, -0.012668813, 0.02582363, 0.037404925, 0.013403926, -0.014927109, -0.026635975, -0.06561902, 0.12091808, -0.008925377, -0.114543006, -0.074358866)))</td><td>List(List(category, 0, 18, positive, Map(sentence -> 0, positive -> 0.99999917, negative -> 8.88518E-7), List()))</td><td>List(0.0, 0.501, 0.499, 0.4574)</td></tr></tbody></table></div>"
      ]
     },
     "metadata": {},
     "output_type": "display_data"
    }
   ],
   "source": [
    "from vaderSentiment.vaderSentiment import SentimentIntensityAnalyzer\n",
    "\n",
    "analyzer = SentimentIntensityAnalyzer()\n",
    "\n",
    "@F.udf(returnType=\"struct<neg:double,neu:double,pos:double,compound:double>\")\n",
    "def getVADER(text):\n",
    "\treturn analyzer.polarity_scores(text)\n",
    "\n",
    "new_results = results.withColumn(\"vaderSentiment\", getVADER(\"text\"))\n",
    "display(new_results)"
   ]
  }
 ],
 "metadata": {
  "kernelspec": {
   "display_name": "Python 3",
   "language": "python",
   "name": "python3"
  },
  "language_info": {
   "codemirror_mode": {
    "name": "ipython",
    "version": 3
   },
   "file_extension": ".py",
   "mimetype": "text/x-python",
   "name": "python",
   "nbconvert_exporter": "python",
   "pygments_lexer": "ipython3",
   "version": "3.7.4"
  },
  "name": "Sentiment & Language Detection",
  "notebookId": 2848134660505647
 },
 "nbformat": 4,
 "nbformat_minor": 1
}
